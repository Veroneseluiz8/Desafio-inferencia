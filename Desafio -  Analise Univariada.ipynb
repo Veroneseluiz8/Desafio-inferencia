{
 "cells": [
  {
   "cell_type": "code",
   "execution_count": 1,
   "id": "032fdbe9",
   "metadata": {},
   "outputs": [],
   "source": [
    "#Desafio de Inferencia analise univariada - Importaçao das bibliotecas\n",
    "import pandas as pd\n",
    "import seaborn as srn\n",
    "import numpy as np\n",
    "import statistics  as sts"
   ]
  },
  {
   "cell_type": "code",
   "execution_count": 2,
   "id": "6f918ff3",
   "metadata": {},
   "outputs": [
    {
     "data": {
      "text/html": [
       "<div>\n",
       "<style scoped>\n",
       "    .dataframe tbody tr th:only-of-type {\n",
       "        vertical-align: middle;\n",
       "    }\n",
       "\n",
       "    .dataframe tbody tr th {\n",
       "        vertical-align: top;\n",
       "    }\n",
       "\n",
       "    .dataframe thead th {\n",
       "        text-align: right;\n",
       "    }\n",
       "</style>\n",
       "<table border=\"1\" class=\"dataframe\">\n",
       "  <thead>\n",
       "    <tr style=\"text-align: right;\">\n",
       "      <th></th>\n",
       "      <th>Unnamed: 0</th>\n",
       "      <th>SEQN</th>\n",
       "      <th>DPQ010</th>\n",
       "      <th>DPQ020</th>\n",
       "      <th>DPQ030</th>\n",
       "      <th>DPQ040</th>\n",
       "      <th>DPQ050</th>\n",
       "      <th>DPQ060</th>\n",
       "      <th>DPQ070</th>\n",
       "      <th>DPQ080</th>\n",
       "      <th>...</th>\n",
       "      <th>HEI2015C7_TOTPROT</th>\n",
       "      <th>HEI2015C8_SEAPLANT_PROT</th>\n",
       "      <th>HEI2015C9_FATTYACID</th>\n",
       "      <th>HEI2015C10_SODIUM</th>\n",
       "      <th>HEI2015C11_REFINEDGRAIN</th>\n",
       "      <th>HEI2015C12_SFAT</th>\n",
       "      <th>HEI2015C13_ADDSUG</th>\n",
       "      <th>HEI2015_TOTAL_SCORE</th>\n",
       "      <th>phq9</th>\n",
       "      <th>phq_grp</th>\n",
       "    </tr>\n",
       "  </thead>\n",
       "  <tbody>\n",
       "    <tr>\n",
       "      <th>0</th>\n",
       "      <td>0</td>\n",
       "      <td>31130</td>\n",
       "      <td>NaN</td>\n",
       "      <td>NaN</td>\n",
       "      <td>NaN</td>\n",
       "      <td>NaN</td>\n",
       "      <td>NaN</td>\n",
       "      <td>NaN</td>\n",
       "      <td>NaN</td>\n",
       "      <td>NaN</td>\n",
       "      <td>...</td>\n",
       "      <td>NaN</td>\n",
       "      <td>NaN</td>\n",
       "      <td>NaN</td>\n",
       "      <td>NaN</td>\n",
       "      <td>NaN</td>\n",
       "      <td>NaN</td>\n",
       "      <td>NaN</td>\n",
       "      <td>NaN</td>\n",
       "      <td>0.0</td>\n",
       "      <td>Sem Sintomas</td>\n",
       "    </tr>\n",
       "    <tr>\n",
       "      <th>1</th>\n",
       "      <td>1</td>\n",
       "      <td>31131</td>\n",
       "      <td>0.0</td>\n",
       "      <td>0.0</td>\n",
       "      <td>0.0</td>\n",
       "      <td>0.0</td>\n",
       "      <td>0.0</td>\n",
       "      <td>0.0</td>\n",
       "      <td>0.0</td>\n",
       "      <td>0.0</td>\n",
       "      <td>...</td>\n",
       "      <td>4.071959</td>\n",
       "      <td>2.052399</td>\n",
       "      <td>0.684985</td>\n",
       "      <td>2.297100</td>\n",
       "      <td>9.512964</td>\n",
       "      <td>0.438428</td>\n",
       "      <td>3.919226</td>\n",
       "      <td>35.553899</td>\n",
       "      <td>0.0</td>\n",
       "      <td>Sem Sintomas</td>\n",
       "    </tr>\n",
       "    <tr>\n",
       "      <th>2</th>\n",
       "      <td>2</td>\n",
       "      <td>31132</td>\n",
       "      <td>0.0</td>\n",
       "      <td>0.0</td>\n",
       "      <td>0.0</td>\n",
       "      <td>0.0</td>\n",
       "      <td>0.0</td>\n",
       "      <td>0.0</td>\n",
       "      <td>0.0</td>\n",
       "      <td>0.0</td>\n",
       "      <td>...</td>\n",
       "      <td>5.000000</td>\n",
       "      <td>0.000000</td>\n",
       "      <td>2.050769</td>\n",
       "      <td>7.369489</td>\n",
       "      <td>8.887880</td>\n",
       "      <td>8.186877</td>\n",
       "      <td>9.099088</td>\n",
       "      <td>63.551696</td>\n",
       "      <td>0.0</td>\n",
       "      <td>Sem Sintomas</td>\n",
       "    </tr>\n",
       "    <tr>\n",
       "      <th>3</th>\n",
       "      <td>3</td>\n",
       "      <td>31134</td>\n",
       "      <td>0.0</td>\n",
       "      <td>0.0</td>\n",
       "      <td>0.0</td>\n",
       "      <td>0.0</td>\n",
       "      <td>0.0</td>\n",
       "      <td>0.0</td>\n",
       "      <td>0.0</td>\n",
       "      <td>0.0</td>\n",
       "      <td>...</td>\n",
       "      <td>5.000000</td>\n",
       "      <td>1.268648</td>\n",
       "      <td>2.958985</td>\n",
       "      <td>0.000000</td>\n",
       "      <td>5.627488</td>\n",
       "      <td>5.863078</td>\n",
       "      <td>5.878686</td>\n",
       "      <td>42.886826</td>\n",
       "      <td>0.0</td>\n",
       "      <td>Sem Sintomas</td>\n",
       "    </tr>\n",
       "    <tr>\n",
       "      <th>4</th>\n",
       "      <td>4</td>\n",
       "      <td>31139</td>\n",
       "      <td>0.0</td>\n",
       "      <td>0.0</td>\n",
       "      <td>0.0</td>\n",
       "      <td>0.0</td>\n",
       "      <td>3.0</td>\n",
       "      <td>1.0</td>\n",
       "      <td>0.0</td>\n",
       "      <td>0.0</td>\n",
       "      <td>...</td>\n",
       "      <td>4.088849</td>\n",
       "      <td>4.221442</td>\n",
       "      <td>10.000000</td>\n",
       "      <td>2.845774</td>\n",
       "      <td>0.000000</td>\n",
       "      <td>10.000000</td>\n",
       "      <td>9.658507</td>\n",
       "      <td>47.074393</td>\n",
       "      <td>4.0</td>\n",
       "      <td>Sem Sintomas</td>\n",
       "    </tr>\n",
       "    <tr>\n",
       "      <th>...</th>\n",
       "      <td>...</td>\n",
       "      <td>...</td>\n",
       "      <td>...</td>\n",
       "      <td>...</td>\n",
       "      <td>...</td>\n",
       "      <td>...</td>\n",
       "      <td>...</td>\n",
       "      <td>...</td>\n",
       "      <td>...</td>\n",
       "      <td>...</td>\n",
       "      <td>...</td>\n",
       "      <td>...</td>\n",
       "      <td>...</td>\n",
       "      <td>...</td>\n",
       "      <td>...</td>\n",
       "      <td>...</td>\n",
       "      <td>...</td>\n",
       "      <td>...</td>\n",
       "      <td>...</td>\n",
       "      <td>...</td>\n",
       "      <td>...</td>\n",
       "    </tr>\n",
       "    <tr>\n",
       "      <th>5329</th>\n",
       "      <td>5329</td>\n",
       "      <td>41466</td>\n",
       "      <td>0.0</td>\n",
       "      <td>0.0</td>\n",
       "      <td>1.0</td>\n",
       "      <td>1.0</td>\n",
       "      <td>0.0</td>\n",
       "      <td>0.0</td>\n",
       "      <td>0.0</td>\n",
       "      <td>0.0</td>\n",
       "      <td>...</td>\n",
       "      <td>5.000000</td>\n",
       "      <td>4.672204</td>\n",
       "      <td>4.633477</td>\n",
       "      <td>0.000000</td>\n",
       "      <td>6.580006</td>\n",
       "      <td>8.393244</td>\n",
       "      <td>9.360990</td>\n",
       "      <td>59.949915</td>\n",
       "      <td>2.0</td>\n",
       "      <td>Sem Sintomas</td>\n",
       "    </tr>\n",
       "    <tr>\n",
       "      <th>5330</th>\n",
       "      <td>5330</td>\n",
       "      <td>41468</td>\n",
       "      <td>0.0</td>\n",
       "      <td>2.0</td>\n",
       "      <td>0.0</td>\n",
       "      <td>1.0</td>\n",
       "      <td>1.0</td>\n",
       "      <td>2.0</td>\n",
       "      <td>1.0</td>\n",
       "      <td>3.0</td>\n",
       "      <td>...</td>\n",
       "      <td>3.759596</td>\n",
       "      <td>2.344264</td>\n",
       "      <td>4.780282</td>\n",
       "      <td>3.134216</td>\n",
       "      <td>1.986137</td>\n",
       "      <td>5.850269</td>\n",
       "      <td>10.000000</td>\n",
       "      <td>57.747869</td>\n",
       "      <td>10.0</td>\n",
       "      <td>Sintomas Moderados</td>\n",
       "    </tr>\n",
       "    <tr>\n",
       "      <th>5331</th>\n",
       "      <td>5331</td>\n",
       "      <td>41469</td>\n",
       "      <td>1.0</td>\n",
       "      <td>0.0</td>\n",
       "      <td>0.0</td>\n",
       "      <td>1.0</td>\n",
       "      <td>0.0</td>\n",
       "      <td>0.0</td>\n",
       "      <td>0.0</td>\n",
       "      <td>0.0</td>\n",
       "      <td>...</td>\n",
       "      <td>5.000000</td>\n",
       "      <td>0.000000</td>\n",
       "      <td>9.344947</td>\n",
       "      <td>3.535211</td>\n",
       "      <td>4.326307</td>\n",
       "      <td>5.269780</td>\n",
       "      <td>8.195564</td>\n",
       "      <td>42.993323</td>\n",
       "      <td>2.0</td>\n",
       "      <td>Sem Sintomas</td>\n",
       "    </tr>\n",
       "    <tr>\n",
       "      <th>5332</th>\n",
       "      <td>5332</td>\n",
       "      <td>41472</td>\n",
       "      <td>0.0</td>\n",
       "      <td>0.0</td>\n",
       "      <td>0.0</td>\n",
       "      <td>0.0</td>\n",
       "      <td>0.0</td>\n",
       "      <td>0.0</td>\n",
       "      <td>0.0</td>\n",
       "      <td>0.0</td>\n",
       "      <td>...</td>\n",
       "      <td>5.000000</td>\n",
       "      <td>5.000000</td>\n",
       "      <td>2.090534</td>\n",
       "      <td>8.409844</td>\n",
       "      <td>8.936854</td>\n",
       "      <td>3.063795</td>\n",
       "      <td>0.000000</td>\n",
       "      <td>46.134467</td>\n",
       "      <td>0.0</td>\n",
       "      <td>Sem Sintomas</td>\n",
       "    </tr>\n",
       "    <tr>\n",
       "      <th>5333</th>\n",
       "      <td>5333</td>\n",
       "      <td>41473</td>\n",
       "      <td>0.0</td>\n",
       "      <td>0.0</td>\n",
       "      <td>2.0</td>\n",
       "      <td>1.0</td>\n",
       "      <td>0.0</td>\n",
       "      <td>1.0</td>\n",
       "      <td>0.0</td>\n",
       "      <td>0.0</td>\n",
       "      <td>...</td>\n",
       "      <td>5.000000</td>\n",
       "      <td>5.000000</td>\n",
       "      <td>0.000000</td>\n",
       "      <td>7.458058</td>\n",
       "      <td>10.000000</td>\n",
       "      <td>1.676912</td>\n",
       "      <td>2.751168</td>\n",
       "      <td>45.793478</td>\n",
       "      <td>4.0</td>\n",
       "      <td>Sem Sintomas</td>\n",
       "    </tr>\n",
       "  </tbody>\n",
       "</table>\n",
       "<p>5334 rows × 34 columns</p>\n",
       "</div>"
      ],
      "text/plain": [
       "      Unnamed: 0   SEQN  DPQ010  DPQ020  DPQ030  DPQ040  DPQ050  DPQ060  \\\n",
       "0              0  31130     NaN     NaN     NaN     NaN     NaN     NaN   \n",
       "1              1  31131     0.0     0.0     0.0     0.0     0.0     0.0   \n",
       "2              2  31132     0.0     0.0     0.0     0.0     0.0     0.0   \n",
       "3              3  31134     0.0     0.0     0.0     0.0     0.0     0.0   \n",
       "4              4  31139     0.0     0.0     0.0     0.0     3.0     1.0   \n",
       "...          ...    ...     ...     ...     ...     ...     ...     ...   \n",
       "5329        5329  41466     0.0     0.0     1.0     1.0     0.0     0.0   \n",
       "5330        5330  41468     0.0     2.0     0.0     1.0     1.0     2.0   \n",
       "5331        5331  41469     1.0     0.0     0.0     1.0     0.0     0.0   \n",
       "5332        5332  41472     0.0     0.0     0.0     0.0     0.0     0.0   \n",
       "5333        5333  41473     0.0     0.0     2.0     1.0     0.0     1.0   \n",
       "\n",
       "      DPQ070  DPQ080  ...  HEI2015C7_TOTPROT  HEI2015C8_SEAPLANT_PROT  \\\n",
       "0        NaN     NaN  ...                NaN                      NaN   \n",
       "1        0.0     0.0  ...           4.071959                 2.052399   \n",
       "2        0.0     0.0  ...           5.000000                 0.000000   \n",
       "3        0.0     0.0  ...           5.000000                 1.268648   \n",
       "4        0.0     0.0  ...           4.088849                 4.221442   \n",
       "...      ...     ...  ...                ...                      ...   \n",
       "5329     0.0     0.0  ...           5.000000                 4.672204   \n",
       "5330     1.0     3.0  ...           3.759596                 2.344264   \n",
       "5331     0.0     0.0  ...           5.000000                 0.000000   \n",
       "5332     0.0     0.0  ...           5.000000                 5.000000   \n",
       "5333     0.0     0.0  ...           5.000000                 5.000000   \n",
       "\n",
       "      HEI2015C9_FATTYACID  HEI2015C10_SODIUM  HEI2015C11_REFINEDGRAIN  \\\n",
       "0                     NaN                NaN                      NaN   \n",
       "1                0.684985           2.297100                 9.512964   \n",
       "2                2.050769           7.369489                 8.887880   \n",
       "3                2.958985           0.000000                 5.627488   \n",
       "4               10.000000           2.845774                 0.000000   \n",
       "...                   ...                ...                      ...   \n",
       "5329             4.633477           0.000000                 6.580006   \n",
       "5330             4.780282           3.134216                 1.986137   \n",
       "5331             9.344947           3.535211                 4.326307   \n",
       "5332             2.090534           8.409844                 8.936854   \n",
       "5333             0.000000           7.458058                10.000000   \n",
       "\n",
       "      HEI2015C12_SFAT  HEI2015C13_ADDSUG  HEI2015_TOTAL_SCORE  phq9  \\\n",
       "0                 NaN                NaN                  NaN   0.0   \n",
       "1            0.438428           3.919226            35.553899   0.0   \n",
       "2            8.186877           9.099088            63.551696   0.0   \n",
       "3            5.863078           5.878686            42.886826   0.0   \n",
       "4           10.000000           9.658507            47.074393   4.0   \n",
       "...               ...                ...                  ...   ...   \n",
       "5329         8.393244           9.360990            59.949915   2.0   \n",
       "5330         5.850269          10.000000            57.747869  10.0   \n",
       "5331         5.269780           8.195564            42.993323   2.0   \n",
       "5332         3.063795           0.000000            46.134467   0.0   \n",
       "5333         1.676912           2.751168            45.793478   4.0   \n",
       "\n",
       "                 phq_grp  \n",
       "0           Sem Sintomas  \n",
       "1           Sem Sintomas  \n",
       "2           Sem Sintomas  \n",
       "3           Sem Sintomas  \n",
       "4           Sem Sintomas  \n",
       "...                  ...  \n",
       "5329        Sem Sintomas  \n",
       "5330  Sintomas Moderados  \n",
       "5331        Sem Sintomas  \n",
       "5332        Sem Sintomas  \n",
       "5333        Sem Sintomas  \n",
       "\n",
       "[5334 rows x 34 columns]"
      ]
     },
     "execution_count": 2,
     "metadata": {},
     "output_type": "execute_result"
    }
   ],
   "source": [
    "Df = pd.read_csv(\"Desafioinf2903.csv\")\n",
    "Df"
   ]
  },
  {
   "cell_type": "code",
   "execution_count": 3,
   "id": "bdaa98df",
   "metadata": {},
   "outputs": [
    {
     "data": {
      "text/plain": [
       "DPQ010\n",
       "0.0       3850\n",
       "1.0        673\n",
       "2.0        180\n",
       "3.0        124\n",
       "1000.0       9\n",
       "dtype: int64"
      ]
     },
     "execution_count": 3,
     "metadata": {},
     "output_type": "execute_result"
    }
   ],
   "source": [
    "# agrupa por categoria DPQ010\n",
    "agru10 = Df.groupby(['DPQ010']).size()\n",
    "agru10"
   ]
  },
  {
   "cell_type": "code",
   "execution_count": 4,
   "id": "a8fa67c2",
   "metadata": {},
   "outputs": [
    {
     "data": {
      "text/plain": [
       "498"
      ]
     },
     "execution_count": 4,
     "metadata": {},
     "output_type": "execute_result"
    }
   ],
   "source": [
    "# Mostra a quantidade de NAN\n",
    "Df['DPQ010'].isnull().sum()\n"
   ]
  },
  {
   "cell_type": "code",
   "execution_count": 5,
   "id": "7491317e",
   "metadata": {},
   "outputs": [
    {
     "data": {
      "text/plain": [
       "count       5.000000\n",
       "mean      967.200000\n",
       "std      1631.403292\n",
       "min         9.000000\n",
       "25%       124.000000\n",
       "50%       180.000000\n",
       "75%       673.000000\n",
       "max      3850.000000\n",
       "dtype: float64"
      ]
     },
     "execution_count": 5,
     "metadata": {},
     "output_type": "execute_result"
    }
   ],
   "source": [
    "agru10.describe()"
   ]
  },
  {
   "cell_type": "code",
   "execution_count": 6,
   "id": "72f79406",
   "metadata": {},
   "outputs": [
    {
     "data": {
      "text/plain": [
       "<AxesSubplot:xlabel='DPQ010'>"
      ]
     },
     "execution_count": 6,
     "metadata": {},
     "output_type": "execute_result"
    },
    {
     "data": {
      "image/png": "[encoded data removed]",
      "text/plain": [
       "<Figure size 432x288 with 1 Axes>"
      ]
     },
     "metadata": {
      "needs_background": "light"
     },
     "output_type": "display_data"
    }
   ],
   "source": [
    "# Gráfico de barras - cores\n",
    "agru10.plot.bar(color = ['blue','yellow','red','green'])"
   ]
  },
  {
   "cell_type": "code",
   "execution_count": 7,
   "id": "29db51a4",
   "metadata": {},
   "outputs": [
    {
     "data": {
      "text/plain": [
       "<AxesSubplot:ylabel='None'>"
      ]
     },
     "execution_count": 7,
     "metadata": {},
     "output_type": "execute_result"
    },
    {
     "data": {
      "image/png": "[encoded data removed]",
      "text/plain": [
       "<Figure size 432x288 with 1 Axes>"
      ]
     },
     "metadata": {},
     "output_type": "display_data"
    }
   ],
   "source": [
    "# Gráfico de pizza com legenda\n",
    "agru10.plot.pie(legend = True)"
   ]
  },
  {
   "cell_type": "code",
   "execution_count": 8,
   "id": "8945caed",
   "metadata": {},
   "outputs": [
    {
     "name": "stdout",
     "output_type": "stream",
     "text": [
      "0.0       0.721785\n",
      "1.0       0.126172\n",
      "2.0       0.033746\n",
      "3.0       0.023247\n",
      "1000.0    0.001687\n",
      "Name: DPQ010, dtype: float64\n"
     ]
    }
   ],
   "source": [
    "# Calculo da frequencia relativa     \n",
    "Freq10 = pd.Series(Df['DPQ010']).value_counts()       \n",
    "print(Freq10 / len(Df['DPQ010'])) "
   ]
  },
  {
   "cell_type": "code",
   "execution_count": 9,
   "id": "b35c6915",
   "metadata": {},
   "outputs": [
    {
     "data": {
      "text/plain": [
       "<AxesSubplot:>"
      ]
     },
     "execution_count": 9,
     "metadata": {},
     "output_type": "execute_result"
    },
    {
     "data": {
      "image/png": "[encoded data removed]",
      "text/plain": [
       "<Figure size 432x288 with 1 Axes>"
      ]
     },
     "metadata": {
      "needs_background": "light"
     },
     "output_type": "display_data"
    }
   ],
   "source": [
    "# Gráfico de barras freq. relativa- cores\n",
    "Freq10.plot.bar(color = ['blue','yellow','red','green'])"
   ]
  },
  {
   "cell_type": "code",
   "execution_count": 10,
   "id": "a569d8d0",
   "metadata": {},
   "outputs": [
    {
     "data": {
      "text/plain": [
       "DPQ020\n",
       "0.0       3769\n",
       "1.0        769\n",
       "2.0        179\n",
       "3.0        114\n",
       "1000.0       5\n",
       "dtype: int64"
      ]
     },
     "execution_count": 10,
     "metadata": {},
     "output_type": "execute_result"
    }
   ],
   "source": [
    "# agrupa por categoria DPQ020\n",
    "agru20 = Df.groupby(['DPQ020']).size()\n",
    "agru20"
   ]
  },
  {
   "cell_type": "code",
   "execution_count": 11,
   "id": "dbeb8157",
   "metadata": {},
   "outputs": [
    {
     "data": {
      "text/plain": [
       "498"
      ]
     },
     "execution_count": 11,
     "metadata": {},
     "output_type": "execute_result"
    }
   ],
   "source": [
    "# Mostra a quantidade de NAN\n",
    "Df['DPQ020'].isnull().sum()\n"
   ]
  },
  {
   "cell_type": "code",
   "execution_count": 12,
   "id": "90d07707",
   "metadata": {},
   "outputs": [
    {
     "data": {
      "text/plain": [
       "<AxesSubplot:xlabel='DPQ020'>"
      ]
     },
     "execution_count": 12,
     "metadata": {},
     "output_type": "execute_result"
    },
    {
     "data": {
      "image/png": "[encoded data removed]",
      "text/plain": [
       "<Figure size 432x288 with 1 Axes>"
      ]
     },
     "metadata": {
      "needs_background": "light"
     },
     "output_type": "display_data"
    }
   ],
   "source": [
    "# Gráfico de barras - cores\n",
    "agru20.plot.bar(color = ['blue','yellow','red','green'])"
   ]
  },
  {
   "cell_type": "code",
   "execution_count": 13,
   "id": "4a91aae6",
   "metadata": {},
   "outputs": [
    {
     "name": "stdout",
     "output_type": "stream",
     "text": [
      "0.0       0.706599\n",
      "1.0       0.144169\n",
      "2.0       0.033558\n",
      "3.0       0.021372\n",
      "1000.0    0.000937\n",
      "Name: DPQ020, dtype: float64\n"
     ]
    }
   ],
   "source": [
    "# Calculo da frequencia relativa     \n",
    "Freq20 = pd.Series(Df['DPQ020']).value_counts()       \n",
    "print(Freq20 / len(Df['DPQ020'])) "
   ]
  },
  {
   "cell_type": "code",
   "execution_count": 14,
   "id": "17a0c03c",
   "metadata": {},
   "outputs": [
    {
     "data": {
      "text/plain": [
       "<AxesSubplot:ylabel='DPQ020'>"
      ]
     },
     "execution_count": 14,
     "metadata": {},
     "output_type": "execute_result"
    },
    {
     "data": {
      "image/png": "[encoded data removed]",
      "text/plain": [
       "<Figure size 432x288 with 1 Axes>"
      ]
     },
     "metadata": {},
     "output_type": "display_data"
    }
   ],
   "source": [
    "# Gráfico de pizza com legenda\n",
    "Freq20.plot.pie(legend = True)"
   ]
  },
  {
   "cell_type": "code",
   "execution_count": 15,
   "id": "d0ee0fe3",
   "metadata": {},
   "outputs": [
    {
     "data": {
      "text/plain": [
       "DPQ030\n",
       "0.0       3152\n",
       "1.0       1071\n",
       "2.0        286\n",
       "3.0        320\n",
       "1000.0       7\n",
       "dtype: int64"
      ]
     },
     "execution_count": 15,
     "metadata": {},
     "output_type": "execute_result"
    }
   ],
   "source": [
    "# agrupa por categoria DPQ030\n",
    "agru30 = Df.groupby(['DPQ030']).size()\n",
    "agru30"
   ]
  },
  {
   "cell_type": "code",
   "execution_count": 16,
   "id": "c7e2137a",
   "metadata": {},
   "outputs": [
    {
     "data": {
      "text/plain": [
       "498"
      ]
     },
     "execution_count": 16,
     "metadata": {},
     "output_type": "execute_result"
    }
   ],
   "source": [
    "# Mostra a quantidade de NAN\n",
    "Df['DPQ030'].isnull().sum()"
   ]
  },
  {
   "cell_type": "code",
   "execution_count": 17,
   "id": "daa6477c",
   "metadata": {},
   "outputs": [
    {
     "data": {
      "text/plain": [
       "<AxesSubplot:xlabel='DPQ030'>"
      ]
     },
     "execution_count": 17,
     "metadata": {},
     "output_type": "execute_result"
    },
    {
     "data": {
      "image/png": "[encoded data removed]",
      "text/plain": [
       "<Figure size 432x288 with 1 Axes>"
      ]
     },
     "metadata": {
      "needs_background": "light"
     },
     "output_type": "display_data"
    }
   ],
   "source": [
    "# Gráfico de barras - cores\n",
    "agru30.plot.bar(color = ['blue','yellow','red','green'])"
   ]
  },
  {
   "cell_type": "code",
   "execution_count": 18,
   "id": "b9b816ca",
   "metadata": {},
   "outputs": [
    {
     "name": "stdout",
     "output_type": "stream",
     "text": [
      "0.0       0.590926\n",
      "1.0       0.200787\n",
      "3.0       0.059993\n",
      "2.0       0.053618\n",
      "1000.0    0.001312\n",
      "Name: DPQ030, dtype: float64\n"
     ]
    }
   ],
   "source": [
    "# Calculo da frequencia relativa     \n",
    "Freq30 = pd.Series(Df['DPQ030']).value_counts()       \n",
    "print(Freq30 / len(Df['DPQ030'])) "
   ]
  },
  {
   "cell_type": "code",
   "execution_count": 19,
   "id": "19d9f6ec",
   "metadata": {},
   "outputs": [
    {
     "data": {
      "text/plain": [
       "<AxesSubplot:ylabel='DPQ030'>"
      ]
     },
     "execution_count": 19,
     "metadata": {},
     "output_type": "execute_result"
    },
    {
     "data": {
      "image/png": "[encoded data removed]",
      "text/plain": [
       "<Figure size 432x288 with 1 Axes>"
      ]
     },
     "metadata": {},
     "output_type": "display_data"
    }
   ],
   "source": [
    "# Gráfico de pizza com legenda\n",
    "Freq30.plot.pie(legend = True)"
   ]
  },
  {
   "cell_type": "code",
   "execution_count": 20,
   "id": "a2c820b6",
   "metadata": {},
   "outputs": [
    {
     "data": {
      "text/plain": [
       "DPQ040\n",
       "0.0       2429\n",
       "1.0       1706\n",
       "2.0        370\n",
       "3.0        326\n",
       "1000.0       5\n",
       "dtype: int64"
      ]
     },
     "execution_count": 20,
     "metadata": {},
     "output_type": "execute_result"
    }
   ],
   "source": [
    "# agrupa por categoria DPQ040\n",
    "agru40 = Df.groupby(['DPQ040']).size()\n",
    "agru40"
   ]
  },
  {
   "cell_type": "code",
   "execution_count": 21,
   "id": "fddda08e",
   "metadata": {},
   "outputs": [
    {
     "data": {
      "text/plain": [
       "498"
      ]
     },
     "execution_count": 21,
     "metadata": {},
     "output_type": "execute_result"
    }
   ],
   "source": [
    "# Mostra a quantidade de NAN\n",
    "Df['DPQ040'].isnull().sum()"
   ]
  },
  {
   "cell_type": "code",
   "execution_count": 22,
   "id": "d98527b6",
   "metadata": {},
   "outputs": [
    {
     "data": {
      "text/plain": [
       "<AxesSubplot:xlabel='DPQ040'>"
      ]
     },
     "execution_count": 22,
     "metadata": {},
     "output_type": "execute_result"
    },
    {
     "data": {
      "image/png": "[encoded data removed]",
      "text/plain": [
       "<Figure size 432x288 with 1 Axes>"
      ]
     },
     "metadata": {
      "needs_background": "light"
     },
     "output_type": "display_data"
    }
   ],
   "source": [
    "# Gráfico de barras - cores\n",
    "agru40.plot.bar(color = ['blue','yellow','red','green'])"
   ]
  },
  {
   "cell_type": "code",
   "execution_count": 24,
   "id": "4042b28f",
   "metadata": {},
   "outputs": [
    {
     "name": "stdout",
     "output_type": "stream",
     "text": [
      "0.0       0.455381\n",
      "1.0       0.319835\n",
      "2.0       0.069366\n",
      "3.0       0.061117\n",
      "1000.0    0.000937\n",
      "Name: DPQ040, dtype: float64\n"
     ]
    }
   ],
   "source": [
    "# Calculo da frequencia relativa     \n",
    "Freq40 = pd.Series(Df['DPQ040']).value_counts()       \n",
    "print(Freq40 / len(Df['DPQ040'])) "
   ]
  },
  {
   "cell_type": "code",
   "execution_count": 25,
   "id": "ad8e0888",
   "metadata": {},
   "outputs": [
    {
     "data": {
      "text/plain": [
       "<AxesSubplot:ylabel='DPQ040'>"
      ]
     },
     "execution_count": 25,
     "metadata": {},
     "output_type": "execute_result"
    },
    {
     "data": {
      "image/png": "[encoded data removed]",
      "text/plain": [
       "<Figure size 432x288 with 1 Axes>"
      ]
     },
     "metadata": {},
     "output_type": "display_data"
    }
   ],
   "source": [
    "# Gráfico de pizza com legenda\n",
    "Freq40.plot.pie(legend = True)"
   ]
  },
  {
   "cell_type": "code",
   "execution_count": 26,
   "id": "064146c0",
   "metadata": {},
   "outputs": [
    {
     "data": {
      "text/plain": [
       "498"
      ]
     },
     "execution_count": 26,
     "metadata": {},
     "output_type": "execute_result"
    }
   ],
   "source": [
    "# agrupa por categoria DPQ050\n",
    "agru50 = Df.groupby(['DPQ050']).size()\n",
    "agru50\n",
    "# Mostra a quantidade de NAN\n",
    "Df['DPQ050'].isnull().sum()\n",
    "\n"
   ]
  },
  {
   "cell_type": "code",
   "execution_count": 27,
   "id": "c635be5c",
   "metadata": {},
   "outputs": [
    {
     "name": "stdout",
     "output_type": "stream",
     "text": [
      "0.0       0.714848\n",
      "1.0       0.129546\n",
      "3.0       0.031496\n",
      "2.0       0.029996\n",
      "1000.0    0.000750\n",
      "Name: DPQ050, dtype: float64\n"
     ]
    },
    {
     "data": {
      "image/png": "[encoded data removed]",
      "text/plain": [
       "<Figure size 432x288 with 1 Axes>"
      ]
     },
     "metadata": {
      "needs_background": "light"
     },
     "output_type": "display_data"
    }
   ],
   "source": [
    "# Gráfico de barras - cores\n",
    "agru50.plot.bar(color = ['blue','yellow','red','green'])\n",
    "# Calculo da frequencia relativa \n",
    "Freq50 = pd.Series(Df['DPQ050']).value_counts()       \n",
    "print(Freq50 / len(Df['DPQ050'])) \n"
   ]
  },
  {
   "cell_type": "code",
   "execution_count": 28,
   "id": "c9b9c233",
   "metadata": {},
   "outputs": [
    {
     "data": {
      "text/plain": [
       "<AxesSubplot:ylabel='DPQ050'>"
      ]
     },
     "execution_count": 28,
     "metadata": {},
     "output_type": "execute_result"
    },
    {
     "data": {
      "image/png": "[encoded data removed]",
      "text/plain": [
       "<Figure size 432x288 with 1 Axes>"
      ]
     },
     "metadata": {},
     "output_type": "display_data"
    }
   ],
   "source": [
    "# Gráfico de pizza com legenda\n",
    "Freq50.plot.pie(legend = True)"
   ]
  },
  {
   "cell_type": "code",
   "execution_count": 29,
   "id": "825b074d",
   "metadata": {},
   "outputs": [
    {
     "data": {
      "text/plain": [
       "498"
      ]
     },
     "execution_count": 29,
     "metadata": {},
     "output_type": "execute_result"
    }
   ],
   "source": [
    "# agrupa por categoria DPQ060\n",
    "agru60 = Df.groupby(['DPQ060']).size()\n",
    "agru60\n",
    "# Mostra a quantidade de NAN\n",
    "Df['DPQ060'].isnull().sum()\n"
   ]
  },
  {
   "cell_type": "code",
   "execution_count": 30,
   "id": "c8d85d66",
   "metadata": {},
   "outputs": [
    {
     "name": "stdout",
     "output_type": "stream",
     "text": [
      "0.0       0.775028\n",
      "1.0       0.096175\n",
      "2.0       0.017810\n",
      "3.0       0.016685\n",
      "1000.0    0.000937\n",
      "Name: DPQ060, dtype: float64\n"
     ]
    },
    {
     "data": {
      "image/png": "[encoded data removed]",
      "text/plain": [
       "<Figure size 432x288 with 1 Axes>"
      ]
     },
     "metadata": {
      "needs_background": "light"
     },
     "output_type": "display_data"
    }
   ],
   "source": [
    "# Gráfico de barras - cores\n",
    "agru60.plot.bar(color = ['blue','yellow','red','green'])\n",
    "# Calculo da frequencia relativa \n",
    "Freq60 = pd.Series(Df['DPQ060']).value_counts()       \n",
    "print(Freq60 / len(Df['DPQ060'])) "
   ]
  },
  {
   "cell_type": "code",
   "execution_count": 31,
   "id": "3be9cfe2",
   "metadata": {},
   "outputs": [
    {
     "data": {
      "text/plain": [
       "<AxesSubplot:ylabel='DPQ060'>"
      ]
     },
     "execution_count": 31,
     "metadata": {},
     "output_type": "execute_result"
    },
    {
     "data": {
      "image/png": "[encoded data removed]",
      "text/plain": [
       "<Figure size 432x288 with 1 Axes>"
      ]
     },
     "metadata": {},
     "output_type": "display_data"
    }
   ],
   "source": [
    "# Gráfico de pizza com legenda\n",
    "Freq60.plot.pie(legend = True)"
   ]
  },
  {
   "cell_type": "code",
   "execution_count": 32,
   "id": "f6638928",
   "metadata": {},
   "outputs": [
    {
     "data": {
      "text/plain": [
       "498"
      ]
     },
     "execution_count": 32,
     "metadata": {},
     "output_type": "execute_result"
    }
   ],
   "source": [
    "# agrupa por categoria DPQ070\n",
    "agru70 = Df.groupby(['DPQ070']).size()\n",
    "agru70\n",
    "# Mostra a quantidade de NAN\n",
    "Df['DPQ070'].isnull().sum()\n"
   ]
  },
  {
   "cell_type": "code",
   "execution_count": 33,
   "id": "847f6a7e",
   "metadata": {},
   "outputs": [
    {
     "name": "stdout",
     "output_type": "stream",
     "text": [
      "0.0       0.763030\n",
      "1.0       0.102175\n",
      "2.0       0.022122\n",
      "3.0       0.018560\n",
      "1000.0    0.000750\n",
      "Name: DPQ070, dtype: float64\n"
     ]
    },
    {
     "data": {
      "image/png": "[encoded data removed]",
      "text/plain": [
       "<Figure size 432x288 with 1 Axes>"
      ]
     },
     "metadata": {
      "needs_background": "light"
     },
     "output_type": "display_data"
    }
   ],
   "source": [
    "# Gráfico de barras - cores\n",
    "agru70.plot.bar(color = ['blue','yellow','red','green'])\n",
    "# Calculo da frequencia relativa \n",
    "Freq70 = pd.Series(Df['DPQ070']).value_counts()       \n",
    "print(Freq70 / len(Df['DPQ070'])) "
   ]
  },
  {
   "cell_type": "code",
   "execution_count": 34,
   "id": "b413a879",
   "metadata": {},
   "outputs": [
    {
     "data": {
      "text/plain": [
       "<AxesSubplot:ylabel='DPQ070'>"
      ]
     },
     "execution_count": 34,
     "metadata": {},
     "output_type": "execute_result"
    },
    {
     "data": {
      "image/png": "[encoded data removed]",
      "text/plain": [
       "<Figure size 432x288 with 1 Axes>"
      ]
     },
     "metadata": {},
     "output_type": "display_data"
    }
   ],
   "source": [
    "# Gráfico de pizza com legenda\n",
    "Freq70.plot.pie(legend = True)"
   ]
  },
  {
   "cell_type": "code",
   "execution_count": 35,
   "id": "8b032500",
   "metadata": {},
   "outputs": [
    {
     "data": {
      "text/plain": [
       "498"
      ]
     },
     "execution_count": 35,
     "metadata": {},
     "output_type": "execute_result"
    }
   ],
   "source": [
    "# agrupa por categoria DPQ080\n",
    "agru80 = Df.groupby(['DPQ080']).size()\n",
    "agru80\n",
    "# Mostra a quantidade de NAN\n",
    "Df['DPQ080'].isnull().sum()\n"
   ]
  },
  {
   "cell_type": "code",
   "execution_count": 36,
   "id": "e4b993ec",
   "metadata": {},
   "outputs": [
    {
     "name": "stdout",
     "output_type": "stream",
     "text": [
      "0.0       0.817773\n",
      "1.0       0.063930\n",
      "2.0       0.014811\n",
      "3.0       0.008436\n",
      "1000.0    0.001687\n",
      "Name: DPQ080, dtype: float64\n"
     ]
    },
    {
     "data": {
      "image/png": "[encoded data removed]",
      "text/plain": [
       "<Figure size 432x288 with 1 Axes>"
      ]
     },
     "metadata": {
      "needs_background": "light"
     },
     "output_type": "display_data"
    }
   ],
   "source": [
    "# Gráfico de barras - cores\n",
    "agru80.plot.bar(color = ['blue','yellow','red','green'])\n",
    "# Calculo da frequencia relativa \n",
    "Freq80 = pd.Series(Df['DPQ080']).value_counts()       \n",
    "print(Freq80 / len(Df['DPQ080'])) "
   ]
  },
  {
   "cell_type": "code",
   "execution_count": 37,
   "id": "0700072a",
   "metadata": {},
   "outputs": [
    {
     "data": {
      "text/plain": [
       "<AxesSubplot:ylabel='DPQ080'>"
      ]
     },
     "execution_count": 37,
     "metadata": {},
     "output_type": "execute_result"
    },
    {
     "data": {
      "image/png": "[encoded data removed]",
      "text/plain": [
       "<Figure size 432x288 with 1 Axes>"
      ]
     },
     "metadata": {},
     "output_type": "display_data"
    }
   ],
   "source": [
    "# Gráfico de pizza com legenda\n",
    "Freq80.plot.pie(legend = True)"
   ]
  },
  {
   "cell_type": "code",
   "execution_count": 38,
   "id": "3a1f04fd",
   "metadata": {},
   "outputs": [
    {
     "data": {
      "text/plain": [
       "498"
      ]
     },
     "execution_count": 38,
     "metadata": {},
     "output_type": "execute_result"
    }
   ],
   "source": [
    "# agrupa por categoria DPQ090\n",
    "agru90 = Df.groupby(['DPQ090']).size()\n",
    "agru90\n",
    "# Mostra a quantidade de NAN\n",
    "Df['DPQ090'].isnull().sum()"
   ]
  },
  {
   "cell_type": "code",
   "execution_count": 39,
   "id": "c805ceec",
   "metadata": {},
   "outputs": [
    {
     "name": "stdout",
     "output_type": "stream",
     "text": [
      "0.0       0.874953\n",
      "1.0       0.022872\n",
      "2.0       0.005999\n",
      "3.0       0.002437\n",
      "1000.0    0.000375\n",
      "Name: DPQ090, dtype: float64\n"
     ]
    },
    {
     "data": {
      "image/png": "[encoded data removed]",
      "text/plain": [
       "<Figure size 432x288 with 1 Axes>"
      ]
     },
     "metadata": {
      "needs_background": "light"
     },
     "output_type": "display_data"
    }
   ],
   "source": [
    "# Gráfico de barras - cores\n",
    "agru90.plot.bar(color = ['blue','yellow','red','green'])\n",
    "# Calculo da frequencia relativa \n",
    "Freq90 = pd.Series(Df['DPQ090']).value_counts()       \n",
    "print(Freq90 / len(Df['DPQ090'])) "
   ]
  },
  {
   "cell_type": "code",
   "execution_count": 40,
   "id": "eb7a1f50",
   "metadata": {},
   "outputs": [
    {
     "data": {
      "text/plain": [
       "<AxesSubplot:ylabel='DPQ090'>"
      ]
     },
     "execution_count": 40,
     "metadata": {},
     "output_type": "execute_result"
    },
    {
     "data": {
      "image/png": "[encoded data removed]",
      "text/plain": [
       "<Figure size 432x288 with 1 Axes>"
      ]
     },
     "metadata": {},
     "output_type": "display_data"
    }
   ],
   "source": [
    "# Gráfico de pizza com legenda\n",
    "Freq90.plot.pie(legend = True)"
   ]
  },
  {
   "cell_type": "code",
   "execution_count": 43,
   "id": "10d3e8af",
   "metadata": {},
   "outputs": [
    {
     "data": {
      "text/plain": [
       "0"
      ]
     },
     "execution_count": 43,
     "metadata": {},
     "output_type": "execute_result"
    }
   ],
   "source": [
    "# agrupa por categoria RIAGENDR - Genero\n",
    "Genero = Df.groupby(['RIAGENDR']).size()\n",
    "Genero\n",
    "# Mostra a quantidade de NAN\n",
    "Df['RIAGENDR'].isnull().sum()"
   ]
  },
  {
   "cell_type": "code",
   "execution_count": 44,
   "id": "2f4a1ef0",
   "metadata": {},
   "outputs": [
    {
     "name": "stdout",
     "output_type": "stream",
     "text": [
      "2    0.519873\n",
      "1    0.480127\n",
      "Name: RIAGENDR, dtype: float64\n"
     ]
    },
    {
     "data": {
      "image/png": "[encoded data removed]",
      "text/plain": [
       "<Figure size 432x288 with 1 Axes>"
      ]
     },
     "metadata": {
      "needs_background": "light"
     },
     "output_type": "display_data"
    }
   ],
   "source": [
    "# Gráfico de barras - cores\n",
    "Genero.plot.bar(color = ['blue','yellow','red','green'])\n",
    "# Calculo da frequencia relativa \n",
    "Genero = pd.Series(Df['RIAGENDR']).value_counts()       \n",
    "print(Genero / len(Df['RIAGENDR'])) "
   ]
  },
  {
   "cell_type": "code",
   "execution_count": 45,
   "id": "c707f30e",
   "metadata": {},
   "outputs": [
    {
     "data": {
      "text/plain": [
       "0"
      ]
     },
     "execution_count": 45,
     "metadata": {},
     "output_type": "execute_result"
    }
   ],
   "source": [
    "# agrupa por categoria RIDAGEYR - Idade em anos\n",
    "Idade = Df.groupby(['RIDAGEYR']).size()\n",
    "Idade\n",
    "# Mostra a quantidade de NAN\n",
    "Df['RIDAGEYR'].isnull().sum()"
   ]
  },
  {
   "cell_type": "code",
   "execution_count": 46,
   "id": "8cbbe774",
   "metadata": {},
   "outputs": [
    {
     "name": "stdout",
     "output_type": "stream",
     "text": [
      "18    0.056430\n",
      "19    0.048744\n",
      "85    0.027747\n",
      "29    0.021185\n",
      "23    0.020810\n",
      "        ...   \n",
      "77    0.006937\n",
      "75    0.006749\n",
      "68    0.006562\n",
      "84    0.006187\n",
      "79    0.005812\n",
      "Name: RIDAGEYR, Length: 68, dtype: float64\n"
     ]
    },
    {
     "data": {
      "image/png": "[encoded data removed]",
      "text/plain": [
       "<Figure size 432x288 with 1 Axes>"
      ]
     },
     "metadata": {
      "needs_background": "light"
     },
     "output_type": "display_data"
    }
   ],
   "source": [
    "# Gráfico de barras - cores\n",
    "Idade.plot.bar(color = ['blue','yellow','red','green'])\n",
    "# Calculo da frequencia relativa \n",
    "Idade = pd.Series(Df['RIDAGEYR']).value_counts()       \n",
    "print(Idade / len(Df['RIDAGEYR'])) "
   ]
  },
  {
   "cell_type": "code",
   "execution_count": 50,
   "id": "6e5391d3",
   "metadata": {},
   "outputs": [
    {
     "data": {
      "text/plain": [
       "18    301\n",
       "19    260\n",
       "85    148\n",
       "29    113\n",
       "23    111\n",
       "25    109\n",
       "22    105\n",
       "24    104\n",
       "26    103\n",
       "40    103\n",
       "Name: RIDAGEYR, dtype: int64"
      ]
     },
     "execution_count": 50,
     "metadata": {},
     "output_type": "execute_result"
    }
   ],
   "source": [
    "Idade.head(10)"
   ]
  },
  {
   "cell_type": "code",
   "execution_count": 47,
   "id": "1eee7d74",
   "metadata": {},
   "outputs": [
    {
     "data": {
      "text/plain": [
       "count     68.000000\n",
       "mean      78.441176\n",
       "std       42.491925\n",
       "min       31.000000\n",
       "25%       55.000000\n",
       "50%       72.000000\n",
       "75%       91.000000\n",
       "max      301.000000\n",
       "Name: RIDAGEYR, dtype: float64"
      ]
     },
     "execution_count": 47,
     "metadata": {},
     "output_type": "execute_result"
    }
   ],
   "source": [
    "Idade.describe()"
   ]
  },
  {
   "cell_type": "code",
   "execution_count": 52,
   "id": "eab7a14a",
   "metadata": {},
   "outputs": [],
   "source": [
    "#vamos criar faixas etárias no nossos dados  \n",
    "FaixaEtaria = [18, 35, 60, 1000]\n",
    "Df['RIDAGEYR'] = pd.cut(Df['RIDAGEYR'], \n",
    "                             FaixaEtaria, \n",
    "                             labels=['Adult','MidAge','Senior'])"
   ]
  },
  {
   "cell_type": "code",
   "execution_count": 53,
   "id": "9911b0ad",
   "metadata": {},
   "outputs": [
    {
     "data": {
      "text/plain": [
       "0    Senior\n",
       "1    MidAge\n",
       "2    Senior\n",
       "3    Senior\n",
       "4       NaN\n",
       "5     Adult\n",
       "6     Adult\n",
       "7    Senior\n",
       "8    Senior\n",
       "9    MidAge\n",
       "Name: RIDAGEYR, dtype: category\n",
       "Categories (3, object): ['Adult' < 'MidAge' < 'Senior']"
      ]
     },
     "execution_count": 53,
     "metadata": {},
     "output_type": "execute_result"
    }
   ],
   "source": [
    "Df['RIDAGEYR'].head(10)"
   ]
  },
  {
   "cell_type": "code",
   "execution_count": 54,
   "id": "f1bf6b93",
   "metadata": {},
   "outputs": [
    {
     "data": {
      "text/plain": [
       "RIDAGEYR\n",
       "Adult     1801\n",
       "MidAge    1824\n",
       "Senior    1408\n",
       "dtype: int64"
      ]
     },
     "execution_count": 54,
     "metadata": {},
     "output_type": "execute_result"
    }
   ],
   "source": [
    "Faixa = Df.groupby(['RIDAGEYR']).size()\n",
    "Faixa"
   ]
  },
  {
   "cell_type": "code",
   "execution_count": 55,
   "id": "b2956a50",
   "metadata": {},
   "outputs": [
    {
     "name": "stdout",
     "output_type": "stream",
     "text": [
      "RIDAGEYR\n",
      "Adult     0.337645\n",
      "MidAge    0.341957\n",
      "Senior    0.263967\n",
      "dtype: float64\n"
     ]
    },
    {
     "data": {
      "image/png": "[encoded data removed]",
      "text/plain": [
       "<Figure size 432x288 with 1 Axes>"
      ]
     },
     "metadata": {
      "needs_background": "light"
     },
     "output_type": "display_data"
    }
   ],
   "source": [
    "# Gráfico de barras - cores\n",
    "Faixa.plot.bar(color = ['blue','yellow','red','green'])\n",
    "# Calculo da frequencia relativa \n",
    "faixa = pd.Series(Df['RIDAGEYR']).value_counts()       \n",
    "print(Faixa / len(Df['RIDAGEYR'])) "
   ]
  },
  {
   "cell_type": "code",
   "execution_count": 60,
   "id": "df28edad",
   "metadata": {},
   "outputs": [
    {
     "data": {
      "text/plain": [
       "RIDRETH1\n",
       "1    1133\n",
       "2     164\n",
       "3    2516\n",
       "4    1300\n",
       "5     221\n",
       "dtype: int64"
      ]
     },
     "execution_count": 60,
     "metadata": {},
     "output_type": "execute_result"
    }
   ],
   "source": [
    "# agrupa por categoria RIDAGEYR - Etnia\n",
    "Etnia = Df.groupby(['RIDRETH1']).size()\n",
    "Etnia\n"
   ]
  },
  {
   "cell_type": "code",
   "execution_count": 61,
   "id": "9b5df4bb",
   "metadata": {},
   "outputs": [
    {
     "data": {
      "text/plain": [
       "0"
      ]
     },
     "execution_count": 61,
     "metadata": {},
     "output_type": "execute_result"
    }
   ],
   "source": [
    "# Mostra a quantidade de NAN\n",
    "Df['RIDRETH1'].isnull().sum()"
   ]
  },
  {
   "cell_type": "code",
   "execution_count": 64,
   "id": "1d7a51ef",
   "metadata": {},
   "outputs": [],
   "source": [
    "# Cria coluna com nome Etnia com atributos de acordo com as condições\n",
    "conditionlist = [\n",
    "    (Df['RIDRETH1'] == 1),\n",
    "    (Df['RIDRETH1'] == 2),\n",
    "    (Df['RIDRETH1'] == 3),\n",
    "    (Df['RIDRETH1'] == 4),\n",
    "    (Df['RIDRETH1'] == 5)]\n",
    "choicelist = ['Branco não-hispanico', 'Negro não-hispanico', 'Mexicano-americano','Outro', 'Outro-hispanico']\n",
    "Df['Etnia'] = np.select(conditionlist, choicelist, default='Not Specified')"
   ]
  },
  {
   "cell_type": "code",
   "execution_count": 66,
   "id": "89e549dd",
   "metadata": {},
   "outputs": [
    {
     "data": {
      "text/html": [
       "<div>\n",
       "<style scoped>\n",
       "    .dataframe tbody tr th:only-of-type {\n",
       "        vertical-align: middle;\n",
       "    }\n",
       "\n",
       "    .dataframe tbody tr th {\n",
       "        vertical-align: top;\n",
       "    }\n",
       "\n",
       "    .dataframe thead th {\n",
       "        text-align: right;\n",
       "    }\n",
       "</style>\n",
       "<table border=\"1\" class=\"dataframe\">\n",
       "  <thead>\n",
       "    <tr style=\"text-align: right;\">\n",
       "      <th></th>\n",
       "      <th>Unnamed: 0</th>\n",
       "      <th>SEQN</th>\n",
       "      <th>DPQ010</th>\n",
       "      <th>DPQ020</th>\n",
       "      <th>DPQ030</th>\n",
       "      <th>DPQ040</th>\n",
       "      <th>DPQ050</th>\n",
       "      <th>DPQ060</th>\n",
       "      <th>DPQ070</th>\n",
       "      <th>DPQ080</th>\n",
       "      <th>...</th>\n",
       "      <th>HEI2015C8_SEAPLANT_PROT</th>\n",
       "      <th>HEI2015C9_FATTYACID</th>\n",
       "      <th>HEI2015C10_SODIUM</th>\n",
       "      <th>HEI2015C11_REFINEDGRAIN</th>\n",
       "      <th>HEI2015C12_SFAT</th>\n",
       "      <th>HEI2015C13_ADDSUG</th>\n",
       "      <th>HEI2015_TOTAL_SCORE</th>\n",
       "      <th>phq9</th>\n",
       "      <th>phq_grp</th>\n",
       "      <th>Etnia</th>\n",
       "    </tr>\n",
       "  </thead>\n",
       "  <tbody>\n",
       "    <tr>\n",
       "      <th>0</th>\n",
       "      <td>0</td>\n",
       "      <td>31130</td>\n",
       "      <td>NaN</td>\n",
       "      <td>NaN</td>\n",
       "      <td>NaN</td>\n",
       "      <td>NaN</td>\n",
       "      <td>NaN</td>\n",
       "      <td>NaN</td>\n",
       "      <td>NaN</td>\n",
       "      <td>NaN</td>\n",
       "      <td>...</td>\n",
       "      <td>NaN</td>\n",
       "      <td>NaN</td>\n",
       "      <td>NaN</td>\n",
       "      <td>NaN</td>\n",
       "      <td>NaN</td>\n",
       "      <td>NaN</td>\n",
       "      <td>NaN</td>\n",
       "      <td>0.0</td>\n",
       "      <td>Sem Sintomas</td>\n",
       "      <td>Mexicano-americano</td>\n",
       "    </tr>\n",
       "    <tr>\n",
       "      <th>1</th>\n",
       "      <td>1</td>\n",
       "      <td>31131</td>\n",
       "      <td>0.0</td>\n",
       "      <td>0.0</td>\n",
       "      <td>0.0</td>\n",
       "      <td>0.0</td>\n",
       "      <td>0.0</td>\n",
       "      <td>0.0</td>\n",
       "      <td>0.0</td>\n",
       "      <td>0.0</td>\n",
       "      <td>...</td>\n",
       "      <td>2.052399</td>\n",
       "      <td>0.684985</td>\n",
       "      <td>2.297100</td>\n",
       "      <td>9.512964</td>\n",
       "      <td>0.438428</td>\n",
       "      <td>3.919226</td>\n",
       "      <td>35.553899</td>\n",
       "      <td>0.0</td>\n",
       "      <td>Sem Sintomas</td>\n",
       "      <td>Outro</td>\n",
       "    </tr>\n",
       "    <tr>\n",
       "      <th>2</th>\n",
       "      <td>2</td>\n",
       "      <td>31132</td>\n",
       "      <td>0.0</td>\n",
       "      <td>0.0</td>\n",
       "      <td>0.0</td>\n",
       "      <td>0.0</td>\n",
       "      <td>0.0</td>\n",
       "      <td>0.0</td>\n",
       "      <td>0.0</td>\n",
       "      <td>0.0</td>\n",
       "      <td>...</td>\n",
       "      <td>0.000000</td>\n",
       "      <td>2.050769</td>\n",
       "      <td>7.369489</td>\n",
       "      <td>8.887880</td>\n",
       "      <td>8.186877</td>\n",
       "      <td>9.099088</td>\n",
       "      <td>63.551696</td>\n",
       "      <td>0.0</td>\n",
       "      <td>Sem Sintomas</td>\n",
       "      <td>Mexicano-americano</td>\n",
       "    </tr>\n",
       "    <tr>\n",
       "      <th>3</th>\n",
       "      <td>3</td>\n",
       "      <td>31134</td>\n",
       "      <td>0.0</td>\n",
       "      <td>0.0</td>\n",
       "      <td>0.0</td>\n",
       "      <td>0.0</td>\n",
       "      <td>0.0</td>\n",
       "      <td>0.0</td>\n",
       "      <td>0.0</td>\n",
       "      <td>0.0</td>\n",
       "      <td>...</td>\n",
       "      <td>1.268648</td>\n",
       "      <td>2.958985</td>\n",
       "      <td>0.000000</td>\n",
       "      <td>5.627488</td>\n",
       "      <td>5.863078</td>\n",
       "      <td>5.878686</td>\n",
       "      <td>42.886826</td>\n",
       "      <td>0.0</td>\n",
       "      <td>Sem Sintomas</td>\n",
       "      <td>Mexicano-americano</td>\n",
       "    </tr>\n",
       "    <tr>\n",
       "      <th>4</th>\n",
       "      <td>4</td>\n",
       "      <td>31139</td>\n",
       "      <td>0.0</td>\n",
       "      <td>0.0</td>\n",
       "      <td>0.0</td>\n",
       "      <td>0.0</td>\n",
       "      <td>3.0</td>\n",
       "      <td>1.0</td>\n",
       "      <td>0.0</td>\n",
       "      <td>0.0</td>\n",
       "      <td>...</td>\n",
       "      <td>4.221442</td>\n",
       "      <td>10.000000</td>\n",
       "      <td>2.845774</td>\n",
       "      <td>0.000000</td>\n",
       "      <td>10.000000</td>\n",
       "      <td>9.658507</td>\n",
       "      <td>47.074393</td>\n",
       "      <td>4.0</td>\n",
       "      <td>Sem Sintomas</td>\n",
       "      <td>Negro não-hispanico</td>\n",
       "    </tr>\n",
       "    <tr>\n",
       "      <th>5</th>\n",
       "      <td>5</td>\n",
       "      <td>31143</td>\n",
       "      <td>0.0</td>\n",
       "      <td>1.0</td>\n",
       "      <td>1.0</td>\n",
       "      <td>1.0</td>\n",
       "      <td>1.0</td>\n",
       "      <td>1.0</td>\n",
       "      <td>1.0</td>\n",
       "      <td>0.0</td>\n",
       "      <td>...</td>\n",
       "      <td>0.000000</td>\n",
       "      <td>0.002362</td>\n",
       "      <td>5.223435</td>\n",
       "      <td>7.787420</td>\n",
       "      <td>0.000000</td>\n",
       "      <td>10.000000</td>\n",
       "      <td>46.086131</td>\n",
       "      <td>6.0</td>\n",
       "      <td>Sintomas Leves</td>\n",
       "      <td>Mexicano-americano</td>\n",
       "    </tr>\n",
       "    <tr>\n",
       "      <th>6</th>\n",
       "      <td>6</td>\n",
       "      <td>31144</td>\n",
       "      <td>0.0</td>\n",
       "      <td>0.0</td>\n",
       "      <td>0.0</td>\n",
       "      <td>0.0</td>\n",
       "      <td>0.0</td>\n",
       "      <td>0.0</td>\n",
       "      <td>0.0</td>\n",
       "      <td>0.0</td>\n",
       "      <td>...</td>\n",
       "      <td>0.000000</td>\n",
       "      <td>6.209888</td>\n",
       "      <td>6.747360</td>\n",
       "      <td>0.000000</td>\n",
       "      <td>7.473184</td>\n",
       "      <td>6.573559</td>\n",
       "      <td>37.388008</td>\n",
       "      <td>0.0</td>\n",
       "      <td>Sem Sintomas</td>\n",
       "      <td>Negro não-hispanico</td>\n",
       "    </tr>\n",
       "    <tr>\n",
       "      <th>7</th>\n",
       "      <td>7</td>\n",
       "      <td>31149</td>\n",
       "      <td>0.0</td>\n",
       "      <td>0.0</td>\n",
       "      <td>0.0</td>\n",
       "      <td>0.0</td>\n",
       "      <td>0.0</td>\n",
       "      <td>0.0</td>\n",
       "      <td>0.0</td>\n",
       "      <td>0.0</td>\n",
       "      <td>...</td>\n",
       "      <td>0.000000</td>\n",
       "      <td>4.780404</td>\n",
       "      <td>0.000000</td>\n",
       "      <td>5.138144</td>\n",
       "      <td>5.601160</td>\n",
       "      <td>4.677064</td>\n",
       "      <td>41.001689</td>\n",
       "      <td>0.0</td>\n",
       "      <td>Sem Sintomas</td>\n",
       "      <td>Mexicano-americano</td>\n",
       "    </tr>\n",
       "    <tr>\n",
       "      <th>8</th>\n",
       "      <td>8</td>\n",
       "      <td>31150</td>\n",
       "      <td>1.0</td>\n",
       "      <td>0.0</td>\n",
       "      <td>0.0</td>\n",
       "      <td>0.0</td>\n",
       "      <td>0.0</td>\n",
       "      <td>0.0</td>\n",
       "      <td>0.0</td>\n",
       "      <td>0.0</td>\n",
       "      <td>...</td>\n",
       "      <td>0.000000</td>\n",
       "      <td>7.660037</td>\n",
       "      <td>9.368343</td>\n",
       "      <td>9.253592</td>\n",
       "      <td>10.000000</td>\n",
       "      <td>8.797673</td>\n",
       "      <td>71.671972</td>\n",
       "      <td>1.0</td>\n",
       "      <td>Sem Sintomas</td>\n",
       "      <td>Mexicano-americano</td>\n",
       "    </tr>\n",
       "    <tr>\n",
       "      <th>9</th>\n",
       "      <td>9</td>\n",
       "      <td>31151</td>\n",
       "      <td>0.0</td>\n",
       "      <td>0.0</td>\n",
       "      <td>1.0</td>\n",
       "      <td>1.0</td>\n",
       "      <td>0.0</td>\n",
       "      <td>0.0</td>\n",
       "      <td>1.0</td>\n",
       "      <td>0.0</td>\n",
       "      <td>...</td>\n",
       "      <td>5.000000</td>\n",
       "      <td>2.805860</td>\n",
       "      <td>9.298090</td>\n",
       "      <td>10.000000</td>\n",
       "      <td>6.738039</td>\n",
       "      <td>0.000000</td>\n",
       "      <td>47.002405</td>\n",
       "      <td>3.0</td>\n",
       "      <td>Sem Sintomas</td>\n",
       "      <td>Outro</td>\n",
       "    </tr>\n",
       "  </tbody>\n",
       "</table>\n",
       "<p>10 rows × 35 columns</p>\n",
       "</div>"
      ],
      "text/plain": [
       "   Unnamed: 0   SEQN  DPQ010  DPQ020  DPQ030  DPQ040  DPQ050  DPQ060  DPQ070  \\\n",
       "0           0  31130     NaN     NaN     NaN     NaN     NaN     NaN     NaN   \n",
       "1           1  31131     0.0     0.0     0.0     0.0     0.0     0.0     0.0   \n",
       "2           2  31132     0.0     0.0     0.0     0.0     0.0     0.0     0.0   \n",
       "3           3  31134     0.0     0.0     0.0     0.0     0.0     0.0     0.0   \n",
       "4           4  31139     0.0     0.0     0.0     0.0     3.0     1.0     0.0   \n",
       "5           5  31143     0.0     1.0     1.0     1.0     1.0     1.0     1.0   \n",
       "6           6  31144     0.0     0.0     0.0     0.0     0.0     0.0     0.0   \n",
       "7           7  31149     0.0     0.0     0.0     0.0     0.0     0.0     0.0   \n",
       "8           8  31150     1.0     0.0     0.0     0.0     0.0     0.0     0.0   \n",
       "9           9  31151     0.0     0.0     1.0     1.0     0.0     0.0     1.0   \n",
       "\n",
       "   DPQ080  ...  HEI2015C8_SEAPLANT_PROT  HEI2015C9_FATTYACID  \\\n",
       "0     NaN  ...                      NaN                  NaN   \n",
       "1     0.0  ...                 2.052399             0.684985   \n",
       "2     0.0  ...                 0.000000             2.050769   \n",
       "3     0.0  ...                 1.268648             2.958985   \n",
       "4     0.0  ...                 4.221442            10.000000   \n",
       "5     0.0  ...                 0.000000             0.002362   \n",
       "6     0.0  ...                 0.000000             6.209888   \n",
       "7     0.0  ...                 0.000000             4.780404   \n",
       "8     0.0  ...                 0.000000             7.660037   \n",
       "9     0.0  ...                 5.000000             2.805860   \n",
       "\n",
       "  HEI2015C10_SODIUM  HEI2015C11_REFINEDGRAIN  HEI2015C12_SFAT  \\\n",
       "0               NaN                      NaN              NaN   \n",
       "1          2.297100                 9.512964         0.438428   \n",
       "2          7.369489                 8.887880         8.186877   \n",
       "3          0.000000                 5.627488         5.863078   \n",
       "4          2.845774                 0.000000        10.000000   \n",
       "5          5.223435                 7.787420         0.000000   \n",
       "6          6.747360                 0.000000         7.473184   \n",
       "7          0.000000                 5.138144         5.601160   \n",
       "8          9.368343                 9.253592        10.000000   \n",
       "9          9.298090                10.000000         6.738039   \n",
       "\n",
       "   HEI2015C13_ADDSUG  HEI2015_TOTAL_SCORE  phq9         phq_grp  \\\n",
       "0                NaN                  NaN   0.0    Sem Sintomas   \n",
       "1           3.919226            35.553899   0.0    Sem Sintomas   \n",
       "2           9.099088            63.551696   0.0    Sem Sintomas   \n",
       "3           5.878686            42.886826   0.0    Sem Sintomas   \n",
       "4           9.658507            47.074393   4.0    Sem Sintomas   \n",
       "5          10.000000            46.086131   6.0  Sintomas Leves   \n",
       "6           6.573559            37.388008   0.0    Sem Sintomas   \n",
       "7           4.677064            41.001689   0.0    Sem Sintomas   \n",
       "8           8.797673            71.671972   1.0    Sem Sintomas   \n",
       "9           0.000000            47.002405   3.0    Sem Sintomas   \n",
       "\n",
       "                 Etnia  \n",
       "0   Mexicano-americano  \n",
       "1                Outro  \n",
       "2   Mexicano-americano  \n",
       "3   Mexicano-americano  \n",
       "4  Negro não-hispanico  \n",
       "5   Mexicano-americano  \n",
       "6  Negro não-hispanico  \n",
       "7   Mexicano-americano  \n",
       "8   Mexicano-americano  \n",
       "9                Outro  \n",
       "\n",
       "[10 rows x 35 columns]"
      ]
     },
     "execution_count": 66,
     "metadata": {},
     "output_type": "execute_result"
    }
   ],
   "source": [
    "Df.head(10)"
   ]
  },
  {
   "cell_type": "code",
   "execution_count": 67,
   "id": "d99bbee8",
   "metadata": {},
   "outputs": [
    {
     "data": {
      "text/plain": [
       "Etnia\n",
       "Branco não-hispanico    1133\n",
       "Mexicano-americano      2516\n",
       "Negro não-hispanico      164\n",
       "Outro                   1300\n",
       "Outro-hispanico          221\n",
       "dtype: int64"
      ]
     },
     "execution_count": 67,
     "metadata": {},
     "output_type": "execute_result"
    }
   ],
   "source": [
    "# agrupa por categoria RIDAGEYR - Etnia\n",
    "GrupEtnia = Df.groupby(['Etnia']).size()\n",
    "GrupEtnia\n"
   ]
  },
  {
   "cell_type": "code",
   "execution_count": 70,
   "id": "2b4814fc",
   "metadata": {},
   "outputs": [
    {
     "name": "stdout",
     "output_type": "stream",
     "text": [
      "Mexicano-americano      0.471691\n",
      "Outro                   0.243720\n",
      "Branco não-hispanico    0.212411\n",
      "Outro-hispanico         0.041432\n",
      "Negro não-hispanico     0.030746\n",
      "Name: Etnia, dtype: float64\n"
     ]
    },
    {
     "data": {
      "image/png": "[encoded data removed]",
      "text/plain": [
       "<Figure size 432x288 with 1 Axes>"
      ]
     },
     "metadata": {
      "needs_background": "light"
     },
     "output_type": "display_data"
    }
   ],
   "source": [
    "# Gráfico de barras - cores\n",
    "GrupEtnia.plot.bar(color = ['blue','yellow','red','green'])\n",
    "# Calculo da frequencia relativa \n",
    "GrupEtnia = pd.Series(Df['Etnia']).value_counts()       \n",
    "print(GrupEtnia / len(Df['Etnia'])) "
   ]
  },
  {
   "cell_type": "code",
   "execution_count": 71,
   "id": "d4b43951",
   "metadata": {},
   "outputs": [
    {
     "data": {
      "text/plain": [
       "<AxesSubplot:ylabel='Etnia'>"
      ]
     },
     "execution_count": 71,
     "metadata": {},
     "output_type": "execute_result"
    },
    {
     "data": {
      "image/png": "[encoded data removed]",
      "text/plain": [
       "<Figure size 432x288 with 1 Axes>"
      ]
     },
     "metadata": {},
     "output_type": "display_data"
    }
   ],
   "source": [
    "# Gráfico de pizza com legenda\n",
    "GrupEtnia.plot.pie(legend = True)"
   ]
  },
  {
   "cell_type": "code",
   "execution_count": 75,
   "id": "425969b3",
   "metadata": {},
   "outputs": [
    {
     "data": {
      "text/plain": [
       "count     5334.000000\n",
       "mean       471.765732\n",
       "std        780.352823\n",
       "min          0.000000\n",
       "25%         35.000000\n",
       "50%        210.000000\n",
       "75%        568.931871\n",
       "max      10777.829099\n",
       "Name: PAG_MINW, dtype: float64"
      ]
     },
     "execution_count": 75,
     "metadata": {},
     "output_type": "execute_result"
    }
   ],
   "source": [
    "# mOSTRA OS DADOS ESTATISICAMENTE\n",
    "Df['PAG_MINW'].describe()\n"
   ]
  },
  {
   "cell_type": "code",
   "execution_count": 76,
   "id": "249ea55f",
   "metadata": {},
   "outputs": [
    {
     "data": {
      "text/plain": [
       "0"
      ]
     },
     "execution_count": 76,
     "metadata": {},
     "output_type": "execute_result"
    }
   ],
   "source": [
    "# Mostra a quantidade de NAN\n",
    "Df['PAG_MINW'].isnull().sum()"
   ]
  },
  {
   "cell_type": "code",
   "execution_count": 77,
   "id": "531040df",
   "metadata": {},
   "outputs": [
    {
     "data": {
      "text/plain": [
       "ADHERENCE\n",
       "1.0    2304\n",
       "2.0     834\n",
       "3.0    2196\n",
       "dtype: int64"
      ]
     },
     "execution_count": 77,
     "metadata": {},
     "output_type": "execute_result"
    }
   ],
   "source": [
    "# agrupa por categoria RIDAGEYR - Etnia\n",
    "GrupAtiv = Df.groupby(['ADHERENCE']).size()\n",
    "GrupAtiv"
   ]
  },
  {
   "cell_type": "code",
   "execution_count": 80,
   "id": "f2c17a69",
   "metadata": {},
   "outputs": [],
   "source": [
    "# Cria coluna com nome GRaderenci_Pag com atributos de acordo com as condições\n",
    "conditionlist = [\n",
    "    (Df['ADHERENCE'] == 1),\n",
    "    (Df['ADHERENCE'] == 2),\n",
    "    (Df['ADHERENCE'] == 3)]\n",
    "choicelist = ['Aderencia baixa', 'Aderencia adequada', 'Aderencia acima']\n",
    "Df['Graderenci_Pag'] = np.select(conditionlist, choicelist, default='Not Specified')"
   ]
  },
  {
   "cell_type": "code",
   "execution_count": 81,
   "id": "d25200b4",
   "metadata": {},
   "outputs": [
    {
     "data": {
      "text/plain": [
       "Graderenci_Pag\n",
       "Aderencia acima       2196\n",
       "Aderencia adequada     834\n",
       "Aderencia baixa       2304\n",
       "dtype: int64"
      ]
     },
     "execution_count": 81,
     "metadata": {},
     "output_type": "execute_result"
    }
   ],
   "source": [
    "# agrupa por categoria 'Graderenci_Pag' \n",
    "Grupader = Df.groupby(['Graderenci_Pag']).size()\n",
    "Grupader"
   ]
  },
  {
   "cell_type": "code",
   "execution_count": 82,
   "id": "3ab78dd2",
   "metadata": {},
   "outputs": [
    {
     "name": "stdout",
     "output_type": "stream",
     "text": [
      "Aderencia baixa       0.431946\n",
      "Aderencia acima       0.411699\n",
      "Aderencia adequada    0.156355\n",
      "Name: Graderenci_Pag, dtype: float64\n"
     ]
    },
    {
     "data": {
      "image/png": "[encoded data removed]",
      "text/plain": [
       "<Figure size 432x288 with 1 Axes>"
      ]
     },
     "metadata": {
      "needs_background": "light"
     },
     "output_type": "display_data"
    }
   ],
   "source": [
    "# Gráfico de barras - cores\n",
    "Grupader.plot.bar(color = ['blue','yellow','red','green'])\n",
    "# Calculo da frequencia relativa \n",
    "Grupader = pd.Series(Df['Graderenci_Pag']).value_counts()       \n",
    "print(Grupader / len(Df['Graderenci_Pag'])) "
   ]
  },
  {
   "cell_type": "code",
   "execution_count": 83,
   "id": "d283eaf2",
   "metadata": {},
   "outputs": [
    {
     "data": {
      "text/plain": [
       "<AxesSubplot:ylabel='Graderenci_Pag'>"
      ]
     },
     "execution_count": 83,
     "metadata": {},
     "output_type": "execute_result"
    },
    {
     "data": {
      "image/png": "[encoded data removed]",
      "text/plain": [
       "<Figure size 432x288 with 1 Axes>"
      ]
     },
     "metadata": {},
     "output_type": "display_data"
    }
   ],
   "source": [
    "# Gráfico de pizza com legenda\n",
    "Grupader.plot.pie(legend = True)"
   ]
  },
  {
   "cell_type": "code",
   "execution_count": 84,
   "id": "83520aca",
   "metadata": {},
   "outputs": [
    {
     "data": {
      "text/html": [
       "<div>\n",
       "<style scoped>\n",
       "    .dataframe tbody tr th:only-of-type {\n",
       "        vertical-align: middle;\n",
       "    }\n",
       "\n",
       "    .dataframe tbody tr th {\n",
       "        vertical-align: top;\n",
       "    }\n",
       "\n",
       "    .dataframe thead th {\n",
       "        text-align: right;\n",
       "    }\n",
       "</style>\n",
       "<table border=\"1\" class=\"dataframe\">\n",
       "  <thead>\n",
       "    <tr style=\"text-align: right;\">\n",
       "      <th></th>\n",
       "      <th>Unnamed: 0</th>\n",
       "      <th>SEQN</th>\n",
       "      <th>DPQ010</th>\n",
       "      <th>DPQ020</th>\n",
       "      <th>DPQ030</th>\n",
       "      <th>DPQ040</th>\n",
       "      <th>DPQ050</th>\n",
       "      <th>DPQ060</th>\n",
       "      <th>DPQ070</th>\n",
       "      <th>DPQ080</th>\n",
       "      <th>...</th>\n",
       "      <th>HEI2015C9_FATTYACID</th>\n",
       "      <th>HEI2015C10_SODIUM</th>\n",
       "      <th>HEI2015C11_REFINEDGRAIN</th>\n",
       "      <th>HEI2015C12_SFAT</th>\n",
       "      <th>HEI2015C13_ADDSUG</th>\n",
       "      <th>HEI2015_TOTAL_SCORE</th>\n",
       "      <th>phq9</th>\n",
       "      <th>phq_grp</th>\n",
       "      <th>Etnia</th>\n",
       "      <th>Graderenci_Pag</th>\n",
       "    </tr>\n",
       "  </thead>\n",
       "  <tbody>\n",
       "    <tr>\n",
       "      <th>0</th>\n",
       "      <td>0</td>\n",
       "      <td>31130</td>\n",
       "      <td>NaN</td>\n",
       "      <td>NaN</td>\n",
       "      <td>NaN</td>\n",
       "      <td>NaN</td>\n",
       "      <td>NaN</td>\n",
       "      <td>NaN</td>\n",
       "      <td>NaN</td>\n",
       "      <td>NaN</td>\n",
       "      <td>...</td>\n",
       "      <td>NaN</td>\n",
       "      <td>NaN</td>\n",
       "      <td>NaN</td>\n",
       "      <td>NaN</td>\n",
       "      <td>NaN</td>\n",
       "      <td>NaN</td>\n",
       "      <td>0.0</td>\n",
       "      <td>Sem Sintomas</td>\n",
       "      <td>Mexicano-americano</td>\n",
       "      <td>Aderencia baixa</td>\n",
       "    </tr>\n",
       "    <tr>\n",
       "      <th>1</th>\n",
       "      <td>1</td>\n",
       "      <td>31131</td>\n",
       "      <td>0.0</td>\n",
       "      <td>0.0</td>\n",
       "      <td>0.0</td>\n",
       "      <td>0.0</td>\n",
       "      <td>0.0</td>\n",
       "      <td>0.0</td>\n",
       "      <td>0.0</td>\n",
       "      <td>0.0</td>\n",
       "      <td>...</td>\n",
       "      <td>0.684985</td>\n",
       "      <td>2.297100</td>\n",
       "      <td>9.512964</td>\n",
       "      <td>0.438428</td>\n",
       "      <td>3.919226</td>\n",
       "      <td>35.553899</td>\n",
       "      <td>0.0</td>\n",
       "      <td>Sem Sintomas</td>\n",
       "      <td>Outro</td>\n",
       "      <td>Aderencia adequada</td>\n",
       "    </tr>\n",
       "    <tr>\n",
       "      <th>2</th>\n",
       "      <td>2</td>\n",
       "      <td>31132</td>\n",
       "      <td>0.0</td>\n",
       "      <td>0.0</td>\n",
       "      <td>0.0</td>\n",
       "      <td>0.0</td>\n",
       "      <td>0.0</td>\n",
       "      <td>0.0</td>\n",
       "      <td>0.0</td>\n",
       "      <td>0.0</td>\n",
       "      <td>...</td>\n",
       "      <td>2.050769</td>\n",
       "      <td>7.369489</td>\n",
       "      <td>8.887880</td>\n",
       "      <td>8.186877</td>\n",
       "      <td>9.099088</td>\n",
       "      <td>63.551696</td>\n",
       "      <td>0.0</td>\n",
       "      <td>Sem Sintomas</td>\n",
       "      <td>Mexicano-americano</td>\n",
       "      <td>Aderencia acima</td>\n",
       "    </tr>\n",
       "    <tr>\n",
       "      <th>3</th>\n",
       "      <td>3</td>\n",
       "      <td>31134</td>\n",
       "      <td>0.0</td>\n",
       "      <td>0.0</td>\n",
       "      <td>0.0</td>\n",
       "      <td>0.0</td>\n",
       "      <td>0.0</td>\n",
       "      <td>0.0</td>\n",
       "      <td>0.0</td>\n",
       "      <td>0.0</td>\n",
       "      <td>...</td>\n",
       "      <td>2.958985</td>\n",
       "      <td>0.000000</td>\n",
       "      <td>5.627488</td>\n",
       "      <td>5.863078</td>\n",
       "      <td>5.878686</td>\n",
       "      <td>42.886826</td>\n",
       "      <td>0.0</td>\n",
       "      <td>Sem Sintomas</td>\n",
       "      <td>Mexicano-americano</td>\n",
       "      <td>Aderencia acima</td>\n",
       "    </tr>\n",
       "    <tr>\n",
       "      <th>4</th>\n",
       "      <td>4</td>\n",
       "      <td>31139</td>\n",
       "      <td>0.0</td>\n",
       "      <td>0.0</td>\n",
       "      <td>0.0</td>\n",
       "      <td>0.0</td>\n",
       "      <td>3.0</td>\n",
       "      <td>1.0</td>\n",
       "      <td>0.0</td>\n",
       "      <td>0.0</td>\n",
       "      <td>...</td>\n",
       "      <td>10.000000</td>\n",
       "      <td>2.845774</td>\n",
       "      <td>0.000000</td>\n",
       "      <td>10.000000</td>\n",
       "      <td>9.658507</td>\n",
       "      <td>47.074393</td>\n",
       "      <td>4.0</td>\n",
       "      <td>Sem Sintomas</td>\n",
       "      <td>Negro não-hispanico</td>\n",
       "      <td>Aderencia acima</td>\n",
       "    </tr>\n",
       "    <tr>\n",
       "      <th>5</th>\n",
       "      <td>5</td>\n",
       "      <td>31143</td>\n",
       "      <td>0.0</td>\n",
       "      <td>1.0</td>\n",
       "      <td>1.0</td>\n",
       "      <td>1.0</td>\n",
       "      <td>1.0</td>\n",
       "      <td>1.0</td>\n",
       "      <td>1.0</td>\n",
       "      <td>0.0</td>\n",
       "      <td>...</td>\n",
       "      <td>0.002362</td>\n",
       "      <td>5.223435</td>\n",
       "      <td>7.787420</td>\n",
       "      <td>0.000000</td>\n",
       "      <td>10.000000</td>\n",
       "      <td>46.086131</td>\n",
       "      <td>6.0</td>\n",
       "      <td>Sintomas Leves</td>\n",
       "      <td>Mexicano-americano</td>\n",
       "      <td>Aderencia acima</td>\n",
       "    </tr>\n",
       "    <tr>\n",
       "      <th>6</th>\n",
       "      <td>6</td>\n",
       "      <td>31144</td>\n",
       "      <td>0.0</td>\n",
       "      <td>0.0</td>\n",
       "      <td>0.0</td>\n",
       "      <td>0.0</td>\n",
       "      <td>0.0</td>\n",
       "      <td>0.0</td>\n",
       "      <td>0.0</td>\n",
       "      <td>0.0</td>\n",
       "      <td>...</td>\n",
       "      <td>6.209888</td>\n",
       "      <td>6.747360</td>\n",
       "      <td>0.000000</td>\n",
       "      <td>7.473184</td>\n",
       "      <td>6.573559</td>\n",
       "      <td>37.388008</td>\n",
       "      <td>0.0</td>\n",
       "      <td>Sem Sintomas</td>\n",
       "      <td>Negro não-hispanico</td>\n",
       "      <td>Aderencia acima</td>\n",
       "    </tr>\n",
       "    <tr>\n",
       "      <th>7</th>\n",
       "      <td>7</td>\n",
       "      <td>31149</td>\n",
       "      <td>0.0</td>\n",
       "      <td>0.0</td>\n",
       "      <td>0.0</td>\n",
       "      <td>0.0</td>\n",
       "      <td>0.0</td>\n",
       "      <td>0.0</td>\n",
       "      <td>0.0</td>\n",
       "      <td>0.0</td>\n",
       "      <td>...</td>\n",
       "      <td>4.780404</td>\n",
       "      <td>0.000000</td>\n",
       "      <td>5.138144</td>\n",
       "      <td>5.601160</td>\n",
       "      <td>4.677064</td>\n",
       "      <td>41.001689</td>\n",
       "      <td>0.0</td>\n",
       "      <td>Sem Sintomas</td>\n",
       "      <td>Mexicano-americano</td>\n",
       "      <td>Aderencia baixa</td>\n",
       "    </tr>\n",
       "    <tr>\n",
       "      <th>8</th>\n",
       "      <td>8</td>\n",
       "      <td>31150</td>\n",
       "      <td>1.0</td>\n",
       "      <td>0.0</td>\n",
       "      <td>0.0</td>\n",
       "      <td>0.0</td>\n",
       "      <td>0.0</td>\n",
       "      <td>0.0</td>\n",
       "      <td>0.0</td>\n",
       "      <td>0.0</td>\n",
       "      <td>...</td>\n",
       "      <td>7.660037</td>\n",
       "      <td>9.368343</td>\n",
       "      <td>9.253592</td>\n",
       "      <td>10.000000</td>\n",
       "      <td>8.797673</td>\n",
       "      <td>71.671972</td>\n",
       "      <td>1.0</td>\n",
       "      <td>Sem Sintomas</td>\n",
       "      <td>Mexicano-americano</td>\n",
       "      <td>Aderencia acima</td>\n",
       "    </tr>\n",
       "    <tr>\n",
       "      <th>9</th>\n",
       "      <td>9</td>\n",
       "      <td>31151</td>\n",
       "      <td>0.0</td>\n",
       "      <td>0.0</td>\n",
       "      <td>1.0</td>\n",
       "      <td>1.0</td>\n",
       "      <td>0.0</td>\n",
       "      <td>0.0</td>\n",
       "      <td>1.0</td>\n",
       "      <td>0.0</td>\n",
       "      <td>...</td>\n",
       "      <td>2.805860</td>\n",
       "      <td>9.298090</td>\n",
       "      <td>10.000000</td>\n",
       "      <td>6.738039</td>\n",
       "      <td>0.000000</td>\n",
       "      <td>47.002405</td>\n",
       "      <td>3.0</td>\n",
       "      <td>Sem Sintomas</td>\n",
       "      <td>Outro</td>\n",
       "      <td>Aderencia baixa</td>\n",
       "    </tr>\n",
       "    <tr>\n",
       "      <th>10</th>\n",
       "      <td>10</td>\n",
       "      <td>31152</td>\n",
       "      <td>0.0</td>\n",
       "      <td>0.0</td>\n",
       "      <td>0.0</td>\n",
       "      <td>1.0</td>\n",
       "      <td>1.0</td>\n",
       "      <td>0.0</td>\n",
       "      <td>0.0</td>\n",
       "      <td>1.0</td>\n",
       "      <td>...</td>\n",
       "      <td>3.042452</td>\n",
       "      <td>1.362072</td>\n",
       "      <td>6.405209</td>\n",
       "      <td>1.726454</td>\n",
       "      <td>9.879221</td>\n",
       "      <td>44.295927</td>\n",
       "      <td>3.0</td>\n",
       "      <td>Sem Sintomas</td>\n",
       "      <td>Branco não-hispanico</td>\n",
       "      <td>Aderencia acima</td>\n",
       "    </tr>\n",
       "    <tr>\n",
       "      <th>11</th>\n",
       "      <td>11</td>\n",
       "      <td>31153</td>\n",
       "      <td>1.0</td>\n",
       "      <td>1.0</td>\n",
       "      <td>0.0</td>\n",
       "      <td>1.0</td>\n",
       "      <td>1.0</td>\n",
       "      <td>1.0</td>\n",
       "      <td>0.0</td>\n",
       "      <td>1.0</td>\n",
       "      <td>...</td>\n",
       "      <td>10.000000</td>\n",
       "      <td>10.000000</td>\n",
       "      <td>10.000000</td>\n",
       "      <td>9.507001</td>\n",
       "      <td>8.036070</td>\n",
       "      <td>81.516748</td>\n",
       "      <td>6.0</td>\n",
       "      <td>Sintomas Leves</td>\n",
       "      <td>Outro-hispanico</td>\n",
       "      <td>Aderencia acima</td>\n",
       "    </tr>\n",
       "    <tr>\n",
       "      <th>12</th>\n",
       "      <td>12</td>\n",
       "      <td>31154</td>\n",
       "      <td>0.0</td>\n",
       "      <td>0.0</td>\n",
       "      <td>0.0</td>\n",
       "      <td>0.0</td>\n",
       "      <td>0.0</td>\n",
       "      <td>0.0</td>\n",
       "      <td>0.0</td>\n",
       "      <td>0.0</td>\n",
       "      <td>...</td>\n",
       "      <td>6.605029</td>\n",
       "      <td>0.000000</td>\n",
       "      <td>8.662970</td>\n",
       "      <td>5.633984</td>\n",
       "      <td>4.825864</td>\n",
       "      <td>51.026072</td>\n",
       "      <td>0.0</td>\n",
       "      <td>Sem Sintomas</td>\n",
       "      <td>Outro</td>\n",
       "      <td>Aderencia baixa</td>\n",
       "    </tr>\n",
       "    <tr>\n",
       "      <th>13</th>\n",
       "      <td>13</td>\n",
       "      <td>31155</td>\n",
       "      <td>0.0</td>\n",
       "      <td>0.0</td>\n",
       "      <td>0.0</td>\n",
       "      <td>1.0</td>\n",
       "      <td>0.0</td>\n",
       "      <td>0.0</td>\n",
       "      <td>0.0</td>\n",
       "      <td>0.0</td>\n",
       "      <td>...</td>\n",
       "      <td>5.199571</td>\n",
       "      <td>0.944569</td>\n",
       "      <td>0.000000</td>\n",
       "      <td>8.782718</td>\n",
       "      <td>10.000000</td>\n",
       "      <td>53.316119</td>\n",
       "      <td>1.0</td>\n",
       "      <td>Sem Sintomas</td>\n",
       "      <td>Outro-hispanico</td>\n",
       "      <td>Aderencia acima</td>\n",
       "    </tr>\n",
       "    <tr>\n",
       "      <th>14</th>\n",
       "      <td>14</td>\n",
       "      <td>31156</td>\n",
       "      <td>NaN</td>\n",
       "      <td>NaN</td>\n",
       "      <td>NaN</td>\n",
       "      <td>NaN</td>\n",
       "      <td>NaN</td>\n",
       "      <td>NaN</td>\n",
       "      <td>NaN</td>\n",
       "      <td>NaN</td>\n",
       "      <td>...</td>\n",
       "      <td>10.000000</td>\n",
       "      <td>3.372807</td>\n",
       "      <td>7.885895</td>\n",
       "      <td>10.000000</td>\n",
       "      <td>3.237822</td>\n",
       "      <td>59.415736</td>\n",
       "      <td>0.0</td>\n",
       "      <td>Sem Sintomas</td>\n",
       "      <td>Outro</td>\n",
       "      <td>Aderencia acima</td>\n",
       "    </tr>\n",
       "    <tr>\n",
       "      <th>15</th>\n",
       "      <td>15</td>\n",
       "      <td>31158</td>\n",
       "      <td>0.0</td>\n",
       "      <td>0.0</td>\n",
       "      <td>1.0</td>\n",
       "      <td>1.0</td>\n",
       "      <td>0.0</td>\n",
       "      <td>0.0</td>\n",
       "      <td>0.0</td>\n",
       "      <td>0.0</td>\n",
       "      <td>...</td>\n",
       "      <td>0.000000</td>\n",
       "      <td>6.987853</td>\n",
       "      <td>7.700887</td>\n",
       "      <td>0.000000</td>\n",
       "      <td>7.235760</td>\n",
       "      <td>45.584246</td>\n",
       "      <td>2.0</td>\n",
       "      <td>Sem Sintomas</td>\n",
       "      <td>Mexicano-americano</td>\n",
       "      <td>Aderencia acima</td>\n",
       "    </tr>\n",
       "    <tr>\n",
       "      <th>16</th>\n",
       "      <td>16</td>\n",
       "      <td>31160</td>\n",
       "      <td>0.0</td>\n",
       "      <td>0.0</td>\n",
       "      <td>0.0</td>\n",
       "      <td>0.0</td>\n",
       "      <td>0.0</td>\n",
       "      <td>0.0</td>\n",
       "      <td>0.0</td>\n",
       "      <td>0.0</td>\n",
       "      <td>...</td>\n",
       "      <td>4.679884</td>\n",
       "      <td>4.826346</td>\n",
       "      <td>7.346949</td>\n",
       "      <td>6.245579</td>\n",
       "      <td>6.846888</td>\n",
       "      <td>67.587048</td>\n",
       "      <td>0.0</td>\n",
       "      <td>Sem Sintomas</td>\n",
       "      <td>Mexicano-americano</td>\n",
       "      <td>Aderencia acima</td>\n",
       "    </tr>\n",
       "    <tr>\n",
       "      <th>17</th>\n",
       "      <td>17</td>\n",
       "      <td>31162</td>\n",
       "      <td>1.0</td>\n",
       "      <td>1.0</td>\n",
       "      <td>0.0</td>\n",
       "      <td>2.0</td>\n",
       "      <td>0.0</td>\n",
       "      <td>0.0</td>\n",
       "      <td>0.0</td>\n",
       "      <td>0.0</td>\n",
       "      <td>...</td>\n",
       "      <td>4.378558</td>\n",
       "      <td>1.894475</td>\n",
       "      <td>10.000000</td>\n",
       "      <td>1.340059</td>\n",
       "      <td>10.000000</td>\n",
       "      <td>55.319027</td>\n",
       "      <td>4.0</td>\n",
       "      <td>Sem Sintomas</td>\n",
       "      <td>Mexicano-americano</td>\n",
       "      <td>Aderencia adequada</td>\n",
       "    </tr>\n",
       "    <tr>\n",
       "      <th>18</th>\n",
       "      <td>18</td>\n",
       "      <td>31164</td>\n",
       "      <td>0.0</td>\n",
       "      <td>0.0</td>\n",
       "      <td>0.0</td>\n",
       "      <td>0.0</td>\n",
       "      <td>0.0</td>\n",
       "      <td>0.0</td>\n",
       "      <td>0.0</td>\n",
       "      <td>0.0</td>\n",
       "      <td>...</td>\n",
       "      <td>5.510077</td>\n",
       "      <td>8.128015</td>\n",
       "      <td>9.457209</td>\n",
       "      <td>0.660590</td>\n",
       "      <td>3.165991</td>\n",
       "      <td>43.339478</td>\n",
       "      <td>0.0</td>\n",
       "      <td>Sem Sintomas</td>\n",
       "      <td>Mexicano-americano</td>\n",
       "      <td>Aderencia adequada</td>\n",
       "    </tr>\n",
       "    <tr>\n",
       "      <th>19</th>\n",
       "      <td>19</td>\n",
       "      <td>31167</td>\n",
       "      <td>1.0</td>\n",
       "      <td>1.0</td>\n",
       "      <td>0.0</td>\n",
       "      <td>1.0</td>\n",
       "      <td>0.0</td>\n",
       "      <td>0.0</td>\n",
       "      <td>0.0</td>\n",
       "      <td>0.0</td>\n",
       "      <td>...</td>\n",
       "      <td>1.905983</td>\n",
       "      <td>3.121234</td>\n",
       "      <td>10.000000</td>\n",
       "      <td>3.500407</td>\n",
       "      <td>10.000000</td>\n",
       "      <td>62.883794</td>\n",
       "      <td>3.0</td>\n",
       "      <td>Sem Sintomas</td>\n",
       "      <td>Mexicano-americano</td>\n",
       "      <td>Aderencia acima</td>\n",
       "    </tr>\n",
       "    <tr>\n",
       "      <th>20</th>\n",
       "      <td>20</td>\n",
       "      <td>31172</td>\n",
       "      <td>NaN</td>\n",
       "      <td>NaN</td>\n",
       "      <td>NaN</td>\n",
       "      <td>NaN</td>\n",
       "      <td>NaN</td>\n",
       "      <td>NaN</td>\n",
       "      <td>NaN</td>\n",
       "      <td>NaN</td>\n",
       "      <td>...</td>\n",
       "      <td>0.072882</td>\n",
       "      <td>8.319650</td>\n",
       "      <td>3.702463</td>\n",
       "      <td>4.884148</td>\n",
       "      <td>3.167867</td>\n",
       "      <td>42.556325</td>\n",
       "      <td>0.0</td>\n",
       "      <td>Sem Sintomas</td>\n",
       "      <td>Mexicano-americano</td>\n",
       "      <td>Aderencia acima</td>\n",
       "    </tr>\n",
       "    <tr>\n",
       "      <th>21</th>\n",
       "      <td>21</td>\n",
       "      <td>31175</td>\n",
       "      <td>NaN</td>\n",
       "      <td>NaN</td>\n",
       "      <td>NaN</td>\n",
       "      <td>NaN</td>\n",
       "      <td>NaN</td>\n",
       "      <td>NaN</td>\n",
       "      <td>NaN</td>\n",
       "      <td>NaN</td>\n",
       "      <td>...</td>\n",
       "      <td>0.803733</td>\n",
       "      <td>0.000000</td>\n",
       "      <td>7.417077</td>\n",
       "      <td>9.183068</td>\n",
       "      <td>10.000000</td>\n",
       "      <td>53.294448</td>\n",
       "      <td>0.0</td>\n",
       "      <td>Sem Sintomas</td>\n",
       "      <td>Outro</td>\n",
       "      <td>Aderencia baixa</td>\n",
       "    </tr>\n",
       "    <tr>\n",
       "      <th>22</th>\n",
       "      <td>22</td>\n",
       "      <td>31177</td>\n",
       "      <td>0.0</td>\n",
       "      <td>1.0</td>\n",
       "      <td>1.0</td>\n",
       "      <td>0.0</td>\n",
       "      <td>0.0</td>\n",
       "      <td>0.0</td>\n",
       "      <td>0.0</td>\n",
       "      <td>0.0</td>\n",
       "      <td>...</td>\n",
       "      <td>6.618921</td>\n",
       "      <td>5.951291</td>\n",
       "      <td>0.000000</td>\n",
       "      <td>6.261731</td>\n",
       "      <td>5.619021</td>\n",
       "      <td>39.832906</td>\n",
       "      <td>2.0</td>\n",
       "      <td>Sem Sintomas</td>\n",
       "      <td>Outro</td>\n",
       "      <td>Aderencia baixa</td>\n",
       "    </tr>\n",
       "    <tr>\n",
       "      <th>23</th>\n",
       "      <td>23</td>\n",
       "      <td>31179</td>\n",
       "      <td>0.0</td>\n",
       "      <td>1.0</td>\n",
       "      <td>1.0</td>\n",
       "      <td>1.0</td>\n",
       "      <td>2.0</td>\n",
       "      <td>0.0</td>\n",
       "      <td>3.0</td>\n",
       "      <td>0.0</td>\n",
       "      <td>...</td>\n",
       "      <td>2.248339</td>\n",
       "      <td>9.350858</td>\n",
       "      <td>7.948108</td>\n",
       "      <td>4.434365</td>\n",
       "      <td>5.187422</td>\n",
       "      <td>48.933870</td>\n",
       "      <td>8.0</td>\n",
       "      <td>Sintomas Leves</td>\n",
       "      <td>Mexicano-americano</td>\n",
       "      <td>Aderencia baixa</td>\n",
       "    </tr>\n",
       "    <tr>\n",
       "      <th>24</th>\n",
       "      <td>24</td>\n",
       "      <td>31183</td>\n",
       "      <td>1.0</td>\n",
       "      <td>1.0</td>\n",
       "      <td>1.0</td>\n",
       "      <td>0.0</td>\n",
       "      <td>0.0</td>\n",
       "      <td>0.0</td>\n",
       "      <td>0.0</td>\n",
       "      <td>0.0</td>\n",
       "      <td>...</td>\n",
       "      <td>3.426542</td>\n",
       "      <td>6.113288</td>\n",
       "      <td>6.925759</td>\n",
       "      <td>6.077161</td>\n",
       "      <td>6.315578</td>\n",
       "      <td>56.275131</td>\n",
       "      <td>3.0</td>\n",
       "      <td>Sem Sintomas</td>\n",
       "      <td>Mexicano-americano</td>\n",
       "      <td>Aderencia adequada</td>\n",
       "    </tr>\n",
       "    <tr>\n",
       "      <th>25</th>\n",
       "      <td>25</td>\n",
       "      <td>31186</td>\n",
       "      <td>0.0</td>\n",
       "      <td>0.0</td>\n",
       "      <td>0.0</td>\n",
       "      <td>1.0</td>\n",
       "      <td>3.0</td>\n",
       "      <td>0.0</td>\n",
       "      <td>0.0</td>\n",
       "      <td>0.0</td>\n",
       "      <td>...</td>\n",
       "      <td>4.370970</td>\n",
       "      <td>6.803407</td>\n",
       "      <td>10.000000</td>\n",
       "      <td>4.099547</td>\n",
       "      <td>5.919096</td>\n",
       "      <td>52.331242</td>\n",
       "      <td>4.0</td>\n",
       "      <td>Sem Sintomas</td>\n",
       "      <td>Branco não-hispanico</td>\n",
       "      <td>Aderencia baixa</td>\n",
       "    </tr>\n",
       "    <tr>\n",
       "      <th>26</th>\n",
       "      <td>26</td>\n",
       "      <td>31187</td>\n",
       "      <td>0.0</td>\n",
       "      <td>0.0</td>\n",
       "      <td>0.0</td>\n",
       "      <td>1.0</td>\n",
       "      <td>0.0</td>\n",
       "      <td>0.0</td>\n",
       "      <td>0.0</td>\n",
       "      <td>0.0</td>\n",
       "      <td>...</td>\n",
       "      <td>0.595796</td>\n",
       "      <td>5.026905</td>\n",
       "      <td>4.345285</td>\n",
       "      <td>1.499628</td>\n",
       "      <td>7.688386</td>\n",
       "      <td>41.165587</td>\n",
       "      <td>1.0</td>\n",
       "      <td>Sem Sintomas</td>\n",
       "      <td>Mexicano-americano</td>\n",
       "      <td>Aderencia adequada</td>\n",
       "    </tr>\n",
       "    <tr>\n",
       "      <th>27</th>\n",
       "      <td>27</td>\n",
       "      <td>31190</td>\n",
       "      <td>0.0</td>\n",
       "      <td>0.0</td>\n",
       "      <td>0.0</td>\n",
       "      <td>0.0</td>\n",
       "      <td>0.0</td>\n",
       "      <td>0.0</td>\n",
       "      <td>0.0</td>\n",
       "      <td>0.0</td>\n",
       "      <td>...</td>\n",
       "      <td>10.000000</td>\n",
       "      <td>8.055125</td>\n",
       "      <td>5.404651</td>\n",
       "      <td>10.000000</td>\n",
       "      <td>8.886027</td>\n",
       "      <td>64.476881</td>\n",
       "      <td>0.0</td>\n",
       "      <td>Sem Sintomas</td>\n",
       "      <td>Mexicano-americano</td>\n",
       "      <td>Aderencia acima</td>\n",
       "    </tr>\n",
       "    <tr>\n",
       "      <th>28</th>\n",
       "      <td>28</td>\n",
       "      <td>31191</td>\n",
       "      <td>1.0</td>\n",
       "      <td>1.0</td>\n",
       "      <td>3.0</td>\n",
       "      <td>3.0</td>\n",
       "      <td>3.0</td>\n",
       "      <td>0.0</td>\n",
       "      <td>1.0</td>\n",
       "      <td>0.0</td>\n",
       "      <td>...</td>\n",
       "      <td>NaN</td>\n",
       "      <td>NaN</td>\n",
       "      <td>NaN</td>\n",
       "      <td>NaN</td>\n",
       "      <td>NaN</td>\n",
       "      <td>NaN</td>\n",
       "      <td>12.0</td>\n",
       "      <td>Sintomas Moderados</td>\n",
       "      <td>Branco não-hispanico</td>\n",
       "      <td>Aderencia baixa</td>\n",
       "    </tr>\n",
       "    <tr>\n",
       "      <th>29</th>\n",
       "      <td>29</td>\n",
       "      <td>31192</td>\n",
       "      <td>0.0</td>\n",
       "      <td>0.0</td>\n",
       "      <td>0.0</td>\n",
       "      <td>1.0</td>\n",
       "      <td>1.0</td>\n",
       "      <td>0.0</td>\n",
       "      <td>0.0</td>\n",
       "      <td>0.0</td>\n",
       "      <td>...</td>\n",
       "      <td>5.253997</td>\n",
       "      <td>6.553945</td>\n",
       "      <td>9.344928</td>\n",
       "      <td>7.483967</td>\n",
       "      <td>10.000000</td>\n",
       "      <td>62.721159</td>\n",
       "      <td>2.0</td>\n",
       "      <td>Sem Sintomas</td>\n",
       "      <td>Mexicano-americano</td>\n",
       "      <td>Aderencia acima</td>\n",
       "    </tr>\n",
       "    <tr>\n",
       "      <th>30</th>\n",
       "      <td>30</td>\n",
       "      <td>31193</td>\n",
       "      <td>0.0</td>\n",
       "      <td>0.0</td>\n",
       "      <td>0.0</td>\n",
       "      <td>1.0</td>\n",
       "      <td>0.0</td>\n",
       "      <td>0.0</td>\n",
       "      <td>0.0</td>\n",
       "      <td>0.0</td>\n",
       "      <td>...</td>\n",
       "      <td>8.595203</td>\n",
       "      <td>10.000000</td>\n",
       "      <td>9.773643</td>\n",
       "      <td>10.000000</td>\n",
       "      <td>0.000000</td>\n",
       "      <td>53.481150</td>\n",
       "      <td>1.0</td>\n",
       "      <td>Sem Sintomas</td>\n",
       "      <td>Mexicano-americano</td>\n",
       "      <td>Aderencia baixa</td>\n",
       "    </tr>\n",
       "    <tr>\n",
       "      <th>31</th>\n",
       "      <td>31</td>\n",
       "      <td>31194</td>\n",
       "      <td>0.0</td>\n",
       "      <td>0.0</td>\n",
       "      <td>0.0</td>\n",
       "      <td>0.0</td>\n",
       "      <td>0.0</td>\n",
       "      <td>0.0</td>\n",
       "      <td>0.0</td>\n",
       "      <td>0.0</td>\n",
       "      <td>...</td>\n",
       "      <td>4.756335</td>\n",
       "      <td>5.239153</td>\n",
       "      <td>0.000000</td>\n",
       "      <td>10.000000</td>\n",
       "      <td>8.147156</td>\n",
       "      <td>60.669329</td>\n",
       "      <td>0.0</td>\n",
       "      <td>Sem Sintomas</td>\n",
       "      <td>Branco não-hispanico</td>\n",
       "      <td>Aderencia baixa</td>\n",
       "    </tr>\n",
       "    <tr>\n",
       "      <th>32</th>\n",
       "      <td>32</td>\n",
       "      <td>31195</td>\n",
       "      <td>0.0</td>\n",
       "      <td>0.0</td>\n",
       "      <td>0.0</td>\n",
       "      <td>0.0</td>\n",
       "      <td>0.0</td>\n",
       "      <td>0.0</td>\n",
       "      <td>0.0</td>\n",
       "      <td>0.0</td>\n",
       "      <td>...</td>\n",
       "      <td>1.524209</td>\n",
       "      <td>0.000000</td>\n",
       "      <td>5.788166</td>\n",
       "      <td>0.269991</td>\n",
       "      <td>10.000000</td>\n",
       "      <td>40.581290</td>\n",
       "      <td>0.0</td>\n",
       "      <td>Sem Sintomas</td>\n",
       "      <td>Mexicano-americano</td>\n",
       "      <td>Aderencia acima</td>\n",
       "    </tr>\n",
       "    <tr>\n",
       "      <th>33</th>\n",
       "      <td>33</td>\n",
       "      <td>31199</td>\n",
       "      <td>0.0</td>\n",
       "      <td>0.0</td>\n",
       "      <td>0.0</td>\n",
       "      <td>0.0</td>\n",
       "      <td>0.0</td>\n",
       "      <td>0.0</td>\n",
       "      <td>0.0</td>\n",
       "      <td>0.0</td>\n",
       "      <td>...</td>\n",
       "      <td>10.000000</td>\n",
       "      <td>1.783437</td>\n",
       "      <td>7.228694</td>\n",
       "      <td>10.000000</td>\n",
       "      <td>9.897362</td>\n",
       "      <td>72.139959</td>\n",
       "      <td>0.0</td>\n",
       "      <td>Sem Sintomas</td>\n",
       "      <td>Mexicano-americano</td>\n",
       "      <td>Aderencia acima</td>\n",
       "    </tr>\n",
       "    <tr>\n",
       "      <th>34</th>\n",
       "      <td>34</td>\n",
       "      <td>31203</td>\n",
       "      <td>0.0</td>\n",
       "      <td>0.0</td>\n",
       "      <td>1.0</td>\n",
       "      <td>1.0</td>\n",
       "      <td>1.0</td>\n",
       "      <td>0.0</td>\n",
       "      <td>0.0</td>\n",
       "      <td>0.0</td>\n",
       "      <td>...</td>\n",
       "      <td>2.527594</td>\n",
       "      <td>10.000000</td>\n",
       "      <td>9.506693</td>\n",
       "      <td>8.318470</td>\n",
       "      <td>10.000000</td>\n",
       "      <td>69.402891</td>\n",
       "      <td>3.0</td>\n",
       "      <td>Sem Sintomas</td>\n",
       "      <td>Branco não-hispanico</td>\n",
       "      <td>Aderencia adequada</td>\n",
       "    </tr>\n",
       "    <tr>\n",
       "      <th>35</th>\n",
       "      <td>35</td>\n",
       "      <td>31205</td>\n",
       "      <td>1.0</td>\n",
       "      <td>1.0</td>\n",
       "      <td>1.0</td>\n",
       "      <td>1.0</td>\n",
       "      <td>0.0</td>\n",
       "      <td>1.0</td>\n",
       "      <td>0.0</td>\n",
       "      <td>0.0</td>\n",
       "      <td>...</td>\n",
       "      <td>3.773946</td>\n",
       "      <td>1.851032</td>\n",
       "      <td>3.713274</td>\n",
       "      <td>3.234762</td>\n",
       "      <td>7.624234</td>\n",
       "      <td>47.982178</td>\n",
       "      <td>5.0</td>\n",
       "      <td>Sintomas Leves</td>\n",
       "      <td>Branco não-hispanico</td>\n",
       "      <td>Aderencia acima</td>\n",
       "    </tr>\n",
       "    <tr>\n",
       "      <th>36</th>\n",
       "      <td>36</td>\n",
       "      <td>31207</td>\n",
       "      <td>0.0</td>\n",
       "      <td>0.0</td>\n",
       "      <td>1.0</td>\n",
       "      <td>1.0</td>\n",
       "      <td>0.0</td>\n",
       "      <td>0.0</td>\n",
       "      <td>0.0</td>\n",
       "      <td>1.0</td>\n",
       "      <td>...</td>\n",
       "      <td>4.213620</td>\n",
       "      <td>4.000648</td>\n",
       "      <td>0.000000</td>\n",
       "      <td>9.027150</td>\n",
       "      <td>1.659565</td>\n",
       "      <td>31.535271</td>\n",
       "      <td>3.0</td>\n",
       "      <td>Sem Sintomas</td>\n",
       "      <td>Outro</td>\n",
       "      <td>Aderencia acima</td>\n",
       "    </tr>\n",
       "    <tr>\n",
       "      <th>37</th>\n",
       "      <td>37</td>\n",
       "      <td>31208</td>\n",
       "      <td>0.0</td>\n",
       "      <td>0.0</td>\n",
       "      <td>1.0</td>\n",
       "      <td>1.0</td>\n",
       "      <td>1.0</td>\n",
       "      <td>1.0</td>\n",
       "      <td>0.0</td>\n",
       "      <td>0.0</td>\n",
       "      <td>...</td>\n",
       "      <td>3.701978</td>\n",
       "      <td>3.642335</td>\n",
       "      <td>10.000000</td>\n",
       "      <td>2.366771</td>\n",
       "      <td>10.000000</td>\n",
       "      <td>62.422119</td>\n",
       "      <td>4.0</td>\n",
       "      <td>Sem Sintomas</td>\n",
       "      <td>Mexicano-americano</td>\n",
       "      <td>Aderencia acima</td>\n",
       "    </tr>\n",
       "    <tr>\n",
       "      <th>38</th>\n",
       "      <td>38</td>\n",
       "      <td>31210</td>\n",
       "      <td>1.0</td>\n",
       "      <td>2.0</td>\n",
       "      <td>0.0</td>\n",
       "      <td>1.0</td>\n",
       "      <td>1.0</td>\n",
       "      <td>1.0</td>\n",
       "      <td>1.0</td>\n",
       "      <td>0.0</td>\n",
       "      <td>...</td>\n",
       "      <td>0.955633</td>\n",
       "      <td>9.942587</td>\n",
       "      <td>6.148328</td>\n",
       "      <td>4.445251</td>\n",
       "      <td>0.000000</td>\n",
       "      <td>29.727499</td>\n",
       "      <td>7.0</td>\n",
       "      <td>Sintomas Leves</td>\n",
       "      <td>Mexicano-americano</td>\n",
       "      <td>Aderencia acima</td>\n",
       "    </tr>\n",
       "    <tr>\n",
       "      <th>39</th>\n",
       "      <td>39</td>\n",
       "      <td>31212</td>\n",
       "      <td>1.0</td>\n",
       "      <td>2.0</td>\n",
       "      <td>1.0</td>\n",
       "      <td>1.0</td>\n",
       "      <td>1.0</td>\n",
       "      <td>1.0</td>\n",
       "      <td>0.0</td>\n",
       "      <td>0.0</td>\n",
       "      <td>...</td>\n",
       "      <td>4.783599</td>\n",
       "      <td>6.557919</td>\n",
       "      <td>3.973382</td>\n",
       "      <td>4.125229</td>\n",
       "      <td>1.225469</td>\n",
       "      <td>34.004518</td>\n",
       "      <td>7.0</td>\n",
       "      <td>Sintomas Leves</td>\n",
       "      <td>Outro</td>\n",
       "      <td>Aderencia baixa</td>\n",
       "    </tr>\n",
       "    <tr>\n",
       "      <th>40</th>\n",
       "      <td>40</td>\n",
       "      <td>31213</td>\n",
       "      <td>0.0</td>\n",
       "      <td>0.0</td>\n",
       "      <td>0.0</td>\n",
       "      <td>0.0</td>\n",
       "      <td>1.0</td>\n",
       "      <td>0.0</td>\n",
       "      <td>0.0</td>\n",
       "      <td>0.0</td>\n",
       "      <td>...</td>\n",
       "      <td>4.268659</td>\n",
       "      <td>6.306206</td>\n",
       "      <td>2.243478</td>\n",
       "      <td>6.460493</td>\n",
       "      <td>6.327416</td>\n",
       "      <td>49.775377</td>\n",
       "      <td>1.0</td>\n",
       "      <td>Sem Sintomas</td>\n",
       "      <td>Outro</td>\n",
       "      <td>Aderencia baixa</td>\n",
       "    </tr>\n",
       "    <tr>\n",
       "      <th>41</th>\n",
       "      <td>41</td>\n",
       "      <td>31214</td>\n",
       "      <td>2.0</td>\n",
       "      <td>3.0</td>\n",
       "      <td>1.0</td>\n",
       "      <td>2.0</td>\n",
       "      <td>2.0</td>\n",
       "      <td>2.0</td>\n",
       "      <td>2.0</td>\n",
       "      <td>0.0</td>\n",
       "      <td>...</td>\n",
       "      <td>2.329273</td>\n",
       "      <td>8.009607</td>\n",
       "      <td>7.926817</td>\n",
       "      <td>2.789474</td>\n",
       "      <td>1.382945</td>\n",
       "      <td>34.932765</td>\n",
       "      <td>14.0</td>\n",
       "      <td>Sintomas Moderados</td>\n",
       "      <td>Mexicano-americano</td>\n",
       "      <td>Aderencia baixa</td>\n",
       "    </tr>\n",
       "    <tr>\n",
       "      <th>42</th>\n",
       "      <td>42</td>\n",
       "      <td>31220</td>\n",
       "      <td>0.0</td>\n",
       "      <td>0.0</td>\n",
       "      <td>0.0</td>\n",
       "      <td>0.0</td>\n",
       "      <td>0.0</td>\n",
       "      <td>0.0</td>\n",
       "      <td>0.0</td>\n",
       "      <td>0.0</td>\n",
       "      <td>...</td>\n",
       "      <td>10.000000</td>\n",
       "      <td>0.000000</td>\n",
       "      <td>8.446619</td>\n",
       "      <td>10.000000</td>\n",
       "      <td>2.067674</td>\n",
       "      <td>59.595199</td>\n",
       "      <td>0.0</td>\n",
       "      <td>Sem Sintomas</td>\n",
       "      <td>Mexicano-americano</td>\n",
       "      <td>Aderencia adequada</td>\n",
       "    </tr>\n",
       "    <tr>\n",
       "      <th>43</th>\n",
       "      <td>43</td>\n",
       "      <td>31221</td>\n",
       "      <td>0.0</td>\n",
       "      <td>0.0</td>\n",
       "      <td>0.0</td>\n",
       "      <td>0.0</td>\n",
       "      <td>0.0</td>\n",
       "      <td>0.0</td>\n",
       "      <td>0.0</td>\n",
       "      <td>0.0</td>\n",
       "      <td>...</td>\n",
       "      <td>4.252854</td>\n",
       "      <td>0.000000</td>\n",
       "      <td>10.000000</td>\n",
       "      <td>9.374897</td>\n",
       "      <td>7.322757</td>\n",
       "      <td>70.950508</td>\n",
       "      <td>0.0</td>\n",
       "      <td>Sem Sintomas</td>\n",
       "      <td>Mexicano-americano</td>\n",
       "      <td>Aderencia acima</td>\n",
       "    </tr>\n",
       "    <tr>\n",
       "      <th>44</th>\n",
       "      <td>44</td>\n",
       "      <td>31223</td>\n",
       "      <td>0.0</td>\n",
       "      <td>0.0</td>\n",
       "      <td>0.0</td>\n",
       "      <td>1.0</td>\n",
       "      <td>0.0</td>\n",
       "      <td>0.0</td>\n",
       "      <td>0.0</td>\n",
       "      <td>1.0</td>\n",
       "      <td>...</td>\n",
       "      <td>10.000000</td>\n",
       "      <td>0.646405</td>\n",
       "      <td>1.731899</td>\n",
       "      <td>7.234234</td>\n",
       "      <td>7.567080</td>\n",
       "      <td>50.352624</td>\n",
       "      <td>2.0</td>\n",
       "      <td>Sem Sintomas</td>\n",
       "      <td>Branco não-hispanico</td>\n",
       "      <td>Aderencia baixa</td>\n",
       "    </tr>\n",
       "    <tr>\n",
       "      <th>45</th>\n",
       "      <td>45</td>\n",
       "      <td>31227</td>\n",
       "      <td>0.0</td>\n",
       "      <td>0.0</td>\n",
       "      <td>0.0</td>\n",
       "      <td>0.0</td>\n",
       "      <td>0.0</td>\n",
       "      <td>0.0</td>\n",
       "      <td>0.0</td>\n",
       "      <td>0.0</td>\n",
       "      <td>...</td>\n",
       "      <td>4.857364</td>\n",
       "      <td>2.004741</td>\n",
       "      <td>5.715770</td>\n",
       "      <td>5.049658</td>\n",
       "      <td>7.894962</td>\n",
       "      <td>63.092008</td>\n",
       "      <td>0.0</td>\n",
       "      <td>Sem Sintomas</td>\n",
       "      <td>Mexicano-americano</td>\n",
       "      <td>Aderencia acima</td>\n",
       "    </tr>\n",
       "    <tr>\n",
       "      <th>46</th>\n",
       "      <td>46</td>\n",
       "      <td>31228</td>\n",
       "      <td>0.0</td>\n",
       "      <td>0.0</td>\n",
       "      <td>0.0</td>\n",
       "      <td>0.0</td>\n",
       "      <td>0.0</td>\n",
       "      <td>0.0</td>\n",
       "      <td>0.0</td>\n",
       "      <td>0.0</td>\n",
       "      <td>...</td>\n",
       "      <td>8.824434</td>\n",
       "      <td>10.000000</td>\n",
       "      <td>6.578238</td>\n",
       "      <td>10.000000</td>\n",
       "      <td>0.688189</td>\n",
       "      <td>59.930620</td>\n",
       "      <td>0.0</td>\n",
       "      <td>Sem Sintomas</td>\n",
       "      <td>Branco não-hispanico</td>\n",
       "      <td>Aderencia baixa</td>\n",
       "    </tr>\n",
       "    <tr>\n",
       "      <th>47</th>\n",
       "      <td>47</td>\n",
       "      <td>31231</td>\n",
       "      <td>1.0</td>\n",
       "      <td>0.0</td>\n",
       "      <td>2.0</td>\n",
       "      <td>1.0</td>\n",
       "      <td>0.0</td>\n",
       "      <td>0.0</td>\n",
       "      <td>0.0</td>\n",
       "      <td>0.0</td>\n",
       "      <td>...</td>\n",
       "      <td>5.290705</td>\n",
       "      <td>2.284435</td>\n",
       "      <td>3.077318</td>\n",
       "      <td>4.987830</td>\n",
       "      <td>3.177878</td>\n",
       "      <td>46.692631</td>\n",
       "      <td>4.0</td>\n",
       "      <td>Sem Sintomas</td>\n",
       "      <td>Mexicano-americano</td>\n",
       "      <td>Aderencia baixa</td>\n",
       "    </tr>\n",
       "    <tr>\n",
       "      <th>48</th>\n",
       "      <td>48</td>\n",
       "      <td>31232</td>\n",
       "      <td>3.0</td>\n",
       "      <td>0.0</td>\n",
       "      <td>0.0</td>\n",
       "      <td>0.0</td>\n",
       "      <td>0.0</td>\n",
       "      <td>0.0</td>\n",
       "      <td>0.0</td>\n",
       "      <td>0.0</td>\n",
       "      <td>...</td>\n",
       "      <td>10.000000</td>\n",
       "      <td>8.545417</td>\n",
       "      <td>5.958535</td>\n",
       "      <td>9.222416</td>\n",
       "      <td>0.000000</td>\n",
       "      <td>45.080194</td>\n",
       "      <td>3.0</td>\n",
       "      <td>Sem Sintomas</td>\n",
       "      <td>Outro</td>\n",
       "      <td>Aderencia acima</td>\n",
       "    </tr>\n",
       "    <tr>\n",
       "      <th>49</th>\n",
       "      <td>49</td>\n",
       "      <td>31233</td>\n",
       "      <td>0.0</td>\n",
       "      <td>0.0</td>\n",
       "      <td>1000.0</td>\n",
       "      <td>1000.0</td>\n",
       "      <td>0.0</td>\n",
       "      <td>3.0</td>\n",
       "      <td>0.0</td>\n",
       "      <td>1000.0</td>\n",
       "      <td>...</td>\n",
       "      <td>2.587104</td>\n",
       "      <td>0.000000</td>\n",
       "      <td>7.359046</td>\n",
       "      <td>2.216669</td>\n",
       "      <td>10.000000</td>\n",
       "      <td>50.919283</td>\n",
       "      <td>3.0</td>\n",
       "      <td>Sem Sintomas</td>\n",
       "      <td>Mexicano-americano</td>\n",
       "      <td>Aderencia baixa</td>\n",
       "    </tr>\n",
       "  </tbody>\n",
       "</table>\n",
       "<p>50 rows × 36 columns</p>\n",
       "</div>"
      ],
      "text/plain": [
       "    Unnamed: 0   SEQN  DPQ010  DPQ020  DPQ030  DPQ040  DPQ050  DPQ060  DPQ070  \\\n",
       "0            0  31130     NaN     NaN     NaN     NaN     NaN     NaN     NaN   \n",
       "1            1  31131     0.0     0.0     0.0     0.0     0.0     0.0     0.0   \n",
       "2            2  31132     0.0     0.0     0.0     0.0     0.0     0.0     0.0   \n",
       "3            3  31134     0.0     0.0     0.0     0.0     0.0     0.0     0.0   \n",
       "4            4  31139     0.0     0.0     0.0     0.0     3.0     1.0     0.0   \n",
       "5            5  31143     0.0     1.0     1.0     1.0     1.0     1.0     1.0   \n",
       "6            6  31144     0.0     0.0     0.0     0.0     0.0     0.0     0.0   \n",
       "7            7  31149     0.0     0.0     0.0     0.0     0.0     0.0     0.0   \n",
       "8            8  31150     1.0     0.0     0.0     0.0     0.0     0.0     0.0   \n",
       "9            9  31151     0.0     0.0     1.0     1.0     0.0     0.0     1.0   \n",
       "10          10  31152     0.0     0.0     0.0     1.0     1.0     0.0     0.0   \n",
       "11          11  31153     1.0     1.0     0.0     1.0     1.0     1.0     0.0   \n",
       "12          12  31154     0.0     0.0     0.0     0.0     0.0     0.0     0.0   \n",
       "13          13  31155     0.0     0.0     0.0     1.0     0.0     0.0     0.0   \n",
       "14          14  31156     NaN     NaN     NaN     NaN     NaN     NaN     NaN   \n",
       "15          15  31158     0.0     0.0     1.0     1.0     0.0     0.0     0.0   \n",
       "16          16  31160     0.0     0.0     0.0     0.0     0.0     0.0     0.0   \n",
       "17          17  31162     1.0     1.0     0.0     2.0     0.0     0.0     0.0   \n",
       "18          18  31164     0.0     0.0     0.0     0.0     0.0     0.0     0.0   \n",
       "19          19  31167     1.0     1.0     0.0     1.0     0.0     0.0     0.0   \n",
       "20          20  31172     NaN     NaN     NaN     NaN     NaN     NaN     NaN   \n",
       "21          21  31175     NaN     NaN     NaN     NaN     NaN     NaN     NaN   \n",
       "22          22  31177     0.0     1.0     1.0     0.0     0.0     0.0     0.0   \n",
       "23          23  31179     0.0     1.0     1.0     1.0     2.0     0.0     3.0   \n",
       "24          24  31183     1.0     1.0     1.0     0.0     0.0     0.0     0.0   \n",
       "25          25  31186     0.0     0.0     0.0     1.0     3.0     0.0     0.0   \n",
       "26          26  31187     0.0     0.0     0.0     1.0     0.0     0.0     0.0   \n",
       "27          27  31190     0.0     0.0     0.0     0.0     0.0     0.0     0.0   \n",
       "28          28  31191     1.0     1.0     3.0     3.0     3.0     0.0     1.0   \n",
       "29          29  31192     0.0     0.0     0.0     1.0     1.0     0.0     0.0   \n",
       "30          30  31193     0.0     0.0     0.0     1.0     0.0     0.0     0.0   \n",
       "31          31  31194     0.0     0.0     0.0     0.0     0.0     0.0     0.0   \n",
       "32          32  31195     0.0     0.0     0.0     0.0     0.0     0.0     0.0   \n",
       "33          33  31199     0.0     0.0     0.0     0.0     0.0     0.0     0.0   \n",
       "34          34  31203     0.0     0.0     1.0     1.0     1.0     0.0     0.0   \n",
       "35          35  31205     1.0     1.0     1.0     1.0     0.0     1.0     0.0   \n",
       "36          36  31207     0.0     0.0     1.0     1.0     0.0     0.0     0.0   \n",
       "37          37  31208     0.0     0.0     1.0     1.0     1.0     1.0     0.0   \n",
       "38          38  31210     1.0     2.0     0.0     1.0     1.0     1.0     1.0   \n",
       "39          39  31212     1.0     2.0     1.0     1.0     1.0     1.0     0.0   \n",
       "40          40  31213     0.0     0.0     0.0     0.0     1.0     0.0     0.0   \n",
       "41          41  31214     2.0     3.0     1.0     2.0     2.0     2.0     2.0   \n",
       "42          42  31220     0.0     0.0     0.0     0.0     0.0     0.0     0.0   \n",
       "43          43  31221     0.0     0.0     0.0     0.0     0.0     0.0     0.0   \n",
       "44          44  31223     0.0     0.0     0.0     1.0     0.0     0.0     0.0   \n",
       "45          45  31227     0.0     0.0     0.0     0.0     0.0     0.0     0.0   \n",
       "46          46  31228     0.0     0.0     0.0     0.0     0.0     0.0     0.0   \n",
       "47          47  31231     1.0     0.0     2.0     1.0     0.0     0.0     0.0   \n",
       "48          48  31232     3.0     0.0     0.0     0.0     0.0     0.0     0.0   \n",
       "49          49  31233     0.0     0.0  1000.0  1000.0     0.0     3.0     0.0   \n",
       "\n",
       "    DPQ080  ...  HEI2015C9_FATTYACID  HEI2015C10_SODIUM  \\\n",
       "0      NaN  ...                  NaN                NaN   \n",
       "1      0.0  ...             0.684985           2.297100   \n",
       "2      0.0  ...             2.050769           7.369489   \n",
       "3      0.0  ...             2.958985           0.000000   \n",
       "4      0.0  ...            10.000000           2.845774   \n",
       "5      0.0  ...             0.002362           5.223435   \n",
       "6      0.0  ...             6.209888           6.747360   \n",
       "7      0.0  ...             4.780404           0.000000   \n",
       "8      0.0  ...             7.660037           9.368343   \n",
       "9      0.0  ...             2.805860           9.298090   \n",
       "10     1.0  ...             3.042452           1.362072   \n",
       "11     1.0  ...            10.000000          10.000000   \n",
       "12     0.0  ...             6.605029           0.000000   \n",
       "13     0.0  ...             5.199571           0.944569   \n",
       "14     NaN  ...            10.000000           3.372807   \n",
       "15     0.0  ...             0.000000           6.987853   \n",
       "16     0.0  ...             4.679884           4.826346   \n",
       "17     0.0  ...             4.378558           1.894475   \n",
       "18     0.0  ...             5.510077           8.128015   \n",
       "19     0.0  ...             1.905983           3.121234   \n",
       "20     NaN  ...             0.072882           8.319650   \n",
       "21     NaN  ...             0.803733           0.000000   \n",
       "22     0.0  ...             6.618921           5.951291   \n",
       "23     0.0  ...             2.248339           9.350858   \n",
       "24     0.0  ...             3.426542           6.113288   \n",
       "25     0.0  ...             4.370970           6.803407   \n",
       "26     0.0  ...             0.595796           5.026905   \n",
       "27     0.0  ...            10.000000           8.055125   \n",
       "28     0.0  ...                  NaN                NaN   \n",
       "29     0.0  ...             5.253997           6.553945   \n",
       "30     0.0  ...             8.595203          10.000000   \n",
       "31     0.0  ...             4.756335           5.239153   \n",
       "32     0.0  ...             1.524209           0.000000   \n",
       "33     0.0  ...            10.000000           1.783437   \n",
       "34     0.0  ...             2.527594          10.000000   \n",
       "35     0.0  ...             3.773946           1.851032   \n",
       "36     1.0  ...             4.213620           4.000648   \n",
       "37     0.0  ...             3.701978           3.642335   \n",
       "38     0.0  ...             0.955633           9.942587   \n",
       "39     0.0  ...             4.783599           6.557919   \n",
       "40     0.0  ...             4.268659           6.306206   \n",
       "41     0.0  ...             2.329273           8.009607   \n",
       "42     0.0  ...            10.000000           0.000000   \n",
       "43     0.0  ...             4.252854           0.000000   \n",
       "44     1.0  ...            10.000000           0.646405   \n",
       "45     0.0  ...             4.857364           2.004741   \n",
       "46     0.0  ...             8.824434          10.000000   \n",
       "47     0.0  ...             5.290705           2.284435   \n",
       "48     0.0  ...            10.000000           8.545417   \n",
       "49  1000.0  ...             2.587104           0.000000   \n",
       "\n",
       "   HEI2015C11_REFINEDGRAIN  HEI2015C12_SFAT  HEI2015C13_ADDSUG  \\\n",
       "0                      NaN              NaN                NaN   \n",
       "1                 9.512964         0.438428           3.919226   \n",
       "2                 8.887880         8.186877           9.099088   \n",
       "3                 5.627488         5.863078           5.878686   \n",
       "4                 0.000000        10.000000           9.658507   \n",
       "5                 7.787420         0.000000          10.000000   \n",
       "6                 0.000000         7.473184           6.573559   \n",
       "7                 5.138144         5.601160           4.677064   \n",
       "8                 9.253592        10.000000           8.797673   \n",
       "9                10.000000         6.738039           0.000000   \n",
       "10                6.405209         1.726454           9.879221   \n",
       "11               10.000000         9.507001           8.036070   \n",
       "12                8.662970         5.633984           4.825864   \n",
       "13                0.000000         8.782718          10.000000   \n",
       "14                7.885895        10.000000           3.237822   \n",
       "15                7.700887         0.000000           7.235760   \n",
       "16                7.346949         6.245579           6.846888   \n",
       "17               10.000000         1.340059          10.000000   \n",
       "18                9.457209         0.660590           3.165991   \n",
       "19               10.000000         3.500407          10.000000   \n",
       "20                3.702463         4.884148           3.167867   \n",
       "21                7.417077         9.183068          10.000000   \n",
       "22                0.000000         6.261731           5.619021   \n",
       "23                7.948108         4.434365           5.187422   \n",
       "24                6.925759         6.077161           6.315578   \n",
       "25               10.000000         4.099547           5.919096   \n",
       "26                4.345285         1.499628           7.688386   \n",
       "27                5.404651        10.000000           8.886027   \n",
       "28                     NaN              NaN                NaN   \n",
       "29                9.344928         7.483967          10.000000   \n",
       "30                9.773643        10.000000           0.000000   \n",
       "31                0.000000        10.000000           8.147156   \n",
       "32                5.788166         0.269991          10.000000   \n",
       "33                7.228694        10.000000           9.897362   \n",
       "34                9.506693         8.318470          10.000000   \n",
       "35                3.713274         3.234762           7.624234   \n",
       "36                0.000000         9.027150           1.659565   \n",
       "37               10.000000         2.366771          10.000000   \n",
       "38                6.148328         4.445251           0.000000   \n",
       "39                3.973382         4.125229           1.225469   \n",
       "40                2.243478         6.460493           6.327416   \n",
       "41                7.926817         2.789474           1.382945   \n",
       "42                8.446619        10.000000           2.067674   \n",
       "43               10.000000         9.374897           7.322757   \n",
       "44                1.731899         7.234234           7.567080   \n",
       "45                5.715770         5.049658           7.894962   \n",
       "46                6.578238        10.000000           0.688189   \n",
       "47                3.077318         4.987830           3.177878   \n",
       "48                5.958535         9.222416           0.000000   \n",
       "49                7.359046         2.216669          10.000000   \n",
       "\n",
       "    HEI2015_TOTAL_SCORE  phq9             phq_grp                 Etnia  \\\n",
       "0                   NaN   0.0        Sem Sintomas    Mexicano-americano   \n",
       "1             35.553899   0.0        Sem Sintomas                 Outro   \n",
       "2             63.551696   0.0        Sem Sintomas    Mexicano-americano   \n",
       "3             42.886826   0.0        Sem Sintomas    Mexicano-americano   \n",
       "4             47.074393   4.0        Sem Sintomas   Negro não-hispanico   \n",
       "5             46.086131   6.0      Sintomas Leves    Mexicano-americano   \n",
       "6             37.388008   0.0        Sem Sintomas   Negro não-hispanico   \n",
       "7             41.001689   0.0        Sem Sintomas    Mexicano-americano   \n",
       "8             71.671972   1.0        Sem Sintomas    Mexicano-americano   \n",
       "9             47.002405   3.0        Sem Sintomas                 Outro   \n",
       "10            44.295927   3.0        Sem Sintomas  Branco não-hispanico   \n",
       "11            81.516748   6.0      Sintomas Leves       Outro-hispanico   \n",
       "12            51.026072   0.0        Sem Sintomas                 Outro   \n",
       "13            53.316119   1.0        Sem Sintomas       Outro-hispanico   \n",
       "14            59.415736   0.0        Sem Sintomas                 Outro   \n",
       "15            45.584246   2.0        Sem Sintomas    Mexicano-americano   \n",
       "16            67.587048   0.0        Sem Sintomas    Mexicano-americano   \n",
       "17            55.319027   4.0        Sem Sintomas    Mexicano-americano   \n",
       "18            43.339478   0.0        Sem Sintomas    Mexicano-americano   \n",
       "19            62.883794   3.0        Sem Sintomas    Mexicano-americano   \n",
       "20            42.556325   0.0        Sem Sintomas    Mexicano-americano   \n",
       "21            53.294448   0.0        Sem Sintomas                 Outro   \n",
       "22            39.832906   2.0        Sem Sintomas                 Outro   \n",
       "23            48.933870   8.0      Sintomas Leves    Mexicano-americano   \n",
       "24            56.275131   3.0        Sem Sintomas    Mexicano-americano   \n",
       "25            52.331242   4.0        Sem Sintomas  Branco não-hispanico   \n",
       "26            41.165587   1.0        Sem Sintomas    Mexicano-americano   \n",
       "27            64.476881   0.0        Sem Sintomas    Mexicano-americano   \n",
       "28                  NaN  12.0  Sintomas Moderados  Branco não-hispanico   \n",
       "29            62.721159   2.0        Sem Sintomas    Mexicano-americano   \n",
       "30            53.481150   1.0        Sem Sintomas    Mexicano-americano   \n",
       "31            60.669329   0.0        Sem Sintomas  Branco não-hispanico   \n",
       "32            40.581290   0.0        Sem Sintomas    Mexicano-americano   \n",
       "33            72.139959   0.0        Sem Sintomas    Mexicano-americano   \n",
       "34            69.402891   3.0        Sem Sintomas  Branco não-hispanico   \n",
       "35            47.982178   5.0      Sintomas Leves  Branco não-hispanico   \n",
       "36            31.535271   3.0        Sem Sintomas                 Outro   \n",
       "37            62.422119   4.0        Sem Sintomas    Mexicano-americano   \n",
       "38            29.727499   7.0      Sintomas Leves    Mexicano-americano   \n",
       "39            34.004518   7.0      Sintomas Leves                 Outro   \n",
       "40            49.775377   1.0        Sem Sintomas                 Outro   \n",
       "41            34.932765  14.0  Sintomas Moderados    Mexicano-americano   \n",
       "42            59.595199   0.0        Sem Sintomas    Mexicano-americano   \n",
       "43            70.950508   0.0        Sem Sintomas    Mexicano-americano   \n",
       "44            50.352624   2.0        Sem Sintomas  Branco não-hispanico   \n",
       "45            63.092008   0.0        Sem Sintomas    Mexicano-americano   \n",
       "46            59.930620   0.0        Sem Sintomas  Branco não-hispanico   \n",
       "47            46.692631   4.0        Sem Sintomas    Mexicano-americano   \n",
       "48            45.080194   3.0        Sem Sintomas                 Outro   \n",
       "49            50.919283   3.0        Sem Sintomas    Mexicano-americano   \n",
       "\n",
       "        Graderenci_Pag  \n",
       "0      Aderencia baixa  \n",
       "1   Aderencia adequada  \n",
       "2      Aderencia acima  \n",
       "3      Aderencia acima  \n",
       "4      Aderencia acima  \n",
       "5      Aderencia acima  \n",
       "6      Aderencia acima  \n",
       "7      Aderencia baixa  \n",
       "8      Aderencia acima  \n",
       "9      Aderencia baixa  \n",
       "10     Aderencia acima  \n",
       "11     Aderencia acima  \n",
       "12     Aderencia baixa  \n",
       "13     Aderencia acima  \n",
       "14     Aderencia acima  \n",
       "15     Aderencia acima  \n",
       "16     Aderencia acima  \n",
       "17  Aderencia adequada  \n",
       "18  Aderencia adequada  \n",
       "19     Aderencia acima  \n",
       "20     Aderencia acima  \n",
       "21     Aderencia baixa  \n",
       "22     Aderencia baixa  \n",
       "23     Aderencia baixa  \n",
       "24  Aderencia adequada  \n",
       "25     Aderencia baixa  \n",
       "26  Aderencia adequada  \n",
       "27     Aderencia acima  \n",
       "28     Aderencia baixa  \n",
       "29     Aderencia acima  \n",
       "30     Aderencia baixa  \n",
       "31     Aderencia baixa  \n",
       "32     Aderencia acima  \n",
       "33     Aderencia acima  \n",
       "34  Aderencia adequada  \n",
       "35     Aderencia acima  \n",
       "36     Aderencia acima  \n",
       "37     Aderencia acima  \n",
       "38     Aderencia acima  \n",
       "39     Aderencia baixa  \n",
       "40     Aderencia baixa  \n",
       "41     Aderencia baixa  \n",
       "42  Aderencia adequada  \n",
       "43     Aderencia acima  \n",
       "44     Aderencia baixa  \n",
       "45     Aderencia acima  \n",
       "46     Aderencia baixa  \n",
       "47     Aderencia baixa  \n",
       "48     Aderencia acima  \n",
       "49     Aderencia baixa  \n",
       "\n",
       "[50 rows x 36 columns]"
      ]
     },
     "execution_count": 84,
     "metadata": {},
     "output_type": "execute_result"
    }
   ],
   "source": [
    "Df.head(50)"
   ]
  },
  {
   "cell_type": "code",
   "execution_count": 85,
   "id": "eb2ce5f8",
   "metadata": {},
   "outputs": [
    {
     "data": {
      "text/plain": [
       "count    5060.000000\n",
       "mean       49.971421\n",
       "std        12.324533\n",
       "min        16.059212\n",
       "25%        41.032289\n",
       "50%        49.512445\n",
       "75%        58.168013\n",
       "max        89.529383\n",
       "Name: HEI2015_TOTAL_SCORE, dtype: float64"
      ]
     },
     "execution_count": 85,
     "metadata": {},
     "output_type": "execute_result"
    }
   ],
   "source": [
    "# mOSTRA OS DADOS ESTATISICAMENTE\n",
    "Df['HEI2015_TOTAL_SCORE'].describe()\n"
   ]
  },
  {
   "cell_type": "code",
   "execution_count": 86,
   "id": "1d800212",
   "metadata": {},
   "outputs": [
    {
     "data": {
      "text/plain": [
       "count    5060.000000\n",
       "mean        4.762261\n",
       "std         3.420252\n",
       "min         0.000000\n",
       "25%         1.587909\n",
       "50%         4.833553\n",
       "75%         7.650807\n",
       "max        10.000000\n",
       "Name: HEI2015C10_SODIUM, dtype: float64"
      ]
     },
     "execution_count": 86,
     "metadata": {},
     "output_type": "execute_result"
    }
   ],
   "source": [
    "# mOSTRA OS DADOS ESTATISICAMENTE\n",
    "Df['HEI2015C10_SODIUM'].describe()"
   ]
  },
  {
   "cell_type": "code",
   "execution_count": 88,
   "id": "8980ee50",
   "metadata": {},
   "outputs": [
    {
     "data": {
      "text/plain": [
       "count    5060.000000\n",
       "mean        6.067985\n",
       "std         3.178186\n",
       "min         0.000000\n",
       "25%         3.697080\n",
       "50%         6.414811\n",
       "75%         8.997076\n",
       "max        10.000000\n",
       "Name: HEI2015C12_SFAT, dtype: float64"
      ]
     },
     "execution_count": 88,
     "metadata": {},
     "output_type": "execute_result"
    }
   ],
   "source": [
    "# mOSTRA OS DADOS ESTATISICAMENTE\n",
    "Df['HEI2015C12_SFAT'].describe()"
   ]
  },
  {
   "cell_type": "code",
   "execution_count": 89,
   "id": "7a10a919",
   "metadata": {},
   "outputs": [
    {
     "data": {
      "text/plain": [
       "count    5060.000000\n",
       "mean        6.220367\n",
       "std         3.330305\n",
       "min         0.000000\n",
       "25%         3.724867\n",
       "50%         6.864138\n",
       "75%         9.454234\n",
       "max        10.000000\n",
       "Name: HEI2015C13_ADDSUG, dtype: float64"
      ]
     },
     "execution_count": 89,
     "metadata": {},
     "output_type": "execute_result"
    }
   ],
   "source": [
    "# mOSTRA OS DADOS ESTATISICAMENTE\n",
    "Df['HEI2015C13_ADDSUG'].describe()"
   ]
  },
  {
   "cell_type": "code",
   "execution_count": 91,
   "id": "e520de15",
   "metadata": {},
   "outputs": [],
   "source": [
    "Df.to_csv('DesAnaliseUni.csv')"
   ]
  },
  {
   "cell_type": "code",
   "execution_count": null,
   "id": "4153ca2e",
   "metadata": {},
   "outputs": [],
   "source": []
  }
 ],
 "metadata": {
  "kernelspec": {
   "display_name": "Python 3 (ipykernel)",
   "language": "python",
   "name": "python3"
  },
  "language_info": {
   "codemirror_mode": {
    "name": "ipython",
    "version": 3
   },
   "file_extension": ".py",
   "mimetype": "text/x-python",
   "name": "python",
   "nbconvert_exporter": "python",
   "pygments_lexer": "ipython3",
   "version": "3.9.12"
  }
 },
 "nbformat": 4,
 "nbformat_minor": 5
}
