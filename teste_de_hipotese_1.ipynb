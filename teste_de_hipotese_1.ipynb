{
 "cells": [
  {
   "cell_type": "markdown",
   "metadata": {},
   "source": [
    "# Introdução à Inferência Estatística\n",
    "\n",
    "*fonte: Wikipedia*\n",
    "\n",
    "Inferência estatística é um ramo da Estatística cujo objetivo é fazer afirmações a partir de um conjunto de valores representativo (amostra) sobre um universo (população), sendo que assume-se que a população é muito maior do que o conjunto de dados observados, a amostra. Tal tipo de afirmação deve sempre vir acompanhada de uma medida de precisão sobre sua veracidade. Para realizar este trabalho o estatístico coleta informações de dois tipos, experimentais (as amostras) e aquelas que obtém na literatura. As duas principais escolas de inferência são a inferência frequencista (ou clássica) e a inferência bayesiana.\n",
    "\n",
    "A inferência estatística é geralmente distinta da estatística descritiva. A descrição estatística pode ser vista como a simples apresentação dos fatos, nos quais o modelo de decisões feito pelo analista tem pouca influência. É natural que análises estatísticas avancem, indo da descrição para a inferência de padrões. Essa última tarefa depende do modelo usado e/ou criado pelo analista dos dados. \n",
    "\n",
    "Na prática, a matematica é mais dedutiva e a inferência é indutiva.\n",
    "\n",
    "- Parâmetros -> População\n",
    "- Estatisticas -> Amostra\n",
    "\n",
    "<br>\n",
    "<img src=\"img/estatistica.png\" width=\"450\" />\n",
    "<br>\n",
    "\n",
    "\n"
   ]
  },
  {
   "cell_type": "markdown",
   "metadata": {},
   "source": [
    "\n",
    "## Conceitos fundamentais para a compreeensão da estatística\n",
    "\n",
    "- **Viés**: Viés ou erro sistemático é a distorção sistemática entre a medida de uma variável estatística e o valor real da grandeza a estimar. A introdução de um viés no cálculo estatístico pode estar ligada quer a imperfeição ou deformação da amostra (estatística) que serve de base para a estimativa, quer ao próprio método de avaliação. Estudaremos **viés** na aula de **Inferência 2**.\n",
    "\n",
    "- **Intervalos de confiança**:  Intervalo de confiança (IC) é um tipo de estimativa por intervalo de um parâmetro populacional desconhecido.\n",
    "\n",
    "- **Testes de hipóteses**: ou teste de significância é um procedimento estatístico que permite tomar uma decisão (aceitar ou rejeitar a hipótese).\n",
    "\n",
    "Vamos então aprofundar agora os conceitos de **intervalo de confiança** e **teste de hipótese**, e deixar viés para a próxima aula."
   ]
  },
  {
   "cell_type": "markdown",
   "metadata": {},
   "source": [
    "- **Curva Normal:**\n",
    "\n",
    "Distribuição De-Moivre-Laplace-Gauss\n",
    "\n",
    "Nos séculos dezoito e dezenove, alguns matemáticos e físicos desenvolveram uma função densidade de probabilidade que descrevia os erros experimentais obtidos em medidas físicas _Caire_, 2012. De certa forma todo e qualquer processo de mensuração está sujeito a um erro de medida. Esse erro pode ter diferentes fontes, desde a variação de tempertura, tempo, entre inúmeras outras características não identificáveis. Essa função densidade de probabilidade é curva conhecida como distribuição normal ou gaussina.\n",
    "\n",
    "A grande utilidade dessa distribuição está associada ao fato de que aproxima de forma bastante satisfatória as curvas de frequências de medidas físicas.\n",
    "\n",
    "<br>\n",
    "<img src=\"img/normal.png\" width=\"550\" />\n",
    "<br>\n",
    "\n"
   ]
  },
  {
   "cell_type": "markdown",
   "metadata": {},
   "source": [
    "- **Desvio-Padrão:**\n",
    "\n",
    "O desvio-padrão é uma formulação empírica para cálculo do padrão de desvio da série de dados. Para uma população, temos interesse em calcular o padrão de desvio da série com todos os valores observados deste população, através da raiz quadrada do quadrado da diferença entre cada observação e o valor médio. Para uma amostra, por definição, o desvio-padrão deve ser dividido pela razão do número de observações menos um, devido ao número dos graus de liberdade."
   ]
  },
  {
   "cell_type": "markdown",
   "metadata": {},
   "source": [
    "## Intervalo de Confiança\n",
    "\n",
    "*fonte: Wikipedia*\n",
    "\n",
    "Em estatística, intervalo de confiança (IC) é um tipo de estimativa por intervalo de um parâmetro populacional desconhecido. Introduzido na estatística por Jerzy Neyman em 1937, é um intervalo observado (calculado a partir de observações) que pode variar de amostra para amostra e que com dada frequência (nível de confiança) inclui o parâmetro de interesse real não observável.\n",
    "\n",
    "Como os dados observados são amostras aleatórias da população, o intervalo de confiança construído a partir dos dados também é aleatório. Entretanto, o intervalo de confiança calculado a partir de uma amostra particular não inclui necessariamente o valor real do parâmetro. Quando se tem 99% de confiança de que o valor real do parâmetro está no intervalo de confiança, significa que 99% dos intervalos de confiança observados têm o valor real do parâmetro. Tomando–se qualquer amostra particular, o parâmetro populacional desconhecido pode ou não pode estar no intervalo de confiança observado.\n",
    "\n",
    "<br>\n",
    "<img src=\"img/intervalo_de_confianca.png\" width=\"700\" />\n",
    "<br>"
   ]
  },
  {
   "cell_type": "markdown",
   "metadata": {},
   "source": [
    "---------------\n",
    "\n",
    "# Teste de Hipóteses\n",
    "\n",
    "Teste de hipóteses, teste estatístico ou teste de significância é um procedimento estatístico que permite tomar uma decisão (aceitar ou rejeitar a hipótese nula ${H_0}$ entre duas ou mais hipóteses (geralmente adota-se hipótese nula ${H_0}$ e hipótese alternativa ${H_1}$), utilizando os dados observados de um determinado experimento. Há diversos métodos para realizar o teste de hipóteses, que incluem Fisher (teste de significância), o método de Neyman–Pearson, método de Bayes, e o método t-Student.\n",
    "\n",
    "Por meio da teoria da probabilidade, é possível inferir sobre quantidades de interesse de uma população a partir de uma amostra observada de um experimento científico. Por exemplo, estimar pontualmente e de forma intervalar um parâmetro de interesse, testar se uma determinada teoria científica deve ser descartada, verificar se um lote de remédios deve ser devolvido por falta de qualidade, entre outros. Por meio do rigor matemático, a inferência estatística pode ser utilizada para auxiliar a tomada de decisões nas mais variadas áreas.\n",
    "\n",
    "\n"
   ]
  },
  {
   "cell_type": "markdown",
   "metadata": {},
   "source": [
    "<br>\n",
    "<img src=\"img/zona_aceitacao.png\" width=\"450\" />\n",
    "<br>"
   ]
  },
  {
   "cell_type": "markdown",
   "metadata": {},
   "source": [
    "\n",
    "Portanto, para um teste de hipóteses teremos geralmente:\n",
    "\n",
    "- Hipótese nula ${H_0}$: é a hipótese assumida como verdadeira para a construção do teste. É a teoria, o efeito ou a alternativa que se está interessado em testar e **não rejeitar**.\n",
    "\n",
    "- Hipótese alternativa ${H_1}$: é considerada quando a hipótese nula não tem evidência estatística.\n",
    "\n",
    "Os testes de hipóteses são utilizados para determinar quais resultados de um estudo científico podem levar à rejeição da hipótese nula ${H_0}$ a um nível de significância pré–estabelecido. O estudo da teoria das probabilidades e a determinação da estatística de teste correta são fundamentais para a coerência de um teste de hipótese. Se as hipóteses do teste de hipóteses não forem assumidas de maneira correta, o resultado será incorreto e a informação será incoerente com a questão do estudo científico. Os tipos conceituais de erro (erro do tipo I e erro do tipo II) e os limites paramétricos ajudam a distinguir entre a hipótese nula ${H_0}$ e a hipótese alternativa ${H_1}$."
   ]
  },
  {
   "cell_type": "markdown",
   "metadata": {},
   "source": [
    "\n",
    "\n",
    "<br>\n",
    "<img src=\"img/erro_tabela.png\">\n",
    "<br>\n",
    "\n",
    "Graficamente temos:\n",
    "\n",
    "<br>\n",
    "<br>\n",
    "<img src=\"img/erros.png\" width=\"600\" />\n",
    "<br>\n",
    "<br>"
   ]
  },
  {
   "cell_type": "markdown",
   "metadata": {},
   "source": [
    "## Procedimentos para fazer um Teste de Hipótese com uma amostra\n",
    "\n",
    "É apropriado para comparar a amostra com a população a partir da hipótese. As características da população são conhecidas a partir da teoria ou são calculadas a partir da população.\n",
    "\n",
    "- (1) Escolher a hipótese a ser testada\n",
    "- (2) Dependendo do que se quer testar, escolher a estatística a ser usada na comparação dos valores na realização do teste de hipóteses\n",
    "\n",
    "Vamos ver agora os tipos de teste mais comuns para **mostragem alearórias simples - uma variável**."
   ]
  },
  {
   "cell_type": "markdown",
   "metadata": {},
   "source": [
    "## Teste Z-Score ou t-Student\n",
    "\n",
    "Por exemplo, para se testar um certo valor $\\overline x$ como média da hipótese de uma população com média $\\mu_0$ e variância $\\sigma^2$ conhecida, devemos utilizar a transformação seguinte, com $n$ observações:\n",
    "\n",
    "\n",
    "### Teste Z-Score: desvio-padrão conhecido\n",
    "\n",
    "<br>\n",
    "$$z=\\frac{\\overline x-\\mu_0}{\\sigma / \\sqrt{n}}$$\n",
    "<br>\n",
    "\n",
    "onde:\n",
    "\n",
    "- ${\\bar x}$ - valor médio da hipótese\n",
    "- ${\\mu_0}$ - valor medio da amostra\n",
    "- ${\\sigma}$ - desvio padrão da população\n",
    "- ${n}$ - tamanho da amostra"
   ]
  },
  {
   "cell_type": "markdown",
   "metadata": {},
   "source": [
    "### Teste t-Student: desvio-padrão desconhecido\n",
    "\n",
    "<br>\n",
    "$$t=\\frac{\\overline x-\\mu_0}{s / \\sqrt{n}}$$\n",
    "<br>\n",
    "\n",
    "onde:\n",
    "\n",
    "- ${\\bar x}$ - valor médio da hipótese\n",
    "- ${\\mu_0}$ - valor medio da amostra\n",
    "- ${s}$ - desvio padrão da amostra\n",
    "- ${n}$ - tamanho da amostra"
   ]
  },
  {
   "cell_type": "markdown",
   "metadata": {},
   "source": [
    "Para este caso, o desvio padrão amostral ${s}$ será:\n",
    "\n",
    "<br>\n",
    "$$s=\\sqrt{\\frac{\\sum(x_i-\\overline x)²}{n-1}}$$\n",
    "<br>"
   ]
  },
  {
   "cell_type": "markdown",
   "metadata": {},
   "source": [
    "Para melhor visualização do teste de hipóteses da média, a figura abaixo ilustra a média $\\mu_0$ da amostra com a grande região de não rejeição, e a média da hipótese à esquerda gerando uma segunda curva normal e as regiões de rejeição para o **erro tipo I** e o **erro tipo II** em destaque.\n",
    "\n",
    "<br>\n",
    "<br>\n",
    "<img src=\"img/Teste_T_Gráfico_bicaudal.gif\" width=\"450\" />\n",
    "<br>\n",
    "<br>"
   ]
  },
  {
   "cell_type": "markdown",
   "metadata": {},
   "source": [
    "### Teste da variância\n",
    "\n",
    "Para se testar a variância, deveremos utilizar a estatística *Ki-Quadrado*, com $(n-1)$ graus de liberdade\n",
    "\n",
    "<br>\n",
    "$$\\chi^2 = \\frac{(n-1)s^2}{\\sigma_0}$$\n",
    "<br>\n",
    "\n",
    "### Teste da proporção\n",
    "\n",
    "O teste a proporção é análogo ao teste das médias, só que para valores de proporção: \n",
    "\n",
    "<br>\n",
    "$$z=\\frac{p\\prime-p_0}{\\sqrt{\\frac{p_0-(1-p_0)}{n}}}$$\n",
    "<br>"
   ]
  },
  {
   "cell_type": "markdown",
   "metadata": {},
   "source": [
    "## Valor crítico e região crítica\n",
    "\n",
    "Com a estatística escolhida e com o nível de significância $\\alpha$ escolhido, é possível encontrar o **valor crítico** e também a **região crítica**. \n",
    "\n",
    "### Nível de significância e p-value\n",
    "\n",
    "Para ciência, o nível de significância adotado em geral é 0.95, o que torna o valor critico para *p-value* = 0.05 (1-p).\n",
    "\n",
    "Como veremos nos exemplos mais adiante, para se testar um certo valor de média da hipótese nula ${\\bar x}$, com a média nominal ${\\mu_0}$, o desvio padrão ${\\sigma}$ e o tamanho da amostra ${n}$, deve-se calcular o intervalo de confiança e, caso a média da hipótese esteja dentro do intervalo de confiança, então **não rejeitamos** a hipótese nula, caso contrário, a hipótese nula deve ser **rejeitada**.\n",
    "\n",
    "Segundo a figura abaixo, conseguimos visualizar a região central chamada de região de aceitação ou não rejeição, contendo 95% da área sob a curva de densidade de distribuição da variável em estudo, e a região crítica representada pelas duas bordas nas extremidades direita e esquerda, cada uma somando 2.5% da área sob a curva, totalizando os 5% remanescentes que justificam o valor crítico de *p-value* = 0.05. É interessante observar os valores críticos de **z-score** (como veremos adiante) em -1.96 (à esquerda) e 1.96 (à direita).\n",
    "\n",
    "<br>\n",
    "<img src=\"img/teste_hipotese.png\" width=\"450\" />\n",
    "<br>"
   ]
  },
  {
   "cell_type": "markdown",
   "metadata": {},
   "source": [
    "## Teste de Hipóteses com duas amostras\n",
    "\n",
    "É apropriado para comparar duas amostras, tipicamente amostra experimental e amostra de controle a partir de um experimento cientificamente controlado. Também pode ser chamado de **teste para comparação de 2 médias**.\n",
    "\n",
    "- Teste pareado: É apropriado para comparar duas amostras quando é impossível controlar variáveis importantes. Em vez de comparar dois conjuntos, os componentes são pareados entre amostras. Então, a diferença entre os componentes se torna a amostra. Tipicamente a média das diferenças é comparada a 0. O cenário comum de exemplo para quando o teste pareado é apropriado é quando um único conjunto de sujeitos de teste tem algo aplicado a eles e o teste destina-se a verificar um efeito.\n",
    "\n",
    "Calculamos as diferenças dos valores das amostras e calculamos $\\overline x$ e $s$ das diferenças e usamos a estatística:"
   ]
  },
  {
   "cell_type": "markdown",
   "metadata": {},
   "source": [
    "## Intervalo de Confiança para uma Média Populacional \n",
    " \n",
    "Um dos objetivos mais importantes da estatística é obter informação sobre a média de uma dada população. A média de uma amostra da população, $\\overline x$ , é como se fosse uma estimativa para $µ$, a média verdadeira da população. \n",
    " \n",
    "Informação adicional é dada pelo desvio padrão da distribuição amostral de \n",
    " $\\overline x$ , $ \\sigma_\\overline x = \\frac{\\sigma_x }{ \\sqrt{n}} $. O desvio padrão da distribuição de $\\overline x$, $ \\sigma_\\overline x$, é um tipo de medida da dispersão das médias $\\overline x$ de cada amostra de tamanho $n$ retirada da população em torno da média verdadeira da população $µ$. \n",
    " \n",
    "Usando a estimativa de µ dada pela média de uma amostra, $\\overline x$ , o desvio padrão da distribuição amostral, $ \\sigma_\\overline x$ , e as propriedades da distribuição normal, um intervalo de valores dentro do qual a média µ pode estar com um certo grau de confiança pode ser construído. Esse intervalo é chamado de intervalo de confiança para µ . O intervalo de confiança é construído de tal maneira que a probabilidade de que µ esteja dentro dele pode ser tão alta quanto se queira, ou seja, com 90% de certeza, 95% de certeza, 99% de certeza, 99,9% de certeza etc.  \n",
    " \n",
    "O poder do Teorema Central do Limite reside no fato de que os valores médios para amostras retiradas de uma população com qualquer distribuição estarão aproximadamente normalmente distribuídos se o tamanho das amostras for grande. Então, basta usar a distribuição normal para se calcular as probabilidades necessárias. \n"
   ]
  },
  {
   "cell_type": "markdown",
   "metadata": {},
   "source": [
    "<br><br>\n",
    "$$t=\\frac{\\overline x- \\mu_0}{\\sigma_\\overline x} \\sim t(n-1)$$\n",
    "<br><br>\n",
    "\n",
    "Onde $\\sigma_\\overline x$ é o erro-médio ou desvio-padrão médio amostral:\n",
    "\n",
    "<br>\n",
    "$$ \\sigma_\\overline x = \\frac{\\sigma_x }{ \\sqrt{n}} $$\n",
    "<br>\n",
    "\n",
    "<br>\n",
    "<img src=\"img/desvio_padrao_amostral.png\" width=\"350\" />\n",
    "<br>"
   ]
  },
  {
   "cell_type": "markdown",
   "metadata": {},
   "source": [
    "Porquê utilizar o Desvio-Padrão médio amostral:\n",
    "\n",
    "- A média amostral é um **estimador não viciado** para a média populacional μ e como sua variancia tende a zero conforme n cresce, concluímos também que é um **estimador consistente** para μ.\n",
    "\n",
    "- À medida que n aumenta, a **função densidade de probabilidade vai se concentrando ao redor da média populacional**. Quanto maior o tamanho de amostra maior probabilidade que uma estimativa de estar próxima da média populacional.\n"
   ]
  },
  {
   "cell_type": "markdown",
   "metadata": {},
   "source": [
    "----------------\n",
    "\n",
    "# Exemplos práticos"
   ]
  },
  {
   "cell_type": "code",
   "execution_count": 1,
   "metadata": {},
   "outputs": [],
   "source": [
    "# importando as bilbiotecas\n",
    "import numpy as np\n",
    "import pandas as pd\n",
    "import scipy.stats as st\n",
    "import math\n",
    "import matplotlib.pyplot as plt\n",
    "%matplotlib inline\n"
   ]
  },
  {
   "cell_type": "markdown",
   "metadata": {},
   "source": [
    "-----------\n",
    "\n",
    "# Exemplo 1: Lotérica\n",
    "\n",
    "Fomos contratados por uma empresa de loteria para pesquisar a proporção de clientes que compra determinado produto. A empresa manterá seu atual planejamento de marketing se a sua participação de mercado for de 50% ou mais, caso contrário, ela triplicará seus gastos em publicidade. \n",
    "\n",
    "- Hipótese Nula ($H_0$): 50% ou mais do mercado compra na lotérica (sem investimento adicional em MKT)\n",
    "- Hipótese Alternativa ($H_1$): menos de 50% do mercado compra na lotérica (triplicar o investimento em MKT)"
   ]
  },
  {
   "cell_type": "markdown",
   "metadata": {},
   "source": [
    "### Base de dados\n",
    "\n",
    "Temos a informação dada pelo cliente (dono da lotérica) que, em média, 40% das pessoas compra este determinado produto.\n",
    "\n",
    "A base de dados será criada com o numpy.binomial como um teste de 120 observações aleatórias com valores 0 e 1 (que define se o cliente compra ou não na casa lotérica), com parâmetro de distribuição p=0.4 (que define o target da média), para um teste. Estes dados estão substituindo artificialmente dados reais que seriam obtidos através da realização de 120 entrevistas com pessoas de vivem cerca da lotérica como potenciais clientes do negócio.\n",
    "\n",
    "### Criando um DataFrame com os dados\n",
    "\n",
    "Estes dados teoricamente seriam obtidos pela realização de entrevistas com as pessoas nas imediações da casa lotérica para apurar quantas pessoas são clientes e quantas não são clientes."
   ]
  },
  {
   "cell_type": "code",
   "execution_count": 2,
   "metadata": {},
   "outputs": [
    {
     "data": {
      "text/html": [
       "<div>\n",
       "<style scoped>\n",
       "    .dataframe tbody tr th:only-of-type {\n",
       "        vertical-align: middle;\n",
       "    }\n",
       "\n",
       "    .dataframe tbody tr th {\n",
       "        vertical-align: top;\n",
       "    }\n",
       "\n",
       "    .dataframe thead th {\n",
       "        text-align: right;\n",
       "    }\n",
       "</style>\n",
       "<table border=\"1\" class=\"dataframe\">\n",
       "  <thead>\n",
       "    <tr style=\"text-align: right;\">\n",
       "      <th></th>\n",
       "      <th>compra_ou_não</th>\n",
       "    </tr>\n",
       "  </thead>\n",
       "  <tbody>\n",
       "    <tr>\n",
       "      <th>0</th>\n",
       "      <td>0</td>\n",
       "    </tr>\n",
       "    <tr>\n",
       "      <th>1</th>\n",
       "      <td>1</td>\n",
       "    </tr>\n",
       "    <tr>\n",
       "      <th>2</th>\n",
       "      <td>1</td>\n",
       "    </tr>\n",
       "    <tr>\n",
       "      <th>3</th>\n",
       "      <td>0</td>\n",
       "    </tr>\n",
       "    <tr>\n",
       "      <th>4</th>\n",
       "      <td>0</td>\n",
       "    </tr>\n",
       "    <tr>\n",
       "      <th>5</th>\n",
       "      <td>0</td>\n",
       "    </tr>\n",
       "    <tr>\n",
       "      <th>6</th>\n",
       "      <td>0</td>\n",
       "    </tr>\n",
       "    <tr>\n",
       "      <th>7</th>\n",
       "      <td>1</td>\n",
       "    </tr>\n",
       "    <tr>\n",
       "      <th>8</th>\n",
       "      <td>1</td>\n",
       "    </tr>\n",
       "    <tr>\n",
       "      <th>9</th>\n",
       "      <td>1</td>\n",
       "    </tr>\n",
       "  </tbody>\n",
       "</table>\n",
       "</div>"
      ],
      "text/plain": [
       "   compra_ou_não\n",
       "0              0\n",
       "1              1\n",
       "2              1\n",
       "3              0\n",
       "4              0\n",
       "5              0\n",
       "6              0\n",
       "7              1\n",
       "8              1\n",
       "9              1"
      ]
     },
     "execution_count": 2,
     "metadata": {},
     "output_type": "execute_result"
    }
   ],
   "source": [
    "# Criação artificial dos dados por simulações de monte carlo\n",
    "p=0.4     # Definição do target (teórico)\n",
    "testes=1\n",
    "obs=120   # Número de Observações\n",
    "\n",
    "# fixando o valor inicial para geração de uma série de dados randômicos\n",
    "np.random.seed(seed=42)\n",
    "\n",
    "# Criando um DataFrame com os dados\n",
    "df = pd.DataFrame(np.random.binomial(n=testes, \n",
    "                                     p=p, \n",
    "                                     size=obs \n",
    "                                     ), \n",
    "                  columns= ['compra_ou_não'])\n",
    "df.head(10)\n",
    "\n",
    "# soma de 1's / total de linhas = obs"
   ]
  },
  {
   "cell_type": "code",
   "execution_count": 3,
   "metadata": {},
   "outputs": [
    {
     "data": {
      "text/plain": [
       "<AxesSubplot:ylabel='Frequency'>"
      ]
     },
     "execution_count": 3,
     "metadata": {},
     "output_type": "execute_result"
    },
    {
     "data": {
      "image/png": "[encoded data removed]",
      "text/plain": [
       "<Figure size 432x288 with 1 Axes>"
      ]
     },
     "metadata": {
      "needs_background": "light"
     },
     "output_type": "display_data"
    }
   ],
   "source": [
    "# plotando um histograma com os dados\n",
    "df.plot.hist()"
   ]
  },
  {
   "cell_type": "code",
   "execution_count": 4,
   "metadata": {},
   "outputs": [
    {
     "name": "stdout",
     "output_type": "stream",
     "text": [
      "<class 'pandas.core.frame.DataFrame'>\n",
      "RangeIndex: 120 entries, 0 to 119\n",
      "Data columns (total 1 columns):\n",
      " #   Column         Non-Null Count  Dtype\n",
      "---  ------         --------------  -----\n",
      " 0   compra_ou_não  120 non-null    int32\n",
      "dtypes: int32(1)\n",
      "memory usage: 608.0 bytes\n"
     ]
    }
   ],
   "source": [
    "# Obtendo as informações sobre os dados\n",
    "df.info()"
   ]
  },
  {
   "cell_type": "code",
   "execution_count": 5,
   "metadata": {},
   "outputs": [
    {
     "data": {
      "text/html": [
       "<div>\n",
       "<style scoped>\n",
       "    .dataframe tbody tr th:only-of-type {\n",
       "        vertical-align: middle;\n",
       "    }\n",
       "\n",
       "    .dataframe tbody tr th {\n",
       "        vertical-align: top;\n",
       "    }\n",
       "\n",
       "    .dataframe thead th {\n",
       "        text-align: right;\n",
       "    }\n",
       "</style>\n",
       "<table border=\"1\" class=\"dataframe\">\n",
       "  <thead>\n",
       "    <tr style=\"text-align: right;\">\n",
       "      <th></th>\n",
       "      <th>compra_ou_não</th>\n",
       "    </tr>\n",
       "  </thead>\n",
       "  <tbody>\n",
       "    <tr>\n",
       "      <th>count</th>\n",
       "      <td>120.000000</td>\n",
       "    </tr>\n",
       "    <tr>\n",
       "      <th>mean</th>\n",
       "      <td>0.383333</td>\n",
       "    </tr>\n",
       "    <tr>\n",
       "      <th>std</th>\n",
       "      <td>0.488237</td>\n",
       "    </tr>\n",
       "    <tr>\n",
       "      <th>min</th>\n",
       "      <td>0.000000</td>\n",
       "    </tr>\n",
       "    <tr>\n",
       "      <th>25%</th>\n",
       "      <td>0.000000</td>\n",
       "    </tr>\n",
       "    <tr>\n",
       "      <th>50%</th>\n",
       "      <td>0.000000</td>\n",
       "    </tr>\n",
       "    <tr>\n",
       "      <th>75%</th>\n",
       "      <td>1.000000</td>\n",
       "    </tr>\n",
       "    <tr>\n",
       "      <th>max</th>\n",
       "      <td>1.000000</td>\n",
       "    </tr>\n",
       "  </tbody>\n",
       "</table>\n",
       "</div>"
      ],
      "text/plain": [
       "       compra_ou_não\n",
       "count     120.000000\n",
       "mean        0.383333\n",
       "std         0.488237\n",
       "min         0.000000\n",
       "25%         0.000000\n",
       "50%         0.000000\n",
       "75%         1.000000\n",
       "max         1.000000"
      ]
     },
     "execution_count": 5,
     "metadata": {},
     "output_type": "execute_result"
    }
   ],
   "source": [
    "# obtendo a descrição das estatísticas básicas\n",
    "df.describe()"
   ]
  },
  {
   "cell_type": "code",
   "execution_count": 6,
   "metadata": {},
   "outputs": [
    {
     "data": {
      "text/plain": [
       "0.38333333333333336"
      ]
     },
     "execution_count": 6,
     "metadata": {},
     "output_type": "execute_result"
    }
   ],
   "source": [
    "# cálculo da média real\n",
    "df['compra_ou_não'].mean()"
   ]
  },
  {
   "cell_type": "markdown",
   "metadata": {},
   "source": [
    "## Análise dos dados\n",
    "\n",
    "### Calculando a média "
   ]
  },
  {
   "cell_type": "code",
   "execution_count": 7,
   "metadata": {},
   "outputs": [
    {
     "data": {
      "text/plain": [
       "0.38333333333333336"
      ]
     },
     "execution_count": 7,
     "metadata": {},
     "output_type": "execute_result"
    }
   ],
   "source": [
    "# cálculo da média pelo método raiz\n",
    "market_share_amostral=df.compra_ou_não.sum()/len(df.compra_ou_não)\n",
    "market_share_amostral"
   ]
  },
  {
   "cell_type": "markdown",
   "metadata": {},
   "source": [
    "### Calculando a variância e o desvio-padrão médio amostral\n",
    "\n",
    "A utilização do desvio-padrão médio amostral devido ao fato de se tratar de uma amostra."
   ]
  },
  {
   "cell_type": "code",
   "execution_count": 8,
   "metadata": {},
   "outputs": [
    {
     "name": "stdout",
     "output_type": "stream",
     "text": [
      "Desvio-Padrão médio amostral: compra_ou_não    0.04457\n",
      "dtype: float64\n",
      "Varância real: compra_ou_não    0.238375\n",
      "dtype: float64\n"
     ]
    }
   ],
   "source": [
    "# cálculo do desvio-padrão amostral \n",
    "# desvio=padrão dividido pelo número de observações menos um \n",
    "# menos um devido aos graus de liberdade da série (dof=1)\n",
    "std_médio_amostral = df.std()/(np.sqrt(obs)) \n",
    "# cálculo da variância real com a utiulização do desvio-padrão original\n",
    "var = df.std()**2\n",
    "print('Desvio-Padrão médio amostral:',std_médio_amostral)\n",
    "print('Varância real:',var)"
   ]
  },
  {
   "cell_type": "code",
   "execution_count": 9,
   "metadata": {},
   "outputs": [
    {
     "data": {
      "text/plain": [
       "0.24"
      ]
     },
     "execution_count": 9,
     "metadata": {},
     "output_type": "execute_result"
    }
   ],
   "source": [
    "var_nominal = p*(1-p)\n",
    "var_nominal"
   ]
  },
  {
   "cell_type": "markdown",
   "metadata": {},
   "source": [
    "### Formulando a hipótese a ser testada\n",
    "\n",
    "Segundo o teste de hipóteses, caso o market share da lotérica seja maior que 50% o investimento deve se manter o mesmo (não triplicar), ou seja, se $p(H_0) > 0.5$ não rejeitamos a hipótese. Neste caso conhecemos a média e a variância amostral.\n",
    "\n",
    "Será utilizada a média amostral padronizada do ponto anterior como estatístico de teste. Adotando o nível de significância de 0.95, está sendo buscada uma regra que deixe um valor de $p > 0.05$ de rejeição quando H0 for verdadeira."
   ]
  },
  {
   "cell_type": "markdown",
   "metadata": {},
   "source": [
    "## Calculando e comparando os valores críticos"
   ]
  },
  {
   "cell_type": "code",
   "execution_count": 10,
   "metadata": {},
   "outputs": [
    {
     "data": {
      "text/plain": [
       "(0.2959766533226802, 0.4706900133439865)"
      ]
     },
     "execution_count": 10,
     "metadata": {},
     "output_type": "execute_result"
    }
   ],
   "source": [
    "# Calculando manualmente, com base na fórmula (utilizando o z-score nominal para população)\n",
    "\n",
    "# média, desvio-padrão amostral e número de observações\n",
    "#n=120\n",
    "mean = df.compra_ou_não.mean()\n",
    "std = df.compra_ou_não.std()\n",
    "n = len(df.compra_ou_não)\n",
    "\n",
    "# intervalo de confiança\n",
    "# da tabela Z-Score: 0.95 / 2 = 0.4750 --> 1.96\n",
    "mean - 1.96*std/np.sqrt(n), mean + 1.96*std/np.sqrt(n) "
   ]
  },
  {
   "cell_type": "code",
   "execution_count": 11,
   "metadata": {},
   "outputs": [
    {
     "data": {
      "text/plain": [
       "(0.295978258522175, 0.4706884081444917)"
      ]
     },
     "execution_count": 11,
     "metadata": {},
     "output_type": "execute_result"
    }
   ],
   "source": [
    "# Calculando o intervalo de confiança pelo Scipy.Stats\n",
    "st.norm.interval(alpha=0.95, loc=mean, scale=std/np.sqrt(n))"
   ]
  },
  {
   "cell_type": "code",
   "execution_count": 12,
   "metadata": {},
   "outputs": [],
   "source": [
    "# isolando os limites de valor inferior e superior\n",
    "limite_inferior = st.norm.interval(alpha=0.95, loc=mean, scale=std/np.sqrt(n))[0]\n",
    "limite_superior = st.norm.interval(alpha=0.95, loc=mean, scale=std/np.sqrt(n))[1]"
   ]
  },
  {
   "cell_type": "code",
   "execution_count": 13,
   "metadata": {},
   "outputs": [
    {
     "data": {
      "text/plain": [
       "(0.295978258522175, 0.4706884081444917)"
      ]
     },
     "execution_count": 13,
     "metadata": {},
     "output_type": "execute_result"
    }
   ],
   "source": [
    "# chamando as variáveis criadas limite_inferior e limite_superior\n",
    "limite_inferior,limite_superior"
   ]
  },
  {
   "cell_type": "code",
   "execution_count": 14,
   "metadata": {},
   "outputs": [
    {
     "data": {
      "text/plain": [
       "False"
      ]
     },
     "execution_count": 14,
     "metadata": {},
     "output_type": "execute_result"
    }
   ],
   "source": [
    "# Comparando com a hopótese\n",
    "p_H0 = 0.5\n",
    "limite_inferior < p_H0 < limite_superior"
   ]
  },
  {
   "cell_type": "markdown",
   "metadata": {},
   "source": [
    "Podemos perceber que o valor de p_Ho=0.5 também está fora do intervalo de confiança (zona de rejeição), o que nos faz rejeitar a hipótese Ho."
   ]
  },
  {
   "cell_type": "markdown",
   "metadata": {},
   "source": [
    "### Calculando o p-value"
   ]
  },
  {
   "cell_type": "code",
   "execution_count": 15,
   "metadata": {},
   "outputs": [
    {
     "data": {
      "text/plain": [
       "0.004427256462693125"
      ]
     },
     "execution_count": 15,
     "metadata": {},
     "output_type": "execute_result"
    }
   ],
   "source": [
    "# cálculo do ONE SIDED P_VALUE pelo sf (survival function)\n",
    "sided_p_value = st.norm(loc=mean, scale=std/np.sqrt(n)).sf(0.5) \n",
    "sided_p_value"
   ]
  },
  {
   "cell_type": "code",
   "execution_count": 16,
   "metadata": {},
   "outputs": [
    {
     "data": {
      "text/plain": [
       "0.00885451292538625"
      ]
     },
     "execution_count": 16,
     "metadata": {},
     "output_type": "execute_result"
    }
   ],
   "source": [
    "# p-value por Scipy.Stats com o survival function (sf) para a normal bi-caudal\n",
    "p_value = 2*sided_p_value\n",
    "p_value"
   ]
  },
  {
   "cell_type": "markdown",
   "metadata": {},
   "source": [
    "### Calculando o Alpha Máximo para o valor da hipótese"
   ]
  },
  {
   "cell_type": "code",
   "execution_count": 17,
   "metadata": {},
   "outputs": [
    {
     "data": {
      "text/plain": [
       "0.9911454870746137"
      ]
     },
     "execution_count": 17,
     "metadata": {},
     "output_type": "execute_result"
    }
   ],
   "source": [
    "# cálculo do ALPHA MÁXIMO pelo p_value\n",
    "alpha_max = 1-p_value\n",
    "alpha_max"
   ]
  },
  {
   "cell_type": "code",
   "execution_count": 20,
   "metadata": {},
   "outputs": [
    {
     "data": {
      "text/plain": [
       "(0.26666666666666683, 0.4999999999999999)"
      ]
     },
     "execution_count": 20,
     "metadata": {},
     "output_type": "execute_result"
    }
   ],
   "source": [
    "# verificando o intervalo de confiança com o alpha máximo (limite superior da hipótese nula=0.5) \n",
    "st.norm.interval(alpha=alpha_max, loc=mean, scale=std/np.sqrt(n))\n"
   ]
  },
  {
   "cell_type": "code",
   "execution_count": 21,
   "metadata": {},
   "outputs": [
    {
     "data": {
      "text/plain": [
       "0.9911454870746137"
      ]
     },
     "execution_count": 21,
     "metadata": {},
     "output_type": "execute_result"
    }
   ],
   "source": [
    "# cálculo do ALPHA MÁXIMO pelo sf (survivaL fuction)\n",
    "1-(st.norm(loc=mean, scale=std/np.sqrt(n)).sf(0.5))*2"
   ]
  },
  {
   "cell_type": "code",
   "execution_count": 22,
   "metadata": {},
   "outputs": [
    {
     "data": {
      "text/plain": [
       "0.9911454870746137"
      ]
     },
     "execution_count": 22,
     "metadata": {},
     "output_type": "execute_result"
    }
   ],
   "source": [
    "# cálculo do ALPHA MÁXIMO pelo cdf (cumulative distribution function)\n",
    "1-(1-st.norm(loc=mean, scale=std/np.sqrt(n)).cdf(0.5))*2"
   ]
  },
  {
   "cell_type": "code",
   "execution_count": 23,
   "metadata": {},
   "outputs": [
    {
     "data": {
      "text/plain": [
       "0.008854512925386304"
      ]
     },
     "execution_count": 23,
     "metadata": {},
     "output_type": "execute_result"
    }
   ],
   "source": [
    "# cálculo do P_VALUE pela cdf (cumulative distribution function)\n",
    "2 * (1-st.norm(mean, std/np.sqrt(n)).cdf(0.5))"
   ]
  },
  {
   "cell_type": "code",
   "execution_count": 24,
   "metadata": {},
   "outputs": [
    {
     "data": {
      "text/plain": [
       "False"
      ]
     },
     "execution_count": 24,
     "metadata": {},
     "output_type": "execute_result"
    }
   ],
   "source": [
    "# Comparando o p-values com o limite de alpha 95%\n",
    "from math import fabs\n",
    "fabs(p_value) > 0.05"
   ]
  },
  {
   "cell_type": "markdown",
   "metadata": {},
   "source": [
    "### teste t_Student\n",
    "\n",
    "Também podemos concluir que o p-value está fora do intervalo de confiança (menos que 0.05 em módulo), portanto reforçamos a mesma conclusão de rejeitar a hipótese Ho."
   ]
  },
  {
   "cell_type": "code",
   "execution_count": 25,
   "metadata": {},
   "outputs": [
    {
     "data": {
      "text/plain": [
       "Ttest_1sampResult(statistic=-2.617620846382675, pvalue=0.010004294006988495)"
      ]
     },
     "execution_count": 25,
     "metadata": {},
     "output_type": "execute_result"
    }
   ],
   "source": [
    "# Calculando as estatísticas por Scipy.Stats para t-student \n",
    "# retorna o Z-score amostral e o p-value\n",
    "\n",
    "st.ttest_1samp(df.compra_ou_não, 0.5) "
   ]
  },
  {
   "cell_type": "markdown",
   "metadata": {},
   "source": [
    "### teste com z-Score"
   ]
  },
  {
   "cell_type": "code",
   "execution_count": 26,
   "metadata": {},
   "outputs": [
    {
     "data": {
      "text/plain": [
       "2.617620846382676"
      ]
     },
     "execution_count": 26,
     "metadata": {},
     "output_type": "execute_result"
    }
   ],
   "source": [
    "# Cálculo do Z-score para a amostra\n",
    "p_H0=0.5\n",
    "z_teste = (p_H0-market_share_amostral) / (std/np.sqrt(n))\n",
    "z_teste"
   ]
  },
  {
   "cell_type": "code",
   "execution_count": 27,
   "metadata": {},
   "outputs": [
    {
     "data": {
      "text/plain": [
       "False"
      ]
     },
     "execution_count": 27,
     "metadata": {},
     "output_type": "execute_result"
    }
   ],
   "source": [
    "#A decisão é...\n",
    "\n",
    "z_score = 1.96 # Z score para a significância de 95% é de -1.96 a 1.96\n",
    "\n",
    "from math import fabs # fabs retorna o módulo do valor.\n",
    "fabs(z_teste) < fabs(z_score)"
   ]
  },
  {
   "cell_type": "markdown",
   "metadata": {},
   "source": [
    "O valor do z-score=-2.62 para a p_Ho=0.5 está fora do intervalo de confiança com alpha=0.05."
   ]
  },
  {
   "cell_type": "markdown",
   "metadata": {},
   "source": [
    "## Plotando a curva Beta dos dados para verificar o comportamento da distribuição"
   ]
  },
  {
   "cell_type": "code",
   "execution_count": 28,
   "metadata": {},
   "outputs": [
    {
     "data": {
      "text/plain": [
       "(0.38333333333333336, 0.38333333333333336)"
      ]
     },
     "execution_count": 28,
     "metadata": {},
     "output_type": "execute_result"
    }
   ],
   "source": [
    "market_share_amostral,mean"
   ]
  },
  {
   "cell_type": "code",
   "execution_count": 29,
   "metadata": {},
   "outputs": [
    {
     "data": {
      "image/png": "[encoded data removed]",
      "text/plain": [
       "<Figure size 432x288 with 1 Axes>"
      ]
     },
     "metadata": {
      "needs_background": "light"
     },
     "output_type": "display_data"
    }
   ],
   "source": [
    "from scipy.stats import beta\n",
    "import matplotlib.pyplot as plt\n",
    "\n",
    "# Para o gráfico\n",
    "fig, ax = plt.subplots(1, 1) \n",
    "\n",
    "# Gerando a distribuição\n",
    "beta_distribution = beta(100*mean,100-100*mean)\n",
    "\n",
    "# Plotando a distribuição\n",
    "x = np.linspace(0.2, 0.6, 120)\n",
    "ax.plot(x, beta_distribution.pdf(x))\n",
    "ax.set(xlabel='conversion rate', ylabel='density')\n",
    "\n",
    "\n",
    "# x coordinates for the lines\n",
    "xcoords = [round(limite_inferior,3),round(mean,3),round(limite_superior,3),p_H0]\n",
    "# colors for the lines\n",
    "colors = ['r','k','r','b']\n",
    "\n",
    "for xc,c in zip(xcoords,colors):\n",
    "    plt.axvline(x=xc, label='line at x = {}'.format(xc), c=c)\n",
    "\n",
    "\n",
    "plt.legend()\n",
    "plt.show()"
   ]
  },
  {
   "cell_type": "markdown",
   "metadata": {},
   "source": [
    "-------------\n",
    "\n",
    "# Exemplo 2: Companhia aérea\n",
    "\n",
    "Em uma companhia aérea temos um vôo com 368 assentos, com um número de passagens vendidas de n=400. Sendo que a probabilidade de no-show é de 10%, e o custo de um passageiro excedente é de 1.000,00 Reais, com $ 0.95 $ de confiança, qual é a exposição financeira total da empresa aérea?"
   ]
  },
  {
   "cell_type": "code",
   "execution_count": 30,
   "metadata": {},
   "outputs": [
    {
     "name": "stdout",
     "output_type": "stream",
     "text": [
      "média = 360.0\n",
      "desvio-padrão médio amostral (erro médio) = 6.0\n",
      "Intervalo de confiança: 348.0 <--> 372.0\n",
      "Risco financeiro total = 4000.0\n"
     ]
    }
   ],
   "source": [
    "# identificando os dados\n",
    "n=400 # número de passagens vendidas\n",
    "p=0.1 # probabilidade de no show\n",
    "risco_p_passageiro = 1000 # valores em reais\n",
    "assentos=368 # No. de assentos do avião\n",
    "\n",
    "# Calculando a média:\n",
    "media = n*(1-p)  \n",
    "print('média =', media)\n",
    "\n",
    "# Cálculo do desvio-padrão pela variância ( Sigma/n**0.5 ) ** 2 = p * ( 1-p )\n",
    "std_medio_amostral = ( n * p*(1 - p) ) ** 0.5\n",
    "print('desvio-padrão médio amostral (erro médio) =', std_medio_amostral)\n",
    "\n",
    "# calculando e imprimindo o intervalo de confiança para um nível de 95% de confiança\n",
    "int_inferior = media - 2*std_medio_amostral\n",
    "int_superior = media + 2*std_medio_amostral\n",
    "print('Intervalo de confiança:', int_inferior, '<-->', int_superior)\n",
    "\n",
    "# calculando e imprimindo o risco financeiro\n",
    "risco = ( int_superior - assentos ) * risco_p_passageiro\n",
    "print ('Risco financeiro total =',risco)"
   ]
  },
  {
   "cell_type": "code",
   "execution_count": 31,
   "metadata": {},
   "outputs": [
    {
     "data": {
      "image/png": "[encoded data removed]",
      "text/plain": [
       "<Figure size 432x288 with 1 Axes>"
      ]
     },
     "metadata": {
      "needs_background": "light"
     },
     "output_type": "display_data"
    }
   ],
   "source": [
    "# definindo os dados\n",
    "mu = 360\n",
    "p=0.1\n",
    "variance = p*(1 - p)\n",
    "sigma = 6 \n",
    "# coordenadas de x\n",
    "x = np.linspace(mu - 3*sigma, mu + 3*sigma, 100)\n",
    "\n",
    "# plotando a curva normal\n",
    "plt.plot(x, st.norm.pdf(x, mu, sigma))\n",
    "\n",
    "# coordenadas de x\n",
    "xcoords = [round(int_inferior,3),round(media,3),round(int_superior,3),assentos]\n",
    "# cor das linhas\n",
    "colors = ['r','k','r','b']\n",
    "# plotando as linhas\n",
    "for xc,c in zip(xcoords,colors):\n",
    "    plt.axvline(x=xc, label='line at x = {}'.format(xc), c=c)\n",
    "# plotando as legendas\n",
    "plt.legend()\n",
    "plt.show()"
   ]
  },
  {
   "cell_type": "markdown",
   "metadata": {},
   "source": [
    "----------------\n",
    "\n",
    "# Exemplo 3: Klout Score\n",
    "\n",
    "## Introdução\n",
    "\n",
    "Klout costumava ser um site e aplicativo móvel que usava análise de mídia social para classificar seus usuários de acordo com a influência social online através do \"Klout Score\", que era um valor numérico entre 1 e 100. Ao determinar a pontuação do usuário, o Klout media o tamanho de uma rede de mídia social do usuário e correlacionava o conteúdo criado para medir como outros usuários interagem com esse conteúdo. Klout lançado em 2008.\n",
    "\n",
    "A Lithium Technologies, que adquiriu o site em março de 2014, fechou o serviço em 25 de maio de 2018.\n",
    "\n",
    "Klout utilizava os dados do Bing, Facebook, Quadrangular, Google+, Instagram, LinkedIn, Twitter, YouTube e Wikipedia para criar perfis de usuários do Klout que recebia uma \"pontuação do Klout\" exclusiva. As pontuações de Klout variam de 1 a 100, com pontuações mais altas correspondendo a uma classificação mais alta da amplitude e da força da influência social on-line de cada um. Enquanto todos os usuários do Twitter recebiam uma pontuação, os usuários que se registraram no Klout podiam vincular várias redes sociais, das quais os dados da rede foram agregados para influenciar a pontuação do Klout do usuário.\n",
    "\n",
    "<br>\n",
    "<img src=\"img/klout.png\" width=\"450\" />\n",
    "<br>\n",
    "\n",
    "### Aplicação do Klout-Score na prática\n",
    "\n",
    "Agora vamos observar a distribuição dos [Klout Scores](https://klout.com/corp/score) que está anexada ao arquivo `klouts_scores.csv`. com isso, vamos imaginar que 1048 observações de Klout scores seja a nossa população com as quais contamos."
   ]
  },
  {
   "cell_type": "markdown",
   "metadata": {},
   "source": [
    "## Aproximando uma distribuição amostral das médias\n",
    "\n",
    "### Orientações\n",
    "\n",
    "1. Obtemos uma amostra de tamanho 5 e calculamos a média. Repetimos este passo 1000 vezes para fazer um histograma das médias. \n",
    "2. Obtemos uma amostra de tamanho 10 e calculamos a média. Repetimos este passo 1000 vezes.\n",
    "3. Obtemos uma amostra de tamanho 100 e calculamos a média. Repetimos este passo 1000 vezes.\n",
    "4. O que é observado sobre o histograma da média à medida que aumentamos o tamanho amostral?\n",
    "5. O que é observado sobre o valor das médias das diferentes distribuições amostrais em relação à média populacional?"
   ]
  },
  {
   "cell_type": "code",
   "execution_count": 32,
   "metadata": {},
   "outputs": [],
   "source": [
    "# Importando as bibliotecas\n",
    "import pandas as pd\n",
    "import numpy as np\n",
    "import scipy.stats as st\n",
    "import matplotlib.pyplot as plt\n",
    "%matplotlib inline"
   ]
  },
  {
   "cell_type": "code",
   "execution_count": 33,
   "metadata": {},
   "outputs": [],
   "source": [
    "# lendo e verificando os dados\n",
    "#%time df = pd.read_csv(\"http://www.dropbox.com/s/dhazsdbp42m3vg8/klout_scores.csv?dl=1\", header=None, decimal=\",\")      \n",
    "#df.columns = ['k_score']"
   ]
  },
  {
   "cell_type": "code",
   "execution_count": 41,
   "metadata": {},
   "outputs": [],
   "source": [
    "# Lendo e armazenando os daods em um DataFrame\n",
    "df = pd.read_csv('C:/Users/Luiz Philipe Rangel/Dropbox/PC/Desktop/TERA - AULAS/Aula 13 - Testes de hipotes e calculo de amostragem/data/klout_scores.csv', header =None, decimal=\",\")\n",
    "df.columns = ['k_score']"
   ]
  },
  {
   "cell_type": "code",
   "execution_count": 42,
   "metadata": {},
   "outputs": [
    {
     "name": "stdout",
     "output_type": "stream",
     "text": [
      "<class 'pandas.core.frame.DataFrame'>\n",
      "RangeIndex: 1048 entries, 0 to 1047\n",
      "Data columns (total 1 columns):\n",
      " #   Column   Non-Null Count  Dtype  \n",
      "---  ------   --------------  -----  \n",
      " 0   k_score  1048 non-null   float64\n",
      "dtypes: float64(1)\n",
      "memory usage: 8.3 KB\n"
     ]
    }
   ],
   "source": [
    "# Obtendo as informações dos dados\n",
    "df.info()"
   ]
  },
  {
   "cell_type": "code",
   "execution_count": 43,
   "metadata": {},
   "outputs": [
    {
     "data": {
      "text/plain": [
       "0       25.104179\n",
       "1       60.908747\n",
       "2       23.222238\n",
       "3       51.553491\n",
       "4       22.629690\n",
       "          ...    \n",
       "1043    28.544280\n",
       "1044    16.647022\n",
       "1045    40.078943\n",
       "1046    51.085002\n",
       "1047    22.430099\n",
       "Name: k_score, Length: 1048, dtype: float64"
      ]
     },
     "execution_count": 43,
     "metadata": {},
     "output_type": "execute_result"
    }
   ],
   "source": [
    "pd.to_numeric(df.k_score)"
   ]
  },
  {
   "cell_type": "code",
   "execution_count": 44,
   "metadata": {},
   "outputs": [
    {
     "data": {
      "text/html": [
       "<div>\n",
       "<style scoped>\n",
       "    .dataframe tbody tr th:only-of-type {\n",
       "        vertical-align: middle;\n",
       "    }\n",
       "\n",
       "    .dataframe tbody tr th {\n",
       "        vertical-align: top;\n",
       "    }\n",
       "\n",
       "    .dataframe thead th {\n",
       "        text-align: right;\n",
       "    }\n",
       "</style>\n",
       "<table border=\"1\" class=\"dataframe\">\n",
       "  <thead>\n",
       "    <tr style=\"text-align: right;\">\n",
       "      <th></th>\n",
       "      <th>k_score</th>\n",
       "    </tr>\n",
       "  </thead>\n",
       "  <tbody>\n",
       "    <tr>\n",
       "      <th>0</th>\n",
       "      <td>25.104179</td>\n",
       "    </tr>\n",
       "    <tr>\n",
       "      <th>1</th>\n",
       "      <td>60.908747</td>\n",
       "    </tr>\n",
       "    <tr>\n",
       "      <th>2</th>\n",
       "      <td>23.222238</td>\n",
       "    </tr>\n",
       "    <tr>\n",
       "      <th>3</th>\n",
       "      <td>51.553491</td>\n",
       "    </tr>\n",
       "    <tr>\n",
       "      <th>4</th>\n",
       "      <td>22.629690</td>\n",
       "    </tr>\n",
       "  </tbody>\n",
       "</table>\n",
       "</div>"
      ],
      "text/plain": [
       "     k_score\n",
       "0  25.104179\n",
       "1  60.908747\n",
       "2  23.222238\n",
       "3  51.553491\n",
       "4  22.629690"
      ]
     },
     "execution_count": 44,
     "metadata": {},
     "output_type": "execute_result"
    }
   ],
   "source": [
    "# Verificando as 5 primeiras linhas \n",
    "df.head()"
   ]
  },
  {
   "cell_type": "code",
   "execution_count": 45,
   "metadata": {},
   "outputs": [
    {
     "data": {
      "text/html": [
       "<div>\n",
       "<style scoped>\n",
       "    .dataframe tbody tr th:only-of-type {\n",
       "        vertical-align: middle;\n",
       "    }\n",
       "\n",
       "    .dataframe tbody tr th {\n",
       "        vertical-align: top;\n",
       "    }\n",
       "\n",
       "    .dataframe thead th {\n",
       "        text-align: right;\n",
       "    }\n",
       "</style>\n",
       "<table border=\"1\" class=\"dataframe\">\n",
       "  <thead>\n",
       "    <tr style=\"text-align: right;\">\n",
       "      <th></th>\n",
       "      <th>k_score</th>\n",
       "    </tr>\n",
       "  </thead>\n",
       "  <tbody>\n",
       "    <tr>\n",
       "      <th>count</th>\n",
       "      <td>1048.000000</td>\n",
       "    </tr>\n",
       "    <tr>\n",
       "      <th>mean</th>\n",
       "      <td>37.719055</td>\n",
       "    </tr>\n",
       "    <tr>\n",
       "      <th>std</th>\n",
       "      <td>16.044315</td>\n",
       "    </tr>\n",
       "    <tr>\n",
       "      <th>min</th>\n",
       "      <td>10.000000</td>\n",
       "    </tr>\n",
       "    <tr>\n",
       "      <th>25%</th>\n",
       "      <td>23.174620</td>\n",
       "    </tr>\n",
       "    <tr>\n",
       "      <th>50%</th>\n",
       "      <td>41.094683</td>\n",
       "    </tr>\n",
       "    <tr>\n",
       "      <th>75%</th>\n",
       "      <td>50.284432</td>\n",
       "    </tr>\n",
       "    <tr>\n",
       "      <th>max</th>\n",
       "      <td>87.247529</td>\n",
       "    </tr>\n",
       "  </tbody>\n",
       "</table>\n",
       "</div>"
      ],
      "text/plain": [
       "           k_score\n",
       "count  1048.000000\n",
       "mean     37.719055\n",
       "std      16.044315\n",
       "min      10.000000\n",
       "25%      23.174620\n",
       "50%      41.094683\n",
       "75%      50.284432\n",
       "max      87.247529"
      ]
     },
     "execution_count": 45,
     "metadata": {},
     "output_type": "execute_result"
    }
   ],
   "source": [
    "# verificando as estatísticas básicas\n",
    "df.describe()"
   ]
  },
  {
   "cell_type": "code",
   "execution_count": 46,
   "metadata": {},
   "outputs": [
    {
     "data": {
      "text/plain": [
       "k_score    37.719055\n",
       "dtype: float64"
      ]
     },
     "execution_count": 46,
     "metadata": {},
     "output_type": "execute_result"
    }
   ],
   "source": [
    "# Calculando a média\n",
    "mean = df.mean()\n",
    "mean"
   ]
  },
  {
   "cell_type": "code",
   "execution_count": 47,
   "metadata": {},
   "outputs": [
    {
     "data": {
      "text/plain": [
       "<AxesSubplot:ylabel='Frequency'>"
      ]
     },
     "execution_count": 47,
     "metadata": {},
     "output_type": "execute_result"
    },
    {
     "data": {
      "image/png": "[encoded data removed]",
      "text/plain": [
       "<Figure size 576x432 with 1 Axes>"
      ]
     },
     "metadata": {
      "needs_background": "light"
     },
     "output_type": "display_data"
    }
   ],
   "source": [
    "# Plotando um histograma\n",
    "df.k_score.plot.hist(bins=30, figsize=(8,6))"
   ]
  },
  {
   "cell_type": "markdown",
   "metadata": {},
   "source": [
    "### Definimos uma função para realizar a amostragem e calcular a média para uma amostra de tamanho n."
   ]
  },
  {
   "cell_type": "code",
   "execution_count": 48,
   "metadata": {},
   "outputs": [],
   "source": [
    "# Definindo uma função randômica para extrair uma amostra dos dados\n",
    "def sampling(df, n):\n",
    "    \"\"\"\n",
    "    df = dataframe\n",
    "    n = tamanho da amostra\n",
    "    \"\"\"\n",
    "    #np.random.seed(seed=1)\n",
    "    index = np.random.choice(range(0,len(df)), size = n)\n",
    "    df_s = np.array(df.iloc[index,])\n",
    "    return(df_s)\n",
    "\n",
    "# Definindo uma função para cálculo da média das médias\n",
    "def samp_mean(df, n_i):\n",
    "    means = []                        # means = list()\n",
    "    for reps in range(0,1000):\n",
    "        s_ = sampling(df, n_i)\n",
    "        m_ = s_.mean()\n",
    "        means.append(m_)\n",
    "    return(means)"
   ]
  },
  {
   "cell_type": "code",
   "execution_count": 49,
   "metadata": {},
   "outputs": [
    {
     "name": "stdout",
     "output_type": "stream",
     "text": [
      "0 [25.10417915]\n",
      "1 [60.9087471]\n",
      "2 [23.22223768]\n",
      "3 [51.55349118]\n",
      "4 [22.62969025]\n",
      "5 [53.33809913]\n",
      "6 [22.36088208]\n",
      "7 [26.51507812]\n",
      "8 [52.73731623]\n",
      "9 [40.23515157]\n",
      "10 [40.78219363]\n"
     ]
    }
   ],
   "source": [
    "# Printando em Python as 10 primeiras observações\n",
    "for i, n in enumerate(df.values):\n",
    "    print(i, n)\n",
    "    if i == 10:\n",
    "        break  "
   ]
  },
  {
   "cell_type": "code",
   "execution_count": 50,
   "metadata": {},
   "outputs": [
    {
     "data": {
      "text/plain": [
       "'\\n    df = dataframe\\n    n = tamanho da amostra\\n    '"
      ]
     },
     "execution_count": 50,
     "metadata": {},
     "output_type": "execute_result"
    }
   ],
   "source": [
    "# Verificando o tipo de variável da função sampling\n",
    "sampling.__doc__"
   ]
  },
  {
   "cell_type": "markdown",
   "metadata": {},
   "source": [
    "### Verificação da redução de variância com o aumento da amostra"
   ]
  },
  {
   "cell_type": "code",
   "execution_count": 69,
   "metadata": {},
   "outputs": [
    {
     "ename": "ValueError",
     "evalue": "Single argument to subplot must be a three-digit integer, not '221'",
     "output_type": "error",
     "traceback": [
      "\u001b[1;31m---------------------------------------------------------------------------\u001b[0m",
      "\u001b[1;31mValueError\u001b[0m                                Traceback (most recent call last)",
      "Input \u001b[1;32mIn [69]\u001b[0m, in \u001b[0;36m<cell line: 8>\u001b[1;34m()\u001b[0m\n\u001b[0;32m      8\u001b[0m \u001b[38;5;28;01mfor\u001b[39;00m i \u001b[38;5;129;01min\u001b[39;00m \u001b[38;5;28mrange\u001b[39m(\u001b[38;5;28mlen\u001b[39m(n_s)):\n\u001b[0;32m     10\u001b[0m     mm \u001b[38;5;241m=\u001b[39m samp_mean(df, n_s[i])\n\u001b[1;32m---> 11\u001b[0m     \u001b[43mplt\u001b[49m\u001b[38;5;241;43m.\u001b[39;49m\u001b[43msubplot\u001b[49m\u001b[43m(\u001b[49m\u001b[43m(\u001b[49m\u001b[38;5;124;43m'\u001b[39;49m\u001b[38;5;124;43m22\u001b[39;49m\u001b[38;5;124;43m'\u001b[39;49m\u001b[43m \u001b[49m\u001b[38;5;241;43m+\u001b[39;49m\u001b[43m \u001b[49m\u001b[38;5;28;43mstr\u001b[39;49m\u001b[43m(\u001b[49m\u001b[43mi\u001b[49m\u001b[38;5;241;43m+\u001b[39;49m\u001b[38;5;241;43m1\u001b[39;49m\u001b[43m)\u001b[49m\u001b[43m)\u001b[49m\u001b[43m)\u001b[49m\n\u001b[0;32m     12\u001b[0m     plt\u001b[38;5;241m.\u001b[39mhist(mm)\n\u001b[0;32m     13\u001b[0m     plt\u001b[38;5;241m.\u001b[39mxlim((\u001b[38;5;241m0\u001b[39m,\u001b[38;5;241m75\u001b[39m))\n",
      "File \u001b[1;32mC:\\ProgramData\\Anaconda3\\lib\\site-packages\\matplotlib\\pyplot.py:1268\u001b[0m, in \u001b[0;36msubplot\u001b[1;34m(*args, **kwargs)\u001b[0m\n\u001b[0;32m   1265\u001b[0m fig \u001b[38;5;241m=\u001b[39m gcf()\n\u001b[0;32m   1267\u001b[0m \u001b[38;5;66;03m# First, search for an existing subplot with a matching spec.\u001b[39;00m\n\u001b[1;32m-> 1268\u001b[0m key \u001b[38;5;241m=\u001b[39m \u001b[43mSubplotSpec\u001b[49m\u001b[38;5;241;43m.\u001b[39;49m\u001b[43m_from_subplot_args\u001b[49m\u001b[43m(\u001b[49m\u001b[43mfig\u001b[49m\u001b[43m,\u001b[49m\u001b[43m \u001b[49m\u001b[43margs\u001b[49m\u001b[43m)\u001b[49m\n\u001b[0;32m   1270\u001b[0m \u001b[38;5;28;01mfor\u001b[39;00m ax \u001b[38;5;129;01min\u001b[39;00m fig\u001b[38;5;241m.\u001b[39maxes:\n\u001b[0;32m   1271\u001b[0m     \u001b[38;5;66;03m# if we found an axes at the position sort out if we can re-use it\u001b[39;00m\n\u001b[0;32m   1272\u001b[0m     \u001b[38;5;28;01mif\u001b[39;00m \u001b[38;5;28mhasattr\u001b[39m(ax, \u001b[38;5;124m'\u001b[39m\u001b[38;5;124mget_subplotspec\u001b[39m\u001b[38;5;124m'\u001b[39m) \u001b[38;5;129;01mand\u001b[39;00m ax\u001b[38;5;241m.\u001b[39mget_subplotspec() \u001b[38;5;241m==\u001b[39m key:\n\u001b[0;32m   1273\u001b[0m         \u001b[38;5;66;03m# if the user passed no kwargs, re-use\u001b[39;00m\n",
      "File \u001b[1;32mC:\\ProgramData\\Anaconda3\\lib\\site-packages\\matplotlib\\gridspec.py:582\u001b[0m, in \u001b[0;36mSubplotSpec._from_subplot_args\u001b[1;34m(figure, args)\u001b[0m\n\u001b[0;32m    580\u001b[0m     \u001b[38;5;28;01mreturn\u001b[39;00m arg\n\u001b[0;32m    581\u001b[0m \u001b[38;5;28;01melif\u001b[39;00m \u001b[38;5;129;01mnot\u001b[39;00m \u001b[38;5;28misinstance\u001b[39m(arg, Integral):\n\u001b[1;32m--> 582\u001b[0m     \u001b[38;5;28;01mraise\u001b[39;00m \u001b[38;5;167;01mValueError\u001b[39;00m(\n\u001b[0;32m    583\u001b[0m         \u001b[38;5;124mf\u001b[39m\u001b[38;5;124m\"\u001b[39m\u001b[38;5;124mSingle argument to subplot must be a three-digit \u001b[39m\u001b[38;5;124m\"\u001b[39m\n\u001b[0;32m    584\u001b[0m         \u001b[38;5;124mf\u001b[39m\u001b[38;5;124m\"\u001b[39m\u001b[38;5;124minteger, not \u001b[39m\u001b[38;5;132;01m{\u001b[39;00marg\u001b[38;5;132;01m!r}\u001b[39;00m\u001b[38;5;124m\"\u001b[39m)\n\u001b[0;32m    585\u001b[0m \u001b[38;5;28;01mtry\u001b[39;00m:\n\u001b[0;32m    586\u001b[0m     rows, cols, num \u001b[38;5;241m=\u001b[39m \u001b[38;5;28mmap\u001b[39m(\u001b[38;5;28mint\u001b[39m, \u001b[38;5;28mstr\u001b[39m(arg))\n",
      "\u001b[1;31mValueError\u001b[0m: Single argument to subplot must be a three-digit integer, not '221'"
     ]
    },
    {
     "data": {
      "text/plain": [
       "<Figure size 720x720 with 0 Axes>"
      ]
     },
     "metadata": {},
     "output_type": "display_data"
    }
   ],
   "source": [
    "# rotina para plotar a distribuição dos dados para diferentes números de observações \n",
    "# aqui podemos observar o erro caindo conforme aumentamos o n\n",
    "\n",
    "m = []\n",
    "n_s = [5,10,50,300]\n",
    "plt.figure(figsize=(10,10))\n",
    "\n",
    "for i in range(len(n_s)):\n",
    "    \n",
    "    mm = samp_mean(df, n_s[i])\n",
    "    plt.subplot(('22' + str(i+1)))\n",
    "    plt.hist(mm)\n",
    "    plt.xlim((0,75))\n",
    "    e = np.mean(mm) - mean\n",
    "    plt.title('n=' + str(n_s[i]) + ' - ' + 'Media=' + str(round(np.mean(mm),4)) + ' - Erro:' + str(round(e,4)) )"
   ]
  },
  {
   "cell_type": "markdown",
   "metadata": {},
   "source": [
    "## Calculando um intervalo de confiança com `scipy`\n",
    "\n",
    "### Agora, vamos extrair uma amostra da população de tamanho n=70. Em seguida, vamos calcular um intervalo de confiança de 95% para a média populacional"
   ]
  },
  {
   "cell_type": "code",
   "execution_count": 55,
   "metadata": {},
   "outputs": [],
   "source": [
    "# Extrair a amostra \n",
    "n= 70\n",
    "sample = sampling(df,n)"
   ]
  },
  {
   "cell_type": "code",
   "execution_count": 56,
   "metadata": {},
   "outputs": [
    {
     "data": {
      "text/plain": [
       "(35.501093165315716, 15.73173840721539, 70)"
      ]
     },
     "execution_count": 56,
     "metadata": {},
     "output_type": "execute_result"
    }
   ],
   "source": [
    "# Calcular o estatístico a ser utilizado\n",
    "mean, sigma, n = np.mean(sample), np.std(sample), len(sample)\n",
    "mean, sigma, n"
   ]
  },
  {
   "cell_type": "code",
   "execution_count": 70,
   "metadata": {},
   "outputs": [
    {
     "data": {
      "text/plain": [
       "(31.815768216772607, 39.18641811385882)"
      ]
     },
     "execution_count": 70,
     "metadata": {},
     "output_type": "execute_result"
    }
   ],
   "source": [
    "# Calculamos o intervalo de confiança de uma aproximação normal com o método de scipy\n",
    "st.norm.interval(0.95, loc=mean, scale=sigma/np.sqrt(n))"
   ]
  },
  {
   "cell_type": "code",
   "execution_count": 71,
   "metadata": {},
   "outputs": [
    {
     "data": {
      "text/plain": [
       "(31.815700496817485, 39.18648583381395)"
      ]
     },
     "execution_count": 71,
     "metadata": {},
     "output_type": "execute_result"
    }
   ],
   "source": [
    "# Ele pode ser calculado manualmente, com base na fórmula com alpha 0.95\n",
    "mean - 1.96*sigma/np.sqrt(n), mean + 1.96*sigma/np.sqrt(n)\n",
    "# da tabela Z-Score: 0.95 / 2 = 0.4750 --> 1.96"
   ]
  },
  {
   "cell_type": "code",
   "execution_count": 72,
   "metadata": {},
   "outputs": [
    {
     "data": {
      "text/plain": [
       "(31.241874288908967, 39.760312041722464)"
      ]
     },
     "execution_count": 72,
     "metadata": {},
     "output_type": "execute_result"
    }
   ],
   "source": [
    "# Podemos calcular uma aproximação normal\n",
    "st.t.interval(0.95, n, loc=mean, scale=sigma/(np.sqrt(n)-1))"
   ]
  },
  {
   "cell_type": "markdown",
   "metadata": {},
   "source": [
    "### Intervalo de confiança para uma amostra de 150"
   ]
  },
  {
   "cell_type": "code",
   "execution_count": 73,
   "metadata": {},
   "outputs": [],
   "source": [
    "#Extrair a amostra \n",
    "n= 150\n",
    "sample = sampling(df,n)"
   ]
  },
  {
   "cell_type": "code",
   "execution_count": 74,
   "metadata": {},
   "outputs": [
    {
     "data": {
      "text/plain": [
       "(39.70081999320533, 14.682818210426987, 150)"
      ]
     },
     "execution_count": 74,
     "metadata": {},
     "output_type": "execute_result"
    }
   ],
   "source": [
    "#Calcular o estatístico a ser utilizado\n",
    "mean, sigma, n = np.mean(sample), np.std(sample), len(sample)\n",
    "mean, sigma, n"
   ]
  },
  {
   "cell_type": "code",
   "execution_count": 75,
   "metadata": {},
   "outputs": [
    {
     "data": {
      "text/plain": [
       "(37.35112288026395, 42.05051710614671)"
      ]
     },
     "execution_count": 75,
     "metadata": {},
     "output_type": "execute_result"
    }
   ],
   "source": [
    "# Calculamos o intervalo de confiança de uma aproximação normal com o método de scipy\n",
    "st.norm.interval(0.95, loc=mean, scale=sigma/np.sqrt(n))"
   ]
  },
  {
   "cell_type": "code",
   "execution_count": 76,
   "metadata": {},
   "outputs": [
    {
     "data": {
      "text/plain": [
       "(37.35107970323472, 42.05056028317594)"
      ]
     },
     "execution_count": 76,
     "metadata": {},
     "output_type": "execute_result"
    }
   ],
   "source": [
    "# Ele pode ser calculado manualmente, com base na fórmula \n",
    "mean - 1.96*sigma/np.sqrt(n), mean + 1.96*sigma/np.sqrt(n)\n",
    "# da tabela Z-Score: 0.95 / 2 = 0.4750 --> 1.96"
   ]
  },
  {
   "cell_type": "code",
   "execution_count": 77,
   "metadata": {},
   "outputs": [
    {
     "data": {
      "text/plain": [
       "(37.121403139449754, 42.280236846960904)"
      ]
     },
     "execution_count": 77,
     "metadata": {},
     "output_type": "execute_result"
    }
   ],
   "source": [
    "# Podemos calcular uma aproximação normal\n",
    "st.t.interval(0.95, n, loc=mean, scale=sigma/(np.sqrt(n)-1))"
   ]
  },
  {
   "cell_type": "markdown",
   "metadata": {},
   "source": [
    "## Fazendo um teste de hipótese em `scipy`\n",
    "\n",
    "### Orientações\n",
    "\n",
    "3.1. Agora, suponha que em uma consultoria é apresentada a média do Klout Score populacional de 38. Realizar um teste de hipótese sobre isso, com um nível de significância de 0.05 ( https://pt.wikipedia.org/wiki/Significância_estatística ). Apresentar as hipóteses nulas e alternativas. Qual foi a conclusão?\n",
    "\n",
    "3.2. Suponha que, em vez de definir um nível de significância de 0.05, é definido um nível de 0.1. O resultado poderia ter sido alterado?\n",
    "\n",
    "3.3. E se a hipótese nula indicasse que a média é 42?"
   ]
  },
  {
   "cell_type": "markdown",
   "metadata": {},
   "source": [
    "### Agora, suponha que em uma consultoria é apresentada a média do Klout Score populacional de 38. Realizar um teste de hipótese sobre isso, com um nível de significância de 0.05. Apresentar as hipóteses nulas e alternativas. Qual foi a conclusão?\n",
    "\n",
    "Para o nosso exemplo:\n",
    "\n",
    "- Hipotese nula (algo que se quer **não rejeitar**): a média de Klout Score de 38 é estatísticamente válida.\n",
    "- Hipotese alternativa: a média de Klout Score de 38 não é estatísticamente válida.\n",
    "\n",
    "Para este trabalho, vamos utilizar os valores do nosso **Sample** do item anterior com amostra de 150"
   ]
  },
  {
   "cell_type": "code",
   "execution_count": 78,
   "metadata": {},
   "outputs": [
    {
     "data": {
      "text/plain": [
       "(37.35112288026395, 42.05051710614671)"
      ]
     },
     "execution_count": 78,
     "metadata": {},
     "output_type": "execute_result"
    }
   ],
   "source": [
    "# Calculando o intervalo de confiança:\n",
    "mean, sigma, n = np.mean(sample), np.std(sample), len(sample)\n",
    "st.norm.interval(0.95, loc=mean, scale=sigma/np.sqrt(n))"
   ]
  },
  {
   "cell_type": "code",
   "execution_count": 79,
   "metadata": {},
   "outputs": [
    {
     "data": {
      "text/plain": [
       "39.70081999320533"
      ]
     },
     "execution_count": 79,
     "metadata": {},
     "output_type": "execute_result"
    }
   ],
   "source": [
    "mean"
   ]
  },
  {
   "cell_type": "code",
   "execution_count": 80,
   "metadata": {},
   "outputs": [
    {
     "data": {
      "text/plain": [
       "Ttest_1sampResult(statistic=array([1.41397609]), pvalue=array([0.15945495]))"
      ]
     },
     "execution_count": 80,
     "metadata": {},
     "output_type": "execute_result"
    }
   ],
   "source": [
    "# Calculando os valores de t-Student e p-Value para a média = 38:\n",
    "\n",
    "x_barra = 38\n",
    "st.ttest_1samp(sample,x_barra) "
   ]
  },
  {
   "cell_type": "markdown",
   "metadata": {},
   "source": [
    "### Isolando os resultados para comparação"
   ]
  },
  {
   "cell_type": "code",
   "execution_count": 81,
   "metadata": {},
   "outputs": [
    {
     "data": {
      "text/plain": [
       "array([1.41397609])"
      ]
     },
     "execution_count": 81,
     "metadata": {},
     "output_type": "execute_result"
    }
   ],
   "source": [
    "t_student = st.ttest_1samp(sample,x_barra)[0]\n",
    "t_student"
   ]
  },
  {
   "cell_type": "code",
   "execution_count": 82,
   "metadata": {},
   "outputs": [
    {
     "data": {
      "text/plain": [
       "array([0.15945495])"
      ]
     },
     "execution_count": 82,
     "metadata": {},
     "output_type": "execute_result"
    }
   ],
   "source": [
    "p_value = st.ttest_1samp(sample,x_barra)[1]\n",
    "p_value"
   ]
  },
  {
   "cell_type": "markdown",
   "metadata": {},
   "source": [
    "### Valores críticos"
   ]
  },
  {
   "cell_type": "markdown",
   "metadata": {},
   "source": [
    "#### t_student"
   ]
  },
  {
   "cell_type": "code",
   "execution_count": 83,
   "metadata": {},
   "outputs": [
    {
     "name": "stdout",
     "output_type": "stream",
     "text": [
      "37.35 <---> 42.05\n"
     ]
    }
   ],
   "source": [
    "# Abribuindo o intervalo de confiança às variáveis para os limites superior e inferior\n",
    "\n",
    "limite_inferior = st.norm.interval(0.95, loc=mean, scale=sigma/np.sqrt(n))[0]\n",
    "limite_superior = st.norm.interval(0.95, loc=mean, scale=sigma/np.sqrt(n))[1]\n",
    "print(\"%.2f\" % limite_inferior,'<--->', \"%.2f\" % limite_superior)  "
   ]
  },
  {
   "cell_type": "code",
   "execution_count": 84,
   "metadata": {},
   "outputs": [
    {
     "data": {
      "text/plain": [
       "Ttest_1sampResult(statistic=array([0.]), pvalue=array([1.]))"
      ]
     },
     "execution_count": 84,
     "metadata": {},
     "output_type": "execute_result"
    }
   ],
   "source": [
    "# Realizando o t_test para a média para auferir a matamética do pacote\n",
    "t_student_critico_superior = st.ttest_1samp(sample,mean)\n",
    "t_student_critico_superior"
   ]
  },
  {
   "cell_type": "code",
   "execution_count": 85,
   "metadata": {},
   "outputs": [
    {
     "name": "stdout",
     "output_type": "stream",
     "text": [
      "37.12 <---> 42.28\n"
     ]
    }
   ],
   "source": [
    "# Calculando t-Student crítico para os limites superior e inferior (com inversão pois t-student < 0)\n",
    "\n",
    "t_student_critico_superior = st.t.interval(0.95, n, loc=mean, scale=sigma/(np.sqrt(n)-1))[1]\n",
    "t_student_critico_inferior = st.t.interval(0.95, n, loc=mean, scale=sigma/(np.sqrt(n)-1))[0]\n",
    "print(\"%.2f\" % t_student_critico_inferior,'<--->',\"%.2f\" %  t_student_critico_superior)"
   ]
  },
  {
   "cell_type": "code",
   "execution_count": 86,
   "metadata": {},
   "outputs": [
    {
     "data": {
      "text/plain": [
       "True"
      ]
     },
     "execution_count": 86,
     "metadata": {},
     "output_type": "execute_result"
    }
   ],
   "source": [
    "t_student_critico_inferior < x_barra < t_student_critico_superior"
   ]
  },
  {
   "cell_type": "markdown",
   "metadata": {},
   "source": [
    "#### p-value\n",
    "\n",
    "O valor de p-value tem que estaar entre o limite inferior de -0.025 e o limite superior de 0.05. Somando-se as duas extremidades (superior e interior, obtemos um limite de 0.05 para o p-value, ou seja, para valores maiores que 0.05 não rejeitamos a hipótese nula, e para valores menores que 0.05 rejeitamos a hipótese nula."
   ]
  },
  {
   "cell_type": "code",
   "execution_count": 87,
   "metadata": {},
   "outputs": [
    {
     "data": {
      "text/plain": [
       "array([ True])"
      ]
     },
     "execution_count": 87,
     "metadata": {},
     "output_type": "execute_result"
    }
   ],
   "source": [
    "# O p-value tem que estar dentro da área normal que comporta a região central de 95% da área da distribuição\n",
    "\n",
    "np.fabs(p_value) > 0.05"
   ]
  },
  {
   "cell_type": "markdown",
   "metadata": {},
   "source": [
    "### Suponha que, em vez de definir um nível de significância de 0.05, é definido um nível de 0.1. O resultado poderia ter sido alterado?"
   ]
  },
  {
   "cell_type": "code",
   "execution_count": 88,
   "metadata": {},
   "outputs": [
    {
     "data": {
      "text/plain": [
       "(37.728892014454225, 41.67274797195643)"
      ]
     },
     "execution_count": 88,
     "metadata": {},
     "output_type": "execute_result"
    }
   ],
   "source": [
    "# 2. Significância 0.1:\n",
    "\n",
    "\n",
    "# Calculamos o intervalo de confiança de uma aproximação normal com o método de scipy\n",
    "st.norm.interval(0.9, loc=mean, scale=sigma/np.sqrt(n))"
   ]
  },
  {
   "cell_type": "code",
   "execution_count": 89,
   "metadata": {},
   "outputs": [
    {
     "data": {
      "text/plain": [
       "Ttest_1sampResult(statistic=array([1.41397609]), pvalue=array([0.15945495]))"
      ]
     },
     "execution_count": 89,
     "metadata": {},
     "output_type": "execute_result"
    }
   ],
   "source": [
    "# Calculando os valores de t-Student e p-Value para a média = 38:\n",
    "\n",
    "x_barra = 38.0\n",
    "st.ttest_1samp(sample,x_barra) "
   ]
  },
  {
   "cell_type": "code",
   "execution_count": 90,
   "metadata": {},
   "outputs": [
    {
     "data": {
      "text/plain": [
       "array([1.41397609])"
      ]
     },
     "execution_count": 90,
     "metadata": {},
     "output_type": "execute_result"
    }
   ],
   "source": [
    "t_student = st.ttest_1samp(sample,x_barra)[0]\n",
    "t_student"
   ]
  },
  {
   "cell_type": "code",
   "execution_count": 91,
   "metadata": {},
   "outputs": [
    {
     "name": "stdout",
     "output_type": "stream",
     "text": [
      "37.73 <---> 41.67\n"
     ]
    }
   ],
   "source": [
    "# Abribuindo o intervalo de confiança às variáveis para os limites superior e inferior\n",
    "\n",
    "limite_inferior = st.norm.interval(0.90, loc=mean, scale=sigma/np.sqrt(n))[0]\n",
    "limite_superior = st.norm.interval(0.90, loc=mean, scale=sigma/np.sqrt(n))[1]\n",
    "print(\"%.2f\" % limite_inferior,'<--->', \"%.2f\" % limite_superior) "
   ]
  },
  {
   "cell_type": "code",
   "execution_count": 92,
   "metadata": {},
   "outputs": [
    {
     "name": "stdout",
     "output_type": "stream",
     "text": [
      "37.54 <---> 41.86\n"
     ]
    }
   ],
   "source": [
    "# Calculando t-Student crítico para os limites superior e inferior (com inversão pois t-student < 0)\n",
    "\n",
    "t_student_critico_superior = st.t.interval(0.90, n, loc=mean, scale=sigma/(np.sqrt(n)-1))[1]\n",
    "t_student_critico_inferior = st.t.interval(0.90, n, loc=mean, scale=sigma/(np.sqrt(n)-1))[0]\n",
    "print(\"%.2f\" % t_student_critico_inferior,'<--->',\"%.2f\" %  t_student_critico_superior)"
   ]
  },
  {
   "cell_type": "code",
   "execution_count": 93,
   "metadata": {},
   "outputs": [
    {
     "data": {
      "text/plain": [
       "True"
      ]
     },
     "execution_count": 93,
     "metadata": {},
     "output_type": "execute_result"
    }
   ],
   "source": [
    "# Verificação t-Student\n",
    "t_student_critico_inferior < x_barra < t_student_critico_superior"
   ]
  },
  {
   "cell_type": "code",
   "execution_count": 94,
   "metadata": {},
   "outputs": [
    {
     "data": {
      "text/plain": [
       "array([0.07972748])"
      ]
     },
     "execution_count": 94,
     "metadata": {},
     "output_type": "execute_result"
    }
   ],
   "source": [
    "# Verificação p-value\n",
    "p_value = st.ttest_1samp(sample,x_barra)[1]/2\n",
    "p_value"
   ]
  },
  {
   "cell_type": "code",
   "execution_count": 95,
   "metadata": {},
   "outputs": [
    {
     "data": {
      "text/plain": [
       "array([ True])"
      ]
     },
     "execution_count": 95,
     "metadata": {},
     "output_type": "execute_result"
    }
   ],
   "source": [
    "# O p-value tem que estar dentro da área normal que comporta a região central de 95% da área da distribuição\n",
    "\n",
    "np.fabs(p_value) > 0.05"
   ]
  },
  {
   "cell_type": "markdown",
   "metadata": {},
   "source": [
    "### E se a hipótese nula indicasse que a média é 42?"
   ]
  },
  {
   "cell_type": "code",
   "execution_count": 96,
   "metadata": {},
   "outputs": [
    {
     "data": {
      "text/plain": [
       "Ttest_1sampResult(statistic=array([-1.91142247]), pvalue=array([0.05787021]))"
      ]
     },
     "execution_count": 96,
     "metadata": {},
     "output_type": "execute_result"
    }
   ],
   "source": [
    "# 3. Hipótese nula indicando média 42:\n",
    "\n",
    "st.ttest_1samp(sample,42)"
   ]
  },
  {
   "cell_type": "code",
   "execution_count": 97,
   "metadata": {},
   "outputs": [
    {
     "data": {
      "text/plain": [
       "Ttest_1sampResult(statistic=array([-1.91142247]), pvalue=array([0.05787021]))"
      ]
     },
     "execution_count": 97,
     "metadata": {},
     "output_type": "execute_result"
    }
   ],
   "source": [
    "# Calculando os valores de t-Student e p-Value para a média = 42:\n",
    "\n",
    "x_barra = 42.0\n",
    "st.ttest_1samp(sample,x_barra) "
   ]
  },
  {
   "cell_type": "code",
   "execution_count": 98,
   "metadata": {},
   "outputs": [
    {
     "data": {
      "text/plain": [
       "array([-1.91142247])"
      ]
     },
     "execution_count": 98,
     "metadata": {},
     "output_type": "execute_result"
    }
   ],
   "source": [
    "t_student = st.ttest_1samp(sample,x_barra)[0]\n",
    "t_student"
   ]
  },
  {
   "cell_type": "code",
   "execution_count": 99,
   "metadata": {},
   "outputs": [
    {
     "name": "stdout",
     "output_type": "stream",
     "text": [
      "37.35 <---> 42.05\n"
     ]
    }
   ],
   "source": [
    "# Abribuindo o intervalo de confiança às variáveis para os limites superior e inferior\n",
    "\n",
    "limite_inferior = st.norm.interval(0.95, loc=mean, scale=sigma/np.sqrt(n))[0]\n",
    "limite_superior = st.norm.interval(0.95, loc=mean, scale=sigma/np.sqrt(n))[1]\n",
    "print(\"%.2f\" % limite_inferior,'<--->', \"%.2f\" % limite_superior) "
   ]
  },
  {
   "cell_type": "code",
   "execution_count": 100,
   "metadata": {},
   "outputs": [
    {
     "name": "stdout",
     "output_type": "stream",
     "text": [
      "37.54 <---> 41.86\n"
     ]
    }
   ],
   "source": [
    "# Calculando t-Student crítico para os limites superior e inferior (com inversão pois t-student < 0)\n",
    "\n",
    "t_student_critico_superior = st.t.interval(0.90, n, loc=mean, scale=sigma/(np.sqrt(n)-1))[1]\n",
    "t_student_critico_inferior = st.t.interval(0.90, n, loc=mean, scale=sigma/(np.sqrt(n)-1))[0]\n",
    "print(\"%.2f\" % t_student_critico_inferior,'<--->',\"%.2f\" %  t_student_critico_superior)"
   ]
  },
  {
   "cell_type": "code",
   "execution_count": 101,
   "metadata": {},
   "outputs": [
    {
     "data": {
      "text/plain": [
       "False"
      ]
     },
     "execution_count": 101,
     "metadata": {},
     "output_type": "execute_result"
    }
   ],
   "source": [
    "# Verificação t-Student\n",
    "t_student_critico_inferior < x_barra < t_student_critico_superior"
   ]
  },
  {
   "cell_type": "code",
   "execution_count": 102,
   "metadata": {},
   "outputs": [
    {
     "data": {
      "text/plain": [
       "array([0.0289351])"
      ]
     },
     "execution_count": 102,
     "metadata": {},
     "output_type": "execute_result"
    }
   ],
   "source": [
    "# Verificação p-value\n",
    "p_value = st.ttest_1samp(sample,x_barra)[1]/2\n",
    "p_value"
   ]
  },
  {
   "cell_type": "code",
   "execution_count": 103,
   "metadata": {},
   "outputs": [
    {
     "data": {
      "text/plain": [
       "array([False])"
      ]
     },
     "execution_count": 103,
     "metadata": {},
     "output_type": "execute_result"
    }
   ],
   "source": [
    "# O p-value tem que estar dentro da área normal que comporta a região central de 95% da área da distribuição\n",
    "\n",
    "p_value > 0.05"
   ]
  },
  {
   "cell_type": "code",
   "execution_count": null,
   "metadata": {},
   "outputs": [],
   "source": []
  },
  {
   "cell_type": "code",
   "execution_count": null,
   "metadata": {},
   "outputs": [],
   "source": []
  }
 ],
 "metadata": {
  "hide_input": false,
  "kernelspec": {
   "display_name": "Python 3 (ipykernel)",
   "language": "python",
   "name": "python3"
  },
  "language_info": {
   "codemirror_mode": {
    "name": "ipython",
    "version": 3
   },
   "file_extension": ".py",
   "mimetype": "text/x-python",
   "name": "python",
   "nbconvert_exporter": "python",
   "pygments_lexer": "ipython3",
   "version": "3.9.12"
  },
  "latex_envs": {
   "LaTeX_envs_menu_present": true,
   "autoclose": false,
   "autocomplete": true,
   "bibliofile": "biblio.bib",
   "cite_by": "apalike",
   "current_citInitial": 1,
   "eqLabelWithNumbers": true,
   "eqNumInitial": 1,
   "hotkeys": {
    "equation": "Ctrl-E",
    "itemize": "Ctrl-I"
   },
   "labels_anchors": false,
   "latex_user_defs": false,
   "report_style_numbering": false,
   "user_envs_cfg": false
  },
  "toc": {
   "base_numbering": 1,
   "nav_menu": {},
   "number_sections": true,
   "sideBar": true,
   "skip_h1_title": false,
   "title_cell": "Table of Contents",
   "title_sidebar": "Contents",
   "toc_cell": false,
   "toc_position": {},
   "toc_section_display": true,
   "toc_window_display": false
  },
  "varInspector": {
   "cols": {
    "lenName": 16,
    "lenType": 16,
    "lenVar": 40
   },
   "kernels_config": {
    "python": {
     "delete_cmd_postfix": "",
     "delete_cmd_prefix": "del ",
     "library": "var_list.py",
     "varRefreshCmd": "print(var_dic_list())"
    },
    "r": {
     "delete_cmd_postfix": ") ",
     "delete_cmd_prefix": "rm(",
     "library": "var_list.r",
     "varRefreshCmd": "cat(var_dic_list()) "
    }
   },
   "types_to_exclude": [
    "module",
    "function",
    "builtin_function_or_method",
    "instance",
    "_Feature"
   ],
   "window_display": false
  }
 },
 "nbformat": 4,
 "nbformat_minor": 4
}
