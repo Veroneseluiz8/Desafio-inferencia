{
 "cells": [
  {
   "cell_type": "code",
   "execution_count": 3,
   "id": "88ac9871",
   "metadata": {},
   "outputs": [],
   "source": [
    "#Desafio de Inferencia Analise Bivariada - Importaçao das bibliotecas\n",
    "import pandas as pd\n",
    "import seaborn as srn\n",
    "import numpy as np\n",
    "import statistics  as sts\n",
    "import matplotlib.pyplot as plt"
   ]
  },
  {
   "cell_type": "code",
   "execution_count": 4,
   "id": "5a000503",
   "metadata": {},
   "outputs": [
    {
     "data": {
      "text/html": [
       "<div>\n",
       "<style scoped>\n",
       "    .dataframe tbody tr th:only-of-type {\n",
       "        vertical-align: middle;\n",
       "    }\n",
       "\n",
       "    .dataframe tbody tr th {\n",
       "        vertical-align: top;\n",
       "    }\n",
       "\n",
       "    .dataframe thead th {\n",
       "        text-align: right;\n",
       "    }\n",
       "</style>\n",
       "<table border=\"1\" class=\"dataframe\">\n",
       "  <thead>\n",
       "    <tr style=\"text-align: right;\">\n",
       "      <th></th>\n",
       "      <th>Unnamed: 0</th>\n",
       "      <th>Unnamed: 0.1</th>\n",
       "      <th>SEQN</th>\n",
       "      <th>DPQ010</th>\n",
       "      <th>DPQ020</th>\n",
       "      <th>DPQ030</th>\n",
       "      <th>DPQ040</th>\n",
       "      <th>DPQ050</th>\n",
       "      <th>DPQ060</th>\n",
       "      <th>DPQ070</th>\n",
       "      <th>...</th>\n",
       "      <th>HEI2015C9_FATTYACID</th>\n",
       "      <th>HEI2015C10_SODIUM</th>\n",
       "      <th>HEI2015C11_REFINEDGRAIN</th>\n",
       "      <th>HEI2015C12_SFAT</th>\n",
       "      <th>HEI2015C13_ADDSUG</th>\n",
       "      <th>HEI2015_TOTAL_SCORE</th>\n",
       "      <th>phq9</th>\n",
       "      <th>phq_grp</th>\n",
       "      <th>Etnia</th>\n",
       "      <th>Graderenci_Pag</th>\n",
       "    </tr>\n",
       "  </thead>\n",
       "  <tbody>\n",
       "    <tr>\n",
       "      <th>0</th>\n",
       "      <td>0</td>\n",
       "      <td>0</td>\n",
       "      <td>31130</td>\n",
       "      <td>NaN</td>\n",
       "      <td>NaN</td>\n",
       "      <td>NaN</td>\n",
       "      <td>NaN</td>\n",
       "      <td>NaN</td>\n",
       "      <td>NaN</td>\n",
       "      <td>NaN</td>\n",
       "      <td>...</td>\n",
       "      <td>NaN</td>\n",
       "      <td>NaN</td>\n",
       "      <td>NaN</td>\n",
       "      <td>NaN</td>\n",
       "      <td>NaN</td>\n",
       "      <td>NaN</td>\n",
       "      <td>0.0</td>\n",
       "      <td>Sem Sintomas</td>\n",
       "      <td>Mexicano-americano</td>\n",
       "      <td>Aderencia baixa</td>\n",
       "    </tr>\n",
       "    <tr>\n",
       "      <th>1</th>\n",
       "      <td>1</td>\n",
       "      <td>1</td>\n",
       "      <td>31131</td>\n",
       "      <td>0.0</td>\n",
       "      <td>0.0</td>\n",
       "      <td>0.0</td>\n",
       "      <td>0.0</td>\n",
       "      <td>0.0</td>\n",
       "      <td>0.0</td>\n",
       "      <td>0.0</td>\n",
       "      <td>...</td>\n",
       "      <td>0.684985</td>\n",
       "      <td>2.297100</td>\n",
       "      <td>9.512964</td>\n",
       "      <td>0.438428</td>\n",
       "      <td>3.919226</td>\n",
       "      <td>35.553899</td>\n",
       "      <td>0.0</td>\n",
       "      <td>Sem Sintomas</td>\n",
       "      <td>Outro</td>\n",
       "      <td>Aderencia adequada</td>\n",
       "    </tr>\n",
       "    <tr>\n",
       "      <th>2</th>\n",
       "      <td>2</td>\n",
       "      <td>2</td>\n",
       "      <td>31132</td>\n",
       "      <td>0.0</td>\n",
       "      <td>0.0</td>\n",
       "      <td>0.0</td>\n",
       "      <td>0.0</td>\n",
       "      <td>0.0</td>\n",
       "      <td>0.0</td>\n",
       "      <td>0.0</td>\n",
       "      <td>...</td>\n",
       "      <td>2.050769</td>\n",
       "      <td>7.369489</td>\n",
       "      <td>8.887880</td>\n",
       "      <td>8.186877</td>\n",
       "      <td>9.099088</td>\n",
       "      <td>63.551696</td>\n",
       "      <td>0.0</td>\n",
       "      <td>Sem Sintomas</td>\n",
       "      <td>Mexicano-americano</td>\n",
       "      <td>Aderencia acima</td>\n",
       "    </tr>\n",
       "    <tr>\n",
       "      <th>3</th>\n",
       "      <td>3</td>\n",
       "      <td>3</td>\n",
       "      <td>31134</td>\n",
       "      <td>0.0</td>\n",
       "      <td>0.0</td>\n",
       "      <td>0.0</td>\n",
       "      <td>0.0</td>\n",
       "      <td>0.0</td>\n",
       "      <td>0.0</td>\n",
       "      <td>0.0</td>\n",
       "      <td>...</td>\n",
       "      <td>2.958985</td>\n",
       "      <td>0.000000</td>\n",
       "      <td>5.627488</td>\n",
       "      <td>5.863078</td>\n",
       "      <td>5.878686</td>\n",
       "      <td>42.886826</td>\n",
       "      <td>0.0</td>\n",
       "      <td>Sem Sintomas</td>\n",
       "      <td>Mexicano-americano</td>\n",
       "      <td>Aderencia acima</td>\n",
       "    </tr>\n",
       "    <tr>\n",
       "      <th>4</th>\n",
       "      <td>4</td>\n",
       "      <td>4</td>\n",
       "      <td>31139</td>\n",
       "      <td>0.0</td>\n",
       "      <td>0.0</td>\n",
       "      <td>0.0</td>\n",
       "      <td>0.0</td>\n",
       "      <td>3.0</td>\n",
       "      <td>1.0</td>\n",
       "      <td>0.0</td>\n",
       "      <td>...</td>\n",
       "      <td>10.000000</td>\n",
       "      <td>2.845774</td>\n",
       "      <td>0.000000</td>\n",
       "      <td>10.000000</td>\n",
       "      <td>9.658507</td>\n",
       "      <td>47.074393</td>\n",
       "      <td>4.0</td>\n",
       "      <td>Sem Sintomas</td>\n",
       "      <td>Negro não-hispanico</td>\n",
       "      <td>Aderencia acima</td>\n",
       "    </tr>\n",
       "    <tr>\n",
       "      <th>...</th>\n",
       "      <td>...</td>\n",
       "      <td>...</td>\n",
       "      <td>...</td>\n",
       "      <td>...</td>\n",
       "      <td>...</td>\n",
       "      <td>...</td>\n",
       "      <td>...</td>\n",
       "      <td>...</td>\n",
       "      <td>...</td>\n",
       "      <td>...</td>\n",
       "      <td>...</td>\n",
       "      <td>...</td>\n",
       "      <td>...</td>\n",
       "      <td>...</td>\n",
       "      <td>...</td>\n",
       "      <td>...</td>\n",
       "      <td>...</td>\n",
       "      <td>...</td>\n",
       "      <td>...</td>\n",
       "      <td>...</td>\n",
       "      <td>...</td>\n",
       "    </tr>\n",
       "    <tr>\n",
       "      <th>5329</th>\n",
       "      <td>5329</td>\n",
       "      <td>5329</td>\n",
       "      <td>41466</td>\n",
       "      <td>0.0</td>\n",
       "      <td>0.0</td>\n",
       "      <td>1.0</td>\n",
       "      <td>1.0</td>\n",
       "      <td>0.0</td>\n",
       "      <td>0.0</td>\n",
       "      <td>0.0</td>\n",
       "      <td>...</td>\n",
       "      <td>4.633477</td>\n",
       "      <td>0.000000</td>\n",
       "      <td>6.580006</td>\n",
       "      <td>8.393244</td>\n",
       "      <td>9.360990</td>\n",
       "      <td>59.949915</td>\n",
       "      <td>2.0</td>\n",
       "      <td>Sem Sintomas</td>\n",
       "      <td>Outro-hispanico</td>\n",
       "      <td>Aderencia baixa</td>\n",
       "    </tr>\n",
       "    <tr>\n",
       "      <th>5330</th>\n",
       "      <td>5330</td>\n",
       "      <td>5330</td>\n",
       "      <td>41468</td>\n",
       "      <td>0.0</td>\n",
       "      <td>2.0</td>\n",
       "      <td>0.0</td>\n",
       "      <td>1.0</td>\n",
       "      <td>1.0</td>\n",
       "      <td>2.0</td>\n",
       "      <td>1.0</td>\n",
       "      <td>...</td>\n",
       "      <td>4.780282</td>\n",
       "      <td>3.134216</td>\n",
       "      <td>1.986137</td>\n",
       "      <td>5.850269</td>\n",
       "      <td>10.000000</td>\n",
       "      <td>57.747869</td>\n",
       "      <td>10.0</td>\n",
       "      <td>Sintomas Moderados</td>\n",
       "      <td>Branco não-hispanico</td>\n",
       "      <td>Aderencia adequada</td>\n",
       "    </tr>\n",
       "    <tr>\n",
       "      <th>5331</th>\n",
       "      <td>5331</td>\n",
       "      <td>5331</td>\n",
       "      <td>41469</td>\n",
       "      <td>1.0</td>\n",
       "      <td>0.0</td>\n",
       "      <td>0.0</td>\n",
       "      <td>1.0</td>\n",
       "      <td>0.0</td>\n",
       "      <td>0.0</td>\n",
       "      <td>0.0</td>\n",
       "      <td>...</td>\n",
       "      <td>9.344947</td>\n",
       "      <td>3.535211</td>\n",
       "      <td>4.326307</td>\n",
       "      <td>5.269780</td>\n",
       "      <td>8.195564</td>\n",
       "      <td>42.993323</td>\n",
       "      <td>2.0</td>\n",
       "      <td>Sem Sintomas</td>\n",
       "      <td>Outro</td>\n",
       "      <td>Aderencia adequada</td>\n",
       "    </tr>\n",
       "    <tr>\n",
       "      <th>5332</th>\n",
       "      <td>5332</td>\n",
       "      <td>5332</td>\n",
       "      <td>41472</td>\n",
       "      <td>0.0</td>\n",
       "      <td>0.0</td>\n",
       "      <td>0.0</td>\n",
       "      <td>0.0</td>\n",
       "      <td>0.0</td>\n",
       "      <td>0.0</td>\n",
       "      <td>0.0</td>\n",
       "      <td>...</td>\n",
       "      <td>2.090534</td>\n",
       "      <td>8.409844</td>\n",
       "      <td>8.936854</td>\n",
       "      <td>3.063795</td>\n",
       "      <td>0.000000</td>\n",
       "      <td>46.134467</td>\n",
       "      <td>0.0</td>\n",
       "      <td>Sem Sintomas</td>\n",
       "      <td>Mexicano-americano</td>\n",
       "      <td>Aderencia baixa</td>\n",
       "    </tr>\n",
       "    <tr>\n",
       "      <th>5333</th>\n",
       "      <td>5333</td>\n",
       "      <td>5333</td>\n",
       "      <td>41473</td>\n",
       "      <td>0.0</td>\n",
       "      <td>0.0</td>\n",
       "      <td>2.0</td>\n",
       "      <td>1.0</td>\n",
       "      <td>0.0</td>\n",
       "      <td>1.0</td>\n",
       "      <td>0.0</td>\n",
       "      <td>...</td>\n",
       "      <td>0.000000</td>\n",
       "      <td>7.458058</td>\n",
       "      <td>10.000000</td>\n",
       "      <td>1.676912</td>\n",
       "      <td>2.751168</td>\n",
       "      <td>45.793478</td>\n",
       "      <td>4.0</td>\n",
       "      <td>Sem Sintomas</td>\n",
       "      <td>Branco não-hispanico</td>\n",
       "      <td>Aderencia acima</td>\n",
       "    </tr>\n",
       "  </tbody>\n",
       "</table>\n",
       "<p>5334 rows × 37 columns</p>\n",
       "</div>"
      ],
      "text/plain": [
       "      Unnamed: 0  Unnamed: 0.1   SEQN  DPQ010  DPQ020  DPQ030  DPQ040  DPQ050  \\\n",
       "0              0             0  31130     NaN     NaN     NaN     NaN     NaN   \n",
       "1              1             1  31131     0.0     0.0     0.0     0.0     0.0   \n",
       "2              2             2  31132     0.0     0.0     0.0     0.0     0.0   \n",
       "3              3             3  31134     0.0     0.0     0.0     0.0     0.0   \n",
       "4              4             4  31139     0.0     0.0     0.0     0.0     3.0   \n",
       "...          ...           ...    ...     ...     ...     ...     ...     ...   \n",
       "5329        5329          5329  41466     0.0     0.0     1.0     1.0     0.0   \n",
       "5330        5330          5330  41468     0.0     2.0     0.0     1.0     1.0   \n",
       "5331        5331          5331  41469     1.0     0.0     0.0     1.0     0.0   \n",
       "5332        5332          5332  41472     0.0     0.0     0.0     0.0     0.0   \n",
       "5333        5333          5333  41473     0.0     0.0     2.0     1.0     0.0   \n",
       "\n",
       "      DPQ060  DPQ070  ...  HEI2015C9_FATTYACID  HEI2015C10_SODIUM  \\\n",
       "0        NaN     NaN  ...                  NaN                NaN   \n",
       "1        0.0     0.0  ...             0.684985           2.297100   \n",
       "2        0.0     0.0  ...             2.050769           7.369489   \n",
       "3        0.0     0.0  ...             2.958985           0.000000   \n",
       "4        1.0     0.0  ...            10.000000           2.845774   \n",
       "...      ...     ...  ...                  ...                ...   \n",
       "5329     0.0     0.0  ...             4.633477           0.000000   \n",
       "5330     2.0     1.0  ...             4.780282           3.134216   \n",
       "5331     0.0     0.0  ...             9.344947           3.535211   \n",
       "5332     0.0     0.0  ...             2.090534           8.409844   \n",
       "5333     1.0     0.0  ...             0.000000           7.458058   \n",
       "\n",
       "      HEI2015C11_REFINEDGRAIN HEI2015C12_SFAT  HEI2015C13_ADDSUG  \\\n",
       "0                         NaN             NaN                NaN   \n",
       "1                    9.512964        0.438428           3.919226   \n",
       "2                    8.887880        8.186877           9.099088   \n",
       "3                    5.627488        5.863078           5.878686   \n",
       "4                    0.000000       10.000000           9.658507   \n",
       "...                       ...             ...                ...   \n",
       "5329                 6.580006        8.393244           9.360990   \n",
       "5330                 1.986137        5.850269          10.000000   \n",
       "5331                 4.326307        5.269780           8.195564   \n",
       "5332                 8.936854        3.063795           0.000000   \n",
       "5333                10.000000        1.676912           2.751168   \n",
       "\n",
       "      HEI2015_TOTAL_SCORE  phq9             phq_grp                 Etnia  \\\n",
       "0                     NaN   0.0        Sem Sintomas    Mexicano-americano   \n",
       "1               35.553899   0.0        Sem Sintomas                 Outro   \n",
       "2               63.551696   0.0        Sem Sintomas    Mexicano-americano   \n",
       "3               42.886826   0.0        Sem Sintomas    Mexicano-americano   \n",
       "4               47.074393   4.0        Sem Sintomas   Negro não-hispanico   \n",
       "...                   ...   ...                 ...                   ...   \n",
       "5329            59.949915   2.0        Sem Sintomas       Outro-hispanico   \n",
       "5330            57.747869  10.0  Sintomas Moderados  Branco não-hispanico   \n",
       "5331            42.993323   2.0        Sem Sintomas                 Outro   \n",
       "5332            46.134467   0.0        Sem Sintomas    Mexicano-americano   \n",
       "5333            45.793478   4.0        Sem Sintomas  Branco não-hispanico   \n",
       "\n",
       "          Graderenci_Pag  \n",
       "0        Aderencia baixa  \n",
       "1     Aderencia adequada  \n",
       "2        Aderencia acima  \n",
       "3        Aderencia acima  \n",
       "4        Aderencia acima  \n",
       "...                  ...  \n",
       "5329     Aderencia baixa  \n",
       "5330  Aderencia adequada  \n",
       "5331  Aderencia adequada  \n",
       "5332     Aderencia baixa  \n",
       "5333     Aderencia acima  \n",
       "\n",
       "[5334 rows x 37 columns]"
      ]
     },
     "execution_count": 4,
     "metadata": {},
     "output_type": "execute_result"
    }
   ],
   "source": [
    "Df2 = pd.read_csv('DesAnaliseUni.csv')\n",
    "Df2"
   ]
  },
  {
   "cell_type": "code",
   "execution_count": 19,
   "id": "854e8872",
   "metadata": {},
   "outputs": [],
   "source": [
    "# dropando a coluna ID\n",
    "Df2 = Df2.drop('Unnamed: 0',axis=1)"
   ]
  },
  {
   "cell_type": "code",
   "execution_count": 22,
   "id": "bed74607",
   "metadata": {},
   "outputs": [
    {
     "data": {
      "text/html": [
       "<div>\n",
       "<style scoped>\n",
       "    .dataframe tbody tr th:only-of-type {\n",
       "        vertical-align: middle;\n",
       "    }\n",
       "\n",
       "    .dataframe tbody tr th {\n",
       "        vertical-align: top;\n",
       "    }\n",
       "\n",
       "    .dataframe thead th {\n",
       "        text-align: right;\n",
       "    }\n",
       "</style>\n",
       "<table border=\"1\" class=\"dataframe\">\n",
       "  <thead>\n",
       "    <tr style=\"text-align: right;\">\n",
       "      <th></th>\n",
       "      <th>SEQN</th>\n",
       "      <th>DPQ010</th>\n",
       "      <th>DPQ020</th>\n",
       "      <th>DPQ030</th>\n",
       "      <th>DPQ040</th>\n",
       "      <th>DPQ050</th>\n",
       "      <th>DPQ060</th>\n",
       "      <th>DPQ070</th>\n",
       "      <th>DPQ080</th>\n",
       "      <th>DPQ090</th>\n",
       "      <th>...</th>\n",
       "      <th>HEI2015C9_FATTYACID</th>\n",
       "      <th>HEI2015C10_SODIUM</th>\n",
       "      <th>HEI2015C11_REFINEDGRAIN</th>\n",
       "      <th>HEI2015C12_SFAT</th>\n",
       "      <th>HEI2015C13_ADDSUG</th>\n",
       "      <th>HEI2015_TOTAL_SCORE</th>\n",
       "      <th>phq9</th>\n",
       "      <th>phq_grp</th>\n",
       "      <th>Etnia</th>\n",
       "      <th>Graderenci_Pag</th>\n",
       "    </tr>\n",
       "  </thead>\n",
       "  <tbody>\n",
       "    <tr>\n",
       "      <th>0</th>\n",
       "      <td>31130</td>\n",
       "      <td>NaN</td>\n",
       "      <td>NaN</td>\n",
       "      <td>NaN</td>\n",
       "      <td>NaN</td>\n",
       "      <td>NaN</td>\n",
       "      <td>NaN</td>\n",
       "      <td>NaN</td>\n",
       "      <td>NaN</td>\n",
       "      <td>NaN</td>\n",
       "      <td>...</td>\n",
       "      <td>NaN</td>\n",
       "      <td>NaN</td>\n",
       "      <td>NaN</td>\n",
       "      <td>NaN</td>\n",
       "      <td>NaN</td>\n",
       "      <td>NaN</td>\n",
       "      <td>0.0</td>\n",
       "      <td>Sem Sintomas</td>\n",
       "      <td>Mexicano-americano</td>\n",
       "      <td>Aderencia baixa</td>\n",
       "    </tr>\n",
       "    <tr>\n",
       "      <th>1</th>\n",
       "      <td>31131</td>\n",
       "      <td>0.0</td>\n",
       "      <td>0.0</td>\n",
       "      <td>0.0</td>\n",
       "      <td>0.0</td>\n",
       "      <td>0.0</td>\n",
       "      <td>0.0</td>\n",
       "      <td>0.0</td>\n",
       "      <td>0.0</td>\n",
       "      <td>0.0</td>\n",
       "      <td>...</td>\n",
       "      <td>0.684985</td>\n",
       "      <td>2.297100</td>\n",
       "      <td>9.512964</td>\n",
       "      <td>0.438428</td>\n",
       "      <td>3.919226</td>\n",
       "      <td>35.553899</td>\n",
       "      <td>0.0</td>\n",
       "      <td>Sem Sintomas</td>\n",
       "      <td>Outro</td>\n",
       "      <td>Aderencia adequada</td>\n",
       "    </tr>\n",
       "    <tr>\n",
       "      <th>2</th>\n",
       "      <td>31132</td>\n",
       "      <td>0.0</td>\n",
       "      <td>0.0</td>\n",
       "      <td>0.0</td>\n",
       "      <td>0.0</td>\n",
       "      <td>0.0</td>\n",
       "      <td>0.0</td>\n",
       "      <td>0.0</td>\n",
       "      <td>0.0</td>\n",
       "      <td>0.0</td>\n",
       "      <td>...</td>\n",
       "      <td>2.050769</td>\n",
       "      <td>7.369489</td>\n",
       "      <td>8.887880</td>\n",
       "      <td>8.186877</td>\n",
       "      <td>9.099088</td>\n",
       "      <td>63.551696</td>\n",
       "      <td>0.0</td>\n",
       "      <td>Sem Sintomas</td>\n",
       "      <td>Mexicano-americano</td>\n",
       "      <td>Aderencia acima</td>\n",
       "    </tr>\n",
       "    <tr>\n",
       "      <th>3</th>\n",
       "      <td>31134</td>\n",
       "      <td>0.0</td>\n",
       "      <td>0.0</td>\n",
       "      <td>0.0</td>\n",
       "      <td>0.0</td>\n",
       "      <td>0.0</td>\n",
       "      <td>0.0</td>\n",
       "      <td>0.0</td>\n",
       "      <td>0.0</td>\n",
       "      <td>0.0</td>\n",
       "      <td>...</td>\n",
       "      <td>2.958985</td>\n",
       "      <td>0.000000</td>\n",
       "      <td>5.627488</td>\n",
       "      <td>5.863078</td>\n",
       "      <td>5.878686</td>\n",
       "      <td>42.886826</td>\n",
       "      <td>0.0</td>\n",
       "      <td>Sem Sintomas</td>\n",
       "      <td>Mexicano-americano</td>\n",
       "      <td>Aderencia acima</td>\n",
       "    </tr>\n",
       "    <tr>\n",
       "      <th>4</th>\n",
       "      <td>31139</td>\n",
       "      <td>0.0</td>\n",
       "      <td>0.0</td>\n",
       "      <td>0.0</td>\n",
       "      <td>0.0</td>\n",
       "      <td>3.0</td>\n",
       "      <td>1.0</td>\n",
       "      <td>0.0</td>\n",
       "      <td>0.0</td>\n",
       "      <td>0.0</td>\n",
       "      <td>...</td>\n",
       "      <td>10.000000</td>\n",
       "      <td>2.845774</td>\n",
       "      <td>0.000000</td>\n",
       "      <td>10.000000</td>\n",
       "      <td>9.658507</td>\n",
       "      <td>47.074393</td>\n",
       "      <td>4.0</td>\n",
       "      <td>Sem Sintomas</td>\n",
       "      <td>Negro não-hispanico</td>\n",
       "      <td>Aderencia acima</td>\n",
       "    </tr>\n",
       "    <tr>\n",
       "      <th>5</th>\n",
       "      <td>31143</td>\n",
       "      <td>0.0</td>\n",
       "      <td>1.0</td>\n",
       "      <td>1.0</td>\n",
       "      <td>1.0</td>\n",
       "      <td>1.0</td>\n",
       "      <td>1.0</td>\n",
       "      <td>1.0</td>\n",
       "      <td>0.0</td>\n",
       "      <td>0.0</td>\n",
       "      <td>...</td>\n",
       "      <td>0.002362</td>\n",
       "      <td>5.223435</td>\n",
       "      <td>7.787420</td>\n",
       "      <td>0.000000</td>\n",
       "      <td>10.000000</td>\n",
       "      <td>46.086131</td>\n",
       "      <td>6.0</td>\n",
       "      <td>Sintomas Leves</td>\n",
       "      <td>Mexicano-americano</td>\n",
       "      <td>Aderencia acima</td>\n",
       "    </tr>\n",
       "    <tr>\n",
       "      <th>6</th>\n",
       "      <td>31144</td>\n",
       "      <td>0.0</td>\n",
       "      <td>0.0</td>\n",
       "      <td>0.0</td>\n",
       "      <td>0.0</td>\n",
       "      <td>0.0</td>\n",
       "      <td>0.0</td>\n",
       "      <td>0.0</td>\n",
       "      <td>0.0</td>\n",
       "      <td>0.0</td>\n",
       "      <td>...</td>\n",
       "      <td>6.209888</td>\n",
       "      <td>6.747360</td>\n",
       "      <td>0.000000</td>\n",
       "      <td>7.473184</td>\n",
       "      <td>6.573559</td>\n",
       "      <td>37.388008</td>\n",
       "      <td>0.0</td>\n",
       "      <td>Sem Sintomas</td>\n",
       "      <td>Negro não-hispanico</td>\n",
       "      <td>Aderencia acima</td>\n",
       "    </tr>\n",
       "    <tr>\n",
       "      <th>7</th>\n",
       "      <td>31149</td>\n",
       "      <td>0.0</td>\n",
       "      <td>0.0</td>\n",
       "      <td>0.0</td>\n",
       "      <td>0.0</td>\n",
       "      <td>0.0</td>\n",
       "      <td>0.0</td>\n",
       "      <td>0.0</td>\n",
       "      <td>0.0</td>\n",
       "      <td>0.0</td>\n",
       "      <td>...</td>\n",
       "      <td>4.780404</td>\n",
       "      <td>0.000000</td>\n",
       "      <td>5.138144</td>\n",
       "      <td>5.601160</td>\n",
       "      <td>4.677064</td>\n",
       "      <td>41.001689</td>\n",
       "      <td>0.0</td>\n",
       "      <td>Sem Sintomas</td>\n",
       "      <td>Mexicano-americano</td>\n",
       "      <td>Aderencia baixa</td>\n",
       "    </tr>\n",
       "    <tr>\n",
       "      <th>8</th>\n",
       "      <td>31150</td>\n",
       "      <td>1.0</td>\n",
       "      <td>0.0</td>\n",
       "      <td>0.0</td>\n",
       "      <td>0.0</td>\n",
       "      <td>0.0</td>\n",
       "      <td>0.0</td>\n",
       "      <td>0.0</td>\n",
       "      <td>0.0</td>\n",
       "      <td>0.0</td>\n",
       "      <td>...</td>\n",
       "      <td>7.660037</td>\n",
       "      <td>9.368343</td>\n",
       "      <td>9.253592</td>\n",
       "      <td>10.000000</td>\n",
       "      <td>8.797673</td>\n",
       "      <td>71.671972</td>\n",
       "      <td>1.0</td>\n",
       "      <td>Sem Sintomas</td>\n",
       "      <td>Mexicano-americano</td>\n",
       "      <td>Aderencia acima</td>\n",
       "    </tr>\n",
       "    <tr>\n",
       "      <th>9</th>\n",
       "      <td>31151</td>\n",
       "      <td>0.0</td>\n",
       "      <td>0.0</td>\n",
       "      <td>1.0</td>\n",
       "      <td>1.0</td>\n",
       "      <td>0.0</td>\n",
       "      <td>0.0</td>\n",
       "      <td>1.0</td>\n",
       "      <td>0.0</td>\n",
       "      <td>0.0</td>\n",
       "      <td>...</td>\n",
       "      <td>2.805860</td>\n",
       "      <td>9.298090</td>\n",
       "      <td>10.000000</td>\n",
       "      <td>6.738039</td>\n",
       "      <td>0.000000</td>\n",
       "      <td>47.002405</td>\n",
       "      <td>3.0</td>\n",
       "      <td>Sem Sintomas</td>\n",
       "      <td>Outro</td>\n",
       "      <td>Aderencia baixa</td>\n",
       "    </tr>\n",
       "  </tbody>\n",
       "</table>\n",
       "<p>10 rows × 35 columns</p>\n",
       "</div>"
      ],
      "text/plain": [
       "    SEQN  DPQ010  DPQ020  DPQ030  DPQ040  DPQ050  DPQ060  DPQ070  DPQ080  \\\n",
       "0  31130     NaN     NaN     NaN     NaN     NaN     NaN     NaN     NaN   \n",
       "1  31131     0.0     0.0     0.0     0.0     0.0     0.0     0.0     0.0   \n",
       "2  31132     0.0     0.0     0.0     0.0     0.0     0.0     0.0     0.0   \n",
       "3  31134     0.0     0.0     0.0     0.0     0.0     0.0     0.0     0.0   \n",
       "4  31139     0.0     0.0     0.0     0.0     3.0     1.0     0.0     0.0   \n",
       "5  31143     0.0     1.0     1.0     1.0     1.0     1.0     1.0     0.0   \n",
       "6  31144     0.0     0.0     0.0     0.0     0.0     0.0     0.0     0.0   \n",
       "7  31149     0.0     0.0     0.0     0.0     0.0     0.0     0.0     0.0   \n",
       "8  31150     1.0     0.0     0.0     0.0     0.0     0.0     0.0     0.0   \n",
       "9  31151     0.0     0.0     1.0     1.0     0.0     0.0     1.0     0.0   \n",
       "\n",
       "   DPQ090  ...  HEI2015C9_FATTYACID HEI2015C10_SODIUM  \\\n",
       "0     NaN  ...                  NaN               NaN   \n",
       "1     0.0  ...             0.684985          2.297100   \n",
       "2     0.0  ...             2.050769          7.369489   \n",
       "3     0.0  ...             2.958985          0.000000   \n",
       "4     0.0  ...            10.000000          2.845774   \n",
       "5     0.0  ...             0.002362          5.223435   \n",
       "6     0.0  ...             6.209888          6.747360   \n",
       "7     0.0  ...             4.780404          0.000000   \n",
       "8     0.0  ...             7.660037          9.368343   \n",
       "9     0.0  ...             2.805860          9.298090   \n",
       "\n",
       "   HEI2015C11_REFINEDGRAIN  HEI2015C12_SFAT  HEI2015C13_ADDSUG  \\\n",
       "0                      NaN              NaN                NaN   \n",
       "1                 9.512964         0.438428           3.919226   \n",
       "2                 8.887880         8.186877           9.099088   \n",
       "3                 5.627488         5.863078           5.878686   \n",
       "4                 0.000000        10.000000           9.658507   \n",
       "5                 7.787420         0.000000          10.000000   \n",
       "6                 0.000000         7.473184           6.573559   \n",
       "7                 5.138144         5.601160           4.677064   \n",
       "8                 9.253592        10.000000           8.797673   \n",
       "9                10.000000         6.738039           0.000000   \n",
       "\n",
       "   HEI2015_TOTAL_SCORE  phq9         phq_grp                Etnia  \\\n",
       "0                  NaN   0.0    Sem Sintomas   Mexicano-americano   \n",
       "1            35.553899   0.0    Sem Sintomas                Outro   \n",
       "2            63.551696   0.0    Sem Sintomas   Mexicano-americano   \n",
       "3            42.886826   0.0    Sem Sintomas   Mexicano-americano   \n",
       "4            47.074393   4.0    Sem Sintomas  Negro não-hispanico   \n",
       "5            46.086131   6.0  Sintomas Leves   Mexicano-americano   \n",
       "6            37.388008   0.0    Sem Sintomas  Negro não-hispanico   \n",
       "7            41.001689   0.0    Sem Sintomas   Mexicano-americano   \n",
       "8            71.671972   1.0    Sem Sintomas   Mexicano-americano   \n",
       "9            47.002405   3.0    Sem Sintomas                Outro   \n",
       "\n",
       "       Graderenci_Pag  \n",
       "0     Aderencia baixa  \n",
       "1  Aderencia adequada  \n",
       "2     Aderencia acima  \n",
       "3     Aderencia acima  \n",
       "4     Aderencia acima  \n",
       "5     Aderencia acima  \n",
       "6     Aderencia acima  \n",
       "7     Aderencia baixa  \n",
       "8     Aderencia acima  \n",
       "9     Aderencia baixa  \n",
       "\n",
       "[10 rows x 35 columns]"
      ]
     },
     "execution_count": 22,
     "metadata": {},
     "output_type": "execute_result"
    }
   ],
   "source": [
    "Df2 = Df2.drop('Unnamed: 0.1',axis=1)\n",
    "Df2.head(10)"
   ]
  },
  {
   "cell_type": "code",
   "execution_count": 55,
   "id": "c58bcbc1",
   "metadata": {},
   "outputs": [
    {
     "data": {
      "text/plain": [
       "RIAGENDR\n",
       "1    5411.0\n",
       "2    7912.0\n",
       "Name: phq9, dtype: float64"
      ]
     },
     "execution_count": 55,
     "metadata": {},
     "output_type": "execute_result"
    }
   ],
   "source": [
    "# Agrupamento dos dados baseado no atributo 'RIAGENDR/phq9', contando e somando os registros\n",
    "agrupGen = Df2.groupby(['RIAGENDR'])['phq9'].sum()\n",
    "agrupGen\n"
   ]
  },
  {
   "cell_type": "code",
   "execution_count": 41,
   "id": "75ac5466",
   "metadata": {},
   "outputs": [
    {
     "data": {
      "text/plain": [
       "<AxesSubplot:xlabel='RIAGENDR'>"
      ]
     },
     "execution_count": 41,
     "metadata": {},
     "output_type": "execute_result"
    },
    {
     "data": {
      "image/png": "[encoded data removed]",
      "text/plain": [
       "<Figure size 432x288 with 1 Axes>"
      ]
     },
     "metadata": {
      "needs_background": "light"
     },
     "output_type": "display_data"
    }
   ],
   "source": [
    "# Gráfico de barras\n",
    "agrupGen.plot.bar(color = ['blue','pink'])"
   ]
  },
  {
   "cell_type": "code",
   "execution_count": 93,
   "id": "5ef79ebd",
   "metadata": {},
   "outputs": [
    {
     "data": {
      "text/plain": [
       "RIDAGEYR  RIAGENDR\n",
       "Adult     1           1687.0\n",
       "          2           2855.0\n",
       "MidAge    1           2086.0\n",
       "          2           3053.0\n",
       "Senior    1           1353.0\n",
       "          2           1589.0\n",
       "Name: phq9, dtype: float64"
      ]
     },
     "execution_count": 93,
     "metadata": {},
     "output_type": "execute_result"
    }
   ],
   "source": [
    "# Agrupamento dos dados baseado no atributo 'RIDAGEYR/phq9', contando e somando os registros\n",
    "agrupIdade = Df2.groupby(['RIDAGEYR','RIAGENDR'])['phq9'].sum()\n",
    "agrupIdade\n"
   ]
  },
  {
   "cell_type": "code",
   "execution_count": 95,
   "id": "385a6ea8",
   "metadata": {},
   "outputs": [
    {
     "data": {
      "text/plain": [
       "<AxesSubplot:xlabel='RIDAGEYR,RIAGENDR'>"
      ]
     },
     "execution_count": 95,
     "metadata": {},
     "output_type": "execute_result"
    },
    {
     "data": {
      "image/png": "[encoded data removed]",
      "text/plain": [
       "<Figure size 432x288 with 1 Axes>"
      ]
     },
     "metadata": {
      "needs_background": "light"
     },
     "output_type": "display_data"
    }
   ],
   "source": [
    "# Gráfico de barras\n",
    "agrupIdade.plot.bar(color = ['blue','red'])"
   ]
  },
  {
   "cell_type": "code",
   "execution_count": 98,
   "id": "551a66b6",
   "metadata": {},
   "outputs": [
    {
     "data": {
      "text/plain": [
       "Etnia\n",
       "Branco não-hispanico    2834.0\n",
       "Mexicano-americano      6112.0\n",
       "Negro não-hispanico      501.0\n",
       "Outro                   3343.0\n",
       "Outro-hispanico          533.0\n",
       "Name: phq9, dtype: float64"
      ]
     },
     "execution_count": 98,
     "metadata": {},
     "output_type": "execute_result"
    }
   ],
   "source": [
    "# Agrupamento dos dados baseado no atributo 'RIDAGEYR/phq9', contando e somando os registros\n",
    "agrupEtnia = Df2.groupby(['Etnia'])['phq9'].sum()\n",
    "agrupEtnia\n"
   ]
  },
  {
   "cell_type": "code",
   "execution_count": 99,
   "id": "453239c9",
   "metadata": {},
   "outputs": [
    {
     "data": {
      "text/plain": [
       "<AxesSubplot:xlabel='Etnia'>"
      ]
     },
     "execution_count": 99,
     "metadata": {},
     "output_type": "execute_result"
    },
    {
     "data": {
      "image/png": "[encoded data removed]",
      "text/plain": [
       "<Figure size 432x288 with 1 Axes>"
      ]
     },
     "metadata": {
      "needs_background": "light"
     },
     "output_type": "display_data"
    }
   ],
   "source": [
    "#cores\n",
    "agrupEtnia.plot.bar(color = ['blue','yellow','red','green','pink','orange'])"
   ]
  },
  {
   "cell_type": "code",
   "execution_count": 71,
   "id": "1a17b7be",
   "metadata": {},
   "outputs": [
    {
     "data": {
      "text/plain": [
       "RIAGENDR\n",
       "1    1.419528e+06\n",
       "2    1.096870e+06\n",
       "Name: PAG_MINW, dtype: float64"
      ]
     },
     "execution_count": 71,
     "metadata": {},
     "output_type": "execute_result"
    }
   ],
   "source": [
    "# Agrupamento dos dados baseado no atributo 'RIAGENDR/PAG_MINW', contando e somando os registros\n",
    "agrupGenAtiv = Df2.groupby(['RIAGENDR'])['PAG_MINW'].sum()\n",
    "agrupGenAtiv\n"
   ]
  },
  {
   "cell_type": "code",
   "execution_count": 72,
   "id": "0b0b730b",
   "metadata": {},
   "outputs": [
    {
     "data": {
      "text/plain": [
       "<AxesSubplot:xlabel='RIAGENDR'>"
      ]
     },
     "execution_count": 72,
     "metadata": {},
     "output_type": "execute_result"
    },
    {
     "data": {
      "image/png": "[encoded data removed]",
      "text/plain": [
       "<Figure size 432x288 with 1 Axes>"
      ]
     },
     "metadata": {
      "needs_background": "light"
     },
     "output_type": "display_data"
    }
   ],
   "source": [
    "# Gráfico de barras\n",
    "agrupGenAtiv.plot.bar(color = ['blue','pink'])"
   ]
  },
  {
   "cell_type": "code",
   "execution_count": 90,
   "id": "66defd9d",
   "metadata": {},
   "outputs": [
    {
     "data": {
      "text/plain": [
       "RIDAGEYR  RIAGENDR\n",
       "Adult     1           505120.755196\n",
       "          2           449278.577367\n",
       "MidAge    1           432513.528868\n",
       "          2           355671.870670\n",
       "Senior    1           302777.914550\n",
       "          2           171032.337182\n",
       "Name: PAG_MINW, dtype: float64"
      ]
     },
     "execution_count": 90,
     "metadata": {},
     "output_type": "execute_result"
    }
   ],
   "source": [
    "# Agrupamento dos dados baseado no atributo 'RIDAGEYR/PAG_MINW'', contando e somando os registros\n",
    "agrupIdadeAtiv = Df2.groupby(['RIDAGEYR','RIAGENDR'])['PAG_MINW'].sum()\n",
    "agrupIdadeAtiv\n"
   ]
  },
  {
   "cell_type": "code",
   "execution_count": 92,
   "id": "15ceecac",
   "metadata": {},
   "outputs": [
    {
     "data": {
      "text/plain": [
       "<AxesSubplot:xlabel='RIDAGEYR,RIAGENDR'>"
      ]
     },
     "execution_count": 92,
     "metadata": {},
     "output_type": "execute_result"
    },
    {
     "data": {
      "image/png": "[encoded data removed]",
      "text/plain": [
       "<Figure size 432x288 with 1 Axes>"
      ]
     },
     "metadata": {
      "needs_background": "light"
     },
     "output_type": "display_data"
    }
   ],
   "source": [
    "# Gráfico de barras\n",
    "agrupIdadeAtiv.plot.bar(color = ['blue','red'])"
   ]
  },
  {
   "cell_type": "code",
   "execution_count": 77,
   "id": "08b9902c",
   "metadata": {},
   "outputs": [
    {
     "data": {
      "text/plain": [
       "Etnia\n",
       "Branco não-hispanico    3.943370e+05\n",
       "Mexicano-americano      1.247864e+06\n",
       "Negro não-hispanico     7.516113e+04\n",
       "Outro                   6.796582e+05\n",
       "Outro-hispanico         1.193784e+05\n",
       "Name: PAG_MINW, dtype: float64"
      ]
     },
     "execution_count": 77,
     "metadata": {},
     "output_type": "execute_result"
    }
   ],
   "source": [
    "# Agrupamento dos dados baseado no atributo 'REtnia/PAG_MINW'', contando e somando os registros\n",
    "agrupEtniaAtiv = Df2.groupby(['Etnia'])['PAG_MINW'].sum()\n",
    "agrupEtniaAtiv\n"
   ]
  },
  {
   "cell_type": "code",
   "execution_count": 78,
   "id": "61dfd467",
   "metadata": {
    "scrolled": true
   },
   "outputs": [
    {
     "data": {
      "text/plain": [
       "<AxesSubplot:xlabel='Etnia'>"
      ]
     },
     "execution_count": 78,
     "metadata": {},
     "output_type": "execute_result"
    },
    {
     "data": {
      "image/png": "[encoded data removed]",
      "text/plain": [
       "<Figure size 432x288 with 1 Axes>"
      ]
     },
     "metadata": {
      "needs_background": "light"
     },
     "output_type": "display_data"
    }
   ],
   "source": [
    "#cores\n",
    "agrupEtniaAtiv.plot.bar(color = ['blue','yellow','red','green','pink','orange'])"
   ]
  },
  {
   "cell_type": "code",
   "execution_count": 109,
   "id": "1e6b6efb",
   "metadata": {},
   "outputs": [
    {
     "data": {
      "text/plain": [
       "RIAGENDR\n",
       "1    118901.752127\n",
       "2    133953.640380\n",
       "Name: HEI2015_TOTAL_SCORE, dtype: float64"
      ]
     },
     "execution_count": 109,
     "metadata": {},
     "output_type": "execute_result"
    }
   ],
   "source": [
    " #Agrupamento dos dados baseado no atributo 'RIAGENDR/'HEI2015_TOTAL_SCORE contando e somando os registros\n",
    "agrupGenTotscore = Df2.groupby(['RIAGENDR'])['HEI2015_TOTAL_SCORE'].sum()\n",
    "agrupGenTotscore\n"
   ]
  },
  {
   "cell_type": "code",
   "execution_count": 110,
   "id": "4c2f212d",
   "metadata": {},
   "outputs": [
    {
     "data": {
      "text/plain": [
       "<AxesSubplot:xlabel='RIAGENDR'>"
      ]
     },
     "execution_count": 110,
     "metadata": {},
     "output_type": "execute_result"
    },
    {
     "data": {
      "image/png": "[encoded data removed]",
      "text/plain": [
       "<Figure size 432x288 with 1 Axes>"
      ]
     },
     "metadata": {
      "needs_background": "light"
     },
     "output_type": "display_data"
    }
   ],
   "source": [
    "# Gráfico de barras\n",
    "agrupGenTotscore.plot.bar(color = ['blue','red'])"
   ]
  },
  {
   "cell_type": "code",
   "execution_count": 111,
   "id": "83c958d8",
   "metadata": {},
   "outputs": [
    {
     "data": {
      "text/plain": [
       "RIDAGEYR\n",
       "Adult     79989.235883\n",
       "MidAge    88133.142698\n",
       "Senior    72349.660587\n",
       "Name: HEI2015_TOTAL_SCORE, dtype: float64"
      ]
     },
     "execution_count": 111,
     "metadata": {},
     "output_type": "execute_result"
    }
   ],
   "source": [
    "# Agrupamento dos dados baseado no atributo 'RIDAGEYR/'HEI2015_TOTAL_SCORE, contando e somando os registros\n",
    "agrupIdadetotscore = Df2.groupby(['RIDAGEYR'])['HEI2015_TOTAL_SCORE'].sum()\n",
    "agrupIdadetotscore\n"
   ]
  },
  {
   "cell_type": "code",
   "execution_count": 112,
   "id": "9711867a",
   "metadata": {},
   "outputs": [
    {
     "data": {
      "text/plain": [
       "<AxesSubplot:xlabel='RIDAGEYR'>"
      ]
     },
     "execution_count": 112,
     "metadata": {},
     "output_type": "execute_result"
    },
    {
     "data": {
      "image/png": "[encoded data removed]",
      "text/plain": [
       "<Figure size 432x288 with 1 Axes>"
      ]
     },
     "metadata": {
      "needs_background": "light"
     },
     "output_type": "display_data"
    }
   ],
   "source": [
    "#cores\n",
    "agrupIdadetotscore.plot.bar(color = ['blue','yellow','red'])"
   ]
  },
  {
   "cell_type": "code",
   "execution_count": 113,
   "id": "87e909a2",
   "metadata": {},
   "outputs": [
    {
     "data": {
      "text/plain": [
       "Etnia\n",
       "Branco não-hispanico     55070.608451\n",
       "Mexicano-americano      120634.301164\n",
       "Negro não-hispanico       7855.910538\n",
       "Outro                    58635.591172\n",
       "Outro-hispanico          10658.981183\n",
       "Name: HEI2015_TOTAL_SCORE, dtype: float64"
      ]
     },
     "execution_count": 113,
     "metadata": {},
     "output_type": "execute_result"
    }
   ],
   "source": [
    "# Agrupamento dos dados baseado no atributo 'REtnia/PAG_MINW'', contando e somando os registros\n",
    "agrupEtniatotscore = Df2.groupby(['Etnia'])['HEI2015_TOTAL_SCORE'].sum()\n",
    "agrupEtniatotscore\n"
   ]
  },
  {
   "cell_type": "code",
   "execution_count": 114,
   "id": "0aebd0e7",
   "metadata": {},
   "outputs": [
    {
     "data": {
      "text/plain": [
       "<AxesSubplot:xlabel='Etnia'>"
      ]
     },
     "execution_count": 114,
     "metadata": {},
     "output_type": "execute_result"
    },
    {
     "data": {
      "image/png": "[encoded data removed]",
      "text/plain": [
       "<Figure size 432x288 with 1 Axes>"
      ]
     },
     "metadata": {
      "needs_background": "light"
     },
     "output_type": "display_data"
    }
   ],
   "source": [
    "#cores\n",
    "agrupEtniatotscore.plot.bar(color = ['blue','yellow','red','green','pink','orange'])"
   ]
  },
  {
   "cell_type": "code",
   "execution_count": 106,
   "id": "98e27cea",
   "metadata": {},
   "outputs": [
    {
     "data": {
      "text/plain": [
       "Graderenci_Pag\n",
       "Aderencia acima       4833.0\n",
       "Aderencia adequada    1915.0\n",
       "Aderencia baixa       6575.0\n",
       "Name: phq9, dtype: float64"
      ]
     },
     "execution_count": 106,
     "metadata": {},
     "output_type": "execute_result"
    }
   ],
   "source": [
    "# Agrupamento dos dados baseado no atributo 'Graderenci_Pag/phq9 contando e somando os registros\n",
    "agrupAtiv_phq9 = Df2.groupby(['Graderenci_Pag'])['phq9'].sum()\n",
    "agrupAtiv_phq9"
   ]
  },
  {
   "cell_type": "code",
   "execution_count": 107,
   "id": "57391fb8",
   "metadata": {},
   "outputs": [
    {
     "data": {
      "text/plain": [
       "<AxesSubplot:xlabel='Graderenci_Pag'>"
      ]
     },
     "execution_count": 107,
     "metadata": {},
     "output_type": "execute_result"
    },
    {
     "data": {
      "image/png": "[encoded data removed]",
      "text/plain": [
       "<Figure size 432x288 with 1 Axes>"
      ]
     },
     "metadata": {
      "needs_background": "light"
     },
     "output_type": "display_data"
    }
   ],
   "source": [
    "#cores\n",
    "agrupAtiv_phq9.plot.bar(color = ['blue','yellow','red'])"
   ]
  },
  {
   "cell_type": "code",
   "execution_count": 120,
   "id": "72a7e534",
   "metadata": {},
   "outputs": [
    {
     "data": {
      "text/plain": [
       "phq_grp\n",
       "Not Specified                       25.979944\n",
       "Sem Sintomas                     13174.834190\n",
       "Sintomas Leves                    2139.785904\n",
       "Sintomas ModeradamenteSeveros      183.098430\n",
       "Sintomas Moderados                 617.713671\n",
       "Sintomas Severos                    71.277576\n",
       "Name: HEI2015C1_TOTALVEG, dtype: float64"
      ]
     },
     "execution_count": 120,
     "metadata": {},
     "output_type": "execute_result"
    }
   ],
   "source": [
    "# Agrupamento dos dados baseado no atributo 'Graderenci_Pag/phq9 contando e somando os registros\n",
    "Heic1 = Df2.groupby(['phq_grp'])['HEI2015C1_TOTALVEG'].sum()\n",
    "Heic1"
   ]
  },
  {
   "cell_type": "code",
   "execution_count": 121,
   "id": "3c194c9e",
   "metadata": {},
   "outputs": [
    {
     "data": {
      "text/plain": [
       "<AxesSubplot:xlabel='phq_grp'>"
      ]
     },
     "execution_count": 121,
     "metadata": {},
     "output_type": "execute_result"
    },
    {
     "data": {
      "image/png": "[encoded data removed]",
      "text/plain": [
       "<Figure size 432x288 with 1 Axes>"
      ]
     },
     "metadata": {
      "needs_background": "light"
     },
     "output_type": "display_data"
    }
   ],
   "source": [
    "#cores\n",
    "Heic1.plot.bar(color = ['blue','yellow','red'])"
   ]
  },
  {
   "cell_type": "code",
   "execution_count": null,
   "id": "b611dfaa",
   "metadata": {},
   "outputs": [],
   "source": []
  }
 ],
 "metadata": {
  "kernelspec": {
   "display_name": "Python 3 (ipykernel)",
   "language": "python",
   "name": "python3"
  },
  "language_info": {
   "codemirror_mode": {
    "name": "ipython",
    "version": 3
   },
   "file_extension": ".py",
   "mimetype": "text/x-python",
   "name": "python",
   "nbconvert_exporter": "python",
   "pygments_lexer": "ipython3",
   "version": "3.9.12"
  }
 },
 "nbformat": 4,
 "nbformat_minor": 5
}
