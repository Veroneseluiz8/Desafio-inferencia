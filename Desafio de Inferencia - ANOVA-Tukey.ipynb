{
 "cells": [
  {
   "cell_type": "code",
   "execution_count": 1,
   "id": "88ac9871",
   "metadata": {},
   "outputs": [],
   "source": [
    "#Desafio de Inferencia Analise Bivariada - Importaçao das bibliotecas\n",
    "import pandas as pd\n",
    "import seaborn as srn\n",
    "import numpy as np\n",
    "import statistics  as sts\n",
    "import matplotlib.pyplot as plt"
   ]
  },
  {
   "cell_type": "code",
   "execution_count": 2,
   "id": "5a000503",
   "metadata": {},
   "outputs": [
    {
     "data": {
      "text/html": [
       "<div>\n",
       "<style scoped>\n",
       "    .dataframe tbody tr th:only-of-type {\n",
       "        vertical-align: middle;\n",
       "    }\n",
       "\n",
       "    .dataframe tbody tr th {\n",
       "        vertical-align: top;\n",
       "    }\n",
       "\n",
       "    .dataframe thead th {\n",
       "        text-align: right;\n",
       "    }\n",
       "</style>\n",
       "<table border=\"1\" class=\"dataframe\">\n",
       "  <thead>\n",
       "    <tr style=\"text-align: right;\">\n",
       "      <th></th>\n",
       "      <th>Unnamed: 0.1</th>\n",
       "      <th>Unnamed: 0</th>\n",
       "      <th>SEQN</th>\n",
       "      <th>DPQ010</th>\n",
       "      <th>DPQ020</th>\n",
       "      <th>DPQ030</th>\n",
       "      <th>DPQ040</th>\n",
       "      <th>DPQ050</th>\n",
       "      <th>DPQ060</th>\n",
       "      <th>DPQ070</th>\n",
       "      <th>...</th>\n",
       "      <th>HEI2015C9_FATTYACID</th>\n",
       "      <th>HEI2015C10_SODIUM</th>\n",
       "      <th>HEI2015C11_REFINEDGRAIN</th>\n",
       "      <th>HEI2015C12_SFAT</th>\n",
       "      <th>HEI2015C13_ADDSUG</th>\n",
       "      <th>HEI2015_TOTAL_SCORE</th>\n",
       "      <th>phq9</th>\n",
       "      <th>phq_grp</th>\n",
       "      <th>Etnia</th>\n",
       "      <th>Graderenci_Pag</th>\n",
       "    </tr>\n",
       "  </thead>\n",
       "  <tbody>\n",
       "    <tr>\n",
       "      <th>0</th>\n",
       "      <td>0</td>\n",
       "      <td>0</td>\n",
       "      <td>31130</td>\n",
       "      <td>NaN</td>\n",
       "      <td>NaN</td>\n",
       "      <td>NaN</td>\n",
       "      <td>NaN</td>\n",
       "      <td>NaN</td>\n",
       "      <td>NaN</td>\n",
       "      <td>NaN</td>\n",
       "      <td>...</td>\n",
       "      <td>NaN</td>\n",
       "      <td>NaN</td>\n",
       "      <td>NaN</td>\n",
       "      <td>NaN</td>\n",
       "      <td>NaN</td>\n",
       "      <td>NaN</td>\n",
       "      <td>0.0</td>\n",
       "      <td>Sem Sintomas</td>\n",
       "      <td>Mexicano-americano</td>\n",
       "      <td>Aderencia baixa</td>\n",
       "    </tr>\n",
       "    <tr>\n",
       "      <th>1</th>\n",
       "      <td>1</td>\n",
       "      <td>1</td>\n",
       "      <td>31131</td>\n",
       "      <td>0.0</td>\n",
       "      <td>0.0</td>\n",
       "      <td>0.0</td>\n",
       "      <td>0.0</td>\n",
       "      <td>0.0</td>\n",
       "      <td>0.0</td>\n",
       "      <td>0.0</td>\n",
       "      <td>...</td>\n",
       "      <td>0.684985</td>\n",
       "      <td>2.297100</td>\n",
       "      <td>9.512964</td>\n",
       "      <td>0.438428</td>\n",
       "      <td>3.919226</td>\n",
       "      <td>35.553899</td>\n",
       "      <td>0.0</td>\n",
       "      <td>Sem Sintomas</td>\n",
       "      <td>Outro</td>\n",
       "      <td>Aderencia adequada</td>\n",
       "    </tr>\n",
       "    <tr>\n",
       "      <th>2</th>\n",
       "      <td>2</td>\n",
       "      <td>2</td>\n",
       "      <td>31132</td>\n",
       "      <td>0.0</td>\n",
       "      <td>0.0</td>\n",
       "      <td>0.0</td>\n",
       "      <td>0.0</td>\n",
       "      <td>0.0</td>\n",
       "      <td>0.0</td>\n",
       "      <td>0.0</td>\n",
       "      <td>...</td>\n",
       "      <td>2.050769</td>\n",
       "      <td>7.369489</td>\n",
       "      <td>8.887880</td>\n",
       "      <td>8.186877</td>\n",
       "      <td>9.099088</td>\n",
       "      <td>63.551696</td>\n",
       "      <td>0.0</td>\n",
       "      <td>Sem Sintomas</td>\n",
       "      <td>Mexicano-americano</td>\n",
       "      <td>Aderencia acima</td>\n",
       "    </tr>\n",
       "    <tr>\n",
       "      <th>3</th>\n",
       "      <td>3</td>\n",
       "      <td>3</td>\n",
       "      <td>31134</td>\n",
       "      <td>0.0</td>\n",
       "      <td>0.0</td>\n",
       "      <td>0.0</td>\n",
       "      <td>0.0</td>\n",
       "      <td>0.0</td>\n",
       "      <td>0.0</td>\n",
       "      <td>0.0</td>\n",
       "      <td>...</td>\n",
       "      <td>2.958985</td>\n",
       "      <td>0.000000</td>\n",
       "      <td>5.627488</td>\n",
       "      <td>5.863078</td>\n",
       "      <td>5.878686</td>\n",
       "      <td>42.886826</td>\n",
       "      <td>0.0</td>\n",
       "      <td>Sem Sintomas</td>\n",
       "      <td>Mexicano-americano</td>\n",
       "      <td>Aderencia acima</td>\n",
       "    </tr>\n",
       "    <tr>\n",
       "      <th>4</th>\n",
       "      <td>4</td>\n",
       "      <td>4</td>\n",
       "      <td>31139</td>\n",
       "      <td>0.0</td>\n",
       "      <td>0.0</td>\n",
       "      <td>0.0</td>\n",
       "      <td>0.0</td>\n",
       "      <td>3.0</td>\n",
       "      <td>1.0</td>\n",
       "      <td>0.0</td>\n",
       "      <td>...</td>\n",
       "      <td>10.000000</td>\n",
       "      <td>2.845774</td>\n",
       "      <td>0.000000</td>\n",
       "      <td>10.000000</td>\n",
       "      <td>9.658507</td>\n",
       "      <td>47.074393</td>\n",
       "      <td>4.0</td>\n",
       "      <td>Sem Sintomas</td>\n",
       "      <td>Negro não-hispanico</td>\n",
       "      <td>Aderencia acima</td>\n",
       "    </tr>\n",
       "    <tr>\n",
       "      <th>...</th>\n",
       "      <td>...</td>\n",
       "      <td>...</td>\n",
       "      <td>...</td>\n",
       "      <td>...</td>\n",
       "      <td>...</td>\n",
       "      <td>...</td>\n",
       "      <td>...</td>\n",
       "      <td>...</td>\n",
       "      <td>...</td>\n",
       "      <td>...</td>\n",
       "      <td>...</td>\n",
       "      <td>...</td>\n",
       "      <td>...</td>\n",
       "      <td>...</td>\n",
       "      <td>...</td>\n",
       "      <td>...</td>\n",
       "      <td>...</td>\n",
       "      <td>...</td>\n",
       "      <td>...</td>\n",
       "      <td>...</td>\n",
       "      <td>...</td>\n",
       "    </tr>\n",
       "    <tr>\n",
       "      <th>5329</th>\n",
       "      <td>5329</td>\n",
       "      <td>5329</td>\n",
       "      <td>41466</td>\n",
       "      <td>0.0</td>\n",
       "      <td>0.0</td>\n",
       "      <td>1.0</td>\n",
       "      <td>1.0</td>\n",
       "      <td>0.0</td>\n",
       "      <td>0.0</td>\n",
       "      <td>0.0</td>\n",
       "      <td>...</td>\n",
       "      <td>4.633477</td>\n",
       "      <td>0.000000</td>\n",
       "      <td>6.580006</td>\n",
       "      <td>8.393244</td>\n",
       "      <td>9.360990</td>\n",
       "      <td>59.949915</td>\n",
       "      <td>2.0</td>\n",
       "      <td>Sem Sintomas</td>\n",
       "      <td>Outro-hispanico</td>\n",
       "      <td>Aderencia baixa</td>\n",
       "    </tr>\n",
       "    <tr>\n",
       "      <th>5330</th>\n",
       "      <td>5330</td>\n",
       "      <td>5330</td>\n",
       "      <td>41468</td>\n",
       "      <td>0.0</td>\n",
       "      <td>2.0</td>\n",
       "      <td>0.0</td>\n",
       "      <td>1.0</td>\n",
       "      <td>1.0</td>\n",
       "      <td>2.0</td>\n",
       "      <td>1.0</td>\n",
       "      <td>...</td>\n",
       "      <td>4.780282</td>\n",
       "      <td>3.134216</td>\n",
       "      <td>1.986137</td>\n",
       "      <td>5.850269</td>\n",
       "      <td>10.000000</td>\n",
       "      <td>57.747869</td>\n",
       "      <td>10.0</td>\n",
       "      <td>Sintomas Moderados</td>\n",
       "      <td>Branco não-hispanico</td>\n",
       "      <td>Aderencia adequada</td>\n",
       "    </tr>\n",
       "    <tr>\n",
       "      <th>5331</th>\n",
       "      <td>5331</td>\n",
       "      <td>5331</td>\n",
       "      <td>41469</td>\n",
       "      <td>1.0</td>\n",
       "      <td>0.0</td>\n",
       "      <td>0.0</td>\n",
       "      <td>1.0</td>\n",
       "      <td>0.0</td>\n",
       "      <td>0.0</td>\n",
       "      <td>0.0</td>\n",
       "      <td>...</td>\n",
       "      <td>9.344947</td>\n",
       "      <td>3.535211</td>\n",
       "      <td>4.326307</td>\n",
       "      <td>5.269780</td>\n",
       "      <td>8.195564</td>\n",
       "      <td>42.993323</td>\n",
       "      <td>2.0</td>\n",
       "      <td>Sem Sintomas</td>\n",
       "      <td>Outro</td>\n",
       "      <td>Aderencia adequada</td>\n",
       "    </tr>\n",
       "    <tr>\n",
       "      <th>5332</th>\n",
       "      <td>5332</td>\n",
       "      <td>5332</td>\n",
       "      <td>41472</td>\n",
       "      <td>0.0</td>\n",
       "      <td>0.0</td>\n",
       "      <td>0.0</td>\n",
       "      <td>0.0</td>\n",
       "      <td>0.0</td>\n",
       "      <td>0.0</td>\n",
       "      <td>0.0</td>\n",
       "      <td>...</td>\n",
       "      <td>2.090534</td>\n",
       "      <td>8.409844</td>\n",
       "      <td>8.936854</td>\n",
       "      <td>3.063795</td>\n",
       "      <td>0.000000</td>\n",
       "      <td>46.134467</td>\n",
       "      <td>0.0</td>\n",
       "      <td>Sem Sintomas</td>\n",
       "      <td>Mexicano-americano</td>\n",
       "      <td>Aderencia baixa</td>\n",
       "    </tr>\n",
       "    <tr>\n",
       "      <th>5333</th>\n",
       "      <td>5333</td>\n",
       "      <td>5333</td>\n",
       "      <td>41473</td>\n",
       "      <td>0.0</td>\n",
       "      <td>0.0</td>\n",
       "      <td>2.0</td>\n",
       "      <td>1.0</td>\n",
       "      <td>0.0</td>\n",
       "      <td>1.0</td>\n",
       "      <td>0.0</td>\n",
       "      <td>...</td>\n",
       "      <td>0.000000</td>\n",
       "      <td>7.458058</td>\n",
       "      <td>10.000000</td>\n",
       "      <td>1.676912</td>\n",
       "      <td>2.751168</td>\n",
       "      <td>45.793478</td>\n",
       "      <td>4.0</td>\n",
       "      <td>Sem Sintomas</td>\n",
       "      <td>Branco não-hispanico</td>\n",
       "      <td>Aderencia acima</td>\n",
       "    </tr>\n",
       "  </tbody>\n",
       "</table>\n",
       "<p>5334 rows × 37 columns</p>\n",
       "</div>"
      ],
      "text/plain": [
       "      Unnamed: 0.1  Unnamed: 0   SEQN  DPQ010  DPQ020  DPQ030  DPQ040  DPQ050  \\\n",
       "0                0           0  31130     NaN     NaN     NaN     NaN     NaN   \n",
       "1                1           1  31131     0.0     0.0     0.0     0.0     0.0   \n",
       "2                2           2  31132     0.0     0.0     0.0     0.0     0.0   \n",
       "3                3           3  31134     0.0     0.0     0.0     0.0     0.0   \n",
       "4                4           4  31139     0.0     0.0     0.0     0.0     3.0   \n",
       "...            ...         ...    ...     ...     ...     ...     ...     ...   \n",
       "5329          5329        5329  41466     0.0     0.0     1.0     1.0     0.0   \n",
       "5330          5330        5330  41468     0.0     2.0     0.0     1.0     1.0   \n",
       "5331          5331        5331  41469     1.0     0.0     0.0     1.0     0.0   \n",
       "5332          5332        5332  41472     0.0     0.0     0.0     0.0     0.0   \n",
       "5333          5333        5333  41473     0.0     0.0     2.0     1.0     0.0   \n",
       "\n",
       "      DPQ060  DPQ070  ...  HEI2015C9_FATTYACID  HEI2015C10_SODIUM  \\\n",
       "0        NaN     NaN  ...                  NaN                NaN   \n",
       "1        0.0     0.0  ...             0.684985           2.297100   \n",
       "2        0.0     0.0  ...             2.050769           7.369489   \n",
       "3        0.0     0.0  ...             2.958985           0.000000   \n",
       "4        1.0     0.0  ...            10.000000           2.845774   \n",
       "...      ...     ...  ...                  ...                ...   \n",
       "5329     0.0     0.0  ...             4.633477           0.000000   \n",
       "5330     2.0     1.0  ...             4.780282           3.134216   \n",
       "5331     0.0     0.0  ...             9.344947           3.535211   \n",
       "5332     0.0     0.0  ...             2.090534           8.409844   \n",
       "5333     1.0     0.0  ...             0.000000           7.458058   \n",
       "\n",
       "      HEI2015C11_REFINEDGRAIN HEI2015C12_SFAT  HEI2015C13_ADDSUG  \\\n",
       "0                         NaN             NaN                NaN   \n",
       "1                    9.512964        0.438428           3.919226   \n",
       "2                    8.887880        8.186877           9.099088   \n",
       "3                    5.627488        5.863078           5.878686   \n",
       "4                    0.000000       10.000000           9.658507   \n",
       "...                       ...             ...                ...   \n",
       "5329                 6.580006        8.393244           9.360990   \n",
       "5330                 1.986137        5.850269          10.000000   \n",
       "5331                 4.326307        5.269780           8.195564   \n",
       "5332                 8.936854        3.063795           0.000000   \n",
       "5333                10.000000        1.676912           2.751168   \n",
       "\n",
       "      HEI2015_TOTAL_SCORE  phq9             phq_grp                 Etnia  \\\n",
       "0                     NaN   0.0        Sem Sintomas    Mexicano-americano   \n",
       "1               35.553899   0.0        Sem Sintomas                 Outro   \n",
       "2               63.551696   0.0        Sem Sintomas    Mexicano-americano   \n",
       "3               42.886826   0.0        Sem Sintomas    Mexicano-americano   \n",
       "4               47.074393   4.0        Sem Sintomas   Negro não-hispanico   \n",
       "...                   ...   ...                 ...                   ...   \n",
       "5329            59.949915   2.0        Sem Sintomas       Outro-hispanico   \n",
       "5330            57.747869  10.0  Sintomas Moderados  Branco não-hispanico   \n",
       "5331            42.993323   2.0        Sem Sintomas                 Outro   \n",
       "5332            46.134467   0.0        Sem Sintomas    Mexicano-americano   \n",
       "5333            45.793478   4.0        Sem Sintomas  Branco não-hispanico   \n",
       "\n",
       "          Graderenci_Pag  \n",
       "0        Aderencia baixa  \n",
       "1     Aderencia adequada  \n",
       "2        Aderencia acima  \n",
       "3        Aderencia acima  \n",
       "4        Aderencia acima  \n",
       "...                  ...  \n",
       "5329     Aderencia baixa  \n",
       "5330  Aderencia adequada  \n",
       "5331  Aderencia adequada  \n",
       "5332     Aderencia baixa  \n",
       "5333     Aderencia acima  \n",
       "\n",
       "[5334 rows x 37 columns]"
      ]
     },
     "execution_count": 2,
     "metadata": {},
     "output_type": "execute_result"
    }
   ],
   "source": [
    "Df2 = pd.read_csv('DesAnaliseUni.csv')\n",
    "Df2"
   ]
  },
  {
   "cell_type": "code",
   "execution_count": 3,
   "id": "854e8872",
   "metadata": {},
   "outputs": [],
   "source": [
    "# dropando a coluna ID\n",
    "Df2 = Df2.drop('Unnamed: 0',axis=1)"
   ]
  },
  {
   "cell_type": "code",
   "execution_count": 4,
   "id": "bed74607",
   "metadata": {},
   "outputs": [
    {
     "data": {
      "text/html": [
       "<div>\n",
       "<style scoped>\n",
       "    .dataframe tbody tr th:only-of-type {\n",
       "        vertical-align: middle;\n",
       "    }\n",
       "\n",
       "    .dataframe tbody tr th {\n",
       "        vertical-align: top;\n",
       "    }\n",
       "\n",
       "    .dataframe thead th {\n",
       "        text-align: right;\n",
       "    }\n",
       "</style>\n",
       "<table border=\"1\" class=\"dataframe\">\n",
       "  <thead>\n",
       "    <tr style=\"text-align: right;\">\n",
       "      <th></th>\n",
       "      <th>SEQN</th>\n",
       "      <th>DPQ010</th>\n",
       "      <th>DPQ020</th>\n",
       "      <th>DPQ030</th>\n",
       "      <th>DPQ040</th>\n",
       "      <th>DPQ050</th>\n",
       "      <th>DPQ060</th>\n",
       "      <th>DPQ070</th>\n",
       "      <th>DPQ080</th>\n",
       "      <th>DPQ090</th>\n",
       "      <th>...</th>\n",
       "      <th>HEI2015C9_FATTYACID</th>\n",
       "      <th>HEI2015C10_SODIUM</th>\n",
       "      <th>HEI2015C11_REFINEDGRAIN</th>\n",
       "      <th>HEI2015C12_SFAT</th>\n",
       "      <th>HEI2015C13_ADDSUG</th>\n",
       "      <th>HEI2015_TOTAL_SCORE</th>\n",
       "      <th>phq9</th>\n",
       "      <th>phq_grp</th>\n",
       "      <th>Etnia</th>\n",
       "      <th>Graderenci_Pag</th>\n",
       "    </tr>\n",
       "  </thead>\n",
       "  <tbody>\n",
       "    <tr>\n",
       "      <th>0</th>\n",
       "      <td>31130</td>\n",
       "      <td>NaN</td>\n",
       "      <td>NaN</td>\n",
       "      <td>NaN</td>\n",
       "      <td>NaN</td>\n",
       "      <td>NaN</td>\n",
       "      <td>NaN</td>\n",
       "      <td>NaN</td>\n",
       "      <td>NaN</td>\n",
       "      <td>NaN</td>\n",
       "      <td>...</td>\n",
       "      <td>NaN</td>\n",
       "      <td>NaN</td>\n",
       "      <td>NaN</td>\n",
       "      <td>NaN</td>\n",
       "      <td>NaN</td>\n",
       "      <td>NaN</td>\n",
       "      <td>0.0</td>\n",
       "      <td>Sem Sintomas</td>\n",
       "      <td>Mexicano-americano</td>\n",
       "      <td>Aderencia baixa</td>\n",
       "    </tr>\n",
       "    <tr>\n",
       "      <th>1</th>\n",
       "      <td>31131</td>\n",
       "      <td>0.0</td>\n",
       "      <td>0.0</td>\n",
       "      <td>0.0</td>\n",
       "      <td>0.0</td>\n",
       "      <td>0.0</td>\n",
       "      <td>0.0</td>\n",
       "      <td>0.0</td>\n",
       "      <td>0.0</td>\n",
       "      <td>0.0</td>\n",
       "      <td>...</td>\n",
       "      <td>0.684985</td>\n",
       "      <td>2.297100</td>\n",
       "      <td>9.512964</td>\n",
       "      <td>0.438428</td>\n",
       "      <td>3.919226</td>\n",
       "      <td>35.553899</td>\n",
       "      <td>0.0</td>\n",
       "      <td>Sem Sintomas</td>\n",
       "      <td>Outro</td>\n",
       "      <td>Aderencia adequada</td>\n",
       "    </tr>\n",
       "    <tr>\n",
       "      <th>2</th>\n",
       "      <td>31132</td>\n",
       "      <td>0.0</td>\n",
       "      <td>0.0</td>\n",
       "      <td>0.0</td>\n",
       "      <td>0.0</td>\n",
       "      <td>0.0</td>\n",
       "      <td>0.0</td>\n",
       "      <td>0.0</td>\n",
       "      <td>0.0</td>\n",
       "      <td>0.0</td>\n",
       "      <td>...</td>\n",
       "      <td>2.050769</td>\n",
       "      <td>7.369489</td>\n",
       "      <td>8.887880</td>\n",
       "      <td>8.186877</td>\n",
       "      <td>9.099088</td>\n",
       "      <td>63.551696</td>\n",
       "      <td>0.0</td>\n",
       "      <td>Sem Sintomas</td>\n",
       "      <td>Mexicano-americano</td>\n",
       "      <td>Aderencia acima</td>\n",
       "    </tr>\n",
       "    <tr>\n",
       "      <th>3</th>\n",
       "      <td>31134</td>\n",
       "      <td>0.0</td>\n",
       "      <td>0.0</td>\n",
       "      <td>0.0</td>\n",
       "      <td>0.0</td>\n",
       "      <td>0.0</td>\n",
       "      <td>0.0</td>\n",
       "      <td>0.0</td>\n",
       "      <td>0.0</td>\n",
       "      <td>0.0</td>\n",
       "      <td>...</td>\n",
       "      <td>2.958985</td>\n",
       "      <td>0.000000</td>\n",
       "      <td>5.627488</td>\n",
       "      <td>5.863078</td>\n",
       "      <td>5.878686</td>\n",
       "      <td>42.886826</td>\n",
       "      <td>0.0</td>\n",
       "      <td>Sem Sintomas</td>\n",
       "      <td>Mexicano-americano</td>\n",
       "      <td>Aderencia acima</td>\n",
       "    </tr>\n",
       "    <tr>\n",
       "      <th>4</th>\n",
       "      <td>31139</td>\n",
       "      <td>0.0</td>\n",
       "      <td>0.0</td>\n",
       "      <td>0.0</td>\n",
       "      <td>0.0</td>\n",
       "      <td>3.0</td>\n",
       "      <td>1.0</td>\n",
       "      <td>0.0</td>\n",
       "      <td>0.0</td>\n",
       "      <td>0.0</td>\n",
       "      <td>...</td>\n",
       "      <td>10.000000</td>\n",
       "      <td>2.845774</td>\n",
       "      <td>0.000000</td>\n",
       "      <td>10.000000</td>\n",
       "      <td>9.658507</td>\n",
       "      <td>47.074393</td>\n",
       "      <td>4.0</td>\n",
       "      <td>Sem Sintomas</td>\n",
       "      <td>Negro não-hispanico</td>\n",
       "      <td>Aderencia acima</td>\n",
       "    </tr>\n",
       "    <tr>\n",
       "      <th>5</th>\n",
       "      <td>31143</td>\n",
       "      <td>0.0</td>\n",
       "      <td>1.0</td>\n",
       "      <td>1.0</td>\n",
       "      <td>1.0</td>\n",
       "      <td>1.0</td>\n",
       "      <td>1.0</td>\n",
       "      <td>1.0</td>\n",
       "      <td>0.0</td>\n",
       "      <td>0.0</td>\n",
       "      <td>...</td>\n",
       "      <td>0.002362</td>\n",
       "      <td>5.223435</td>\n",
       "      <td>7.787420</td>\n",
       "      <td>0.000000</td>\n",
       "      <td>10.000000</td>\n",
       "      <td>46.086131</td>\n",
       "      <td>6.0</td>\n",
       "      <td>Sintomas Leves</td>\n",
       "      <td>Mexicano-americano</td>\n",
       "      <td>Aderencia acima</td>\n",
       "    </tr>\n",
       "    <tr>\n",
       "      <th>6</th>\n",
       "      <td>31144</td>\n",
       "      <td>0.0</td>\n",
       "      <td>0.0</td>\n",
       "      <td>0.0</td>\n",
       "      <td>0.0</td>\n",
       "      <td>0.0</td>\n",
       "      <td>0.0</td>\n",
       "      <td>0.0</td>\n",
       "      <td>0.0</td>\n",
       "      <td>0.0</td>\n",
       "      <td>...</td>\n",
       "      <td>6.209888</td>\n",
       "      <td>6.747360</td>\n",
       "      <td>0.000000</td>\n",
       "      <td>7.473184</td>\n",
       "      <td>6.573559</td>\n",
       "      <td>37.388008</td>\n",
       "      <td>0.0</td>\n",
       "      <td>Sem Sintomas</td>\n",
       "      <td>Negro não-hispanico</td>\n",
       "      <td>Aderencia acima</td>\n",
       "    </tr>\n",
       "    <tr>\n",
       "      <th>7</th>\n",
       "      <td>31149</td>\n",
       "      <td>0.0</td>\n",
       "      <td>0.0</td>\n",
       "      <td>0.0</td>\n",
       "      <td>0.0</td>\n",
       "      <td>0.0</td>\n",
       "      <td>0.0</td>\n",
       "      <td>0.0</td>\n",
       "      <td>0.0</td>\n",
       "      <td>0.0</td>\n",
       "      <td>...</td>\n",
       "      <td>4.780404</td>\n",
       "      <td>0.000000</td>\n",
       "      <td>5.138144</td>\n",
       "      <td>5.601160</td>\n",
       "      <td>4.677064</td>\n",
       "      <td>41.001689</td>\n",
       "      <td>0.0</td>\n",
       "      <td>Sem Sintomas</td>\n",
       "      <td>Mexicano-americano</td>\n",
       "      <td>Aderencia baixa</td>\n",
       "    </tr>\n",
       "    <tr>\n",
       "      <th>8</th>\n",
       "      <td>31150</td>\n",
       "      <td>1.0</td>\n",
       "      <td>0.0</td>\n",
       "      <td>0.0</td>\n",
       "      <td>0.0</td>\n",
       "      <td>0.0</td>\n",
       "      <td>0.0</td>\n",
       "      <td>0.0</td>\n",
       "      <td>0.0</td>\n",
       "      <td>0.0</td>\n",
       "      <td>...</td>\n",
       "      <td>7.660037</td>\n",
       "      <td>9.368343</td>\n",
       "      <td>9.253592</td>\n",
       "      <td>10.000000</td>\n",
       "      <td>8.797673</td>\n",
       "      <td>71.671972</td>\n",
       "      <td>1.0</td>\n",
       "      <td>Sem Sintomas</td>\n",
       "      <td>Mexicano-americano</td>\n",
       "      <td>Aderencia acima</td>\n",
       "    </tr>\n",
       "    <tr>\n",
       "      <th>9</th>\n",
       "      <td>31151</td>\n",
       "      <td>0.0</td>\n",
       "      <td>0.0</td>\n",
       "      <td>1.0</td>\n",
       "      <td>1.0</td>\n",
       "      <td>0.0</td>\n",
       "      <td>0.0</td>\n",
       "      <td>1.0</td>\n",
       "      <td>0.0</td>\n",
       "      <td>0.0</td>\n",
       "      <td>...</td>\n",
       "      <td>2.805860</td>\n",
       "      <td>9.298090</td>\n",
       "      <td>10.000000</td>\n",
       "      <td>6.738039</td>\n",
       "      <td>0.000000</td>\n",
       "      <td>47.002405</td>\n",
       "      <td>3.0</td>\n",
       "      <td>Sem Sintomas</td>\n",
       "      <td>Outro</td>\n",
       "      <td>Aderencia baixa</td>\n",
       "    </tr>\n",
       "  </tbody>\n",
       "</table>\n",
       "<p>10 rows × 35 columns</p>\n",
       "</div>"
      ],
      "text/plain": [
       "    SEQN  DPQ010  DPQ020  DPQ030  DPQ040  DPQ050  DPQ060  DPQ070  DPQ080  \\\n",
       "0  31130     NaN     NaN     NaN     NaN     NaN     NaN     NaN     NaN   \n",
       "1  31131     0.0     0.0     0.0     0.0     0.0     0.0     0.0     0.0   \n",
       "2  31132     0.0     0.0     0.0     0.0     0.0     0.0     0.0     0.0   \n",
       "3  31134     0.0     0.0     0.0     0.0     0.0     0.0     0.0     0.0   \n",
       "4  31139     0.0     0.0     0.0     0.0     3.0     1.0     0.0     0.0   \n",
       "5  31143     0.0     1.0     1.0     1.0     1.0     1.0     1.0     0.0   \n",
       "6  31144     0.0     0.0     0.0     0.0     0.0     0.0     0.0     0.0   \n",
       "7  31149     0.0     0.0     0.0     0.0     0.0     0.0     0.0     0.0   \n",
       "8  31150     1.0     0.0     0.0     0.0     0.0     0.0     0.0     0.0   \n",
       "9  31151     0.0     0.0     1.0     1.0     0.0     0.0     1.0     0.0   \n",
       "\n",
       "   DPQ090  ...  HEI2015C9_FATTYACID HEI2015C10_SODIUM  \\\n",
       "0     NaN  ...                  NaN               NaN   \n",
       "1     0.0  ...             0.684985          2.297100   \n",
       "2     0.0  ...             2.050769          7.369489   \n",
       "3     0.0  ...             2.958985          0.000000   \n",
       "4     0.0  ...            10.000000          2.845774   \n",
       "5     0.0  ...             0.002362          5.223435   \n",
       "6     0.0  ...             6.209888          6.747360   \n",
       "7     0.0  ...             4.780404          0.000000   \n",
       "8     0.0  ...             7.660037          9.368343   \n",
       "9     0.0  ...             2.805860          9.298090   \n",
       "\n",
       "   HEI2015C11_REFINEDGRAIN  HEI2015C12_SFAT  HEI2015C13_ADDSUG  \\\n",
       "0                      NaN              NaN                NaN   \n",
       "1                 9.512964         0.438428           3.919226   \n",
       "2                 8.887880         8.186877           9.099088   \n",
       "3                 5.627488         5.863078           5.878686   \n",
       "4                 0.000000        10.000000           9.658507   \n",
       "5                 7.787420         0.000000          10.000000   \n",
       "6                 0.000000         7.473184           6.573559   \n",
       "7                 5.138144         5.601160           4.677064   \n",
       "8                 9.253592        10.000000           8.797673   \n",
       "9                10.000000         6.738039           0.000000   \n",
       "\n",
       "   HEI2015_TOTAL_SCORE  phq9         phq_grp                Etnia  \\\n",
       "0                  NaN   0.0    Sem Sintomas   Mexicano-americano   \n",
       "1            35.553899   0.0    Sem Sintomas                Outro   \n",
       "2            63.551696   0.0    Sem Sintomas   Mexicano-americano   \n",
       "3            42.886826   0.0    Sem Sintomas   Mexicano-americano   \n",
       "4            47.074393   4.0    Sem Sintomas  Negro não-hispanico   \n",
       "5            46.086131   6.0  Sintomas Leves   Mexicano-americano   \n",
       "6            37.388008   0.0    Sem Sintomas  Negro não-hispanico   \n",
       "7            41.001689   0.0    Sem Sintomas   Mexicano-americano   \n",
       "8            71.671972   1.0    Sem Sintomas   Mexicano-americano   \n",
       "9            47.002405   3.0    Sem Sintomas                Outro   \n",
       "\n",
       "       Graderenci_Pag  \n",
       "0     Aderencia baixa  \n",
       "1  Aderencia adequada  \n",
       "2     Aderencia acima  \n",
       "3     Aderencia acima  \n",
       "4     Aderencia acima  \n",
       "5     Aderencia acima  \n",
       "6     Aderencia acima  \n",
       "7     Aderencia baixa  \n",
       "8     Aderencia acima  \n",
       "9     Aderencia baixa  \n",
       "\n",
       "[10 rows x 35 columns]"
      ]
     },
     "execution_count": 4,
     "metadata": {},
     "output_type": "execute_result"
    }
   ],
   "source": [
    "Df2 = Df2.drop('Unnamed: 0.1',axis=1)\n",
    "Df2.head(10)"
   ]
  },
  {
   "cell_type": "code",
   "execution_count": 5,
   "id": "c58bcbc1",
   "metadata": {},
   "outputs": [
    {
     "data": {
      "text/plain": [
       "RIAGENDR\n",
       "1    5411.0\n",
       "2    7912.0\n",
       "Name: phq9, dtype: float64"
      ]
     },
     "execution_count": 5,
     "metadata": {},
     "output_type": "execute_result"
    }
   ],
   "source": [
    "# Agrupamento dos dados baseado no atributo 'RIAGENDR/phq9', contando e somando os registros\n",
    "agrupGen = Df2.groupby(['RIAGENDR'])['phq9'].sum()\n",
    "agrupGen\n"
   ]
  },
  {
   "cell_type": "code",
   "execution_count": 6,
   "id": "75ac5466",
   "metadata": {},
   "outputs": [
    {
     "data": {
      "text/plain": [
       "<AxesSubplot:xlabel='RIAGENDR'>"
      ]
     },
     "execution_count": 6,
     "metadata": {},
     "output_type": "execute_result"
    },
    {
     "data": {
      "image/png": "[encoded data removed]",
      "text/plain": [
       "<Figure size 432x288 with 1 Axes>"
      ]
     },
     "metadata": {
      "needs_background": "light"
     },
     "output_type": "display_data"
    }
   ],
   "source": [
    "# Gráfico de barras\n",
    "agrupGen.plot.bar(color = ['blue','pink'])"
   ]
  },
  {
   "cell_type": "code",
   "execution_count": 7,
   "id": "5ef79ebd",
   "metadata": {},
   "outputs": [
    {
     "data": {
      "text/plain": [
       "RIDAGEYR  RIAGENDR\n",
       "Adult     1           1687.0\n",
       "          2           2855.0\n",
       "MidAge    1           2086.0\n",
       "          2           3053.0\n",
       "Senior    1           1353.0\n",
       "          2           1589.0\n",
       "Name: phq9, dtype: float64"
      ]
     },
     "execution_count": 7,
     "metadata": {},
     "output_type": "execute_result"
    }
   ],
   "source": [
    "# Agrupamento dos dados baseado no atributo 'RIDAGEYR/phq9', contando e somando os registros\n",
    "agrupIdade = Df2.groupby(['RIDAGEYR','RIAGENDR'])['phq9'].sum()\n",
    "agrupIdade\n"
   ]
  },
  {
   "cell_type": "code",
   "execution_count": 8,
   "id": "385a6ea8",
   "metadata": {},
   "outputs": [
    {
     "data": {
      "text/plain": [
       "<AxesSubplot:xlabel='RIDAGEYR,RIAGENDR'>"
      ]
     },
     "execution_count": 8,
     "metadata": {},
     "output_type": "execute_result"
    },
    {
     "data": {
      "image/png": "[encoded data removed]",
      "text/plain": [
       "<Figure size 432x288 with 1 Axes>"
      ]
     },
     "metadata": {
      "needs_background": "light"
     },
     "output_type": "display_data"
    }
   ],
   "source": [
    "# Gráfico de barras\n",
    "agrupIdade.plot.bar(color = ['blue','red'])"
   ]
  },
  {
   "cell_type": "code",
   "execution_count": 9,
   "id": "551a66b6",
   "metadata": {},
   "outputs": [
    {
     "data": {
      "text/plain": [
       "Etnia\n",
       "Branco não-hispanico    2834.0\n",
       "Mexicano-americano      6112.0\n",
       "Negro não-hispanico      501.0\n",
       "Outro                   3343.0\n",
       "Outro-hispanico          533.0\n",
       "Name: phq9, dtype: float64"
      ]
     },
     "execution_count": 9,
     "metadata": {},
     "output_type": "execute_result"
    }
   ],
   "source": [
    "# Agrupamento dos dados baseado no atributo 'RIDAGEYR/phq9', contando e somando os registros\n",
    "agrupEtnia = Df2.groupby(['Etnia'])['phq9'].sum()\n",
    "agrupEtnia\n"
   ]
  },
  {
   "cell_type": "code",
   "execution_count": 10,
   "id": "453239c9",
   "metadata": {},
   "outputs": [
    {
     "data": {
      "text/plain": [
       "<AxesSubplot:xlabel='Etnia'>"
      ]
     },
     "execution_count": 10,
     "metadata": {},
     "output_type": "execute_result"
    },
    {
     "data": {
      "image/png": "[encoded data removed]",
      "text/plain": [
       "<Figure size 432x288 with 1 Axes>"
      ]
     },
     "metadata": {
      "needs_background": "light"
     },
     "output_type": "display_data"
    }
   ],
   "source": [
    "#cores\n",
    "agrupEtnia.plot.bar(color = ['blue','yellow','red','green','pink','orange'])"
   ]
  },
  {
   "cell_type": "code",
   "execution_count": 11,
   "id": "1a17b7be",
   "metadata": {},
   "outputs": [
    {
     "data": {
      "text/plain": [
       "RIAGENDR\n",
       "1    1.419528e+06\n",
       "2    1.096870e+06\n",
       "Name: PAG_MINW, dtype: float64"
      ]
     },
     "execution_count": 11,
     "metadata": {},
     "output_type": "execute_result"
    }
   ],
   "source": [
    "# Agrupamento dos dados baseado no atributo 'RIAGENDR/PAG_MINW', contando e somando os registros\n",
    "agrupGenAtiv = Df2.groupby(['RIAGENDR'])['PAG_MINW'].sum()\n",
    "agrupGenAtiv\n"
   ]
  },
  {
   "cell_type": "code",
   "execution_count": 12,
   "id": "0b0b730b",
   "metadata": {},
   "outputs": [
    {
     "data": {
      "text/plain": [
       "<AxesSubplot:xlabel='RIAGENDR'>"
      ]
     },
     "execution_count": 12,
     "metadata": {},
     "output_type": "execute_result"
    },
    {
     "data": {
      "image/png": "[encoded data removed]",
      "text/plain": [
       "<Figure size 432x288 with 1 Axes>"
      ]
     },
     "metadata": {
      "needs_background": "light"
     },
     "output_type": "display_data"
    }
   ],
   "source": [
    "# Gráfico de barras\n",
    "agrupGenAtiv.plot.bar(color = ['blue','pink'])"
   ]
  },
  {
   "cell_type": "code",
   "execution_count": 13,
   "id": "66defd9d",
   "metadata": {},
   "outputs": [
    {
     "data": {
      "text/plain": [
       "RIDAGEYR  RIAGENDR\n",
       "Adult     1           505120.755196\n",
       "          2           449278.577367\n",
       "MidAge    1           432513.528868\n",
       "          2           355671.870670\n",
       "Senior    1           302777.914550\n",
       "          2           171032.337182\n",
       "Name: PAG_MINW, dtype: float64"
      ]
     },
     "execution_count": 13,
     "metadata": {},
     "output_type": "execute_result"
    }
   ],
   "source": [
    "# Agrupamento dos dados baseado no atributo 'RIDAGEYR/PAG_MINW'', contando e somando os registros\n",
    "agrupIdadeAtiv = Df2.groupby(['RIDAGEYR','RIAGENDR'])['PAG_MINW'].sum()\n",
    "agrupIdadeAtiv\n"
   ]
  },
  {
   "cell_type": "code",
   "execution_count": 14,
   "id": "15ceecac",
   "metadata": {},
   "outputs": [
    {
     "data": {
      "text/plain": [
       "<AxesSubplot:xlabel='RIDAGEYR,RIAGENDR'>"
      ]
     },
     "execution_count": 14,
     "metadata": {},
     "output_type": "execute_result"
    },
    {
     "data": {
      "image/png": "[encoded data removed]",
      "text/plain": [
       "<Figure size 432x288 with 1 Axes>"
      ]
     },
     "metadata": {
      "needs_background": "light"
     },
     "output_type": "display_data"
    }
   ],
   "source": [
    "# Gráfico de barras\n",
    "agrupIdadeAtiv.plot.bar(color = ['blue','red'])"
   ]
  },
  {
   "cell_type": "code",
   "execution_count": 15,
   "id": "08b9902c",
   "metadata": {},
   "outputs": [
    {
     "data": {
      "text/plain": [
       "Etnia\n",
       "Branco não-hispanico    3.943370e+05\n",
       "Mexicano-americano      1.247864e+06\n",
       "Negro não-hispanico     7.516113e+04\n",
       "Outro                   6.796582e+05\n",
       "Outro-hispanico         1.193784e+05\n",
       "Name: PAG_MINW, dtype: float64"
      ]
     },
     "execution_count": 15,
     "metadata": {},
     "output_type": "execute_result"
    }
   ],
   "source": [
    "# Agrupamento dos dados baseado no atributo 'REtnia/PAG_MINW'', contando e somando os registros\n",
    "agrupEtniaAtiv = Df2.groupby(['Etnia'])['PAG_MINW'].sum()\n",
    "agrupEtniaAtiv\n"
   ]
  },
  {
   "cell_type": "code",
   "execution_count": 16,
   "id": "61dfd467",
   "metadata": {
    "scrolled": true
   },
   "outputs": [
    {
     "data": {
      "text/plain": [
       "<AxesSubplot:xlabel='Etnia'>"
      ]
     },
     "execution_count": 16,
     "metadata": {},
     "output_type": "execute_result"
    },
    {
     "data": {
      "image/png": "[encoded data removed]",
      "text/plain": [
       "<Figure size 432x288 with 1 Axes>"
      ]
     },
     "metadata": {
      "needs_background": "light"
     },
     "output_type": "display_data"
    }
   ],
   "source": [
    "#cores\n",
    "agrupEtniaAtiv.plot.bar(color = ['blue','yellow','red','green','pink','orange'])"
   ]
  },
  {
   "cell_type": "code",
   "execution_count": 17,
   "id": "1e6b6efb",
   "metadata": {},
   "outputs": [
    {
     "data": {
      "text/plain": [
       "RIAGENDR\n",
       "1    118901.752127\n",
       "2    133953.640380\n",
       "Name: HEI2015_TOTAL_SCORE, dtype: float64"
      ]
     },
     "execution_count": 17,
     "metadata": {},
     "output_type": "execute_result"
    }
   ],
   "source": [
    " #Agrupamento dos dados baseado no atributo 'RIAGENDR/'HEI2015_TOTAL_SCORE contando e somando os registros\n",
    "agrupGenTotscore = Df2.groupby(['RIAGENDR'])['HEI2015_TOTAL_SCORE'].sum()\n",
    "agrupGenTotscore\n"
   ]
  },
  {
   "cell_type": "code",
   "execution_count": 18,
   "id": "4c2f212d",
   "metadata": {},
   "outputs": [
    {
     "data": {
      "text/plain": [
       "<AxesSubplot:xlabel='RIAGENDR'>"
      ]
     },
     "execution_count": 18,
     "metadata": {},
     "output_type": "execute_result"
    },
    {
     "data": {
      "image/png": "[encoded data removed]",
      "text/plain": [
       "<Figure size 432x288 with 1 Axes>"
      ]
     },
     "metadata": {
      "needs_background": "light"
     },
     "output_type": "display_data"
    }
   ],
   "source": [
    "# Gráfico de barras\n",
    "agrupGenTotscore.plot.bar(color = ['blue','red'])"
   ]
  },
  {
   "cell_type": "code",
   "execution_count": 19,
   "id": "83c958d8",
   "metadata": {},
   "outputs": [
    {
     "data": {
      "text/plain": [
       "RIDAGEYR\n",
       "Adult     79989.235883\n",
       "MidAge    88133.142698\n",
       "Senior    72349.660587\n",
       "Name: HEI2015_TOTAL_SCORE, dtype: float64"
      ]
     },
     "execution_count": 19,
     "metadata": {},
     "output_type": "execute_result"
    }
   ],
   "source": [
    "# Agrupamento dos dados baseado no atributo 'RIDAGEYR/'HEI2015_TOTAL_SCORE, contando e somando os registros\n",
    "agrupIdadetotscore = Df2.groupby(['RIDAGEYR'])['HEI2015_TOTAL_SCORE'].sum()\n",
    "agrupIdadetotscore\n"
   ]
  },
  {
   "cell_type": "code",
   "execution_count": 20,
   "id": "9711867a",
   "metadata": {},
   "outputs": [
    {
     "data": {
      "text/plain": [
       "<AxesSubplot:xlabel='RIDAGEYR'>"
      ]
     },
     "execution_count": 20,
     "metadata": {},
     "output_type": "execute_result"
    },
    {
     "data": {
      "image/png": "[encoded data removed]",
      "text/plain": [
       "<Figure size 432x288 with 1 Axes>"
      ]
     },
     "metadata": {
      "needs_background": "light"
     },
     "output_type": "display_data"
    }
   ],
   "source": [
    "#cores\n",
    "agrupIdadetotscore.plot.bar(color = ['blue','yellow','red'])"
   ]
  },
  {
   "cell_type": "code",
   "execution_count": 21,
   "id": "87e909a2",
   "metadata": {},
   "outputs": [
    {
     "data": {
      "text/plain": [
       "Etnia\n",
       "Branco não-hispanico     55070.608451\n",
       "Mexicano-americano      120634.301164\n",
       "Negro não-hispanico       7855.910538\n",
       "Outro                    58635.591172\n",
       "Outro-hispanico          10658.981183\n",
       "Name: HEI2015_TOTAL_SCORE, dtype: float64"
      ]
     },
     "execution_count": 21,
     "metadata": {},
     "output_type": "execute_result"
    }
   ],
   "source": [
    "# Agrupamento dos dados baseado no atributo 'REtnia/PAG_MINW'', contando e somando os registros\n",
    "agrupEtniatotscore = Df2.groupby(['Etnia'])['HEI2015_TOTAL_SCORE'].sum()\n",
    "agrupEtniatotscore\n"
   ]
  },
  {
   "cell_type": "code",
   "execution_count": 22,
   "id": "0aebd0e7",
   "metadata": {},
   "outputs": [
    {
     "data": {
      "text/plain": [
       "<AxesSubplot:xlabel='Etnia'>"
      ]
     },
     "execution_count": 22,
     "metadata": {},
     "output_type": "execute_result"
    },
    {
     "data": {
      "image/png": "[encoded data removed]",
      "text/plain": [
       "<Figure size 432x288 with 1 Axes>"
      ]
     },
     "metadata": {
      "needs_background": "light"
     },
     "output_type": "display_data"
    }
   ],
   "source": [
    "#cores\n",
    "agrupEtniatotscore.plot.bar(color = ['blue','yellow','red','green','pink','orange'])"
   ]
  },
  {
   "cell_type": "code",
   "execution_count": 23,
   "id": "98e27cea",
   "metadata": {},
   "outputs": [
    {
     "data": {
      "text/plain": [
       "Graderenci_Pag\n",
       "Aderencia acima       4833.0\n",
       "Aderencia adequada    1915.0\n",
       "Aderencia baixa       6575.0\n",
       "Name: phq9, dtype: float64"
      ]
     },
     "execution_count": 23,
     "metadata": {},
     "output_type": "execute_result"
    }
   ],
   "source": [
    "# Agrupamento dos dados baseado no atributo 'Graderenci_Pag/phq9 contando e somando os registros\n",
    "agrupAtiv_phq9 = Df2.groupby(['Graderenci_Pag'])['phq9'].sum()\n",
    "agrupAtiv_phq9"
   ]
  },
  {
   "cell_type": "code",
   "execution_count": 24,
   "id": "57391fb8",
   "metadata": {},
   "outputs": [
    {
     "data": {
      "text/plain": [
       "<AxesSubplot:xlabel='Graderenci_Pag'>"
      ]
     },
     "execution_count": 24,
     "metadata": {},
     "output_type": "execute_result"
    },
    {
     "data": {
      "image/png": "[encoded data removed]",
      "text/plain": [
       "<Figure size 432x288 with 1 Axes>"
      ]
     },
     "metadata": {
      "needs_background": "light"
     },
     "output_type": "display_data"
    }
   ],
   "source": [
    "#cores\n",
    "agrupAtiv_phq9.plot.bar(color = ['blue','yellow','red'])"
   ]
  },
  {
   "cell_type": "code",
   "execution_count": 25,
   "id": "72a7e534",
   "metadata": {},
   "outputs": [
    {
     "data": {
      "text/plain": [
       "phq_grp\n",
       "Not Specified                       25.979944\n",
       "Sem Sintomas                     13174.834190\n",
       "Sintomas Leves                    2139.785904\n",
       "Sintomas ModeradamenteSeveros      183.098430\n",
       "Sintomas Moderados                 617.713671\n",
       "Sintomas Severos                    71.277576\n",
       "Name: HEI2015C1_TOTALVEG, dtype: float64"
      ]
     },
     "execution_count": 25,
     "metadata": {},
     "output_type": "execute_result"
    }
   ],
   "source": [
    "# Agrupamento dos dados baseado no atributo 'Graderenci_Pag/phq9 contando e somando os registros\n",
    "Heic1 = Df2.groupby(['phq_grp'])['HEI2015C1_TOTALVEG'].sum()\n",
    "Heic1"
   ]
  },
  {
   "cell_type": "code",
   "execution_count": 26,
   "id": "3c194c9e",
   "metadata": {},
   "outputs": [
    {
     "data": {
      "text/plain": [
       "<AxesSubplot:xlabel='phq_grp'>"
      ]
     },
     "execution_count": 26,
     "metadata": {},
     "output_type": "execute_result"
    },
    {
     "data": {
      "image/png": "[encoded data removed]",
      "text/plain": [
       "<Figure size 432x288 with 1 Axes>"
      ]
     },
     "metadata": {
      "needs_background": "light"
     },
     "output_type": "display_data"
    }
   ],
   "source": [
    "#cores\n",
    "Heic1.plot.bar(color = ['blue','yellow','red'])"
   ]
  },
  {
   "cell_type": "markdown",
   "id": "14930415",
   "metadata": {},
   "source": [
    "Refazendo alguns pontos para melhorar nossa futura EDA"
   ]
  },
  {
   "cell_type": "code",
   "execution_count": 27,
   "id": "d563bff7",
   "metadata": {},
   "outputs": [
    {
     "data": {
      "text/plain": [
       "SEQN                        0.00\n",
       "DPQ010                      9.34\n",
       "DPQ020                      9.34\n",
       "DPQ030                      9.34\n",
       "DPQ040                      9.34\n",
       "DPQ050                      9.34\n",
       "DPQ060                      9.34\n",
       "DPQ070                      9.34\n",
       "DPQ080                      9.34\n",
       "DPQ090                      9.34\n",
       "RIAGENDR                    0.00\n",
       "RIDAGEYR                    5.64\n",
       "RIDRETH1                    0.00\n",
       "DMDEDUC                     0.00\n",
       "INDFMINC                    0.88\n",
       "PAG_MINW                    0.00\n",
       "ADHERENCE                   0.00\n",
       "HEI2015C1_TOTALVEG          5.14\n",
       "HEI2015C2_GREEN_AND_BEAN    5.14\n",
       "HEI2015C3_TOTALFRUIT        5.14\n",
       "HEI2015C4_WHOLEFRUIT        5.14\n",
       "HEI2015C5_WHOLEGRAIN        5.14\n",
       "HEI2015C6_TOTALDAIRY        5.14\n",
       "HEI2015C7_TOTPROT           5.14\n",
       "HEI2015C8_SEAPLANT_PROT     5.14\n",
       "HEI2015C9_FATTYACID         5.14\n",
       "HEI2015C10_SODIUM           5.14\n",
       "HEI2015C11_REFINEDGRAIN     5.14\n",
       "HEI2015C12_SFAT             5.14\n",
       "HEI2015C13_ADDSUG           5.14\n",
       "HEI2015_TOTAL_SCORE         5.14\n",
       "phq9                        0.00\n",
       "phq_grp                     0.00\n",
       "Etnia                       0.00\n",
       "Graderenci_Pag              0.00\n",
       "dtype: float64"
      ]
     },
     "execution_count": 27,
     "metadata": {},
     "output_type": "execute_result"
    }
   ],
   "source": [
    "#Avaliando o percentual de casos faltantes (missing):\n",
    "Df2.isnull().mean().round(4)*100"
   ]
  },
  {
   "cell_type": "code",
   "execution_count": 28,
   "id": "d7e88082",
   "metadata": {},
   "outputs": [
    {
     "data": {
      "text/html": [
       "<div>\n",
       "<style scoped>\n",
       "    .dataframe tbody tr th:only-of-type {\n",
       "        vertical-align: middle;\n",
       "    }\n",
       "\n",
       "    .dataframe tbody tr th {\n",
       "        vertical-align: top;\n",
       "    }\n",
       "\n",
       "    .dataframe thead th {\n",
       "        text-align: right;\n",
       "    }\n",
       "</style>\n",
       "<table border=\"1\" class=\"dataframe\">\n",
       "  <thead>\n",
       "    <tr style=\"text-align: right;\">\n",
       "      <th></th>\n",
       "      <th>DPQ010</th>\n",
       "      <th>DPQ020</th>\n",
       "      <th>DPQ030</th>\n",
       "      <th>DPQ040</th>\n",
       "      <th>DPQ050</th>\n",
       "      <th>DPQ060</th>\n",
       "      <th>DPQ070</th>\n",
       "      <th>DPQ080</th>\n",
       "      <th>DPQ090</th>\n",
       "      <th>RIAGENDR</th>\n",
       "      <th>...</th>\n",
       "      <th>HEI2015C6_TOTALDAIRY</th>\n",
       "      <th>HEI2015C7_TOTPROT</th>\n",
       "      <th>HEI2015C8_SEAPLANT_PROT</th>\n",
       "      <th>HEI2015C9_FATTYACID</th>\n",
       "      <th>HEI2015C10_SODIUM</th>\n",
       "      <th>HEI2015C11_REFINEDGRAIN</th>\n",
       "      <th>HEI2015C12_SFAT</th>\n",
       "      <th>HEI2015C13_ADDSUG</th>\n",
       "      <th>HEI2015_TOTAL_SCORE</th>\n",
       "      <th>phq9</th>\n",
       "    </tr>\n",
       "  </thead>\n",
       "  <tbody>\n",
       "    <tr>\n",
       "      <th>count</th>\n",
       "      <td>4836.00</td>\n",
       "      <td>4836.00</td>\n",
       "      <td>4836.00</td>\n",
       "      <td>4836.00</td>\n",
       "      <td>4836.00</td>\n",
       "      <td>4836.00</td>\n",
       "      <td>4836.00</td>\n",
       "      <td>4836.00</td>\n",
       "      <td>4836.00</td>\n",
       "      <td>5334.00</td>\n",
       "      <td>...</td>\n",
       "      <td>5060.00</td>\n",
       "      <td>5060.00</td>\n",
       "      <td>5060.00</td>\n",
       "      <td>5060.00</td>\n",
       "      <td>5060.00</td>\n",
       "      <td>5060.00</td>\n",
       "      <td>5060.00</td>\n",
       "      <td>5060.00</td>\n",
       "      <td>5060.00</td>\n",
       "      <td>5334.00</td>\n",
       "    </tr>\n",
       "    <tr>\n",
       "      <th>mean</th>\n",
       "      <td>2.15</td>\n",
       "      <td>1.34</td>\n",
       "      <td>1.99</td>\n",
       "      <td>1.74</td>\n",
       "      <td>1.14</td>\n",
       "      <td>1.23</td>\n",
       "      <td>1.05</td>\n",
       "      <td>1.99</td>\n",
       "      <td>0.46</td>\n",
       "      <td>1.52</td>\n",
       "      <td>...</td>\n",
       "      <td>3.76</td>\n",
       "      <td>4.43</td>\n",
       "      <td>2.59</td>\n",
       "      <td>4.71</td>\n",
       "      <td>4.76</td>\n",
       "      <td>5.80</td>\n",
       "      <td>6.07</td>\n",
       "      <td>6.22</td>\n",
       "      <td>49.97</td>\n",
       "      <td>2.50</td>\n",
       "    </tr>\n",
       "    <tr>\n",
       "      <th>std</th>\n",
       "      <td>43.10</td>\n",
       "      <td>32.14</td>\n",
       "      <td>38.01</td>\n",
       "      <td>32.13</td>\n",
       "      <td>28.75</td>\n",
       "      <td>32.14</td>\n",
       "      <td>28.75</td>\n",
       "      <td>43.10</td>\n",
       "      <td>20.34</td>\n",
       "      <td>0.50</td>\n",
       "      <td>...</td>\n",
       "      <td>1.61</td>\n",
       "      <td>1.01</td>\n",
       "      <td>2.17</td>\n",
       "      <td>3.24</td>\n",
       "      <td>3.42</td>\n",
       "      <td>3.50</td>\n",
       "      <td>3.18</td>\n",
       "      <td>3.33</td>\n",
       "      <td>12.32</td>\n",
       "      <td>3.66</td>\n",
       "    </tr>\n",
       "    <tr>\n",
       "      <th>min</th>\n",
       "      <td>0.00</td>\n",
       "      <td>0.00</td>\n",
       "      <td>0.00</td>\n",
       "      <td>0.00</td>\n",
       "      <td>0.00</td>\n",
       "      <td>0.00</td>\n",
       "      <td>0.00</td>\n",
       "      <td>0.00</td>\n",
       "      <td>0.00</td>\n",
       "      <td>1.00</td>\n",
       "      <td>...</td>\n",
       "      <td>0.00</td>\n",
       "      <td>0.00</td>\n",
       "      <td>0.00</td>\n",
       "      <td>0.00</td>\n",
       "      <td>0.00</td>\n",
       "      <td>0.00</td>\n",
       "      <td>0.00</td>\n",
       "      <td>0.00</td>\n",
       "      <td>16.06</td>\n",
       "      <td>0.00</td>\n",
       "    </tr>\n",
       "    <tr>\n",
       "      <th>25%</th>\n",
       "      <td>0.00</td>\n",
       "      <td>0.00</td>\n",
       "      <td>0.00</td>\n",
       "      <td>0.00</td>\n",
       "      <td>0.00</td>\n",
       "      <td>0.00</td>\n",
       "      <td>0.00</td>\n",
       "      <td>0.00</td>\n",
       "      <td>0.00</td>\n",
       "      <td>1.00</td>\n",
       "      <td>...</td>\n",
       "      <td>2.59</td>\n",
       "      <td>4.17</td>\n",
       "      <td>0.00</td>\n",
       "      <td>2.02</td>\n",
       "      <td>1.59</td>\n",
       "      <td>2.93</td>\n",
       "      <td>3.70</td>\n",
       "      <td>3.72</td>\n",
       "      <td>41.03</td>\n",
       "      <td>0.00</td>\n",
       "    </tr>\n",
       "    <tr>\n",
       "      <th>50%</th>\n",
       "      <td>0.00</td>\n",
       "      <td>0.00</td>\n",
       "      <td>0.00</td>\n",
       "      <td>0.00</td>\n",
       "      <td>0.00</td>\n",
       "      <td>0.00</td>\n",
       "      <td>0.00</td>\n",
       "      <td>0.00</td>\n",
       "      <td>0.00</td>\n",
       "      <td>2.00</td>\n",
       "      <td>...</td>\n",
       "      <td>4.94</td>\n",
       "      <td>5.00</td>\n",
       "      <td>2.59</td>\n",
       "      <td>4.43</td>\n",
       "      <td>4.83</td>\n",
       "      <td>6.23</td>\n",
       "      <td>6.41</td>\n",
       "      <td>6.86</td>\n",
       "      <td>49.51</td>\n",
       "      <td>1.00</td>\n",
       "    </tr>\n",
       "    <tr>\n",
       "      <th>75%</th>\n",
       "      <td>0.00</td>\n",
       "      <td>0.00</td>\n",
       "      <td>1.00</td>\n",
       "      <td>1.00</td>\n",
       "      <td>0.00</td>\n",
       "      <td>0.00</td>\n",
       "      <td>0.00</td>\n",
       "      <td>0.00</td>\n",
       "      <td>0.00</td>\n",
       "      <td>2.00</td>\n",
       "      <td>...</td>\n",
       "      <td>5.00</td>\n",
       "      <td>5.00</td>\n",
       "      <td>5.00</td>\n",
       "      <td>7.27</td>\n",
       "      <td>7.65</td>\n",
       "      <td>9.25</td>\n",
       "      <td>9.00</td>\n",
       "      <td>9.45</td>\n",
       "      <td>58.17</td>\n",
       "      <td>3.00</td>\n",
       "    </tr>\n",
       "    <tr>\n",
       "      <th>95%</th>\n",
       "      <td>2.00</td>\n",
       "      <td>2.00</td>\n",
       "      <td>3.00</td>\n",
       "      <td>3.00</td>\n",
       "      <td>2.00</td>\n",
       "      <td>1.00</td>\n",
       "      <td>1.00</td>\n",
       "      <td>1.00</td>\n",
       "      <td>0.00</td>\n",
       "      <td>2.00</td>\n",
       "      <td>...</td>\n",
       "      <td>5.00</td>\n",
       "      <td>5.00</td>\n",
       "      <td>5.00</td>\n",
       "      <td>10.00</td>\n",
       "      <td>10.00</td>\n",
       "      <td>10.00</td>\n",
       "      <td>10.00</td>\n",
       "      <td>10.00</td>\n",
       "      <td>71.19</td>\n",
       "      <td>10.00</td>\n",
       "    </tr>\n",
       "    <tr>\n",
       "      <th>99%</th>\n",
       "      <td>3.00</td>\n",
       "      <td>3.00</td>\n",
       "      <td>3.00</td>\n",
       "      <td>3.00</td>\n",
       "      <td>3.00</td>\n",
       "      <td>3.00</td>\n",
       "      <td>3.00</td>\n",
       "      <td>3.00</td>\n",
       "      <td>1.00</td>\n",
       "      <td>2.00</td>\n",
       "      <td>...</td>\n",
       "      <td>5.00</td>\n",
       "      <td>5.00</td>\n",
       "      <td>5.00</td>\n",
       "      <td>10.00</td>\n",
       "      <td>10.00</td>\n",
       "      <td>10.00</td>\n",
       "      <td>10.00</td>\n",
       "      <td>10.00</td>\n",
       "      <td>79.86</td>\n",
       "      <td>17.00</td>\n",
       "    </tr>\n",
       "    <tr>\n",
       "      <th>max</th>\n",
       "      <td>1000.00</td>\n",
       "      <td>1000.00</td>\n",
       "      <td>1000.00</td>\n",
       "      <td>1000.00</td>\n",
       "      <td>1000.00</td>\n",
       "      <td>1000.00</td>\n",
       "      <td>1000.00</td>\n",
       "      <td>1000.00</td>\n",
       "      <td>1000.00</td>\n",
       "      <td>2.00</td>\n",
       "      <td>...</td>\n",
       "      <td>5.00</td>\n",
       "      <td>5.00</td>\n",
       "      <td>5.00</td>\n",
       "      <td>10.00</td>\n",
       "      <td>10.00</td>\n",
       "      <td>10.00</td>\n",
       "      <td>10.00</td>\n",
       "      <td>10.00</td>\n",
       "      <td>89.53</td>\n",
       "      <td>27.00</td>\n",
       "    </tr>\n",
       "  </tbody>\n",
       "</table>\n",
       "<p>10 rows × 30 columns</p>\n",
       "</div>"
      ],
      "text/plain": [
       "        DPQ010   DPQ020   DPQ030   DPQ040   DPQ050   DPQ060   DPQ070   DPQ080  \\\n",
       "count  4836.00  4836.00  4836.00  4836.00  4836.00  4836.00  4836.00  4836.00   \n",
       "mean      2.15     1.34     1.99     1.74     1.14     1.23     1.05     1.99   \n",
       "std      43.10    32.14    38.01    32.13    28.75    32.14    28.75    43.10   \n",
       "min       0.00     0.00     0.00     0.00     0.00     0.00     0.00     0.00   \n",
       "25%       0.00     0.00     0.00     0.00     0.00     0.00     0.00     0.00   \n",
       "50%       0.00     0.00     0.00     0.00     0.00     0.00     0.00     0.00   \n",
       "75%       0.00     0.00     1.00     1.00     0.00     0.00     0.00     0.00   \n",
       "95%       2.00     2.00     3.00     3.00     2.00     1.00     1.00     1.00   \n",
       "99%       3.00     3.00     3.00     3.00     3.00     3.00     3.00     3.00   \n",
       "max    1000.00  1000.00  1000.00  1000.00  1000.00  1000.00  1000.00  1000.00   \n",
       "\n",
       "        DPQ090  RIAGENDR  ...  HEI2015C6_TOTALDAIRY  HEI2015C7_TOTPROT  \\\n",
       "count  4836.00   5334.00  ...               5060.00            5060.00   \n",
       "mean      0.46      1.52  ...                  3.76               4.43   \n",
       "std      20.34      0.50  ...                  1.61               1.01   \n",
       "min       0.00      1.00  ...                  0.00               0.00   \n",
       "25%       0.00      1.00  ...                  2.59               4.17   \n",
       "50%       0.00      2.00  ...                  4.94               5.00   \n",
       "75%       0.00      2.00  ...                  5.00               5.00   \n",
       "95%       0.00      2.00  ...                  5.00               5.00   \n",
       "99%       1.00      2.00  ...                  5.00               5.00   \n",
       "max    1000.00      2.00  ...                  5.00               5.00   \n",
       "\n",
       "       HEI2015C8_SEAPLANT_PROT  HEI2015C9_FATTYACID  HEI2015C10_SODIUM  \\\n",
       "count                  5060.00              5060.00            5060.00   \n",
       "mean                      2.59                 4.71               4.76   \n",
       "std                       2.17                 3.24               3.42   \n",
       "min                       0.00                 0.00               0.00   \n",
       "25%                       0.00                 2.02               1.59   \n",
       "50%                       2.59                 4.43               4.83   \n",
       "75%                       5.00                 7.27               7.65   \n",
       "95%                       5.00                10.00              10.00   \n",
       "99%                       5.00                10.00              10.00   \n",
       "max                       5.00                10.00              10.00   \n",
       "\n",
       "       HEI2015C11_REFINEDGRAIN  HEI2015C12_SFAT  HEI2015C13_ADDSUG  \\\n",
       "count                  5060.00          5060.00            5060.00   \n",
       "mean                      5.80             6.07               6.22   \n",
       "std                       3.50             3.18               3.33   \n",
       "min                       0.00             0.00               0.00   \n",
       "25%                       2.93             3.70               3.72   \n",
       "50%                       6.23             6.41               6.86   \n",
       "75%                       9.25             9.00               9.45   \n",
       "95%                      10.00            10.00              10.00   \n",
       "99%                      10.00            10.00              10.00   \n",
       "max                      10.00            10.00              10.00   \n",
       "\n",
       "       HEI2015_TOTAL_SCORE     phq9  \n",
       "count              5060.00  5334.00  \n",
       "mean                 49.97     2.50  \n",
       "std                  12.32     3.66  \n",
       "min                  16.06     0.00  \n",
       "25%                  41.03     0.00  \n",
       "50%                  49.51     1.00  \n",
       "75%                  58.17     3.00  \n",
       "95%                  71.19    10.00  \n",
       "99%                  79.86    17.00  \n",
       "max                  89.53    27.00  \n",
       "\n",
       "[10 rows x 30 columns]"
      ]
     },
     "execution_count": 28,
     "metadata": {},
     "output_type": "execute_result"
    }
   ],
   "source": [
    "#Medidas resumo das variáveis quantitativas:\n",
    "Df2.drop(columns=['SEQN']).describe(percentiles = [.25, .5, .75, .95, .99]).round(2)"
   ]
  },
  {
   "cell_type": "code",
   "execution_count": 29,
   "id": "6c3afcaa",
   "metadata": {},
   "outputs": [],
   "source": [
    "#Agrupando/recategorizando variáveis qualitativas:\n",
    "\n",
    "#1) Substituindo as categorias 7 e 9 por missing para as variáveis DPQ0X0 e DMDEDUC\n",
    "\n",
    "#2) Agrupando as categorias 2 e 5 na variável RIDRETH1\n",
    "\n",
    "#3) Recategorizando a variável INDFMINC com o ponto médio de cada categoria por conter muitas categorias nesta variável. Iremos prosseguir a análise desta variável como uma variável quantitativa\n",
    "\n",
    "replace_map = {\n",
    "  \"DPQ010\": {7: np.nan, 9: np.nan},\n",
    "  \"DPQ020\": {7: np.nan, 9: np.nan},\n",
    "  \"DPQ030\": {7: np.nan, 9: np.nan},\n",
    "  \"DPQ040\": {7: np.nan, 9: np.nan},\n",
    "  \"DPQ050\": {7: np.nan, 9: np.nan},\n",
    "  \"DPQ060\": {7: np.nan, 9: np.nan},\n",
    "  \"DPQ070\": {7: np.nan, 9: np.nan},\n",
    "  \"DPQ080\": {7: np.nan, 9: np.nan},\n",
    "  \"DPQ090\": {7: np.nan, 9: np.nan},\n",
    "  \"RIDRETH1\": {5: 2}, # Other\n",
    "  \"DMDEDUC\": {7: np.nan, 9: np.nan},\n",
    "  \"INDFMINC\": {1: np.mean([0,4999]), 2: np.mean([5000,9999]), 3: np.mean([10000,14999]),4: np.mean([15000,19999]),\n",
    "               5: np.mean([20000,24999]),6: np.mean([25000,34999]), 7: np.mean([35000,44999]), 8: np.mean([45000,54999]),\n",
    "               9: np.mean([55000,64999]), 10: np.mean([65000,74999]), 11: 75000, 12: np.mean([20000, 90000]), 13: np.mean([0, 19999]),\n",
    "               77: np.nan, 99: np.nan}\n",
    "}\n",
    "\n",
    "Df2 = Df2.replace(replace_map)"
   ]
  },
  {
   "cell_type": "code",
   "execution_count": 30,
   "id": "7da52a85",
   "metadata": {},
   "outputs": [
    {
     "data": {
      "text/plain": [
       "phq_grp\n",
       "0.0        4532\n",
       "1.0         497\n",
       "2.0         206\n",
       "3.0          75\n",
       "4.0          24\n",
       "dtype: int64"
      ]
     },
     "execution_count": 30,
     "metadata": {},
     "output_type": "execute_result"
    }
   ],
   "source": [
    "#Construindo variável phq_grp\n",
    "conditions = [\n",
    "  (Df2['phq9'].isna()),\n",
    "  (Df2['phq9'] <= 5),\n",
    "  (Df2['phq9'] > 5) & (Df2['phq9'] <= 9),\n",
    "  (Df2['phq9'] > 9) & (Df2['phq9'] <= 14),\n",
    "  (Df2['phq9'] > 14) & (Df2['phq9'] <= 19),\n",
    "  (Df2['phq9'] > 19)\n",
    "    ]\n",
    "values = [np.nan, 0, 1, 2, 3, 4]\n",
    "\n",
    "Df2[\"phq_grp\"] = np.select(conditions, values) # Construindo variável\n",
    "\n",
    "Df2[[\"phq_grp\"]].value_counts(sort = False) # Avaliando frequencia"
   ]
  },
  {
   "cell_type": "code",
   "execution_count": 31,
   "id": "be7a9b49",
   "metadata": {},
   "outputs": [
    {
     "data": {
      "text/plain": [
       "phq_grp2\n",
       "0.0         4532\n",
       "1.0          497\n",
       "2.0          305\n",
       "dtype: int64"
      ]
     },
     "execution_count": 31,
     "metadata": {},
     "output_type": "execute_result"
    }
   ],
   "source": [
    "#Podemos construir novas variáveis a partir da variável phq_grp:\n",
    "# Agrupando phq_grp em 0 = Sem sintomas, 1 = Sintomas leves, 2 = Sintomas moderados a severos\n",
    "\n",
    "Df2[\"phq_grp2\"] = Df2[\"phq_grp\"].replace([3, 4], 2)\n",
    "\n",
    "Df2[[\"phq_grp2\"]].value_counts(sort = False) # Avaliando frequencia"
   ]
  },
  {
   "cell_type": "markdown",
   "id": "711e6a02",
   "metadata": {},
   "source": [
    "1) Para as etapas de análise exploratória e teste de hipótese, utilizaremos a variável phq_grp2 com 3 níveis de sintomas de depressão.\n",
    "\n",
    "2) Como o percentual de missing está abaixo de 10% para todas as variáveis, seguiremos a análise utilizando apenas os dados completos."
   ]
  },
  {
   "cell_type": "markdown",
   "id": "22791b5f",
   "metadata": {},
   "source": [
    "EDA: Análise Univariada"
   ]
  },
  {
   "cell_type": "code",
   "execution_count": 32,
   "id": "d9cc1d8c",
   "metadata": {},
   "outputs": [],
   "source": [
    "var_quant = [\n",
    "    \"RIDAGEYR\", \n",
    "    \"INDFMINC\", \n",
    "    \"PAG_MINW\", \n",
    "    \"HEI2015C1_TOTALVEG\",\n",
    "    \"HEI2015C2_GREEN_AND_BEAN\",\n",
    "    \"HEI2015C3_TOTALFRUIT\",\n",
    "    \"HEI2015C4_WHOLEFRUIT\",\n",
    "    \"HEI2015C5_WHOLEGRAIN\",\n",
    "    \"HEI2015C6_TOTALDAIRY\",\n",
    "    \"HEI2015C7_TOTPROT\",\n",
    "    \"HEI2015C8_SEAPLANT_PROT\",\n",
    "    \"HEI2015C9_FATTYACID\",\n",
    "    \"HEI2015C10_SODIUM\",\n",
    "    \"HEI2015C11_REFINEDGRAIN\",\n",
    "    \"HEI2015C12_SFAT\",\n",
    "    \"HEI2015C13_ADDSUG\",\n",
    "    \"HEI2015_TOTAL_SCORE\",\n",
    "    \"phq9\"]\n",
    "\n",
    "var_quali = [\n",
    "    \"RIAGENDR\",\n",
    "    \"RIDRETH1\",\n",
    "    \"DMDEDUC\",\n",
    "    \"ADHERENCE\",\n",
    "    \"phq_grp2\"\n",
    "]\n",
    "\n",
    "label_quali = {\n",
    "  \"RIAGENDR\": {1: 'Masculino', 2: 'Feminino'},\n",
    "  \"RIDRETH1\": {1: 'Americano Mexicano', 2: 'Outro', 3: 'Branco \\n não hispânico', 4: 'Negro \\n não hispânico'},\n",
    "  \"DMDEDUC\": {1: \"< 9 ano\", 2: \"9-12 ano\", 3: \"Ensino \\n médio\", 4: \"Superior \\n incompleto\", 5: \"Superior \\n completo\"},\n",
    "  \"ADHERENCE\": {1: 'Baixo', 2: 'Adequado', 3: 'Acima'},\n",
    "  \"phq_grp2\": {0: \"Sem sintomas\", 1: \"Sintomas \\n leves\", 2: \"Sintomas \\n moderados-severos\"}\n",
    "}"
   ]
  },
  {
   "cell_type": "code",
   "execution_count": 33,
   "id": "6a393b96",
   "metadata": {},
   "outputs": [
    {
     "data": {
      "text/html": [
       "<div>\n",
       "<style scoped>\n",
       "    .dataframe tbody tr th:only-of-type {\n",
       "        vertical-align: middle;\n",
       "    }\n",
       "\n",
       "    .dataframe tbody tr th {\n",
       "        vertical-align: top;\n",
       "    }\n",
       "\n",
       "    .dataframe thead th {\n",
       "        text-align: right;\n",
       "    }\n",
       "</style>\n",
       "<table border=\"1\" class=\"dataframe\">\n",
       "  <thead>\n",
       "    <tr style=\"text-align: right;\">\n",
       "      <th></th>\n",
       "      <th>INDFMINC</th>\n",
       "      <th>PAG_MINW</th>\n",
       "      <th>HEI2015C1_TOTALVEG</th>\n",
       "      <th>HEI2015C2_GREEN_AND_BEAN</th>\n",
       "      <th>HEI2015C3_TOTALFRUIT</th>\n",
       "      <th>HEI2015C4_WHOLEFRUIT</th>\n",
       "      <th>HEI2015C5_WHOLEGRAIN</th>\n",
       "      <th>HEI2015C6_TOTALDAIRY</th>\n",
       "      <th>HEI2015C7_TOTPROT</th>\n",
       "      <th>HEI2015C8_SEAPLANT_PROT</th>\n",
       "      <th>HEI2015C9_FATTYACID</th>\n",
       "      <th>HEI2015C10_SODIUM</th>\n",
       "      <th>HEI2015C11_REFINEDGRAIN</th>\n",
       "      <th>HEI2015C12_SFAT</th>\n",
       "      <th>HEI2015C13_ADDSUG</th>\n",
       "      <th>HEI2015_TOTAL_SCORE</th>\n",
       "      <th>phq9</th>\n",
       "    </tr>\n",
       "  </thead>\n",
       "  <tbody>\n",
       "    <tr>\n",
       "      <th>count</th>\n",
       "      <td>5174.00</td>\n",
       "      <td>5334.00</td>\n",
       "      <td>5060.00</td>\n",
       "      <td>5060.00</td>\n",
       "      <td>5060.00</td>\n",
       "      <td>5060.00</td>\n",
       "      <td>5060.00</td>\n",
       "      <td>5060.00</td>\n",
       "      <td>5060.00</td>\n",
       "      <td>5060.00</td>\n",
       "      <td>5060.00</td>\n",
       "      <td>5060.00</td>\n",
       "      <td>5060.00</td>\n",
       "      <td>5060.00</td>\n",
       "      <td>5060.00</td>\n",
       "      <td>5060.00</td>\n",
       "      <td>5334.00</td>\n",
       "    </tr>\n",
       "    <tr>\n",
       "      <th>mean</th>\n",
       "      <td>40787.68</td>\n",
       "      <td>471.77</td>\n",
       "      <td>3.20</td>\n",
       "      <td>1.81</td>\n",
       "      <td>2.49</td>\n",
       "      <td>2.36</td>\n",
       "      <td>1.76</td>\n",
       "      <td>3.76</td>\n",
       "      <td>4.43</td>\n",
       "      <td>2.59</td>\n",
       "      <td>4.71</td>\n",
       "      <td>4.76</td>\n",
       "      <td>5.80</td>\n",
       "      <td>6.07</td>\n",
       "      <td>6.22</td>\n",
       "      <td>49.97</td>\n",
       "      <td>2.50</td>\n",
       "    </tr>\n",
       "    <tr>\n",
       "      <th>std</th>\n",
       "      <td>24247.24</td>\n",
       "      <td>780.35</td>\n",
       "      <td>1.47</td>\n",
       "      <td>2.14</td>\n",
       "      <td>1.95</td>\n",
       "      <td>2.17</td>\n",
       "      <td>1.92</td>\n",
       "      <td>1.61</td>\n",
       "      <td>1.01</td>\n",
       "      <td>2.17</td>\n",
       "      <td>3.24</td>\n",
       "      <td>3.42</td>\n",
       "      <td>3.50</td>\n",
       "      <td>3.18</td>\n",
       "      <td>3.33</td>\n",
       "      <td>12.32</td>\n",
       "      <td>3.66</td>\n",
       "    </tr>\n",
       "    <tr>\n",
       "      <th>min</th>\n",
       "      <td>2499.50</td>\n",
       "      <td>0.00</td>\n",
       "      <td>0.00</td>\n",
       "      <td>0.00</td>\n",
       "      <td>0.00</td>\n",
       "      <td>0.00</td>\n",
       "      <td>0.00</td>\n",
       "      <td>0.00</td>\n",
       "      <td>0.00</td>\n",
       "      <td>0.00</td>\n",
       "      <td>0.00</td>\n",
       "      <td>0.00</td>\n",
       "      <td>0.00</td>\n",
       "      <td>0.00</td>\n",
       "      <td>0.00</td>\n",
       "      <td>16.06</td>\n",
       "      <td>0.00</td>\n",
       "    </tr>\n",
       "    <tr>\n",
       "      <th>25%</th>\n",
       "      <td>17499.50</td>\n",
       "      <td>35.00</td>\n",
       "      <td>2.06</td>\n",
       "      <td>0.00</td>\n",
       "      <td>0.45</td>\n",
       "      <td>0.00</td>\n",
       "      <td>0.00</td>\n",
       "      <td>2.59</td>\n",
       "      <td>4.17</td>\n",
       "      <td>0.00</td>\n",
       "      <td>2.02</td>\n",
       "      <td>1.59</td>\n",
       "      <td>2.93</td>\n",
       "      <td>3.70</td>\n",
       "      <td>3.72</td>\n",
       "      <td>41.03</td>\n",
       "      <td>0.00</td>\n",
       "    </tr>\n",
       "    <tr>\n",
       "      <th>50%</th>\n",
       "      <td>39999.50</td>\n",
       "      <td>210.00</td>\n",
       "      <td>3.22</td>\n",
       "      <td>0.06</td>\n",
       "      <td>2.32</td>\n",
       "      <td>2.08</td>\n",
       "      <td>1.03</td>\n",
       "      <td>4.94</td>\n",
       "      <td>5.00</td>\n",
       "      <td>2.59</td>\n",
       "      <td>4.43</td>\n",
       "      <td>4.83</td>\n",
       "      <td>6.23</td>\n",
       "      <td>6.41</td>\n",
       "      <td>6.86</td>\n",
       "      <td>49.51</td>\n",
       "      <td>1.00</td>\n",
       "    </tr>\n",
       "    <tr>\n",
       "      <th>75%</th>\n",
       "      <td>69999.50</td>\n",
       "      <td>568.93</td>\n",
       "      <td>4.83</td>\n",
       "      <td>4.50</td>\n",
       "      <td>4.94</td>\n",
       "      <td>5.00</td>\n",
       "      <td>3.41</td>\n",
       "      <td>5.00</td>\n",
       "      <td>5.00</td>\n",
       "      <td>5.00</td>\n",
       "      <td>7.27</td>\n",
       "      <td>7.65</td>\n",
       "      <td>9.25</td>\n",
       "      <td>9.00</td>\n",
       "      <td>9.45</td>\n",
       "      <td>58.17</td>\n",
       "      <td>3.00</td>\n",
       "    </tr>\n",
       "    <tr>\n",
       "      <th>95%</th>\n",
       "      <td>75000.00</td>\n",
       "      <td>1863.05</td>\n",
       "      <td>5.00</td>\n",
       "      <td>5.00</td>\n",
       "      <td>5.00</td>\n",
       "      <td>5.00</td>\n",
       "      <td>5.00</td>\n",
       "      <td>5.00</td>\n",
       "      <td>5.00</td>\n",
       "      <td>5.00</td>\n",
       "      <td>10.00</td>\n",
       "      <td>10.00</td>\n",
       "      <td>10.00</td>\n",
       "      <td>10.00</td>\n",
       "      <td>10.00</td>\n",
       "      <td>71.19</td>\n",
       "      <td>10.00</td>\n",
       "    </tr>\n",
       "    <tr>\n",
       "      <th>99%</th>\n",
       "      <td>75000.00</td>\n",
       "      <td>3672.06</td>\n",
       "      <td>5.00</td>\n",
       "      <td>5.00</td>\n",
       "      <td>5.00</td>\n",
       "      <td>5.00</td>\n",
       "      <td>5.00</td>\n",
       "      <td>5.00</td>\n",
       "      <td>5.00</td>\n",
       "      <td>5.00</td>\n",
       "      <td>10.00</td>\n",
       "      <td>10.00</td>\n",
       "      <td>10.00</td>\n",
       "      <td>10.00</td>\n",
       "      <td>10.00</td>\n",
       "      <td>79.86</td>\n",
       "      <td>17.00</td>\n",
       "    </tr>\n",
       "    <tr>\n",
       "      <th>max</th>\n",
       "      <td>75000.00</td>\n",
       "      <td>10777.83</td>\n",
       "      <td>5.00</td>\n",
       "      <td>5.00</td>\n",
       "      <td>5.00</td>\n",
       "      <td>5.00</td>\n",
       "      <td>5.00</td>\n",
       "      <td>5.00</td>\n",
       "      <td>5.00</td>\n",
       "      <td>5.00</td>\n",
       "      <td>10.00</td>\n",
       "      <td>10.00</td>\n",
       "      <td>10.00</td>\n",
       "      <td>10.00</td>\n",
       "      <td>10.00</td>\n",
       "      <td>89.53</td>\n",
       "      <td>27.00</td>\n",
       "    </tr>\n",
       "  </tbody>\n",
       "</table>\n",
       "</div>"
      ],
      "text/plain": [
       "       INDFMINC  PAG_MINW  HEI2015C1_TOTALVEG  HEI2015C2_GREEN_AND_BEAN  \\\n",
       "count   5174.00   5334.00             5060.00                   5060.00   \n",
       "mean   40787.68    471.77                3.20                      1.81   \n",
       "std    24247.24    780.35                1.47                      2.14   \n",
       "min     2499.50      0.00                0.00                      0.00   \n",
       "25%    17499.50     35.00                2.06                      0.00   \n",
       "50%    39999.50    210.00                3.22                      0.06   \n",
       "75%    69999.50    568.93                4.83                      4.50   \n",
       "95%    75000.00   1863.05                5.00                      5.00   \n",
       "99%    75000.00   3672.06                5.00                      5.00   \n",
       "max    75000.00  10777.83                5.00                      5.00   \n",
       "\n",
       "       HEI2015C3_TOTALFRUIT  HEI2015C4_WHOLEFRUIT  HEI2015C5_WHOLEGRAIN  \\\n",
       "count               5060.00               5060.00               5060.00   \n",
       "mean                   2.49                  2.36                  1.76   \n",
       "std                    1.95                  2.17                  1.92   \n",
       "min                    0.00                  0.00                  0.00   \n",
       "25%                    0.45                  0.00                  0.00   \n",
       "50%                    2.32                  2.08                  1.03   \n",
       "75%                    4.94                  5.00                  3.41   \n",
       "95%                    5.00                  5.00                  5.00   \n",
       "99%                    5.00                  5.00                  5.00   \n",
       "max                    5.00                  5.00                  5.00   \n",
       "\n",
       "       HEI2015C6_TOTALDAIRY  HEI2015C7_TOTPROT  HEI2015C8_SEAPLANT_PROT  \\\n",
       "count               5060.00            5060.00                  5060.00   \n",
       "mean                   3.76               4.43                     2.59   \n",
       "std                    1.61               1.01                     2.17   \n",
       "min                    0.00               0.00                     0.00   \n",
       "25%                    2.59               4.17                     0.00   \n",
       "50%                    4.94               5.00                     2.59   \n",
       "75%                    5.00               5.00                     5.00   \n",
       "95%                    5.00               5.00                     5.00   \n",
       "99%                    5.00               5.00                     5.00   \n",
       "max                    5.00               5.00                     5.00   \n",
       "\n",
       "       HEI2015C9_FATTYACID  HEI2015C10_SODIUM  HEI2015C11_REFINEDGRAIN  \\\n",
       "count              5060.00            5060.00                  5060.00   \n",
       "mean                  4.71               4.76                     5.80   \n",
       "std                   3.24               3.42                     3.50   \n",
       "min                   0.00               0.00                     0.00   \n",
       "25%                   2.02               1.59                     2.93   \n",
       "50%                   4.43               4.83                     6.23   \n",
       "75%                   7.27               7.65                     9.25   \n",
       "95%                  10.00              10.00                    10.00   \n",
       "99%                  10.00              10.00                    10.00   \n",
       "max                  10.00              10.00                    10.00   \n",
       "\n",
       "       HEI2015C12_SFAT  HEI2015C13_ADDSUG  HEI2015_TOTAL_SCORE     phq9  \n",
       "count          5060.00            5060.00              5060.00  5334.00  \n",
       "mean              6.07               6.22                49.97     2.50  \n",
       "std               3.18               3.33                12.32     3.66  \n",
       "min               0.00               0.00                16.06     0.00  \n",
       "25%               3.70               3.72                41.03     0.00  \n",
       "50%               6.41               6.86                49.51     1.00  \n",
       "75%               9.00               9.45                58.17     3.00  \n",
       "95%              10.00              10.00                71.19    10.00  \n",
       "99%              10.00              10.00                79.86    17.00  \n",
       "max              10.00              10.00                89.53    27.00  "
      ]
     },
     "execution_count": 33,
     "metadata": {},
     "output_type": "execute_result"
    }
   ],
   "source": [
    "Df2[var_quant].describe(percentiles = [.25, .5, .75, .95, .99]).round(2)"
   ]
  },
  {
   "cell_type": "markdown",
   "id": "9e4d2b45",
   "metadata": {},
   "source": [
    "Dado que uma semana tem no máximo 168 horas (10080 minutos) o valor máximo de PAG_MINW não parece ser um valor possível. Nesse caso, iremos truncar o valor de PAG_MINW em 3600 minutos (60h semanais)."
   ]
  },
  {
   "cell_type": "code",
   "execution_count": 34,
   "id": "2e2b6c08",
   "metadata": {},
   "outputs": [
    {
     "data": {
      "text/html": [
       "<div>\n",
       "<style scoped>\n",
       "    .dataframe tbody tr th:only-of-type {\n",
       "        vertical-align: middle;\n",
       "    }\n",
       "\n",
       "    .dataframe tbody tr th {\n",
       "        vertical-align: top;\n",
       "    }\n",
       "\n",
       "    .dataframe thead th {\n",
       "        text-align: right;\n",
       "    }\n",
       "</style>\n",
       "<table border=\"1\" class=\"dataframe\">\n",
       "  <thead>\n",
       "    <tr style=\"text-align: right;\">\n",
       "      <th></th>\n",
       "      <th>PAG_MINW</th>\n",
       "      <th>PAG_MINW_trunc</th>\n",
       "    </tr>\n",
       "  </thead>\n",
       "  <tbody>\n",
       "    <tr>\n",
       "      <th>count</th>\n",
       "      <td>5334.00</td>\n",
       "      <td>5334.00</td>\n",
       "    </tr>\n",
       "    <tr>\n",
       "      <th>mean</th>\n",
       "      <td>471.77</td>\n",
       "      <td>454.86</td>\n",
       "    </tr>\n",
       "    <tr>\n",
       "      <th>std</th>\n",
       "      <td>780.35</td>\n",
       "      <td>663.05</td>\n",
       "    </tr>\n",
       "    <tr>\n",
       "      <th>min</th>\n",
       "      <td>0.00</td>\n",
       "      <td>0.00</td>\n",
       "    </tr>\n",
       "    <tr>\n",
       "      <th>25%</th>\n",
       "      <td>35.00</td>\n",
       "      <td>35.00</td>\n",
       "    </tr>\n",
       "    <tr>\n",
       "      <th>50%</th>\n",
       "      <td>210.00</td>\n",
       "      <td>210.00</td>\n",
       "    </tr>\n",
       "    <tr>\n",
       "      <th>75%</th>\n",
       "      <td>568.93</td>\n",
       "      <td>568.93</td>\n",
       "    </tr>\n",
       "    <tr>\n",
       "      <th>95%</th>\n",
       "      <td>1863.05</td>\n",
       "      <td>1863.05</td>\n",
       "    </tr>\n",
       "    <tr>\n",
       "      <th>99%</th>\n",
       "      <td>3672.06</td>\n",
       "      <td>3600.00</td>\n",
       "    </tr>\n",
       "    <tr>\n",
       "      <th>max</th>\n",
       "      <td>10777.83</td>\n",
       "      <td>3600.00</td>\n",
       "    </tr>\n",
       "  </tbody>\n",
       "</table>\n",
       "</div>"
      ],
      "text/plain": [
       "       PAG_MINW  PAG_MINW_trunc\n",
       "count   5334.00         5334.00\n",
       "mean     471.77          454.86\n",
       "std      780.35          663.05\n",
       "min        0.00            0.00\n",
       "25%       35.00           35.00\n",
       "50%      210.00          210.00\n",
       "75%      568.93          568.93\n",
       "95%     1863.05         1863.05\n",
       "99%     3672.06         3600.00\n",
       "max    10777.83         3600.00"
      ]
     },
     "execution_count": 34,
     "metadata": {},
     "output_type": "execute_result"
    }
   ],
   "source": [
    "Df2['PAG_MINW_trunc'] = np.where(Df2['PAG_MINW'] > 3600, 3600, Df2['PAG_MINW'])\n",
    "\n",
    "Df2[['PAG_MINW', 'PAG_MINW_trunc']].describe(percentiles = [.25, .5, .75, .95, .99]).round(2)"
   ]
  },
  {
   "cell_type": "code",
   "execution_count": 35,
   "id": "64435bc7",
   "metadata": {},
   "outputs": [],
   "source": [
    "\n",
    "#Podemos transformar a variável PAG_MINW em horas:\n",
    "Df2[\"PAG_HRW\"] = Df2[\"PAG_MINW_trunc\"]/60"
   ]
  },
  {
   "cell_type": "code",
   "execution_count": 36,
   "id": "d001a777",
   "metadata": {},
   "outputs": [
    {
     "data": {
      "text/html": [
       "<div>\n",
       "<style scoped>\n",
       "    .dataframe tbody tr th:only-of-type {\n",
       "        vertical-align: middle;\n",
       "    }\n",
       "\n",
       "    .dataframe tbody tr th {\n",
       "        vertical-align: top;\n",
       "    }\n",
       "\n",
       "    .dataframe thead th {\n",
       "        text-align: right;\n",
       "    }\n",
       "</style>\n",
       "<table border=\"1\" class=\"dataframe\">\n",
       "  <thead>\n",
       "    <tr style=\"text-align: right;\">\n",
       "      <th></th>\n",
       "      <th>SEQN</th>\n",
       "      <th>DPQ010</th>\n",
       "      <th>DPQ020</th>\n",
       "      <th>DPQ030</th>\n",
       "      <th>DPQ040</th>\n",
       "      <th>DPQ050</th>\n",
       "      <th>DPQ060</th>\n",
       "      <th>DPQ070</th>\n",
       "      <th>DPQ080</th>\n",
       "      <th>DPQ090</th>\n",
       "      <th>...</th>\n",
       "      <th>HEI2015C12_SFAT</th>\n",
       "      <th>HEI2015C13_ADDSUG</th>\n",
       "      <th>HEI2015_TOTAL_SCORE</th>\n",
       "      <th>phq9</th>\n",
       "      <th>phq_grp</th>\n",
       "      <th>Etnia</th>\n",
       "      <th>Graderenci_Pag</th>\n",
       "      <th>phq_grp2</th>\n",
       "      <th>PAG_MINW_trunc</th>\n",
       "      <th>PAG_HRW</th>\n",
       "    </tr>\n",
       "  </thead>\n",
       "  <tbody>\n",
       "    <tr>\n",
       "      <th>0</th>\n",
       "      <td>31130</td>\n",
       "      <td>NaN</td>\n",
       "      <td>NaN</td>\n",
       "      <td>NaN</td>\n",
       "      <td>NaN</td>\n",
       "      <td>NaN</td>\n",
       "      <td>NaN</td>\n",
       "      <td>NaN</td>\n",
       "      <td>NaN</td>\n",
       "      <td>NaN</td>\n",
       "      <td>...</td>\n",
       "      <td>NaN</td>\n",
       "      <td>NaN</td>\n",
       "      <td>NaN</td>\n",
       "      <td>0.0</td>\n",
       "      <td>0.0</td>\n",
       "      <td>Mexicano-americano</td>\n",
       "      <td>Aderencia baixa</td>\n",
       "      <td>0.0</td>\n",
       "      <td>0.000000</td>\n",
       "      <td>0.000000</td>\n",
       "    </tr>\n",
       "    <tr>\n",
       "      <th>1</th>\n",
       "      <td>31131</td>\n",
       "      <td>0.0</td>\n",
       "      <td>0.0</td>\n",
       "      <td>0.0</td>\n",
       "      <td>0.0</td>\n",
       "      <td>0.0</td>\n",
       "      <td>0.0</td>\n",
       "      <td>0.0</td>\n",
       "      <td>0.0</td>\n",
       "      <td>0.0</td>\n",
       "      <td>...</td>\n",
       "      <td>0.438428</td>\n",
       "      <td>3.919226</td>\n",
       "      <td>35.553899</td>\n",
       "      <td>0.0</td>\n",
       "      <td>0.0</td>\n",
       "      <td>Outro</td>\n",
       "      <td>Aderencia adequada</td>\n",
       "      <td>0.0</td>\n",
       "      <td>264.711316</td>\n",
       "      <td>4.411855</td>\n",
       "    </tr>\n",
       "    <tr>\n",
       "      <th>2</th>\n",
       "      <td>31132</td>\n",
       "      <td>0.0</td>\n",
       "      <td>0.0</td>\n",
       "      <td>0.0</td>\n",
       "      <td>0.0</td>\n",
       "      <td>0.0</td>\n",
       "      <td>0.0</td>\n",
       "      <td>0.0</td>\n",
       "      <td>0.0</td>\n",
       "      <td>0.0</td>\n",
       "      <td>...</td>\n",
       "      <td>8.186877</td>\n",
       "      <td>9.099088</td>\n",
       "      <td>63.551696</td>\n",
       "      <td>0.0</td>\n",
       "      <td>0.0</td>\n",
       "      <td>Mexicano-americano</td>\n",
       "      <td>Aderencia acima</td>\n",
       "      <td>0.0</td>\n",
       "      <td>1353.348730</td>\n",
       "      <td>22.555812</td>\n",
       "    </tr>\n",
       "    <tr>\n",
       "      <th>3</th>\n",
       "      <td>31134</td>\n",
       "      <td>0.0</td>\n",
       "      <td>0.0</td>\n",
       "      <td>0.0</td>\n",
       "      <td>0.0</td>\n",
       "      <td>0.0</td>\n",
       "      <td>0.0</td>\n",
       "      <td>0.0</td>\n",
       "      <td>0.0</td>\n",
       "      <td>0.0</td>\n",
       "      <td>...</td>\n",
       "      <td>5.863078</td>\n",
       "      <td>5.878686</td>\n",
       "      <td>42.886826</td>\n",
       "      <td>0.0</td>\n",
       "      <td>0.0</td>\n",
       "      <td>Mexicano-americano</td>\n",
       "      <td>Aderencia acima</td>\n",
       "      <td>0.0</td>\n",
       "      <td>1011.478060</td>\n",
       "      <td>16.857968</td>\n",
       "    </tr>\n",
       "    <tr>\n",
       "      <th>4</th>\n",
       "      <td>31139</td>\n",
       "      <td>0.0</td>\n",
       "      <td>0.0</td>\n",
       "      <td>0.0</td>\n",
       "      <td>0.0</td>\n",
       "      <td>3.0</td>\n",
       "      <td>1.0</td>\n",
       "      <td>0.0</td>\n",
       "      <td>0.0</td>\n",
       "      <td>0.0</td>\n",
       "      <td>...</td>\n",
       "      <td>10.000000</td>\n",
       "      <td>9.658507</td>\n",
       "      <td>47.074393</td>\n",
       "      <td>4.0</td>\n",
       "      <td>0.0</td>\n",
       "      <td>Negro não-hispanico</td>\n",
       "      <td>Aderencia acima</td>\n",
       "      <td>0.0</td>\n",
       "      <td>1729.145497</td>\n",
       "      <td>28.819092</td>\n",
       "    </tr>\n",
       "  </tbody>\n",
       "</table>\n",
       "<p>5 rows × 38 columns</p>\n",
       "</div>"
      ],
      "text/plain": [
       "    SEQN  DPQ010  DPQ020  DPQ030  DPQ040  DPQ050  DPQ060  DPQ070  DPQ080  \\\n",
       "0  31130     NaN     NaN     NaN     NaN     NaN     NaN     NaN     NaN   \n",
       "1  31131     0.0     0.0     0.0     0.0     0.0     0.0     0.0     0.0   \n",
       "2  31132     0.0     0.0     0.0     0.0     0.0     0.0     0.0     0.0   \n",
       "3  31134     0.0     0.0     0.0     0.0     0.0     0.0     0.0     0.0   \n",
       "4  31139     0.0     0.0     0.0     0.0     3.0     1.0     0.0     0.0   \n",
       "\n",
       "   DPQ090  ...  HEI2015C12_SFAT HEI2015C13_ADDSUG  HEI2015_TOTAL_SCORE  phq9  \\\n",
       "0     NaN  ...              NaN               NaN                  NaN   0.0   \n",
       "1     0.0  ...         0.438428          3.919226            35.553899   0.0   \n",
       "2     0.0  ...         8.186877          9.099088            63.551696   0.0   \n",
       "3     0.0  ...         5.863078          5.878686            42.886826   0.0   \n",
       "4     0.0  ...        10.000000          9.658507            47.074393   4.0   \n",
       "\n",
       "   phq_grp                Etnia      Graderenci_Pag  phq_grp2  PAG_MINW_trunc  \\\n",
       "0      0.0   Mexicano-americano     Aderencia baixa       0.0        0.000000   \n",
       "1      0.0                Outro  Aderencia adequada       0.0      264.711316   \n",
       "2      0.0   Mexicano-americano     Aderencia acima       0.0     1353.348730   \n",
       "3      0.0   Mexicano-americano     Aderencia acima       0.0     1011.478060   \n",
       "4      0.0  Negro não-hispanico     Aderencia acima       0.0     1729.145497   \n",
       "\n",
       "     PAG_HRW  \n",
       "0   0.000000  \n",
       "1   4.411855  \n",
       "2  22.555812  \n",
       "3  16.857968  \n",
       "4  28.819092  \n",
       "\n",
       "[5 rows x 38 columns]"
      ]
     },
     "execution_count": 36,
     "metadata": {},
     "output_type": "execute_result"
    }
   ],
   "source": [
    "Df2.head()"
   ]
  },
  {
   "cell_type": "code",
   "execution_count": 37,
   "id": "d2ed5b81",
   "metadata": {},
   "outputs": [],
   "source": [
    "#vamos plotar alguns graficos\n",
    "import seaborn as sns"
   ]
  },
  {
   "cell_type": "code",
   "execution_count": 38,
   "id": "0c416c62",
   "metadata": {},
   "outputs": [
    {
     "data": {
      "image/png": "[encoded data removed]",
      "text/plain": [
       "<Figure size 360x360 with 1 Axes>"
      ]
     },
     "metadata": {
      "needs_background": "light"
     },
     "output_type": "display_data"
    },
    {
     "data": {
      "image/png": "[encoded data removed]",
      "text/plain": [
       "<Figure size 360x360 with 1 Axes>"
      ]
     },
     "metadata": {
      "needs_background": "light"
     },
     "output_type": "display_data"
    },
    {
     "data": {
      "image/png": "[encoded data removed]",
      "text/plain": [
       "<Figure size 360x360 with 1 Axes>"
      ]
     },
     "metadata": {
      "needs_background": "light"
     },
     "output_type": "display_data"
    },
    {
     "data": {
      "image/png": "[encoded data removed]",
      "text/plain": [
       "<Figure size 360x360 with 1 Axes>"
      ]
     },
     "metadata": {
      "needs_background": "light"
     },
     "output_type": "display_data"
    },
    {
     "data": {
      "image/png": "[encoded data removed]",
      "text/plain": [
       "<Figure size 360x360 with 1 Axes>"
      ]
     },
     "metadata": {
      "needs_background": "light"
     },
     "output_type": "display_data"
    }
   ],
   "source": [
    "sns.displot(Df2, x=\"RIDAGEYR\", kde=True)\n",
    "sns.displot(Df2, x=\"INDFMINC\", kde=True)\n",
    "sns.displot(Df2, x=\"PAG_MINW_trunc\", kde=True)\n",
    "sns.displot(Df2, x=\"PAG_HRW\", kde=True)\n",
    "sns.displot(Df2, x=\"phq9\", kde=True)\n",
    "plt.show()"
   ]
  },
  {
   "cell_type": "code",
   "execution_count": 39,
   "id": "6a4aceb7",
   "metadata": {},
   "outputs": [],
   "source": [
    "#Como a variável PAG_HRW é bastante assimétrica, podemos também criar uma versão com o log:\n",
    "Df2[\"PAG_HRW_log\"] = np.log(Df2[\"PAG_HRW\"] + 1)"
   ]
  },
  {
   "cell_type": "code",
   "execution_count": 40,
   "id": "fe296fbc",
   "metadata": {},
   "outputs": [
    {
     "data": {
      "image/png": "[encoded data removed]",
      "text/plain": [
       "<Figure size 360x360 with 1 Axes>"
      ]
     },
     "metadata": {
      "needs_background": "light"
     },
     "output_type": "display_data"
    }
   ],
   "source": [
    "sns.displot(Df2, x=\"PAG_HRW_log\", kde=True)\n",
    "plt.show()"
   ]
  },
  {
   "cell_type": "code",
   "execution_count": 41,
   "id": "ab59b8e9",
   "metadata": {},
   "outputs": [],
   "source": [
    "#Como a variável phq9 é bastante assimétrica, podemos também criar uma versão com o log:\n",
    "Df2[\"phq9_log\"] = np.log(Df2[\"phq9\"] + 1)"
   ]
  },
  {
   "cell_type": "code",
   "execution_count": 42,
   "id": "0f08134b",
   "metadata": {},
   "outputs": [
    {
     "data": {
      "image/png": "[encoded data removed]",
      "text/plain": [
       "<Figure size 360x360 with 1 Axes>"
      ]
     },
     "metadata": {
      "needs_background": "light"
     },
     "output_type": "display_data"
    }
   ],
   "source": [
    "sns.displot(Df2, x=\"phq9_log\", kde=True)\n",
    "plt.show()"
   ]
  },
  {
   "cell_type": "code",
   "execution_count": 43,
   "id": "f91b650f",
   "metadata": {},
   "outputs": [],
   "source": [
    "# Função para construir gráfico de barras\n",
    "\n",
    "def grafico_barras_prop(data, variable):\n",
    "    (data[[variable]]\n",
    "     .value_counts(normalize=True, sort = False)\n",
    "     .rename(\"Proportion\")\n",
    "     .reset_index()\n",
    "     .pipe((sns.barplot, \"data\"), x=variable, y=\"Proportion\"))\n",
    "    plt.ylim(0,1)\n",
    "    plt.show()"
   ]
  },
  {
   "cell_type": "code",
   "execution_count": 44,
   "id": "c26ce7bd",
   "metadata": {},
   "outputs": [
    {
     "data": {
      "image/png": "[encoded data removed]",
      "text/plain": [
       "<Figure size 432x288 with 1 Axes>"
      ]
     },
     "metadata": {
      "needs_background": "light"
     },
     "output_type": "display_data"
    }
   ],
   "source": [
    "grafico_barras_prop(Df2.replace(label_quali), variable = \"RIAGENDR\")"
   ]
  },
  {
   "cell_type": "code",
   "execution_count": 45,
   "id": "1018f9b0",
   "metadata": {},
   "outputs": [
    {
     "data": {
      "image/png": "[encoded data removed]",
      "text/plain": [
       "<Figure size 432x288 with 1 Axes>"
      ]
     },
     "metadata": {
      "needs_background": "light"
     },
     "output_type": "display_data"
    }
   ],
   "source": [
    "grafico_barras_prop(Df2,variable = \"Etnia\")"
   ]
  },
  {
   "cell_type": "code",
   "execution_count": 46,
   "id": "79db3cdf",
   "metadata": {},
   "outputs": [
    {
     "data": {
      "image/png": "[encoded data removed]",
      "text/plain": [
       "<Figure size 432x288 with 1 Axes>"
      ]
     },
     "metadata": {
      "needs_background": "light"
     },
     "output_type": "display_data"
    }
   ],
   "source": [
    "grafico_barras_prop(Df2.replace(label_quali), \n",
    "                    variable = \"DMDEDUC\")"
   ]
  },
  {
   "cell_type": "code",
   "execution_count": 47,
   "id": "b11aca92",
   "metadata": {},
   "outputs": [
    {
     "data": {
      "image/png": "[encoded data removed]",
      "text/plain": [
       "<Figure size 432x288 with 1 Axes>"
      ]
     },
     "metadata": {
      "needs_background": "light"
     },
     "output_type": "display_data"
    }
   ],
   "source": [
    "grafico_barras_prop(Df2.replace(label_quali), \n",
    "                    variable = \"ADHERENCE\")"
   ]
  },
  {
   "cell_type": "code",
   "execution_count": 48,
   "id": "877143c1",
   "metadata": {},
   "outputs": [
    {
     "data": {
      "image/png": "[encoded data removed]",
      "text/plain": [
       "<Figure size 432x288 with 1 Axes>"
      ]
     },
     "metadata": {
      "needs_background": "light"
     },
     "output_type": "display_data"
    }
   ],
   "source": [
    "grafico_barras_prop(Df2.replace(label_quali), \n",
    "                    variable = \"phq_grp2\")"
   ]
  },
  {
   "cell_type": "code",
   "execution_count": 49,
   "id": "47128fcc",
   "metadata": {},
   "outputs": [
    {
     "data": {
      "image/png": "[encoded data removed]",
      "text/plain": [
       "<Figure size 432x288 with 1 Axes>"
      ]
     },
     "metadata": {
      "needs_background": "light"
     },
     "output_type": "display_data"
    }
   ],
   "source": [
    "grafico_barras_prop(Df2.replace(label_quali), \n",
    "                    variable = \"RIDAGEYR\")"
   ]
  },
  {
   "cell_type": "code",
   "execution_count": 50,
   "id": "2342818d",
   "metadata": {},
   "outputs": [],
   "source": [
    "#EDA: Análise Bivariada + Teste de Hipóteses\n",
    "#Função para construir gráficos boxplot para uma variável quantitativa versus grupo de depressão"
   ]
  },
  {
   "cell_type": "code",
   "execution_count": 51,
   "id": "707dde63",
   "metadata": {},
   "outputs": [],
   "source": [
    "# Função para construir boxplot\n",
    "\n",
    "def grafico_boxplot_grp(data, variable, label):\n",
    "    \n",
    "    if label == \"\": label = variable\n",
    "    sns.boxplot(x=variable, y='phq9_log',data=data)\n",
    "    plt.xlabel(label)\n",
    "    plt.show()"
   ]
  },
  {
   "cell_type": "code",
   "execution_count": 52,
   "id": "14eddde2",
   "metadata": {},
   "outputs": [
    {
     "data": {
      "image/png": "[encoded data removed]",
      "text/plain": [
       "<Figure size 432x288 with 1 Axes>"
      ]
     },
     "metadata": {
      "needs_background": "light"
     },
     "output_type": "display_data"
    }
   ],
   "source": [
    "grafico_boxplot_grp(Df2.replace(label_quali), \"RIDAGEYR\", \"Idade\")"
   ]
  },
  {
   "cell_type": "markdown",
   "id": "02359e3d",
   "metadata": {},
   "source": [
    "Teste de hipóteses:\n",
    "\n",
    "Neste caso queremos comparar a média de nivel de sintomas de depreção para os três grupos de idade. Sendo assim, o teste F da ANOVA será utilizado. Neste teste, decidimos entre a hipótese nula \"Não existe diferença entre os grupos de idade com relação à média de depressão\" e a hipótese alternativa \"Existe pelo menos uma diferença na média de depressão entre os grupos de idade\"."
   ]
  },
  {
   "cell_type": "code",
   "execution_count": 53,
   "id": "560375a0",
   "metadata": {},
   "outputs": [
    {
     "name": "stdout",
     "output_type": "stream",
     "text": [
      "stat=12.677, p=0.000\n"
     ]
    }
   ],
   "source": [
    "from scipy.stats import f_oneway\n",
    "\n",
    "db_aux = Df2[[\"phq9_log\",\"RIDAGEYR\"]].dropna()\n",
    "\n",
    "stat, p = f_oneway(db_aux[(db_aux.RIDAGEYR == 'Senior')][\"phq9_log\"],\n",
    "                   db_aux[(db_aux.RIDAGEYR == 'MidAge')][\"phq9_log\"],\n",
    "                   db_aux[(db_aux.RIDAGEYR == 'Adult')][\"phq9_log\"])\n",
    "\n",
    "print('stat=%.3f, p=%.3f' % (stat, p))"
   ]
  },
  {
   "cell_type": "markdown",
   "id": "f3d9605d",
   "metadata": {},
   "source": [
    "Neste caso estamos testando a hipótese nula \"Não existe diferença entre os grupos de idade com relação à média de depressão\"\". Como p < 0.05, temos que a probabilidade de observarmos o que estamos observando nesta amostra é baixa (próxima de zero) se a hipótese nula fosse verdadeira. Neste caso, temos indícios de que a hipótese nula não é verdadeira (rejeitamos a hipótese nula).\n",
    "\n",
    "Como o teste F apenas nos informa que existe pelo menos uma diferença entre os grupos de idade com relação à média de depressão\", iremos realizar comparações multiplas para investigar quais diferenças são signiticativas:"
   ]
  },
  {
   "cell_type": "code",
   "execution_count": 54,
   "id": "7e979e55",
   "metadata": {},
   "outputs": [
    {
     "name": "stdout",
     "output_type": "stream",
     "text": [
      "Multiple Comparison of Means - Tukey HSD, FWER=0.05 \n",
      "====================================================\n",
      "group1 group2 meandiff p-adj   lower   upper  reject\n",
      "----------------------------------------------------\n",
      " Adult MidAge   0.0147 0.8621 -0.0518  0.0812  False\n",
      " Adult Senior  -0.1269 0.0001 -0.1981 -0.0557   True\n",
      "MidAge Senior  -0.1416    0.0 -0.2126 -0.0706   True\n",
      "----------------------------------------------------\n"
     ]
    }
   ],
   "source": [
    "from statsmodels.stats.multicomp import pairwise_tukeyhsd\n",
    "\n",
    "tukey = pairwise_tukeyhsd(db_aux['phq9_log'],\n",
    "                  db_aux['RIDAGEYR'],\n",
    "                  alpha = 0.05)\n",
    "\n",
    "print(tukey)"
   ]
  },
  {
   "cell_type": "markdown",
   "id": "e3df991a",
   "metadata": {},
   "source": [
    "Com as comparações múltiplas, estamos realizando três testes de hipótese simultaneamente. Por conta disso, a função ajusta o valor-p para que o erro máximo desde conjunto de teste de hipóteses seja no máximo alpha = 0.05.\n",
    "\n",
    "Teste 1: Grupo Adult x MidAge -> p = 0.8621\n",
    "\n",
    "Teste 2: Grupo Adult x Grupo Senior -> p = 0.001\n",
    "\n",
    "Teste 3: Grupo MidAge x Grupo Senior -> p = 0.0\n",
    "\n",
    "Neste caso, rejeitamos somente as duas últimas hipóteses nulas. Sendo assim, temos indícios de que:\n",
    "\n",
    "A depressão média do grupo Adult é relativamente igual a depressão média do grupo MidAge\n",
    "A depressão média do grupo Adult é diferente da depressão média do grupo Senior\n",
    "A depressão média do grupo MidAge é diferente da depressão média do grupo Senior\n"
   ]
  },
  {
   "cell_type": "code",
   "execution_count": 55,
   "id": "8203cb8d",
   "metadata": {},
   "outputs": [
    {
     "data": {
      "image/png": "[encoded data removed]",
      "text/plain": [
       "<Figure size 432x288 with 1 Axes>"
      ]
     },
     "metadata": {
      "needs_background": "light"
     },
     "output_type": "display_data"
    }
   ],
   "source": [
    "# vamos verificar agora a Etnia\n",
    "grafico_boxplot_grp(Df2.replace(label_quali), \"Etnia\", \"Etnia\")"
   ]
  },
  {
   "cell_type": "markdown",
   "id": "c1a11b7e",
   "metadata": {},
   "source": [
    "Teste de hipóteses:\n",
    "\n",
    "Neste caso queremos comparar a média de nivel de sintomas de depressão para os grupos de Etnia. Sendo assim, o teste F da ANOVA será utilizado. Neste teste, decidimos entre a hipótese nula \"Não existe diferença entre os grupos de Etnia com relação à média de depressão\" e a hipótese alternativa \"Existe pelo menos uma diferença na média de depressão entre os grupos de Etnia\"."
   ]
  },
  {
   "cell_type": "code",
   "execution_count": 56,
   "id": "5a307e9a",
   "metadata": {},
   "outputs": [
    {
     "data": {
      "text/plain": [
       "Etnia               \n",
       "Branco não-hispanico    1133\n",
       "Mexicano-americano      2516\n",
       "Negro não-hispanico      164\n",
       "Outro                   1300\n",
       "Outro-hispanico          221\n",
       "dtype: int64"
      ]
     },
     "execution_count": 56,
     "metadata": {},
     "output_type": "execute_result"
    }
   ],
   "source": [
    "Df2[[\"Etnia\"]].value_counts(sort = False)"
   ]
  },
  {
   "cell_type": "code",
   "execution_count": 57,
   "id": "0efb115a",
   "metadata": {},
   "outputs": [
    {
     "name": "stdout",
     "output_type": "stream",
     "text": [
      "stat=1.181, p=0.317\n"
     ]
    }
   ],
   "source": [
    "from scipy.stats import f_oneway\n",
    "\n",
    "db_aux = Df2[[\"phq9_log\",\"Etnia\"]].dropna()\n",
    "\n",
    "stat, p = f_oneway(db_aux[(db_aux.Etnia == 'Branco não-hispanico')][\"phq9_log\"],\n",
    "                   db_aux[(db_aux.Etnia == 'Mexicano-americano')][\"phq9_log\"],\n",
    "                   db_aux[(db_aux.Etnia == 'Negro não-hispanico')][\"phq9_log\"],\n",
    "                   db_aux[(db_aux.Etnia == 'Outro')][\"phq9_log\"],\n",
    "                   db_aux[(db_aux.Etnia == 'Outro-hispanico')][\"phq9_log\"])\n",
    "\n",
    "print('stat=%.3f, p=%.3f' % (stat, p))"
   ]
  },
  {
   "cell_type": "markdown",
   "id": "5e63e08c",
   "metadata": {},
   "source": [
    "O valor-p do teste foi p = 0.317. Interpretação do valor-p: Se a hipótese nula fosse verdadeira, qual a probabilidade de observarmos as diferenças que estamos observando na amostra?\n",
    "\n",
    "Neste caso, a probabilidade é alta (p = 0.317), ou seja, o que estamos observando na amostra é algo bem provável de ocorrer se a hipótese nula for verdadeira e, portanto, não temos indícios para rejeitar a hipótese nula. Sendo assim, não conseguimos detectar uma diferença estatisticamente significativa entre os grupos de Etnia em relação à media de depressão."
   ]
  },
  {
   "cell_type": "code",
   "execution_count": 58,
   "id": "de4727b1",
   "metadata": {},
   "outputs": [
    {
     "name": "stdout",
     "output_type": "stream",
     "text": [
      "             Multiple Comparison of Means - Tukey HSD, FWER=0.05              \n",
      "==============================================================================\n",
      "       group1               group2       meandiff p-adj   lower  upper  reject\n",
      "------------------------------------------------------------------------------\n",
      "Branco não-hispanico  Mexicano-americano     0.01 0.9975 -0.0732 0.0933  False\n",
      "Branco não-hispanico Negro não-hispanico   0.1368 0.3066 -0.0576 0.3311  False\n",
      "Branco não-hispanico               Outro    -0.01 0.9985 -0.1045 0.0846  False\n",
      "Branco não-hispanico     Outro-hispanico  -0.0253 0.9944 -0.1964 0.1457  False\n",
      "  Mexicano-americano Negro não-hispanico   0.1267  0.348 -0.0607 0.3142  False\n",
      "  Mexicano-americano               Outro    -0.02 0.9594 -0.0994 0.0595  False\n",
      "  Mexicano-americano     Outro-hispanico  -0.0354 0.9764 -0.1986 0.1278  False\n",
      " Negro não-hispanico               Outro  -0.1467 0.2302 -0.3395  0.046  False\n",
      " Negro não-hispanico     Outro-hispanico  -0.1621 0.3477 -0.4018 0.0776  False\n",
      "               Outro     Outro-hispanico  -0.0154 0.9992 -0.1846 0.1539  False\n",
      "------------------------------------------------------------------------------\n"
     ]
    }
   ],
   "source": [
    "from statsmodels.stats.multicomp import pairwise_tukeyhsd\n",
    "\n",
    "tukey = pairwise_tukeyhsd(db_aux['phq9_log'],\n",
    "                  db_aux['Etnia'],\n",
    "                  alpha = 0.05)\n",
    "\n",
    "print(tukey)"
   ]
  },
  {
   "cell_type": "code",
   "execution_count": 59,
   "id": "90b6935a",
   "metadata": {},
   "outputs": [
    {
     "data": {
      "text/plain": [
       "DMDEDUC\n",
       "1.0         618\n",
       "2.0         936\n",
       "3.0        1335\n",
       "4.0        1498\n",
       "5.0         939\n",
       "dtype: int64"
      ]
     },
     "execution_count": 59,
     "metadata": {},
     "output_type": "execute_result"
    }
   ],
   "source": [
    "Df2[['DMDEDUC']].value_counts(sort = False)"
   ]
  },
  {
   "cell_type": "code",
   "execution_count": 60,
   "id": "814dd8d5",
   "metadata": {},
   "outputs": [
    {
     "data": {
      "image/png": "[encoded data removed]",
      "text/plain": [
       "<Figure size 432x288 with 1 Axes>"
      ]
     },
     "metadata": {
      "needs_background": "light"
     },
     "output_type": "display_data"
    }
   ],
   "source": [
    "# vamos verificar agora a Escolaridade\n",
    "grafico_boxplot_grp(Df2.replace(label_quali), \"DMDEDUC\", \"Nivel de escolaridade\")"
   ]
  },
  {
   "cell_type": "markdown",
   "id": "8839494f",
   "metadata": {},
   "source": [
    "Teste de hipóteses:\n",
    "\n",
    "Neste caso queremos comparar a média de nivel de sintomas de depressão para os niveis escolaridade. Sendo assim, o teste F da ANOVA será utilizado. Neste teste, decidimos entre a hipótese nula \"Não existe diferença entre os niveis de Escolaridade com relação à média de depressão\" e a hipótese alternativa \"Existe pelo menos uma diferença na média de depressão entre os niveis escolaridade\"."
   ]
  },
  {
   "cell_type": "code",
   "execution_count": 61,
   "id": "78ecc20d",
   "metadata": {},
   "outputs": [
    {
     "name": "stdout",
     "output_type": "stream",
     "text": [
      "stat=4.463, p=0.001\n"
     ]
    }
   ],
   "source": [
    "from scipy.stats import f_oneway\n",
    "\n",
    "db_aux = Df2[[\"phq9_log\",'DMDEDUC']].dropna()\n",
    "\n",
    "stat, p = f_oneway(db_aux[(db_aux.DMDEDUC == 1)][\"phq9_log\"],\n",
    "                   db_aux[(db_aux.DMDEDUC == 2)][\"phq9_log\"],\n",
    "                   db_aux[(db_aux.DMDEDUC == 3)][\"phq9_log\"],\n",
    "                   db_aux[(db_aux.DMDEDUC == 4)][\"phq9_log\"],\n",
    "                   db_aux[(db_aux.DMDEDUC == 5)][\"phq9_log\"])\n",
    "\n",
    "print('stat=%.3f, p=%.3f' % (stat, p))"
   ]
  },
  {
   "cell_type": "markdown",
   "id": "b294d542",
   "metadata": {},
   "source": [
    "Neste caso estamos testando a hipótese nula \"Não existe diferença entre os niveis de escolaridade com relação à média de depressão\"\". Como p < 0.05, temos que a probabilidade de observarmos o que estamos observando nesta amostra é baixa (próxima de zero) se a hipótese nula fosse verdadeira. Neste caso, temos indícios de que a hipótese nula não é verdadeira (rejeitamos a hipótese nula).\n",
    "\n",
    "Como o teste F apenas nos informa que existe pelo menos uma diferença entre os niveis de escolaridade com relação à média de depressão\", iremos realizar comparações multiplas para investigar quais diferenças são signiticativas:"
   ]
  },
  {
   "cell_type": "code",
   "execution_count": 62,
   "id": "f03f48e8",
   "metadata": {},
   "outputs": [
    {
     "name": "stdout",
     "output_type": "stream",
     "text": [
      "Multiple Comparison of Means - Tukey HSD, FWER=0.05 \n",
      "====================================================\n",
      "group1 group2 meandiff p-adj   lower   upper  reject\n",
      "----------------------------------------------------\n",
      "   1.0    2.0   0.0777 0.3971 -0.0427  0.1981  False\n",
      "   1.0    3.0   0.0281 0.9614  -0.085  0.1411  False\n",
      "   1.0    4.0   0.0171 0.9935  -0.094  0.1282  False\n",
      "   1.0    5.0  -0.0828 0.3298 -0.2032  0.0376  False\n",
      "   2.0    3.0  -0.0496 0.6486 -0.1487  0.0494  False\n",
      "   2.0    4.0  -0.0606 0.4289 -0.1574  0.0362  False\n",
      "   2.0    5.0  -0.1605 0.0004 -0.2678 -0.0532   True\n",
      "   3.0    4.0   -0.011 0.9971 -0.0984  0.0765  False\n",
      "   3.0    5.0  -0.1109 0.0191 -0.2098 -0.0119   True\n",
      "   4.0    5.0  -0.0999 0.0389 -0.1966 -0.0032   True\n",
      "----------------------------------------------------\n"
     ]
    }
   ],
   "source": [
    "from statsmodels.stats.multicomp import pairwise_tukeyhsd\n",
    "\n",
    "tukey = pairwise_tukeyhsd(db_aux['phq9_log'],\n",
    "                  db_aux['DMDEDUC'],\n",
    "                  alpha = 0.05)\n",
    "\n",
    "print(tukey)"
   ]
  },
  {
   "cell_type": "markdown",
   "id": "9c8dba2c",
   "metadata": {},
   "source": [
    "Com as comparações múltiplas, estamos realizando 5 testes de hipótese simultaneamente. Por conta disso, a função ajusta o valor-p para que o erro máximo desde conjunto de teste de hipóteses seja no máximo alpha = 0.05.\n",
    "\n",
    "Observamos que|:\n",
    "Teste 7: Grupo 2.0 \"9-12 ano\" x grupo 5.0 \"Superior \\n completo\"  -> p = 0.0004\n",
    "rejeitamos a hipotese nula, ou seja existe diferença ente a media de depressão entre essas grupos. Assim como na comparações dos grupos abaixo:\n",
    "\n",
    "Teste 9: 3.0 \"Ensino \\n médio\" x 5.0 \"Superior \\n completo\" -> p = 0.0191\n",
    "\n",
    "Teste 10: 4.0 \"Superior \\n incompleto\" x 5.0 \"Superior \\n completo\" -> p = 0.0389"
   ]
  },
  {
   "cell_type": "markdown",
   "id": "2e16c12b",
   "metadata": {},
   "source": [
    "Vamos verificar agora os grupos que aderem a atividade física\n",
    "Teste de hipóteses:\n",
    "\n",
    "Neste caso queremos comparar a média de nivel de sintomas de depressão para os grupos que aderem a atividade física. Sendo assim, o teste F da ANOVA será utilizado. Neste teste, decidimos entre a hipótese nula \"Não existe diferença entre os grupos que aderem a atividade física em relação à média de depressão\" e a hipótese alternativa \"Existe pelo menos uma diferença na média de depressão entre os grupos que aderem a atividade física\"."
   ]
  },
  {
   "cell_type": "code",
   "execution_count": 63,
   "id": "49d331f8",
   "metadata": {},
   "outputs": [
    {
     "data": {
      "text/plain": [
       "ADHERENCE\n",
       "1.0          2304\n",
       "2.0           834\n",
       "3.0          2196\n",
       "dtype: int64"
      ]
     },
     "execution_count": 63,
     "metadata": {},
     "output_type": "execute_result"
    }
   ],
   "source": [
    "Df2[['ADHERENCE']].value_counts(sort = False)"
   ]
  },
  {
   "cell_type": "code",
   "execution_count": 64,
   "id": "bcbcd5dc",
   "metadata": {},
   "outputs": [
    {
     "data": {
      "image/png": "[encoded data removed]",
      "text/plain": [
       "<Figure size 432x288 with 1 Axes>"
      ]
     },
     "metadata": {
      "needs_background": "light"
     },
     "output_type": "display_data"
    }
   ],
   "source": [
    "# vamos verificar agora a aderencia a atividade física\n",
    "grafico_boxplot_grp(Df2.replace(label_quali), \"ADHERENCE\", \"Aderencia a atividade física\")"
   ]
  },
  {
   "cell_type": "code",
   "execution_count": 65,
   "id": "ab197da4",
   "metadata": {},
   "outputs": [
    {
     "name": "stdout",
     "output_type": "stream",
     "text": [
      "stat=10.189, p=0.000\n"
     ]
    }
   ],
   "source": [
    "from scipy.stats import f_oneway\n",
    "\n",
    "db_aux = Df2[[\"phq9_log\",\"ADHERENCE\"]].dropna()\n",
    "\n",
    "stat, p = f_oneway(db_aux[(db_aux.ADHERENCE == 1)][\"phq9_log\"],\n",
    "                   db_aux[(db_aux.ADHERENCE == 2)][\"phq9_log\"],\n",
    "                   db_aux[(db_aux.ADHERENCE == 3)][\"phq9_log\"])\n",
    "\n",
    "print('stat=%.3f, p=%.3f' % (stat, p))"
   ]
  },
  {
   "cell_type": "markdown",
   "id": "7116c8b8",
   "metadata": {},
   "source": [
    "Como p_value< 0,05, rejeitamos a hipótese nula, ou seja, existe diferença na média de depressão entre os grupos que aderem a atividade física. "
   ]
  },
  {
   "cell_type": "code",
   "execution_count": 66,
   "id": "6cd0a260",
   "metadata": {},
   "outputs": [
    {
     "name": "stdout",
     "output_type": "stream",
     "text": [
      "Multiple Comparison of Means - Tukey HSD, FWER=0.05 \n",
      "====================================================\n",
      "group1 group2 meandiff p-adj   lower   upper  reject\n",
      "----------------------------------------------------\n",
      "   1.0    2.0  -0.1019 0.0086 -0.1825 -0.0213   True\n",
      "   1.0    3.0  -0.1077 0.0001 -0.1672 -0.0482   True\n",
      "   2.0    3.0  -0.0058 0.9847 -0.0869  0.0754  False\n",
      "----------------------------------------------------\n"
     ]
    }
   ],
   "source": [
    "from statsmodels.stats.multicomp import pairwise_tukeyhsd\n",
    "\n",
    "tukey = pairwise_tukeyhsd(db_aux['phq9_log'],\n",
    "                  db_aux['ADHERENCE'],\n",
    "                  alpha = 0.05)\n",
    "\n",
    "print(tukey)"
   ]
  },
  {
   "cell_type": "markdown",
   "id": "3ffcd552",
   "metadata": {},
   "source": [
    "Com as comparações múltiplas, estamos realizando 3 testes de hipótese simultaneamente. Por conta disso, a função ajusta o valor-p para que o erro máximo desde conjunto de teste de hipóteses seja no máximo alpha = 0.05.\n",
    "\n",
    "Observamos que: \n",
    "\n",
    "Teste 1: grupo 1.0 aderencia Baixa\" x 2.0 aderencia Adequada -> p = 0.0086 - Rejeitamos a hipótese nula. Existe diferença entre as médias\n",
    "\n",
    "Teste 1: grupo 1.0 aderencia Baixa\" x 3.0 aderencia Acima -> p = 0.0001 - Rejeitamos a hipótese nula. Existe diferença entre as médias\n",
    "\n",
    "Teste 1: grupo 2.0 aderencia Baixa\" x 3.0 aderencia Acima -> p = 0.9847 -  Não Rejeitamos a hipótese nula. Não Existe diferença entre as médias"
   ]
  },
  {
   "cell_type": "markdown",
   "id": "afdec68d",
   "metadata": {},
   "source": [
    "Agora vomos fazer alguns testes de Hipotese utilizando a variável construida \"phq_grp2\" (grupo de depressão)"
   ]
  },
  {
   "cell_type": "code",
   "execution_count": 71,
   "id": "9e7da862",
   "metadata": {},
   "outputs": [],
   "source": [
    "# Função para construir gráficos boxplot para uma variável quantitativa versus grupo de depressão\n",
    "\n",
    "def grafico_boxplot_grp2(data, variable, label):\n",
    "    \n",
    "    if label == \"\": label = variable\n",
    "    sns.boxplot(x=\"phq_grp2\", y=variable, data=data)\n",
    "    plt.ylabel(label)\n",
    "    plt.show()"
   ]
  },
  {
   "cell_type": "code",
   "execution_count": 72,
   "id": "33037357",
   "metadata": {},
   "outputs": [
    {
     "data": {
      "image/png": "[encoded data removed]",
      "text/plain": [
       "<Figure size 432x288 with 1 Axes>"
      ]
     },
     "metadata": {
      "needs_background": "light"
     },
     "output_type": "display_data"
    }
   ],
   "source": [
    "grafico_boxplot_grp2(Df2.replace(label_quali), \"INDFMINC\", \"Renda Anual Familiar (US$)\")"
   ]
  },
  {
   "cell_type": "code",
   "execution_count": 73,
   "id": "f9625178",
   "metadata": {},
   "outputs": [
    {
     "name": "stdout",
     "output_type": "stream",
     "text": [
      "stat=48.829, p=0.000\n"
     ]
    }
   ],
   "source": [
    "from scipy.stats import f_oneway\n",
    "\n",
    "db_aux = Df2[[\"phq_grp2\", \"INDFMINC\"]].dropna()\n",
    "\n",
    "stat, p = f_oneway(db_aux[(db_aux.phq_grp2 == 0)][\"INDFMINC\"],\n",
    "                   db_aux[(db_aux.phq_grp2 == 1)][\"INDFMINC\"],\n",
    "                   db_aux[(db_aux.phq_grp2 == 2)][\"INDFMINC\"])\n",
    "\n",
    "print('stat=%.3f, p=%.3f' % (stat, p))"
   ]
  },
  {
   "cell_type": "markdown",
   "id": "daa7f37b",
   "metadata": {},
   "source": [
    "Neste caso estamos testando a hipótese nula \"Não existe diferença entre os grupos de depressão com relação à renda média\". Como p < 0.05, temos que a probabilidade de observarmos o que estamos observando nesta amostra é baixa (próxima de zero) se a hipótese nula fosse verdadeira. Neste caso, temos indícios de que a hipótese nula não é verdadeira (rejeitamos a hipótese nula).\n",
    "\n",
    "Como o teste F apenas nos informa que existe pelo menos uma diferença entre os grupos de sintomas com relação a renda média, iremos realizar comparações multiplas para investigar quais diferenças são signiticativas:"
   ]
  },
  {
   "cell_type": "code",
   "execution_count": 74,
   "id": "a6238b35",
   "metadata": {},
   "outputs": [
    {
     "name": "stdout",
     "output_type": "stream",
     "text": [
      "     Multiple Comparison of Means - Tukey HSD, FWER=0.05     \n",
      "=============================================================\n",
      "group1 group2   meandiff  p-adj    lower      upper    reject\n",
      "-------------------------------------------------------------\n",
      "   0.0    1.0  -5297.0003   0.0   -8019.881 -2574.1196   True\n",
      "   0.0    2.0 -13084.0284  -0.0 -16455.5561 -9712.5007   True\n",
      "   1.0    2.0  -7787.0281   0.0 -11951.1392  -3622.917   True\n",
      "-------------------------------------------------------------\n"
     ]
    }
   ],
   "source": [
    "from statsmodels.stats.multicomp import pairwise_tukeyhsd\n",
    "\n",
    "tukey = pairwise_tukeyhsd(db_aux['INDFMINC'],\n",
    "                  db_aux['phq_grp2'],\n",
    "                  alpha = 0.05)\n",
    "\n",
    "print(tukey)"
   ]
  },
  {
   "cell_type": "markdown",
   "id": "2531d8da",
   "metadata": {},
   "source": [
    "Com as comparações múltiplas, estamos realizando três testes de hipótese simultaneamente. Por conta disso, a função ajusta o valor-p para que o erro máximo desde conjunto de teste de hipóteses seja no máximo alpha = 0.05.\n",
    "\n",
    "Teste 1: Grupo 0 (Sem sintomas) x Grupo 1 (sintomas leves) -> p = 0.0\n",
    "\n",
    "Teste 2: Grupo 0 (Sem sintomas) x Grupo 2 (sintomas moderados-severos) -> p = 0.0\n",
    "\n",
    "Teste 3: Grupo 1 (sintomas leves) x Grupo 2 (sintomas moderados-severos) -> p = 0.0\n",
    "\n",
    "Neste caso, rejeitamos todas as hipóteses nulas. Sendo assim, temos indícios de que:\n",
    "\n",
    "A renda média do grupo Sem sintomas é diferente da renda média do grupo de sintomas leves\n",
    "A renda média do grupo Sem sintomas é diferente da renda média do grupo de sintomas moderados-severos\n",
    "A renda média do grupo sintomas leves é diferente da renda média do grupo sintomas moderados-severos"
   ]
  },
  {
   "cell_type": "code",
   "execution_count": 77,
   "id": "2e736cc2",
   "metadata": {},
   "outputs": [
    {
     "data": {
      "image/png": "[encoded data removed]",
      "text/plain": [
       "<Figure size 432x288 with 1 Axes>"
      ]
     },
     "metadata": {
      "needs_background": "light"
     },
     "output_type": "display_data"
    }
   ],
   "source": [
    "#Vamos verificar agora Hábitos saudáveis x gr. depressão\n",
    "grafico_boxplot_grp2(Df2.replace(label_quali), \"PAG_HRW_log\", \"Log Atividade Física (h/semana)\")"
   ]
  },
  {
   "cell_type": "code",
   "execution_count": 79,
   "id": "d2b3de34",
   "metadata": {},
   "outputs": [
    {
     "name": "stdout",
     "output_type": "stream",
     "text": [
      "stat=27.414, p=0.000\n"
     ]
    }
   ],
   "source": [
    "from scipy.stats import f_oneway\n",
    "\n",
    "db_aux = Df2[[\"phq_grp2\", \"PAG_HRW_log\"]].dropna()\n",
    "\n",
    "stat, p = f_oneway(db_aux[(db_aux.phq_grp2 == 0)][\"PAG_HRW_log\"],\n",
    "                   db_aux[(db_aux.phq_grp2 == 1)][\"PAG_HRW_log\"],\n",
    "                   db_aux[(db_aux.phq_grp2 == 2)][\"PAG_HRW_log\"])\n",
    "\n",
    "print('stat=%.3f, p=%.3f' % (stat, p))"
   ]
  },
  {
   "cell_type": "code",
   "execution_count": 80,
   "id": "ac4a8591",
   "metadata": {},
   "outputs": [
    {
     "name": "stdout",
     "output_type": "stream",
     "text": [
      "Multiple Comparison of Means - Tukey HSD, FWER=0.05 \n",
      "====================================================\n",
      "group1 group2 meandiff p-adj   lower   upper  reject\n",
      "----------------------------------------------------\n",
      "   0.0    1.0  -0.1274 0.0445 -0.2523 -0.0024   True\n",
      "   0.0    2.0  -0.4787    0.0 -0.6351 -0.3223   True\n",
      "   1.0    2.0  -0.3513 0.0001 -0.5436  -0.159   True\n",
      "----------------------------------------------------\n"
     ]
    }
   ],
   "source": [
    "from statsmodels.stats.multicomp import pairwise_tukeyhsd\n",
    "\n",
    "tukey = pairwise_tukeyhsd(db_aux['PAG_HRW_log'],\n",
    "                  db_aux['phq_grp2'],\n",
    "                  alpha = 0.05)\n",
    "\n",
    "print(tukey)"
   ]
  },
  {
   "cell_type": "markdown",
   "id": "db00a266",
   "metadata": {},
   "source": [
    "\n",
    "Teste 1: Grupo 0 (Sem sintomas) x Grupo 1 (sintomas leves) -> p = 0.045\n",
    "\n",
    "Teste 2: Grupo 0 (Sem sintomas) x Grupo 2 (sintomas moderados-severos) -> p = 0.0\n",
    "\n",
    "Teste 3: Grupo 1 (sintomas leves) x Grupo 2 (sintomas moderados-severos) -> p = 0.0001\n",
    "\n",
    "Neste caso, rejeitamos todas as hipóteses nulas. Sendo assim, temos indícios de que:\n",
    "\n",
    "A média dos Habitos saudáveis do grupo Sem sintomas é diferenteda média dos dos hábitos saudáveis do grupo de sintomas leves. A média dos Habitos saudáveis do grupo Sem sintomas é diferente dad média dos dos hábitos saudáveis do grupo de sintomas moderados-severos.A média dos Habitos saudáveis do grupo sintomas leves é diferente da média dos dos hábitos saudáveis do grupo sintomas moderados-severos."
   ]
  },
  {
   "cell_type": "code",
   "execution_count": 82,
   "id": "5f51ec26",
   "metadata": {},
   "outputs": [
    {
     "data": {
      "image/png": "[encoded data removed]",
      "text/plain": [
       "<Figure size 432x288 with 1 Axes>"
      ]
     },
     "metadata": {
      "needs_background": "light"
     },
     "output_type": "display_data"
    }
   ],
   "source": [
    "#O Healthy Eating Index (HEI) é uma medida de qualidade da dieta baseada nas orientações dietéticas do governo federal americano (Dietary Guidelines for Americans). \n",
    "grafico_boxplot_grp2(Df2.replace(label_quali), \"HEI2015_TOTAL_SCORE\", \"HEI - Escore total\")"
   ]
  },
  {
   "cell_type": "code",
   "execution_count": 83,
   "id": "188ff360",
   "metadata": {},
   "outputs": [
    {
     "name": "stdout",
     "output_type": "stream",
     "text": [
      "stat=6.849, p=0.001\n"
     ]
    }
   ],
   "source": [
    "from scipy.stats import f_oneway\n",
    "\n",
    "db_aux = Df2[[\"phq_grp2\", \"HEI2015_TOTAL_SCORE\"]].dropna()\n",
    "\n",
    "stat, p = f_oneway(db_aux[(db_aux.phq_grp2 == 0)][\"HEI2015_TOTAL_SCORE\"],\n",
    "                   db_aux[(db_aux.phq_grp2 == 1)][\"HEI2015_TOTAL_SCORE\"],\n",
    "                   db_aux[(db_aux.phq_grp2 == 2)][\"HEI2015_TOTAL_SCORE\"])\n",
    "\n",
    "print('stat=%.3f, p=%.3f' % (stat, p))"
   ]
  },
  {
   "cell_type": "code",
   "execution_count": 84,
   "id": "6e68b1ae",
   "metadata": {},
   "outputs": [
    {
     "name": "stdout",
     "output_type": "stream",
     "text": [
      "Multiple Comparison of Means - Tukey HSD, FWER=0.05 \n",
      "====================================================\n",
      "group1 group2 meandiff p-adj   lower   upper  reject\n",
      "----------------------------------------------------\n",
      "   0.0    1.0  -1.1131  0.145 -2.5022   0.276  False\n",
      "   0.0    2.0  -2.4673 0.0025 -4.2045 -0.7301   True\n",
      "   1.0    2.0  -1.3542 0.2972 -3.4894  0.7809  False\n",
      "----------------------------------------------------\n"
     ]
    }
   ],
   "source": [
    "from statsmodels.stats.multicomp import pairwise_tukeyhsd\n",
    "\n",
    "tukey = pairwise_tukeyhsd(db_aux['HEI2015_TOTAL_SCORE'],\n",
    "                  db_aux['phq_grp2'],\n",
    "                  alpha = 0.05)\n",
    "\n",
    "print(tukey)"
   ]
  },
  {
   "cell_type": "markdown",
   "id": "27f9c29e",
   "metadata": {},
   "source": [
    "Teste 1: Grupo 0 (Sem sintomas) x Grupo 1 (sintomas leves) -> p = 0.145\n",
    "\n",
    "Teste 2: Grupo 0 (Sem sintomas) x Grupo 2 (sintomas moderados-severos) -> p = 0.0025\n",
    "\n",
    "Teste 3: Grupo 1 (sintomas leves) x Grupo 2 (sintomas moderados-severos) -> p = 0.2972\n",
    "\n",
    "Neste caso, rejeitamos todas as hipóteses nulas. Sendo assim, temos indícios de que:\n",
    "\n",
    "1. O HEI médio do grupo Sem sintomas não possue uma diferença estatisticamente significativa  do HEI médio do grupo de sintomas leves\n",
    "2. O HEI médio do grupo Sem sintomas é diferente do HEI média do grupo de sintomas moderados-severos\n",
    "3. O HEI médio do grupo sintomas leves não possue uma diferença estatisticamente significativa  do HEI médio do grupo sintomas moderados-severos"
   ]
  },
  {
   "cell_type": "markdown",
   "id": "7f991d89",
   "metadata": {},
   "source": [
    " Perfil de hábitos saudáveis"
   ]
  },
  {
   "cell_type": "code",
   "execution_count": 85,
   "id": "e309040e",
   "metadata": {},
   "outputs": [
    {
     "data": {
      "image/png": "[encoded data removed]",
      "text/plain": [
       "<Figure size 432x288 with 1 Axes>"
      ]
     },
     "metadata": {
      "needs_background": "light"
     },
     "output_type": "display_data"
    },
    {
     "data": {
      "image/png": "[encoded data removed]",
      "text/plain": [
       "<Figure size 1080x360 with 2 Axes>"
      ]
     },
     "metadata": {
      "needs_background": "light"
     },
     "output_type": "display_data"
    }
   ],
   "source": [
    "#Alimentação saudável x Exercícios Físicos\n",
    "sns.boxplot(y=\"ADHERENCE\", \n",
    "            x=\"HEI2015_TOTAL_SCORE\", \n",
    "            orient=\"h\",\n",
    "            data=Df2.replace(label_quali))\n",
    "plt.show()\n",
    "\n",
    "fig, ax = plt.subplots(ncols=2, figsize=(15,5))\n",
    "\n",
    "sns.regplot(x = 'HEI2015_TOTAL_SCORE', \n",
    "            y = 'PAG_HRW', \n",
    "            lowess=True, \n",
    "            line_kws={'color': 'red'},\n",
    "            data = Df2,\n",
    "            ax = ax[0])\n",
    "\n",
    "sns.regplot(x = 'HEI2015_TOTAL_SCORE', \n",
    "            y = 'PAG_HRW_log', \n",
    "            lowess=True, \n",
    "            line_kws={'color': 'red'},\n",
    "            data = Df2,\n",
    "            ax = ax[1])\n",
    "plt.show()"
   ]
  },
  {
   "cell_type": "code",
   "execution_count": 87,
   "id": "4877e452",
   "metadata": {},
   "outputs": [
    {
     "name": "stdout",
     "output_type": "stream",
     "text": [
      "stat=4.122, p=0.016\n"
     ]
    }
   ],
   "source": [
    "from scipy.stats import f_oneway\n",
    "\n",
    "db_aux = Df2[[\"ADHERENCE\", \"HEI2015_TOTAL_SCORE\"]].dropna()\n",
    "\n",
    "stat, p = f_oneway(db_aux[(db_aux.ADHERENCE == 1)][\"HEI2015_TOTAL_SCORE\"],\n",
    "                   db_aux[(db_aux.ADHERENCE == 2)][\"HEI2015_TOTAL_SCORE\"],\n",
    "                   db_aux[(db_aux.ADHERENCE == 3)][\"HEI2015_TOTAL_SCORE\"])\n",
    "\n",
    "print('stat=%.3f, p=%.3f' % (stat, p))"
   ]
  },
  {
   "cell_type": "code",
   "execution_count": 88,
   "id": "e3db5ece",
   "metadata": {},
   "outputs": [
    {
     "name": "stdout",
     "output_type": "stream",
     "text": [
      "Multiple Comparison of Means - Tukey HSD, FWER=0.05\n",
      "===================================================\n",
      "group1 group2 meandiff p-adj   lower  upper  reject\n",
      "---------------------------------------------------\n",
      "   1.0    2.0   0.3937 0.7215  -0.805 1.5924  False\n",
      "   1.0    3.0   1.0773  0.012  0.1931 1.9616   True\n",
      "   2.0    3.0   0.6837 0.3768 -0.5185 1.8859  False\n",
      "---------------------------------------------------\n"
     ]
    }
   ],
   "source": [
    "from statsmodels.stats.multicomp import pairwise_tukeyhsd\n",
    "\n",
    "tukey = pairwise_tukeyhsd(db_aux['HEI2015_TOTAL_SCORE'],\n",
    "                  db_aux['ADHERENCE'],\n",
    "                  alpha = 0.05)\n",
    "\n",
    "print(tukey)"
   ]
  },
  {
   "cell_type": "markdown",
   "id": "00595ebc",
   "metadata": {},
   "source": [
    "Teste 1: Grupo 1 (Baixo) x Grupo 2 (Adequado) -> p = 0.7215\n",
    "\n",
    "Teste 2: Grupo 1 (Baixo) x Grupo 3 (Acima) -> p = 0.012\n",
    "\n",
    "Teste 3: Grupo 2 (Adequado) x Grupo 3 (Acima) -> p = 0.3768\n",
    "\n",
    "Neste caso, rejeitamos todas as hipóteses nulas. Sendo assim, temos indícios de que:\n",
    "\n",
    "O HEI médio do grupo Baixo não possue uma diferença estatisticamente significativa do HEI médio do grupo Adequado\n",
    "O HEI médio do grupo Baixo é diferente do Hei médio do grupo Acima\n",
    "O HEI médio do grupo Adequado não possue uma diferença estatisticamente significativa do HEI médio do grupo Acima"
   ]
  },
  {
   "cell_type": "code",
   "execution_count": 90,
   "id": "7379385d",
   "metadata": {},
   "outputs": [
    {
     "data": {
      "image/png": "[encoded data removed]",
      "text/plain": [
       "<Figure size 504x360 with 1 Axes>"
      ]
     },
     "metadata": {
      "needs_background": "light"
     },
     "output_type": "display_data"
    },
    {
     "data": {
      "image/png": "[encoded data removed]",
      "text/plain": [
       "<Figure size 1080x360 with 2 Axes>"
      ]
     },
     "metadata": {
      "needs_background": "light"
     },
     "output_type": "display_data"
    }
   ],
   "source": [
    "#Hábitos saudáveis x Gênero\n",
    "plt.figure(figsize=(7,5))\n",
    "sns.boxplot(x=\"RIAGENDR\", \n",
    "            y=\"HEI2015_TOTAL_SCORE\", \n",
    "            data=Df2.replace(label_quali))\n",
    "plt.show()\n",
    "\n",
    "fig, ax = plt.subplots(ncols=2, figsize=(15,5))\n",
    "sns.boxplot(x=\"RIAGENDR\", \n",
    "            y=\"PAG_HRW\", \n",
    "            data=Df2.replace(label_quali),\n",
    "            ax = ax[0])\n",
    "\n",
    "sns.boxplot(x=\"RIAGENDR\", \n",
    "            y=\"PAG_HRW_log\", \n",
    "            data=Df2.replace(label_quali),\n",
    "            ax = ax[1])\n",
    "plt.show()"
   ]
  },
  {
   "cell_type": "code",
   "execution_count": 91,
   "id": "624dd1a0",
   "metadata": {},
   "outputs": [
    {
     "name": "stdout",
     "output_type": "stream",
     "text": [
      "stat=27.216, p=0.000\n"
     ]
    }
   ],
   "source": [
    "from scipy.stats import f_oneway\n",
    "\n",
    "db_aux = Df2[[\"RIAGENDR\", \"PAG_HRW\", \"PAG_HRW_log\", \"HEI2015_TOTAL_SCORE\"]].dropna()\n",
    "\n",
    "stat, p = f_oneway(db_aux[(db_aux.RIAGENDR == 1)][\"HEI2015_TOTAL_SCORE\"],\n",
    "                   db_aux[(db_aux.RIAGENDR == 2)][\"HEI2015_TOTAL_SCORE\"])\n",
    "\n",
    "print('stat=%.3f, p=%.3f' % (stat, p))"
   ]
  },
  {
   "cell_type": "code",
   "execution_count": 93,
   "id": "c76ed829",
   "metadata": {},
   "outputs": [
    {
     "name": "stdout",
     "output_type": "stream",
     "text": [
      "stat=50.329, p=0.000\n"
     ]
    }
   ],
   "source": [
    "from scipy.stats import f_oneway\n",
    "\n",
    "db_aux = Df2[[\"RIAGENDR\", \"PAG_HRW\", \"PAG_HRW_log\", \"HEI2015_TOTAL_SCORE\"]].dropna()\n",
    "\n",
    "stat, p = f_oneway(db_aux[(db_aux.RIAGENDR == 1)][\"PAG_HRW_log\"],\n",
    "                   db_aux[(db_aux.RIAGENDR == 2)][\"PAG_HRW_log\"])\n",
    "\n",
    "print('stat=%.3f, p=%.3f' % (stat, p))"
   ]
  },
  {
   "cell_type": "markdown",
   "id": "94dabcbe",
   "metadata": {},
   "source": [
    "Neste caso, rejeitamos todas as hipóteses nulas. P < 0.05"
   ]
  },
  {
   "cell_type": "code",
   "execution_count": 95,
   "id": "4a68a0f9",
   "metadata": {},
   "outputs": [
    {
     "data": {
      "image/png": "[encoded data removed]",
      "text/plain": [
       "<Figure size 504x360 with 1 Axes>"
      ]
     },
     "metadata": {
      "needs_background": "light"
     },
     "output_type": "display_data"
    },
    {
     "data": {
      "image/png": "[encoded data removed]",
      "text/plain": [
       "<Figure size 1080x360 with 2 Axes>"
      ]
     },
     "metadata": {
      "needs_background": "light"
     },
     "output_type": "display_data"
    }
   ],
   "source": [
    "#Haitos saudáveis e Raça\n",
    "plt.figure(figsize=(7,5))\n",
    "sns.boxplot(x=\"RIDRETH1\", \n",
    "            y=\"HEI2015_TOTAL_SCORE\", \n",
    "            data=Df2.replace(label_quali))\n",
    "plt.show()\n",
    "\n",
    "fig, ax = plt.subplots(ncols=2, figsize=(15,5))\n",
    "sns.boxplot(x=\"RIDRETH1\", \n",
    "            y=\"PAG_HRW\", \n",
    "            data=Df2.replace(label_quali),\n",
    "            ax = ax[0])\n",
    "\n",
    "sns.boxplot(x=\"RIDRETH1\", \n",
    "            y=\"PAG_HRW_log\", \n",
    "            data=Df2.replace(label_quali),\n",
    "            ax = ax[1])\n",
    "plt.show()"
   ]
  },
  {
   "cell_type": "code",
   "execution_count": 97,
   "id": "a518395f",
   "metadata": {},
   "outputs": [
    {
     "name": "stdout",
     "output_type": "stream",
     "text": [
      "stat=11.860, p=0.000\n"
     ]
    }
   ],
   "source": [
    "from scipy.stats import f_oneway\n",
    "\n",
    "db_aux = Df2[[\"RIDRETH1\", \"PAG_HRW\", \"PAG_HRW_log\", \"HEI2015_TOTAL_SCORE\"]].dropna()\n",
    "\n",
    "stat, p = f_oneway(db_aux[(db_aux.RIDRETH1 == 1)][\"HEI2015_TOTAL_SCORE\"],\n",
    "                   db_aux[(db_aux.RIDRETH1 == 2)][\"HEI2015_TOTAL_SCORE\"],\n",
    "                   db_aux[(db_aux.RIDRETH1 == 3)][\"HEI2015_TOTAL_SCORE\"],\n",
    "                   db_aux[(db_aux.RIDRETH1 == 4)][\"HEI2015_TOTAL_SCORE\"])\n",
    "\n",
    "print('stat=%.3f, p=%.3f' % (stat, p))"
   ]
  },
  {
   "cell_type": "code",
   "execution_count": 98,
   "id": "1e1d725a",
   "metadata": {},
   "outputs": [
    {
     "name": "stdout",
     "output_type": "stream",
     "text": [
      "Multiple Comparison of Means - Tukey HSD, FWER=0.05 \n",
      "====================================================\n",
      "group1 group2 meandiff p-adj   lower   upper  reject\n",
      "----------------------------------------------------\n",
      "     1      2   -0.964 0.5635 -2.8709   0.943  False\n",
      "     1      3  -1.0955 0.0717 -2.2543  0.0632  False\n",
      "     1      4  -2.9767    0.0 -4.2992 -1.6541   True\n",
      "     2      3  -0.1315 0.9975 -1.8988  1.6357  False\n",
      "     2      4  -2.0127 0.0302 -3.8914  -0.134   True\n",
      "     3      4  -1.8812 0.0001 -2.9928 -0.7696   True\n",
      "----------------------------------------------------\n"
     ]
    }
   ],
   "source": [
    "from statsmodels.stats.multicomp import pairwise_tukeyhsd\n",
    "\n",
    "tukey = pairwise_tukeyhsd(db_aux['HEI2015_TOTAL_SCORE'],\n",
    "                  db_aux['RIDRETH1'],\n",
    "                  alpha = 0.05)\n",
    "\n",
    "print(tukey)"
   ]
  },
  {
   "cell_type": "code",
   "execution_count": null,
   "id": "ee3644e2",
   "metadata": {},
   "outputs": [],
   "source": []
  },
  {
   "cell_type": "code",
   "execution_count": 99,
   "id": "a3c48857",
   "metadata": {},
   "outputs": [
    {
     "name": "stdout",
     "output_type": "stream",
     "text": [
      "stat=25.845, p=0.000\n"
     ]
    }
   ],
   "source": [
    "from scipy.stats import f_oneway\n",
    "\n",
    "stat, p = f_oneway(db_aux[(db_aux.RIDRETH1 == 1)][\"PAG_HRW_log\"],\n",
    "                   db_aux[(db_aux.RIDRETH1 == 2)][\"PAG_HRW_log\"],\n",
    "                   db_aux[(db_aux.RIDRETH1 == 3)][\"PAG_HRW_log\"],\n",
    "                   db_aux[(db_aux.RIDRETH1 == 4)][\"PAG_HRW_log\"])\n",
    "\n",
    "print('stat=%.3f, p=%.3f' % (stat, p))"
   ]
  },
  {
   "cell_type": "code",
   "execution_count": 100,
   "id": "82eae947",
   "metadata": {},
   "outputs": [
    {
     "name": "stdout",
     "output_type": "stream",
     "text": [
      "Multiple Comparison of Means - Tukey HSD, FWER=0.05 \n",
      "====================================================\n",
      "group1 group2 meandiff p-adj   lower   upper  reject\n",
      "----------------------------------------------------\n",
      "     1      2   0.3757    0.0  0.2016  0.5499   True\n",
      "     1      3   0.3502    0.0  0.2444   0.456   True\n",
      "     1      4    0.229    0.0  0.1082  0.3498   True\n",
      "     2      3  -0.0255 0.9773 -0.1869  0.1359  False\n",
      "     2      4  -0.1467 0.1239 -0.3183  0.0248  False\n",
      "     3      4  -0.1212 0.0116 -0.2227 -0.0197   True\n",
      "----------------------------------------------------\n"
     ]
    }
   ],
   "source": [
    "from statsmodels.stats.multicomp import pairwise_tukeyhsd\n",
    "\n",
    "tukey = pairwise_tukeyhsd(db_aux['PAG_HRW_log'],\n",
    "                  db_aux['RIDRETH1'],\n",
    "                  alpha = 0.05)\n",
    "\n",
    "print(tukey)"
   ]
  },
  {
   "cell_type": "code",
   "execution_count": null,
   "id": "154355b7",
   "metadata": {},
   "outputs": [],
   "source": []
  }
 ],
 "metadata": {
  "kernelspec": {
   "display_name": "Python 3 (ipykernel)",
   "language": "python",
   "name": "python3"
  },
  "language_info": {
   "codemirror_mode": {
    "name": "ipython",
    "version": 3
   },
   "file_extension": ".py",
   "mimetype": "text/x-python",
   "name": "python",
   "nbconvert_exporter": "python",
   "pygments_lexer": "ipython3",
   "version": "3.9.12"
  }
 },
 "nbformat": 4,
 "nbformat_minor": 5
}
